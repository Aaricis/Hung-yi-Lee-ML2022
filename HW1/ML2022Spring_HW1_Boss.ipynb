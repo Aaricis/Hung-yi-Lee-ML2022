{
  "cells": [
    {
      "cell_type": "markdown",
      "metadata": {
        "id": "view-in-github",
        "colab_type": "text"
      },
      "source": [
        "<a href=\"https://colab.research.google.com/github/Aaricis/Hung-yi-Lee-ML2021/blob/main/ML2022Spring_HW1_Boss.ipynb\" target=\"_parent\"><img src=\"https://colab.research.google.com/assets/colab-badge.svg\" alt=\"Open In Colab\"/></a>"
      ]
    },
    {
      "cell_type": "markdown",
      "metadata": {
        "id": "guE34D3Fj2R9"
      },
      "source": [
        "# **Homework 1: COVID-19 Cases Prediction (Regression)**"
      ]
    },
    {
      "cell_type": "markdown",
      "metadata": {
        "id": "V57zhcTp1Xxb"
      },
      "source": [
        "Objectives:\n",
        "* Solve a regression problem with deep neural networks (DNN).\n",
        "* Understand basic DNN training tips.\n",
        "* Familiarize yourself with PyTorch.\n",
        "\n",
        "If you have any questions, please contact the TAs via TA hours, NTU COOL, or email to mlta-2022-spring@googlegroups.com"
      ]
    },
    {
      "cell_type": "markdown",
      "source": [
        "# Simple Baseline\n",
        "- 直接运行Sample Code\n",
        "  \n",
        "  Score: 1.89565\n",
        "  Private score: 1.91281\n",
        "\n",
        "# Strong Baseline\n",
        "\n",
        "- 特征筛选：\n",
        "  \n",
        "  feat_idx = [38, 39, 40, 41, 53, 54, 55, 56, 57, 69, 70, 71, 72, 73, 85, 86, 87, 88, 89, 101, 102, 103, 104, 105]\n",
        "- ReLU改为`nn.LeakyReLU(negative_slope=0.01)`\n",
        "- 数据归一化：原始数据作normalization之后再输入模型\n",
        "```python\n",
        "# normalization\n",
        "x_min, x_max = x_train.min(axis=0), x_train.max(axis=0)\n",
        "x_train = (x_train - x_min) / (x_max - x_min)\n",
        "x_valid = (x_valid - x_min) / (x_max - x_min)\n",
        "x_test = (x_test - x_min) / (x_max - x_min)\n",
        "```\n",
        "\n",
        "**加上这三个措施就直接过Strong Baseline了**\n",
        "\n",
        "Score: 0.86740\n",
        "Private score: 0.90411\n",
        "\n",
        "# Boss Baseline\n",
        "\n",
        "在Strong Baseline基础上进行了大量的调参工作：学习率、优化器、batchsize、模型结构，都没有得到更好的结果。已经快要放弃了，死马当活马医尝试换了`seed`，发现结果波动非常大，此时依然没有突破Boss Baseline。这个做法启发了我，我使用三个不同的seed分别跑出结果，把3份`.csv`文档使用平均法进行Ensemble再提交，就突破Boss Baseline了😊。\n",
        "\n",
        "![image.png](data:image/png;base64,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)\n",
        "\n",
        "\n"
      ],
      "metadata": {
        "id": "ZlbT0LjGCiu8"
      }
    },
    {
      "cell_type": "markdown",
      "metadata": {
        "id": "Tm2aXcb-j9Fc"
      },
      "source": [
        "# Download data\n",
        "If the Google Drive links below do not work, you can download data from [Kaggle](https://www.kaggle.com/t/a3ebd5b5542f0f55e828d4f00de8e59a), and upload data manually to the workspace."
      ]
    },
    {
      "cell_type": "code",
      "execution_count": 67,
      "metadata": {
        "colab": {
          "base_uri": "https://localhost:8080/"
        },
        "id": "YPmfl-awlKZA",
        "outputId": "20a010c9-94b5-4dd9-e2f3-e5dbdcb283a9"
      },
      "outputs": [
        {
          "output_type": "stream",
          "name": "stdout",
          "text": [
            "/usr/local/lib/python3.11/dist-packages/gdown/__main__.py:140: FutureWarning: Option `--id` was deprecated in version 4.3.1 and will be removed in 5.0. You don't need to pass it anymore to use a file ID.\n",
            "  warnings.warn(\n",
            "Downloading...\n",
            "From: https://drive.google.com/uc?id=1kLSW_-cW2Huj7bh84YTdimGBOJaODiOS\n",
            "To: /content/covid.train.csv\n",
            "100% 2.49M/2.49M [00:00<00:00, 103MB/s]\n",
            "/usr/local/lib/python3.11/dist-packages/gdown/__main__.py:140: FutureWarning: Option `--id` was deprecated in version 4.3.1 and will be removed in 5.0. You don't need to pass it anymore to use a file ID.\n",
            "  warnings.warn(\n",
            "Downloading...\n",
            "From: https://drive.google.com/uc?id=1iiI5qROrAhZn-o4FPqsE97bMzDEFvIdg\n",
            "To: /content/covid.test.csv\n",
            "100% 993k/993k [00:00<00:00, 130MB/s]\n"
          ]
        }
      ],
      "source": [
        "!gdown --id '1kLSW_-cW2Huj7bh84YTdimGBOJaODiOS' --output covid.train.csv\n",
        "!gdown --id '1iiI5qROrAhZn-o4FPqsE97bMzDEFvIdg' --output covid.test.csv"
      ]
    },
    {
      "cell_type": "markdown",
      "metadata": {
        "id": "igqIMEgu64-F"
      },
      "source": [
        "# Import packages"
      ]
    },
    {
      "cell_type": "code",
      "execution_count": 1,
      "metadata": {
        "id": "xybQNYCXYu13"
      },
      "outputs": [],
      "source": [
        "# Numerical Operations\n",
        "import math\n",
        "import numpy as np\n",
        "\n",
        "# Reading/Writing Data\n",
        "import pandas as pd\n",
        "import os\n",
        "import csv\n",
        "\n",
        "# For Progress Bar\n",
        "from tqdm import tqdm\n",
        "\n",
        "# Pytorch\n",
        "import torch\n",
        "import torch.nn as nn\n",
        "from torch.utils.data import Dataset, DataLoader, random_split\n",
        "\n",
        "# For plotting learning curve\n",
        "from torch.utils.tensorboard import SummaryWriter"
      ]
    },
    {
      "cell_type": "markdown",
      "metadata": {
        "id": "NYn7xea3Eku4"
      },
      "source": [
        "# Feature Analyze"
      ]
    },
    {
      "cell_type": "code",
      "execution_count": 69,
      "metadata": {
        "id": "DZd2RbaPEuUC"
      },
      "outputs": [],
      "source": [
        "# 读取数据\n",
        "train_data = pd.read_csv('./covid.train.csv')\n",
        "test_data = pd.read_csv('./covid.test.csv')"
      ]
    },
    {
      "cell_type": "code",
      "execution_count": 70,
      "metadata": {
        "colab": {
          "base_uri": "https://localhost:8080/"
        },
        "id": "JL-8aTrQH4uj",
        "outputId": "beef9bbf-85df-4cc9-cbe4-9752490e4da2"
      },
      "outputs": [
        {
          "output_type": "stream",
          "name": "stdout",
          "text": [
            "Train: 2699\n",
            "Test: 1078\n"
          ]
        }
      ],
      "source": [
        "# 数据规模\n",
        "print(\"Train: {:4d}\".format(len(train_data)))\n",
        "print(\"Test: {:4d}\".format(len(test_data)))"
      ]
    },
    {
      "cell_type": "code",
      "execution_count": 71,
      "metadata": {
        "colab": {
          "base_uri": "https://localhost:8080/"
        },
        "id": "Ycrr6Ne0Jt-i",
        "outputId": "5ed9d786-ad88-4ff9-c686-1e1e328aa22c"
      },
      "outputs": [
        {
          "output_type": "stream",
          "name": "stdout",
          "text": [
            "<class 'pandas.core.frame.DataFrame'>\n",
            "RangeIndex: 2699 entries, 0 to 2698\n",
            "Columns: 118 entries, id to tested_positive.4\n",
            "dtypes: float64(80), int64(38)\n",
            "memory usage: 2.4 MB\n"
          ]
        }
      ],
      "source": [
        "# feature名稱、型別、空值\n",
        "train_data.info()"
      ]
    },
    {
      "cell_type": "code",
      "execution_count": 72,
      "metadata": {
        "colab": {
          "base_uri": "https://localhost:8080/",
          "height": 320
        },
        "id": "FXR5NSOqMEl5",
        "outputId": "7bd9ac29-333b-4e42-c565-317c013ddcef"
      },
      "outputs": [
        {
          "output_type": "execute_result",
          "data": {
            "text/plain": [
              "               cli          ili  hh_cmnty_cli  nohh_cmnty_cli  wearing_mask  \\\n",
              "count  2699.000000  2699.000000   2699.000000     2699.000000   2699.000000   \n",
              "mean      0.929055     0.942800     15.139448       11.361719     51.846616   \n",
              "std       0.500590     0.506881      8.188440        7.635697     16.041680   \n",
              "min       0.212642     0.222141      5.980392        3.632015     18.873783   \n",
              "25%       0.589220     0.593219      9.258142        6.131987     41.069359   \n",
              "50%       0.761953     0.775592     11.846534        7.883439     49.173725   \n",
              "75%       1.135863     1.152989     18.903221       14.799608     63.125921   \n",
              "max       3.139514     3.147406     42.132316       36.734787     89.817044   \n",
              "\n",
              "       travel_outside_state  work_outside_home         shop   restaurant  \\\n",
              "count           2699.000000        2699.000000  2699.000000  2699.000000   \n",
              "mean              15.864961          33.084390    66.354204    34.673977   \n",
              "std                4.587564           3.797806     2.579895     4.250106   \n",
              "min                4.481132          24.560314    56.155790    21.160206   \n",
              "25%               13.015295          30.285241    64.698043    31.971361   \n",
              "50%               15.768793          32.898929    66.670223    34.951308   \n",
              "75%               18.722788          35.700040    68.228059    37.874535   \n",
              "max               33.027876          44.571959    72.053180    44.230829   \n",
              "\n",
              "        spent_time  large_event  public_transit      anxious    depressed  \\\n",
              "count  2699.000000  2699.000000     2699.000000  2699.000000  2699.000000   \n",
              "mean     44.815813    19.923754        4.661624    11.895154     9.970230   \n",
              "std       3.732372     3.618681        2.109780     2.222707     1.562551   \n",
              "min      32.965636     9.144539        1.471465     7.347204     6.184896   \n",
              "25%      42.304122    17.277796        3.381783    10.291517     8.807808   \n",
              "50%      45.210728    20.379799        4.237955    11.317122     9.713376   \n",
              "75%      47.648541    22.572231        5.308890    13.074735    10.973811   \n",
              "max      53.711318    31.294647       15.684276    19.618115    15.125404   \n",
              "\n",
              "       worried_finances  tested_positive        cli.1        ili.1  \\\n",
              "count       2699.000000      2699.000000  2699.000000  2699.000000   \n",
              "mean          34.827581         9.599680     0.935966     0.950077   \n",
              "std            3.583642         6.313452     0.504705     0.511091   \n",
              "min           24.591933         0.344828     0.212642     0.222141   \n",
              "25%           32.369819         4.861112     0.593299     0.595611   \n",
              "50%           34.255348         7.502484     0.767922     0.780531   \n",
              "75%           37.094330        13.316425     1.150706     1.161638   \n",
              "max           45.522378        30.304636     3.139514     3.147406   \n",
              "\n",
              "       hh_cmnty_cli.1  nohh_cmnty_cli.1  wearing_mask.1  \\\n",
              "count     2699.000000       2699.000000     2699.000000   \n",
              "mean        15.227049         11.451188       51.619087   \n",
              "std          8.257488          7.698325       15.770092   \n",
              "min          5.980392          3.632015       18.873783   \n",
              "25%          9.271706          6.150267       41.089576   \n",
              "50%         11.859409          7.903294       49.076562   \n",
              "75%         19.150490         15.170271       62.619747   \n",
              "max         42.132316         36.734787       89.108187   \n",
              "\n",
              "       travel_outside_state.1  work_outside_home.1       shop.1  restaurant.1  \\\n",
              "count             2699.000000          2699.000000  2699.000000   2699.000000   \n",
              "mean                15.889132            33.063299    66.396445     34.721939   \n",
              "std                  4.581852             3.803542     2.523895      4.193057   \n",
              "min                  4.481132            24.560314    56.857707     21.684109   \n",
              "25%                 13.054480            30.274052    64.755013     32.033966   \n",
              "50%                 15.783135            32.868335    66.693296     34.984448   \n",
              "75%                 18.747731            35.692000    68.232378     37.882290   \n",
              "max                 33.027876            44.571959    72.053180     44.230829   \n",
              "\n",
              "       spent_time.1  large_event.1  public_transit.1    anxious.1  \\\n",
              "count   2699.000000    2699.000000       2699.000000  2699.000000   \n",
              "mean      44.825616      19.951696          4.669599    11.914578   \n",
              "std        3.711097       3.578342          2.114107     2.234357   \n",
              "min       33.814227       9.144539          1.471465     7.347204   \n",
              "25%       42.333963      17.363391          3.382805    10.291517   \n",
              "50%       45.203349      20.401471          4.250198    11.337143   \n",
              "75%       47.622268      22.557963          5.317356    13.106606   \n",
              "max       53.711318      31.294647         15.684276    19.618115   \n",
              "\n",
              "       depressed.1  worried_finances.1  tested_positive.1        cli.2  \\\n",
              "count  2699.000000         2699.000000        2699.000000  2699.000000   \n",
              "mean      9.978714           34.827521           9.654780     0.943030   \n",
              "std       1.569038            3.588109           6.343652     0.509706   \n",
              "min       6.184896           24.591933           0.344828     0.212642   \n",
              "25%       8.809188           32.370283           4.887205     0.595167   \n",
              "50%       9.723388           34.255052           7.523642     0.774126   \n",
              "75%      10.990519           37.079855          13.455759     1.161798   \n",
              "max      15.125404           45.522378          30.304636     3.139514   \n",
              "\n",
              "             ili.2  hh_cmnty_cli.2  nohh_cmnty_cli.2  wearing_mask.2  \\\n",
              "count  2699.000000     2699.000000       2699.000000     2699.000000   \n",
              "mean      0.957383       15.314802         11.541271       51.403169   \n",
              "std       0.516230        8.323593          7.758770       15.510964   \n",
              "min       0.222141        5.980392          3.632015       18.873783   \n",
              "25%       0.597011        9.274822          6.155483       41.108457   \n",
              "50%       0.785241       11.868658          7.919253       48.986473   \n",
              "75%       1.175944       19.493509         15.381607       62.032329   \n",
              "max       3.147406       42.132316         36.734787       87.946918   \n",
              "\n",
              "       travel_outside_state.2  work_outside_home.2       shop.2  restaurant.2  \\\n",
              "count             2699.000000          2699.000000  2699.000000   2699.000000   \n",
              "mean                15.911573            33.045662    66.431178     34.761696   \n",
              "std                  4.575176             3.810626     2.486977      4.144595   \n",
              "min                  4.481132            24.560314    57.583599     21.930253   \n",
              "25%                 13.067704            30.262261    64.819823     32.079453   \n",
              "50%                 15.797081            32.837158    66.694844     35.002005   \n",
              "75%                 18.764182            35.665183    68.233840     37.875962   \n",
              "max                 33.027876            44.571959    72.053180     44.314381   \n",
              "\n",
              "       spent_time.2  large_event.2  public_transit.2    anxious.2  \\\n",
              "count   2699.000000    2699.000000       2699.000000  2699.000000   \n",
              "mean      44.833368      19.978151          4.678452    11.933770   \n",
              "std        3.691246       3.541958          2.118587     2.247609   \n",
              "min       34.374998       9.369684          1.471465     7.347204   \n",
              "25%       42.346407      17.398901          3.384297    10.291517   \n",
              "50%       45.203349      20.415732          4.257824    11.353442   \n",
              "75%       47.615841      22.552527          5.329133    13.141667   \n",
              "max       53.711318      31.294647         15.684276    19.618115   \n",
              "\n",
              "       depressed.2  worried_finances.2  tested_positive.2        cli.3  \\\n",
              "count  2699.000000         2699.000000        2699.000000  2699.000000   \n",
              "mean      9.985709           34.825931           9.712005     0.950079   \n",
              "std       1.578923            3.597144           6.382100     0.514304   \n",
              "min       6.184896           24.591933           0.344828     0.212642   \n",
              "25%       8.808445           32.363206           4.902017     0.597007   \n",
              "50%       9.738070           34.250481           7.543103     0.779292   \n",
              "75%      11.000632           37.071200          13.573970     1.178348   \n",
              "max      15.125404           45.522378          30.304636     3.139514   \n",
              "\n",
              "             ili.3  hh_cmnty_cli.3  nohh_cmnty_cli.3  wearing_mask.3  \\\n",
              "count  2699.000000     2699.000000       2699.000000     2699.000000   \n",
              "mean      0.964578       15.407295         11.635973       51.207340   \n",
              "std       0.521070        8.390694          7.820468       15.268909   \n",
              "min       0.222141        5.980392          3.632015       18.873783   \n",
              "25%       0.597665        9.279137          6.163288       41.134205   \n",
              "50%       0.789934       11.869500          7.944313       48.871729   \n",
              "75%       1.194376       19.732328         15.616645       61.576315   \n",
              "max       3.147406       42.132316         36.734787       87.789159   \n",
              "\n",
              "       travel_outside_state.3  work_outside_home.3       shop.3  restaurant.3  \\\n",
              "count             2699.000000          2699.000000  2699.000000   2699.000000   \n",
              "mean                15.929914            33.030236    66.454623     34.794829   \n",
              "std                  4.563894             3.819355     2.464644      4.101623   \n",
              "min                  4.481132            24.560314    58.790906     22.229339   \n",
              "25%                 13.099381            30.250773    64.864621     32.126825   \n",
              "50%                 15.813267            32.819722    66.694844     35.052852   \n",
              "75%                 18.801860            35.625804    68.239647     37.875962   \n",
              "max                 33.027876            44.571959    72.053180     44.314381   \n",
              "\n",
              "       spent_time.3  large_event.3  public_transit.3    anxious.3  \\\n",
              "count   2699.000000    2699.000000       2699.000000  2699.000000   \n",
              "mean      44.839698      19.998701          4.686318    11.947655   \n",
              "std        3.673111       3.507355          2.124118     2.258737   \n",
              "min       34.785784       9.369684          1.471465     7.347204   \n",
              "25%       42.346407      17.446419          3.383806    10.289697   \n",
              "50%       45.203349      20.420670          4.273011    11.360853   \n",
              "75%       47.606441      22.533346          5.343331    13.180543   \n",
              "max       53.711318      31.294647         15.684276    19.618115   \n",
              "\n",
              "       depressed.3  worried_finances.3  tested_positive.3        cli.4  \\\n",
              "count  2699.000000         2699.000000        2699.000000  2699.000000   \n",
              "mean      9.990279           34.825181           9.769782     0.956898   \n",
              "std       1.587661            3.604537           6.414908     0.518864   \n",
              "min       6.184896           24.591933           0.344828     0.212642   \n",
              "25%       8.807808           32.363206           4.924242     0.599321   \n",
              "50%       9.749547           34.252328           7.589265     0.783340   \n",
              "75%      11.007407           37.049475          13.740370     1.191353   \n",
              "max      15.125404           45.522378          30.304636     3.201974   \n",
              "\n",
              "             ili.4  hh_cmnty_cli.4  nohh_cmnty_cli.4  wearing_mask.4  \\\n",
              "count  2699.000000     2699.000000       2699.000000     2699.000000   \n",
              "mean      0.971633       15.504531         11.734277       51.024843   \n",
              "std       0.525888        8.454688          7.879511       15.045576   \n",
              "min       0.222141        5.980392          3.632015       18.873783   \n",
              "25%       0.599429        9.287108          6.167789       41.142616   \n",
              "50%       0.794960       11.898464          7.988167       48.763167   \n",
              "75%       1.202524       20.129915         15.820757       61.122932   \n",
              "max       3.201974       42.132316         36.734787       87.642802   \n",
              "\n",
              "       travel_outside_state.4  work_outside_home.4       shop.4  restaurant.4  \\\n",
              "count             2699.000000          2699.000000  2699.000000   2699.000000   \n",
              "mean                15.947624            33.019169    66.472173     34.825731   \n",
              "std                  4.556996             3.829507     2.453508      4.068668   \n",
              "min                  4.481132            24.560314    58.790906     22.229339   \n",
              "25%                 13.110988            30.231124    64.878002     32.155400   \n",
              "50%                 15.822605            32.774245    66.702427     35.055289   \n",
              "75%                 18.824318            35.620394    68.243282     37.889341   \n",
              "max                 33.027876            44.571959    72.606926     44.314381   \n",
              "\n",
              "       spent_time.4  large_event.4  public_transit.4    anxious.4  \\\n",
              "count   2699.000000    2699.000000       2699.000000  2699.000000   \n",
              "mean      44.847642      20.021135          4.694451    11.963645   \n",
              "std        3.658667       3.480065          2.130388     2.270315   \n",
              "min       35.253253       9.811647          1.471465     7.347204   \n",
              "25%       42.346407      17.479073          3.382805    10.289697   \n",
              "50%       45.187886      20.432378          4.287390    11.383425   \n",
              "75%       47.605144      22.523629          5.363878    13.212067   \n",
              "max       53.711318      31.294647         15.684276    19.618115   \n",
              "\n",
              "       depressed.4  worried_finances.4  tested_positive.4  \n",
              "count  2699.000000         2699.000000        2699.000000  \n",
              "mean      9.993727           34.830569           9.819307  \n",
              "std       1.599229            3.613087           6.431729  \n",
              "min       6.184896           24.591933           0.344828  \n",
              "25%       8.803497           32.356108           4.928581  \n",
              "50%       9.757942           34.258832           7.670341  \n",
              "75%      11.022503           37.040154          13.841567  \n",
              "max      15.676377           45.522378          30.304636  "
            ],
            "text/html": [
              "\n",
              "  <div id=\"df-46a3a7d7-05ab-4652-9a12-a79a72176a0f\" class=\"colab-df-container\">\n",
              "    <div>\n",
              "<style scoped>\n",
              "    .dataframe tbody tr th:only-of-type {\n",
              "        vertical-align: middle;\n",
              "    }\n",
              "\n",
              "    .dataframe tbody tr th {\n",
              "        vertical-align: top;\n",
              "    }\n",
              "\n",
              "    .dataframe thead th {\n",
              "        text-align: right;\n",
              "    }\n",
              "</style>\n",
              "<table border=\"1\" class=\"dataframe\">\n",
              "  <thead>\n",
              "    <tr style=\"text-align: right;\">\n",
              "      <th></th>\n",
              "      <th>cli</th>\n",
              "      <th>ili</th>\n",
              "      <th>hh_cmnty_cli</th>\n",
              "      <th>nohh_cmnty_cli</th>\n",
              "      <th>wearing_mask</th>\n",
              "      <th>travel_outside_state</th>\n",
              "      <th>work_outside_home</th>\n",
              "      <th>shop</th>\n",
              "      <th>restaurant</th>\n",
              "      <th>spent_time</th>\n",
              "      <th>large_event</th>\n",
              "      <th>public_transit</th>\n",
              "      <th>anxious</th>\n",
              "      <th>depressed</th>\n",
              "      <th>worried_finances</th>\n",
              "      <th>tested_positive</th>\n",
              "      <th>cli.1</th>\n",
              "      <th>ili.1</th>\n",
              "      <th>hh_cmnty_cli.1</th>\n",
              "      <th>nohh_cmnty_cli.1</th>\n",
              "      <th>wearing_mask.1</th>\n",
              "      <th>travel_outside_state.1</th>\n",
              "      <th>work_outside_home.1</th>\n",
              "      <th>shop.1</th>\n",
              "      <th>restaurant.1</th>\n",
              "      <th>spent_time.1</th>\n",
              "      <th>large_event.1</th>\n",
              "      <th>public_transit.1</th>\n",
              "      <th>anxious.1</th>\n",
              "      <th>depressed.1</th>\n",
              "      <th>worried_finances.1</th>\n",
              "      <th>tested_positive.1</th>\n",
              "      <th>cli.2</th>\n",
              "      <th>ili.2</th>\n",
              "      <th>hh_cmnty_cli.2</th>\n",
              "      <th>nohh_cmnty_cli.2</th>\n",
              "      <th>wearing_mask.2</th>\n",
              "      <th>travel_outside_state.2</th>\n",
              "      <th>work_outside_home.2</th>\n",
              "      <th>shop.2</th>\n",
              "      <th>restaurant.2</th>\n",
              "      <th>spent_time.2</th>\n",
              "      <th>large_event.2</th>\n",
              "      <th>public_transit.2</th>\n",
              "      <th>anxious.2</th>\n",
              "      <th>depressed.2</th>\n",
              "      <th>worried_finances.2</th>\n",
              "      <th>tested_positive.2</th>\n",
              "      <th>cli.3</th>\n",
              "      <th>ili.3</th>\n",
              "      <th>hh_cmnty_cli.3</th>\n",
              "      <th>nohh_cmnty_cli.3</th>\n",
              "      <th>wearing_mask.3</th>\n",
              "      <th>travel_outside_state.3</th>\n",
              "      <th>work_outside_home.3</th>\n",
              "      <th>shop.3</th>\n",
              "      <th>restaurant.3</th>\n",
              "      <th>spent_time.3</th>\n",
              "      <th>large_event.3</th>\n",
              "      <th>public_transit.3</th>\n",
              "      <th>anxious.3</th>\n",
              "      <th>depressed.3</th>\n",
              "      <th>worried_finances.3</th>\n",
              "      <th>tested_positive.3</th>\n",
              "      <th>cli.4</th>\n",
              "      <th>ili.4</th>\n",
              "      <th>hh_cmnty_cli.4</th>\n",
              "      <th>nohh_cmnty_cli.4</th>\n",
              "      <th>wearing_mask.4</th>\n",
              "      <th>travel_outside_state.4</th>\n",
              "      <th>work_outside_home.4</th>\n",
              "      <th>shop.4</th>\n",
              "      <th>restaurant.4</th>\n",
              "      <th>spent_time.4</th>\n",
              "      <th>large_event.4</th>\n",
              "      <th>public_transit.4</th>\n",
              "      <th>anxious.4</th>\n",
              "      <th>depressed.4</th>\n",
              "      <th>worried_finances.4</th>\n",
              "      <th>tested_positive.4</th>\n",
              "    </tr>\n",
              "  </thead>\n",
              "  <tbody>\n",
              "    <tr>\n",
              "      <th>count</th>\n",
              "      <td>2699.000000</td>\n",
              "      <td>2699.000000</td>\n",
              "      <td>2699.000000</td>\n",
              "      <td>2699.000000</td>\n",
              "      <td>2699.000000</td>\n",
              "      <td>2699.000000</td>\n",
              "      <td>2699.000000</td>\n",
              "      <td>2699.000000</td>\n",
              "      <td>2699.000000</td>\n",
              "      <td>2699.000000</td>\n",
              "      <td>2699.000000</td>\n",
              "      <td>2699.000000</td>\n",
              "      <td>2699.000000</td>\n",
              "      <td>2699.000000</td>\n",
              "      <td>2699.000000</td>\n",
              "      <td>2699.000000</td>\n",
              "      <td>2699.000000</td>\n",
              "      <td>2699.000000</td>\n",
              "      <td>2699.000000</td>\n",
              "      <td>2699.000000</td>\n",
              "      <td>2699.000000</td>\n",
              "      <td>2699.000000</td>\n",
              "      <td>2699.000000</td>\n",
              "      <td>2699.000000</td>\n",
              "      <td>2699.000000</td>\n",
              "      <td>2699.000000</td>\n",
              "      <td>2699.000000</td>\n",
              "      <td>2699.000000</td>\n",
              "      <td>2699.000000</td>\n",
              "      <td>2699.000000</td>\n",
              "      <td>2699.000000</td>\n",
              "      <td>2699.000000</td>\n",
              "      <td>2699.000000</td>\n",
              "      <td>2699.000000</td>\n",
              "      <td>2699.000000</td>\n",
              "      <td>2699.000000</td>\n",
              "      <td>2699.000000</td>\n",
              "      <td>2699.000000</td>\n",
              "      <td>2699.000000</td>\n",
              "      <td>2699.000000</td>\n",
              "      <td>2699.000000</td>\n",
              "      <td>2699.000000</td>\n",
              "      <td>2699.000000</td>\n",
              "      <td>2699.000000</td>\n",
              "      <td>2699.000000</td>\n",
              "      <td>2699.000000</td>\n",
              "      <td>2699.000000</td>\n",
              "      <td>2699.000000</td>\n",
              "      <td>2699.000000</td>\n",
              "      <td>2699.000000</td>\n",
              "      <td>2699.000000</td>\n",
              "      <td>2699.000000</td>\n",
              "      <td>2699.000000</td>\n",
              "      <td>2699.000000</td>\n",
              "      <td>2699.000000</td>\n",
              "      <td>2699.000000</td>\n",
              "      <td>2699.000000</td>\n",
              "      <td>2699.000000</td>\n",
              "      <td>2699.000000</td>\n",
              "      <td>2699.000000</td>\n",
              "      <td>2699.000000</td>\n",
              "      <td>2699.000000</td>\n",
              "      <td>2699.000000</td>\n",
              "      <td>2699.000000</td>\n",
              "      <td>2699.000000</td>\n",
              "      <td>2699.000000</td>\n",
              "      <td>2699.000000</td>\n",
              "      <td>2699.000000</td>\n",
              "      <td>2699.000000</td>\n",
              "      <td>2699.000000</td>\n",
              "      <td>2699.000000</td>\n",
              "      <td>2699.000000</td>\n",
              "      <td>2699.000000</td>\n",
              "      <td>2699.000000</td>\n",
              "      <td>2699.000000</td>\n",
              "      <td>2699.000000</td>\n",
              "      <td>2699.000000</td>\n",
              "      <td>2699.000000</td>\n",
              "      <td>2699.000000</td>\n",
              "      <td>2699.000000</td>\n",
              "    </tr>\n",
              "    <tr>\n",
              "      <th>mean</th>\n",
              "      <td>0.929055</td>\n",
              "      <td>0.942800</td>\n",
              "      <td>15.139448</td>\n",
              "      <td>11.361719</td>\n",
              "      <td>51.846616</td>\n",
              "      <td>15.864961</td>\n",
              "      <td>33.084390</td>\n",
              "      <td>66.354204</td>\n",
              "      <td>34.673977</td>\n",
              "      <td>44.815813</td>\n",
              "      <td>19.923754</td>\n",
              "      <td>4.661624</td>\n",
              "      <td>11.895154</td>\n",
              "      <td>9.970230</td>\n",
              "      <td>34.827581</td>\n",
              "      <td>9.599680</td>\n",
              "      <td>0.935966</td>\n",
              "      <td>0.950077</td>\n",
              "      <td>15.227049</td>\n",
              "      <td>11.451188</td>\n",
              "      <td>51.619087</td>\n",
              "      <td>15.889132</td>\n",
              "      <td>33.063299</td>\n",
              "      <td>66.396445</td>\n",
              "      <td>34.721939</td>\n",
              "      <td>44.825616</td>\n",
              "      <td>19.951696</td>\n",
              "      <td>4.669599</td>\n",
              "      <td>11.914578</td>\n",
              "      <td>9.978714</td>\n",
              "      <td>34.827521</td>\n",
              "      <td>9.654780</td>\n",
              "      <td>0.943030</td>\n",
              "      <td>0.957383</td>\n",
              "      <td>15.314802</td>\n",
              "      <td>11.541271</td>\n",
              "      <td>51.403169</td>\n",
              "      <td>15.911573</td>\n",
              "      <td>33.045662</td>\n",
              "      <td>66.431178</td>\n",
              "      <td>34.761696</td>\n",
              "      <td>44.833368</td>\n",
              "      <td>19.978151</td>\n",
              "      <td>4.678452</td>\n",
              "      <td>11.933770</td>\n",
              "      <td>9.985709</td>\n",
              "      <td>34.825931</td>\n",
              "      <td>9.712005</td>\n",
              "      <td>0.950079</td>\n",
              "      <td>0.964578</td>\n",
              "      <td>15.407295</td>\n",
              "      <td>11.635973</td>\n",
              "      <td>51.207340</td>\n",
              "      <td>15.929914</td>\n",
              "      <td>33.030236</td>\n",
              "      <td>66.454623</td>\n",
              "      <td>34.794829</td>\n",
              "      <td>44.839698</td>\n",
              "      <td>19.998701</td>\n",
              "      <td>4.686318</td>\n",
              "      <td>11.947655</td>\n",
              "      <td>9.990279</td>\n",
              "      <td>34.825181</td>\n",
              "      <td>9.769782</td>\n",
              "      <td>0.956898</td>\n",
              "      <td>0.971633</td>\n",
              "      <td>15.504531</td>\n",
              "      <td>11.734277</td>\n",
              "      <td>51.024843</td>\n",
              "      <td>15.947624</td>\n",
              "      <td>33.019169</td>\n",
              "      <td>66.472173</td>\n",
              "      <td>34.825731</td>\n",
              "      <td>44.847642</td>\n",
              "      <td>20.021135</td>\n",
              "      <td>4.694451</td>\n",
              "      <td>11.963645</td>\n",
              "      <td>9.993727</td>\n",
              "      <td>34.830569</td>\n",
              "      <td>9.819307</td>\n",
              "    </tr>\n",
              "    <tr>\n",
              "      <th>std</th>\n",
              "      <td>0.500590</td>\n",
              "      <td>0.506881</td>\n",
              "      <td>8.188440</td>\n",
              "      <td>7.635697</td>\n",
              "      <td>16.041680</td>\n",
              "      <td>4.587564</td>\n",
              "      <td>3.797806</td>\n",
              "      <td>2.579895</td>\n",
              "      <td>4.250106</td>\n",
              "      <td>3.732372</td>\n",
              "      <td>3.618681</td>\n",
              "      <td>2.109780</td>\n",
              "      <td>2.222707</td>\n",
              "      <td>1.562551</td>\n",
              "      <td>3.583642</td>\n",
              "      <td>6.313452</td>\n",
              "      <td>0.504705</td>\n",
              "      <td>0.511091</td>\n",
              "      <td>8.257488</td>\n",
              "      <td>7.698325</td>\n",
              "      <td>15.770092</td>\n",
              "      <td>4.581852</td>\n",
              "      <td>3.803542</td>\n",
              "      <td>2.523895</td>\n",
              "      <td>4.193057</td>\n",
              "      <td>3.711097</td>\n",
              "      <td>3.578342</td>\n",
              "      <td>2.114107</td>\n",
              "      <td>2.234357</td>\n",
              "      <td>1.569038</td>\n",
              "      <td>3.588109</td>\n",
              "      <td>6.343652</td>\n",
              "      <td>0.509706</td>\n",
              "      <td>0.516230</td>\n",
              "      <td>8.323593</td>\n",
              "      <td>7.758770</td>\n",
              "      <td>15.510964</td>\n",
              "      <td>4.575176</td>\n",
              "      <td>3.810626</td>\n",
              "      <td>2.486977</td>\n",
              "      <td>4.144595</td>\n",
              "      <td>3.691246</td>\n",
              "      <td>3.541958</td>\n",
              "      <td>2.118587</td>\n",
              "      <td>2.247609</td>\n",
              "      <td>1.578923</td>\n",
              "      <td>3.597144</td>\n",
              "      <td>6.382100</td>\n",
              "      <td>0.514304</td>\n",
              "      <td>0.521070</td>\n",
              "      <td>8.390694</td>\n",
              "      <td>7.820468</td>\n",
              "      <td>15.268909</td>\n",
              "      <td>4.563894</td>\n",
              "      <td>3.819355</td>\n",
              "      <td>2.464644</td>\n",
              "      <td>4.101623</td>\n",
              "      <td>3.673111</td>\n",
              "      <td>3.507355</td>\n",
              "      <td>2.124118</td>\n",
              "      <td>2.258737</td>\n",
              "      <td>1.587661</td>\n",
              "      <td>3.604537</td>\n",
              "      <td>6.414908</td>\n",
              "      <td>0.518864</td>\n",
              "      <td>0.525888</td>\n",
              "      <td>8.454688</td>\n",
              "      <td>7.879511</td>\n",
              "      <td>15.045576</td>\n",
              "      <td>4.556996</td>\n",
              "      <td>3.829507</td>\n",
              "      <td>2.453508</td>\n",
              "      <td>4.068668</td>\n",
              "      <td>3.658667</td>\n",
              "      <td>3.480065</td>\n",
              "      <td>2.130388</td>\n",
              "      <td>2.270315</td>\n",
              "      <td>1.599229</td>\n",
              "      <td>3.613087</td>\n",
              "      <td>6.431729</td>\n",
              "    </tr>\n",
              "    <tr>\n",
              "      <th>min</th>\n",
              "      <td>0.212642</td>\n",
              "      <td>0.222141</td>\n",
              "      <td>5.980392</td>\n",
              "      <td>3.632015</td>\n",
              "      <td>18.873783</td>\n",
              "      <td>4.481132</td>\n",
              "      <td>24.560314</td>\n",
              "      <td>56.155790</td>\n",
              "      <td>21.160206</td>\n",
              "      <td>32.965636</td>\n",
              "      <td>9.144539</td>\n",
              "      <td>1.471465</td>\n",
              "      <td>7.347204</td>\n",
              "      <td>6.184896</td>\n",
              "      <td>24.591933</td>\n",
              "      <td>0.344828</td>\n",
              "      <td>0.212642</td>\n",
              "      <td>0.222141</td>\n",
              "      <td>5.980392</td>\n",
              "      <td>3.632015</td>\n",
              "      <td>18.873783</td>\n",
              "      <td>4.481132</td>\n",
              "      <td>24.560314</td>\n",
              "      <td>56.857707</td>\n",
              "      <td>21.684109</td>\n",
              "      <td>33.814227</td>\n",
              "      <td>9.144539</td>\n",
              "      <td>1.471465</td>\n",
              "      <td>7.347204</td>\n",
              "      <td>6.184896</td>\n",
              "      <td>24.591933</td>\n",
              "      <td>0.344828</td>\n",
              "      <td>0.212642</td>\n",
              "      <td>0.222141</td>\n",
              "      <td>5.980392</td>\n",
              "      <td>3.632015</td>\n",
              "      <td>18.873783</td>\n",
              "      <td>4.481132</td>\n",
              "      <td>24.560314</td>\n",
              "      <td>57.583599</td>\n",
              "      <td>21.930253</td>\n",
              "      <td>34.374998</td>\n",
              "      <td>9.369684</td>\n",
              "      <td>1.471465</td>\n",
              "      <td>7.347204</td>\n",
              "      <td>6.184896</td>\n",
              "      <td>24.591933</td>\n",
              "      <td>0.344828</td>\n",
              "      <td>0.212642</td>\n",
              "      <td>0.222141</td>\n",
              "      <td>5.980392</td>\n",
              "      <td>3.632015</td>\n",
              "      <td>18.873783</td>\n",
              "      <td>4.481132</td>\n",
              "      <td>24.560314</td>\n",
              "      <td>58.790906</td>\n",
              "      <td>22.229339</td>\n",
              "      <td>34.785784</td>\n",
              "      <td>9.369684</td>\n",
              "      <td>1.471465</td>\n",
              "      <td>7.347204</td>\n",
              "      <td>6.184896</td>\n",
              "      <td>24.591933</td>\n",
              "      <td>0.344828</td>\n",
              "      <td>0.212642</td>\n",
              "      <td>0.222141</td>\n",
              "      <td>5.980392</td>\n",
              "      <td>3.632015</td>\n",
              "      <td>18.873783</td>\n",
              "      <td>4.481132</td>\n",
              "      <td>24.560314</td>\n",
              "      <td>58.790906</td>\n",
              "      <td>22.229339</td>\n",
              "      <td>35.253253</td>\n",
              "      <td>9.811647</td>\n",
              "      <td>1.471465</td>\n",
              "      <td>7.347204</td>\n",
              "      <td>6.184896</td>\n",
              "      <td>24.591933</td>\n",
              "      <td>0.344828</td>\n",
              "    </tr>\n",
              "    <tr>\n",
              "      <th>25%</th>\n",
              "      <td>0.589220</td>\n",
              "      <td>0.593219</td>\n",
              "      <td>9.258142</td>\n",
              "      <td>6.131987</td>\n",
              "      <td>41.069359</td>\n",
              "      <td>13.015295</td>\n",
              "      <td>30.285241</td>\n",
              "      <td>64.698043</td>\n",
              "      <td>31.971361</td>\n",
              "      <td>42.304122</td>\n",
              "      <td>17.277796</td>\n",
              "      <td>3.381783</td>\n",
              "      <td>10.291517</td>\n",
              "      <td>8.807808</td>\n",
              "      <td>32.369819</td>\n",
              "      <td>4.861112</td>\n",
              "      <td>0.593299</td>\n",
              "      <td>0.595611</td>\n",
              "      <td>9.271706</td>\n",
              "      <td>6.150267</td>\n",
              "      <td>41.089576</td>\n",
              "      <td>13.054480</td>\n",
              "      <td>30.274052</td>\n",
              "      <td>64.755013</td>\n",
              "      <td>32.033966</td>\n",
              "      <td>42.333963</td>\n",
              "      <td>17.363391</td>\n",
              "      <td>3.382805</td>\n",
              "      <td>10.291517</td>\n",
              "      <td>8.809188</td>\n",
              "      <td>32.370283</td>\n",
              "      <td>4.887205</td>\n",
              "      <td>0.595167</td>\n",
              "      <td>0.597011</td>\n",
              "      <td>9.274822</td>\n",
              "      <td>6.155483</td>\n",
              "      <td>41.108457</td>\n",
              "      <td>13.067704</td>\n",
              "      <td>30.262261</td>\n",
              "      <td>64.819823</td>\n",
              "      <td>32.079453</td>\n",
              "      <td>42.346407</td>\n",
              "      <td>17.398901</td>\n",
              "      <td>3.384297</td>\n",
              "      <td>10.291517</td>\n",
              "      <td>8.808445</td>\n",
              "      <td>32.363206</td>\n",
              "      <td>4.902017</td>\n",
              "      <td>0.597007</td>\n",
              "      <td>0.597665</td>\n",
              "      <td>9.279137</td>\n",
              "      <td>6.163288</td>\n",
              "      <td>41.134205</td>\n",
              "      <td>13.099381</td>\n",
              "      <td>30.250773</td>\n",
              "      <td>64.864621</td>\n",
              "      <td>32.126825</td>\n",
              "      <td>42.346407</td>\n",
              "      <td>17.446419</td>\n",
              "      <td>3.383806</td>\n",
              "      <td>10.289697</td>\n",
              "      <td>8.807808</td>\n",
              "      <td>32.363206</td>\n",
              "      <td>4.924242</td>\n",
              "      <td>0.599321</td>\n",
              "      <td>0.599429</td>\n",
              "      <td>9.287108</td>\n",
              "      <td>6.167789</td>\n",
              "      <td>41.142616</td>\n",
              "      <td>13.110988</td>\n",
              "      <td>30.231124</td>\n",
              "      <td>64.878002</td>\n",
              "      <td>32.155400</td>\n",
              "      <td>42.346407</td>\n",
              "      <td>17.479073</td>\n",
              "      <td>3.382805</td>\n",
              "      <td>10.289697</td>\n",
              "      <td>8.803497</td>\n",
              "      <td>32.356108</td>\n",
              "      <td>4.928581</td>\n",
              "    </tr>\n",
              "    <tr>\n",
              "      <th>50%</th>\n",
              "      <td>0.761953</td>\n",
              "      <td>0.775592</td>\n",
              "      <td>11.846534</td>\n",
              "      <td>7.883439</td>\n",
              "      <td>49.173725</td>\n",
              "      <td>15.768793</td>\n",
              "      <td>32.898929</td>\n",
              "      <td>66.670223</td>\n",
              "      <td>34.951308</td>\n",
              "      <td>45.210728</td>\n",
              "      <td>20.379799</td>\n",
              "      <td>4.237955</td>\n",
              "      <td>11.317122</td>\n",
              "      <td>9.713376</td>\n",
              "      <td>34.255348</td>\n",
              "      <td>7.502484</td>\n",
              "      <td>0.767922</td>\n",
              "      <td>0.780531</td>\n",
              "      <td>11.859409</td>\n",
              "      <td>7.903294</td>\n",
              "      <td>49.076562</td>\n",
              "      <td>15.783135</td>\n",
              "      <td>32.868335</td>\n",
              "      <td>66.693296</td>\n",
              "      <td>34.984448</td>\n",
              "      <td>45.203349</td>\n",
              "      <td>20.401471</td>\n",
              "      <td>4.250198</td>\n",
              "      <td>11.337143</td>\n",
              "      <td>9.723388</td>\n",
              "      <td>34.255052</td>\n",
              "      <td>7.523642</td>\n",
              "      <td>0.774126</td>\n",
              "      <td>0.785241</td>\n",
              "      <td>11.868658</td>\n",
              "      <td>7.919253</td>\n",
              "      <td>48.986473</td>\n",
              "      <td>15.797081</td>\n",
              "      <td>32.837158</td>\n",
              "      <td>66.694844</td>\n",
              "      <td>35.002005</td>\n",
              "      <td>45.203349</td>\n",
              "      <td>20.415732</td>\n",
              "      <td>4.257824</td>\n",
              "      <td>11.353442</td>\n",
              "      <td>9.738070</td>\n",
              "      <td>34.250481</td>\n",
              "      <td>7.543103</td>\n",
              "      <td>0.779292</td>\n",
              "      <td>0.789934</td>\n",
              "      <td>11.869500</td>\n",
              "      <td>7.944313</td>\n",
              "      <td>48.871729</td>\n",
              "      <td>15.813267</td>\n",
              "      <td>32.819722</td>\n",
              "      <td>66.694844</td>\n",
              "      <td>35.052852</td>\n",
              "      <td>45.203349</td>\n",
              "      <td>20.420670</td>\n",
              "      <td>4.273011</td>\n",
              "      <td>11.360853</td>\n",
              "      <td>9.749547</td>\n",
              "      <td>34.252328</td>\n",
              "      <td>7.589265</td>\n",
              "      <td>0.783340</td>\n",
              "      <td>0.794960</td>\n",
              "      <td>11.898464</td>\n",
              "      <td>7.988167</td>\n",
              "      <td>48.763167</td>\n",
              "      <td>15.822605</td>\n",
              "      <td>32.774245</td>\n",
              "      <td>66.702427</td>\n",
              "      <td>35.055289</td>\n",
              "      <td>45.187886</td>\n",
              "      <td>20.432378</td>\n",
              "      <td>4.287390</td>\n",
              "      <td>11.383425</td>\n",
              "      <td>9.757942</td>\n",
              "      <td>34.258832</td>\n",
              "      <td>7.670341</td>\n",
              "    </tr>\n",
              "    <tr>\n",
              "      <th>75%</th>\n",
              "      <td>1.135863</td>\n",
              "      <td>1.152989</td>\n",
              "      <td>18.903221</td>\n",
              "      <td>14.799608</td>\n",
              "      <td>63.125921</td>\n",
              "      <td>18.722788</td>\n",
              "      <td>35.700040</td>\n",
              "      <td>68.228059</td>\n",
              "      <td>37.874535</td>\n",
              "      <td>47.648541</td>\n",
              "      <td>22.572231</td>\n",
              "      <td>5.308890</td>\n",
              "      <td>13.074735</td>\n",
              "      <td>10.973811</td>\n",
              "      <td>37.094330</td>\n",
              "      <td>13.316425</td>\n",
              "      <td>1.150706</td>\n",
              "      <td>1.161638</td>\n",
              "      <td>19.150490</td>\n",
              "      <td>15.170271</td>\n",
              "      <td>62.619747</td>\n",
              "      <td>18.747731</td>\n",
              "      <td>35.692000</td>\n",
              "      <td>68.232378</td>\n",
              "      <td>37.882290</td>\n",
              "      <td>47.622268</td>\n",
              "      <td>22.557963</td>\n",
              "      <td>5.317356</td>\n",
              "      <td>13.106606</td>\n",
              "      <td>10.990519</td>\n",
              "      <td>37.079855</td>\n",
              "      <td>13.455759</td>\n",
              "      <td>1.161798</td>\n",
              "      <td>1.175944</td>\n",
              "      <td>19.493509</td>\n",
              "      <td>15.381607</td>\n",
              "      <td>62.032329</td>\n",
              "      <td>18.764182</td>\n",
              "      <td>35.665183</td>\n",
              "      <td>68.233840</td>\n",
              "      <td>37.875962</td>\n",
              "      <td>47.615841</td>\n",
              "      <td>22.552527</td>\n",
              "      <td>5.329133</td>\n",
              "      <td>13.141667</td>\n",
              "      <td>11.000632</td>\n",
              "      <td>37.071200</td>\n",
              "      <td>13.573970</td>\n",
              "      <td>1.178348</td>\n",
              "      <td>1.194376</td>\n",
              "      <td>19.732328</td>\n",
              "      <td>15.616645</td>\n",
              "      <td>61.576315</td>\n",
              "      <td>18.801860</td>\n",
              "      <td>35.625804</td>\n",
              "      <td>68.239647</td>\n",
              "      <td>37.875962</td>\n",
              "      <td>47.606441</td>\n",
              "      <td>22.533346</td>\n",
              "      <td>5.343331</td>\n",
              "      <td>13.180543</td>\n",
              "      <td>11.007407</td>\n",
              "      <td>37.049475</td>\n",
              "      <td>13.740370</td>\n",
              "      <td>1.191353</td>\n",
              "      <td>1.202524</td>\n",
              "      <td>20.129915</td>\n",
              "      <td>15.820757</td>\n",
              "      <td>61.122932</td>\n",
              "      <td>18.824318</td>\n",
              "      <td>35.620394</td>\n",
              "      <td>68.243282</td>\n",
              "      <td>37.889341</td>\n",
              "      <td>47.605144</td>\n",
              "      <td>22.523629</td>\n",
              "      <td>5.363878</td>\n",
              "      <td>13.212067</td>\n",
              "      <td>11.022503</td>\n",
              "      <td>37.040154</td>\n",
              "      <td>13.841567</td>\n",
              "    </tr>\n",
              "    <tr>\n",
              "      <th>max</th>\n",
              "      <td>3.139514</td>\n",
              "      <td>3.147406</td>\n",
              "      <td>42.132316</td>\n",
              "      <td>36.734787</td>\n",
              "      <td>89.817044</td>\n",
              "      <td>33.027876</td>\n",
              "      <td>44.571959</td>\n",
              "      <td>72.053180</td>\n",
              "      <td>44.230829</td>\n",
              "      <td>53.711318</td>\n",
              "      <td>31.294647</td>\n",
              "      <td>15.684276</td>\n",
              "      <td>19.618115</td>\n",
              "      <td>15.125404</td>\n",
              "      <td>45.522378</td>\n",
              "      <td>30.304636</td>\n",
              "      <td>3.139514</td>\n",
              "      <td>3.147406</td>\n",
              "      <td>42.132316</td>\n",
              "      <td>36.734787</td>\n",
              "      <td>89.108187</td>\n",
              "      <td>33.027876</td>\n",
              "      <td>44.571959</td>\n",
              "      <td>72.053180</td>\n",
              "      <td>44.230829</td>\n",
              "      <td>53.711318</td>\n",
              "      <td>31.294647</td>\n",
              "      <td>15.684276</td>\n",
              "      <td>19.618115</td>\n",
              "      <td>15.125404</td>\n",
              "      <td>45.522378</td>\n",
              "      <td>30.304636</td>\n",
              "      <td>3.139514</td>\n",
              "      <td>3.147406</td>\n",
              "      <td>42.132316</td>\n",
              "      <td>36.734787</td>\n",
              "      <td>87.946918</td>\n",
              "      <td>33.027876</td>\n",
              "      <td>44.571959</td>\n",
              "      <td>72.053180</td>\n",
              "      <td>44.314381</td>\n",
              "      <td>53.711318</td>\n",
              "      <td>31.294647</td>\n",
              "      <td>15.684276</td>\n",
              "      <td>19.618115</td>\n",
              "      <td>15.125404</td>\n",
              "      <td>45.522378</td>\n",
              "      <td>30.304636</td>\n",
              "      <td>3.139514</td>\n",
              "      <td>3.147406</td>\n",
              "      <td>42.132316</td>\n",
              "      <td>36.734787</td>\n",
              "      <td>87.789159</td>\n",
              "      <td>33.027876</td>\n",
              "      <td>44.571959</td>\n",
              "      <td>72.053180</td>\n",
              "      <td>44.314381</td>\n",
              "      <td>53.711318</td>\n",
              "      <td>31.294647</td>\n",
              "      <td>15.684276</td>\n",
              "      <td>19.618115</td>\n",
              "      <td>15.125404</td>\n",
              "      <td>45.522378</td>\n",
              "      <td>30.304636</td>\n",
              "      <td>3.201974</td>\n",
              "      <td>3.201974</td>\n",
              "      <td>42.132316</td>\n",
              "      <td>36.734787</td>\n",
              "      <td>87.642802</td>\n",
              "      <td>33.027876</td>\n",
              "      <td>44.571959</td>\n",
              "      <td>72.606926</td>\n",
              "      <td>44.314381</td>\n",
              "      <td>53.711318</td>\n",
              "      <td>31.294647</td>\n",
              "      <td>15.684276</td>\n",
              "      <td>19.618115</td>\n",
              "      <td>15.676377</td>\n",
              "      <td>45.522378</td>\n",
              "      <td>30.304636</td>\n",
              "    </tr>\n",
              "  </tbody>\n",
              "</table>\n",
              "</div>\n",
              "    <div class=\"colab-df-buttons\">\n",
              "\n",
              "  <div class=\"colab-df-container\">\n",
              "    <button class=\"colab-df-convert\" onclick=\"convertToInteractive('df-46a3a7d7-05ab-4652-9a12-a79a72176a0f')\"\n",
              "            title=\"Convert this dataframe to an interactive table.\"\n",
              "            style=\"display:none;\">\n",
              "\n",
              "  <svg xmlns=\"http://www.w3.org/2000/svg\" height=\"24px\" viewBox=\"0 -960 960 960\">\n",
              "    <path d=\"M120-120v-720h720v720H120Zm60-500h600v-160H180v160Zm220 220h160v-160H400v160Zm0 220h160v-160H400v160ZM180-400h160v-160H180v160Zm440 0h160v-160H620v160ZM180-180h160v-160H180v160Zm440 0h160v-160H620v160Z\"/>\n",
              "  </svg>\n",
              "    </button>\n",
              "\n",
              "  <style>\n",
              "    .colab-df-container {\n",
              "      display:flex;\n",
              "      gap: 12px;\n",
              "    }\n",
              "\n",
              "    .colab-df-convert {\n",
              "      background-color: #E8F0FE;\n",
              "      border: none;\n",
              "      border-radius: 50%;\n",
              "      cursor: pointer;\n",
              "      display: none;\n",
              "      fill: #1967D2;\n",
              "      height: 32px;\n",
              "      padding: 0 0 0 0;\n",
              "      width: 32px;\n",
              "    }\n",
              "\n",
              "    .colab-df-convert:hover {\n",
              "      background-color: #E2EBFA;\n",
              "      box-shadow: 0px 1px 2px rgba(60, 64, 67, 0.3), 0px 1px 3px 1px rgba(60, 64, 67, 0.15);\n",
              "      fill: #174EA6;\n",
              "    }\n",
              "\n",
              "    .colab-df-buttons div {\n",
              "      margin-bottom: 4px;\n",
              "    }\n",
              "\n",
              "    [theme=dark] .colab-df-convert {\n",
              "      background-color: #3B4455;\n",
              "      fill: #D2E3FC;\n",
              "    }\n",
              "\n",
              "    [theme=dark] .colab-df-convert:hover {\n",
              "      background-color: #434B5C;\n",
              "      box-shadow: 0px 1px 3px 1px rgba(0, 0, 0, 0.15);\n",
              "      filter: drop-shadow(0px 1px 2px rgba(0, 0, 0, 0.3));\n",
              "      fill: #FFFFFF;\n",
              "    }\n",
              "  </style>\n",
              "\n",
              "    <script>\n",
              "      const buttonEl =\n",
              "        document.querySelector('#df-46a3a7d7-05ab-4652-9a12-a79a72176a0f button.colab-df-convert');\n",
              "      buttonEl.style.display =\n",
              "        google.colab.kernel.accessAllowed ? 'block' : 'none';\n",
              "\n",
              "      async function convertToInteractive(key) {\n",
              "        const element = document.querySelector('#df-46a3a7d7-05ab-4652-9a12-a79a72176a0f');\n",
              "        const dataTable =\n",
              "          await google.colab.kernel.invokeFunction('convertToInteractive',\n",
              "                                                    [key], {});\n",
              "        if (!dataTable) return;\n",
              "\n",
              "        const docLinkHtml = 'Like what you see? Visit the ' +\n",
              "          '<a target=\"_blank\" href=https://colab.research.google.com/notebooks/data_table.ipynb>data table notebook</a>'\n",
              "          + ' to learn more about interactive tables.';\n",
              "        element.innerHTML = '';\n",
              "        dataTable['output_type'] = 'display_data';\n",
              "        await google.colab.output.renderOutput(dataTable, element);\n",
              "        const docLink = document.createElement('div');\n",
              "        docLink.innerHTML = docLinkHtml;\n",
              "        element.appendChild(docLink);\n",
              "      }\n",
              "    </script>\n",
              "  </div>\n",
              "\n",
              "\n",
              "<div id=\"df-5629e7f6-df3a-4a58-bdb8-495765d78f55\">\n",
              "  <button class=\"colab-df-quickchart\" onclick=\"quickchart('df-5629e7f6-df3a-4a58-bdb8-495765d78f55')\"\n",
              "            title=\"Suggest charts\"\n",
              "            style=\"display:none;\">\n",
              "\n",
              "<svg xmlns=\"http://www.w3.org/2000/svg\" height=\"24px\"viewBox=\"0 0 24 24\"\n",
              "     width=\"24px\">\n",
              "    <g>\n",
              "        <path d=\"M19 3H5c-1.1 0-2 .9-2 2v14c0 1.1.9 2 2 2h14c1.1 0 2-.9 2-2V5c0-1.1-.9-2-2-2zM9 17H7v-7h2v7zm4 0h-2V7h2v10zm4 0h-2v-4h2v4z\"/>\n",
              "    </g>\n",
              "</svg>\n",
              "  </button>\n",
              "\n",
              "<style>\n",
              "  .colab-df-quickchart {\n",
              "      --bg-color: #E8F0FE;\n",
              "      --fill-color: #1967D2;\n",
              "      --hover-bg-color: #E2EBFA;\n",
              "      --hover-fill-color: #174EA6;\n",
              "      --disabled-fill-color: #AAA;\n",
              "      --disabled-bg-color: #DDD;\n",
              "  }\n",
              "\n",
              "  [theme=dark] .colab-df-quickchart {\n",
              "      --bg-color: #3B4455;\n",
              "      --fill-color: #D2E3FC;\n",
              "      --hover-bg-color: #434B5C;\n",
              "      --hover-fill-color: #FFFFFF;\n",
              "      --disabled-bg-color: #3B4455;\n",
              "      --disabled-fill-color: #666;\n",
              "  }\n",
              "\n",
              "  .colab-df-quickchart {\n",
              "    background-color: var(--bg-color);\n",
              "    border: none;\n",
              "    border-radius: 50%;\n",
              "    cursor: pointer;\n",
              "    display: none;\n",
              "    fill: var(--fill-color);\n",
              "    height: 32px;\n",
              "    padding: 0;\n",
              "    width: 32px;\n",
              "  }\n",
              "\n",
              "  .colab-df-quickchart:hover {\n",
              "    background-color: var(--hover-bg-color);\n",
              "    box-shadow: 0 1px 2px rgba(60, 64, 67, 0.3), 0 1px 3px 1px rgba(60, 64, 67, 0.15);\n",
              "    fill: var(--button-hover-fill-color);\n",
              "  }\n",
              "\n",
              "  .colab-df-quickchart-complete:disabled,\n",
              "  .colab-df-quickchart-complete:disabled:hover {\n",
              "    background-color: var(--disabled-bg-color);\n",
              "    fill: var(--disabled-fill-color);\n",
              "    box-shadow: none;\n",
              "  }\n",
              "\n",
              "  .colab-df-spinner {\n",
              "    border: 2px solid var(--fill-color);\n",
              "    border-color: transparent;\n",
              "    border-bottom-color: var(--fill-color);\n",
              "    animation:\n",
              "      spin 1s steps(1) infinite;\n",
              "  }\n",
              "\n",
              "  @keyframes spin {\n",
              "    0% {\n",
              "      border-color: transparent;\n",
              "      border-bottom-color: var(--fill-color);\n",
              "      border-left-color: var(--fill-color);\n",
              "    }\n",
              "    20% {\n",
              "      border-color: transparent;\n",
              "      border-left-color: var(--fill-color);\n",
              "      border-top-color: var(--fill-color);\n",
              "    }\n",
              "    30% {\n",
              "      border-color: transparent;\n",
              "      border-left-color: var(--fill-color);\n",
              "      border-top-color: var(--fill-color);\n",
              "      border-right-color: var(--fill-color);\n",
              "    }\n",
              "    40% {\n",
              "      border-color: transparent;\n",
              "      border-right-color: var(--fill-color);\n",
              "      border-top-color: var(--fill-color);\n",
              "    }\n",
              "    60% {\n",
              "      border-color: transparent;\n",
              "      border-right-color: var(--fill-color);\n",
              "    }\n",
              "    80% {\n",
              "      border-color: transparent;\n",
              "      border-right-color: var(--fill-color);\n",
              "      border-bottom-color: var(--fill-color);\n",
              "    }\n",
              "    90% {\n",
              "      border-color: transparent;\n",
              "      border-bottom-color: var(--fill-color);\n",
              "    }\n",
              "  }\n",
              "</style>\n",
              "\n",
              "  <script>\n",
              "    async function quickchart(key) {\n",
              "      const quickchartButtonEl =\n",
              "        document.querySelector('#' + key + ' button');\n",
              "      quickchartButtonEl.disabled = true;  // To prevent multiple clicks.\n",
              "      quickchartButtonEl.classList.add('colab-df-spinner');\n",
              "      try {\n",
              "        const charts = await google.colab.kernel.invokeFunction(\n",
              "            'suggestCharts', [key], {});\n",
              "      } catch (error) {\n",
              "        console.error('Error during call to suggestCharts:', error);\n",
              "      }\n",
              "      quickchartButtonEl.classList.remove('colab-df-spinner');\n",
              "      quickchartButtonEl.classList.add('colab-df-quickchart-complete');\n",
              "    }\n",
              "    (() => {\n",
              "      let quickchartButtonEl =\n",
              "        document.querySelector('#df-5629e7f6-df3a-4a58-bdb8-495765d78f55 button');\n",
              "      quickchartButtonEl.style.display =\n",
              "        google.colab.kernel.accessAllowed ? 'block' : 'none';\n",
              "    })();\n",
              "  </script>\n",
              "</div>\n",
              "\n",
              "    </div>\n",
              "  </div>\n"
            ],
            "application/vnd.google.colaboratory.intrinsic+json": {
              "type": "dataframe"
            }
          },
          "metadata": {},
          "execution_count": 72
        }
      ],
      "source": [
        "# 显示所有列\n",
        "pd.set_option(\"display.max_columns\", None)\n",
        "\n",
        "# 显示所有行\n",
        "pd.set_option(\"display.max_rows\", None)\n",
        "\n",
        "# 使用均值、标准差、最小值、最大值、分位数来比较训练集和测试集的分布情况\n",
        "train_data.iloc[:, 38:].describe()\n"
      ]
    },
    {
      "cell_type": "code",
      "execution_count": 73,
      "metadata": {
        "colab": {
          "base_uri": "https://localhost:8080/",
          "height": 320
        },
        "id": "E0Sdl9kGO0Ex",
        "outputId": "4c0e62d9-6d52-4a4f-a460-c4e303c02785"
      },
      "outputs": [
        {
          "output_type": "execute_result",
          "data": {
            "text/plain": [
              "               cli          ili  hh_cmnty_cli  nohh_cmnty_cli  wearing_mask  \\\n",
              "count  1078.000000  1078.000000   1078.000000     1078.000000   1078.000000   \n",
              "mean      1.696624     1.735844     24.199464       19.418639     62.303215   \n",
              "std       1.059577     1.085970      9.394812        8.600490     13.174267   \n",
              "min       0.347450     0.346714      8.056648        5.018598     24.458825   \n",
              "25%       1.028592     1.053103     17.189686       12.731609     51.966768   \n",
              "50%       1.385915     1.417380     21.993534       17.460723     61.166572   \n",
              "75%       1.915163     1.954124     28.650777       23.625604     71.762510   \n",
              "max       6.752564     6.856159     57.177442       50.380203     90.067965   \n",
              "\n",
              "       travel_outside_state  work_outside_home         shop   restaurant  \\\n",
              "count           1078.000000        1078.000000  1078.000000  1078.000000   \n",
              "mean              14.565486          33.453409    65.310193    32.729616   \n",
              "std                4.032675           4.144369     3.347384     4.334732   \n",
              "min                5.854770          19.787537    50.364178    17.010620   \n",
              "25%               11.495553          30.695727    64.127805    30.241829   \n",
              "50%               14.270382          33.848396    65.924428    33.118532   \n",
              "75%               17.307798          36.398378    67.407958    36.011588   \n",
              "max               30.755359          43.466226    72.675483    42.987794   \n",
              "\n",
              "        spent_time  large_event  public_transit      anxious    depressed  \\\n",
              "count  1078.000000  1078.000000     1078.000000  1078.000000  1078.000000   \n",
              "mean     43.746663    21.163742        4.614435    13.654282    11.075322   \n",
              "std       4.383067     4.338083        2.137514     2.025991     1.649531   \n",
              "min      28.300442     9.787555        1.734478     8.688044     6.729862   \n",
              "25%      40.790522    18.109992        3.255561    12.166111     9.923443   \n",
              "50%      43.831264    21.046014        4.029409    13.490838    10.866939   \n",
              "75%      46.702518    24.434956        5.389728    14.856174    12.194021   \n",
              "max      57.854621    34.093458       14.611168    20.562966    17.642752   \n",
              "\n",
              "       worried_finances  tested_positive        cli.1        ili.1  \\\n",
              "count       1078.000000      1078.000000  1078.000000  1078.000000   \n",
              "mean          36.205691        14.754489     1.722855     1.762404   \n",
              "std            3.388994         7.245000     1.092477     1.120352   \n",
              "min           27.793666         2.725120     0.332812     0.372838   \n",
              "25%           33.676973         9.246406     1.036192     1.065912   \n",
              "50%           35.993632        13.485560     1.396043     1.422716   \n",
              "75%           38.452867        18.216224     1.917990     1.943017   \n",
              "max           45.892421        46.483475     6.937563     7.124950   \n",
              "\n",
              "       hh_cmnty_cli.1  nohh_cmnty_cli.1  wearing_mask.1  \\\n",
              "count     1078.000000       1078.000000     1078.000000   \n",
              "mean        24.408750         19.601431       62.454952   \n",
              "std          9.587578          8.777890       13.148807   \n",
              "min          8.377877          5.253311       25.348308   \n",
              "25%         17.349799         12.846299       51.783447   \n",
              "50%         22.231444         17.622884       61.324236   \n",
              "75%         28.936964         23.778222       72.040773   \n",
              "max         57.859862         51.147264       90.346140   \n",
              "\n",
              "       travel_outside_state.1  work_outside_home.1       shop.1  restaurant.1  \\\n",
              "count             1078.000000          1078.000000  1078.000000   1078.000000   \n",
              "mean                14.515021            33.403701    65.212338     32.641161   \n",
              "std                  4.047851             4.144462     3.331302      4.356618   \n",
              "min                  5.389283            18.823910    50.780876     17.100464   \n",
              "25%                 11.535244            30.676446    64.075459     29.949500   \n",
              "50%                 14.262523            33.803309    65.816120     33.143219   \n",
              "75%                 17.231894            36.357408    67.303865     35.849813   \n",
              "max                 30.336345            43.213668    72.304303     42.288301   \n",
              "\n",
              "       spent_time.1  large_event.1  public_transit.1    anxious.1  \\\n",
              "count   1078.000000    1078.000000       1078.000000  1078.000000   \n",
              "mean      43.784392      21.169890          4.605689    13.677635   \n",
              "std        4.483673       4.405854          2.152544     2.051534   \n",
              "min       27.970042       9.935721          1.694564     8.636382   \n",
              "25%       40.727548      17.918977          3.232646    12.220347   \n",
              "50%       43.879157      21.029340          3.991625    13.549290   \n",
              "75%       46.844966      24.461188          5.375011    14.913584   \n",
              "max       56.262544      34.289456         14.734549    20.401307   \n",
              "\n",
              "       depressed.1  worried_finances.1  tested_positive.1        cli.2  \\\n",
              "count  1078.000000         1078.000000        1078.000000  1078.000000   \n",
              "mean     11.115904           36.222246          14.905016     1.742170   \n",
              "std       1.657571            3.382697           7.464604     1.111840   \n",
              "min       6.552757           26.463961           2.441862     0.338909   \n",
              "25%       9.935717           33.671490           9.246926     1.046691   \n",
              "50%      10.885030           35.982920          13.527676     1.395806   \n",
              "75%      12.290915           38.540766          18.922514     1.927051   \n",
              "max      16.893086           46.877247          46.114682     7.307413   \n",
              "\n",
              "             ili.2  hh_cmnty_cli.2  nohh_cmnty_cli.2  wearing_mask.2  \\\n",
              "count  1078.000000     1078.000000       1078.000000     1078.000000   \n",
              "mean      1.782666       24.595882         19.771379       62.618384   \n",
              "std       1.139825        9.744482          8.926377       13.117979   \n",
              "min       0.379024        8.386532          5.444632       26.090610   \n",
              "25%       1.075789       17.244159         12.813686       52.114455   \n",
              "50%       1.430246       22.380244         17.641626       61.892460   \n",
              "75%       1.967665       29.247178         23.971382       72.082225   \n",
              "max       7.508957       59.242714         52.394591       90.558231   \n",
              "\n",
              "       travel_outside_state.2  work_outside_home.2       shop.2  restaurant.2  \\\n",
              "count             1078.000000          1078.000000  1078.000000   1078.000000   \n",
              "mean                14.445920            33.332199    65.101086     32.557518   \n",
              "std                  4.036199             4.147313     3.409291      4.401499   \n",
              "min                  5.109449            18.481661    50.496345     17.299276   \n",
              "25%                 11.440931            30.609522    64.013009     29.880188   \n",
              "50%                 14.223284            33.776359    65.771471     32.971328   \n",
              "75%                 17.141686            36.202997    67.281290     35.792775   \n",
              "max                 29.943079            43.625259    71.982535     41.742074   \n",
              "\n",
              "       spent_time.2  large_event.2  public_transit.2    anxious.2  \\\n",
              "count   1078.000000    1078.000000       1078.000000  1078.000000   \n",
              "mean      43.712211      21.122220          4.594429    13.677043   \n",
              "std        4.528051       4.426731          2.156811     2.047635   \n",
              "min       27.889816       9.798319          1.559648     8.923437   \n",
              "25%       40.699273      17.930106          3.230010    12.197170   \n",
              "50%       43.736194      20.991328          4.005279    13.522888   \n",
              "75%       46.832002      24.317114          5.317334    14.901313   \n",
              "max       56.364237      33.819254         14.990682    20.361022   \n",
              "\n",
              "       depressed.2  worried_finances.2  tested_positive.2        cli.3  \\\n",
              "count  1078.000000         1078.000000        1078.000000  1078.000000   \n",
              "mean     11.133904           36.243696          15.052264     1.761680   \n",
              "std       1.659307            3.392889           7.643282     1.130832   \n",
              "min       5.160161           27.093808           2.693210     0.408942   \n",
              "25%       9.963252           33.772792           9.284570     1.057543   \n",
              "50%      10.924269           35.900105          13.583825     1.385441   \n",
              "75%      12.266855           38.476910          18.797204     1.957784   \n",
              "max      16.843972           47.773584          45.561857     7.415674   \n",
              "\n",
              "             ili.3  hh_cmnty_cli.3  nohh_cmnty_cli.3  wearing_mask.3  \\\n",
              "count  1078.000000     1078.000000       1078.000000     1078.000000   \n",
              "mean      1.802832       24.750801         19.921402       62.766227   \n",
              "std       1.158424        9.863534          9.035893       13.100880   \n",
              "min       0.447110        8.741513          6.011066       26.850639   \n",
              "25%       1.078786       17.333732         12.896655       52.147823   \n",
              "50%       1.409731       22.332087         17.853918       62.015637   \n",
              "75%       2.004413       29.470696         24.325500       72.032523   \n",
              "max       7.589683       60.165463         53.295823       90.346750   \n",
              "\n",
              "       travel_outside_state.3  work_outside_home.3       shop.3  restaurant.3  \\\n",
              "count             1078.000000          1078.000000  1078.000000   1078.000000   \n",
              "mean                14.413096            33.305279    65.087104     32.543264   \n",
              "std                  4.029173             4.177105     3.526735      4.459165   \n",
              "min                  4.960781            18.447646    48.974501     16.656903   \n",
              "25%                 11.343953            30.640953    63.891763     29.923195   \n",
              "50%                 14.180035            33.770290    65.822245     33.105752   \n",
              "75%                 17.015057            36.254472    67.279865     35.835687   \n",
              "max                 29.527048            44.084622    72.459431     41.825479   \n",
              "\n",
              "       spent_time.3  large_event.3  public_transit.3    anxious.3  \\\n",
              "count   1078.000000    1078.000000       1078.000000  1078.000000   \n",
              "mean      43.594538      21.038771          4.591781    13.699767   \n",
              "std        4.529272       4.414385          2.155324     2.041950   \n",
              "min       28.962287      10.099396          1.503848     9.085481   \n",
              "25%       40.686480      17.821377          3.222537    12.228383   \n",
              "50%       43.694061      20.971374          3.990339    13.515086   \n",
              "75%       46.673747      24.267785          5.322812    14.968799   \n",
              "max       57.648491      34.244130         14.874425    20.937823   \n",
              "\n",
              "       depressed.3  worried_finances.3  tested_positive.3        cli.4  \\\n",
              "count  1078.000000         1078.000000        1078.000000  1078.000000   \n",
              "mean     11.157240           36.261111          15.168567     1.782039   \n",
              "std       1.648985            3.394107           7.728694     1.151991   \n",
              "min       6.363659           27.648068           3.356483     0.368055   \n",
              "25%       9.968272           33.670719           9.318187     1.055606   \n",
              "50%      10.944967           35.977638          13.616063     1.394134   \n",
              "75%      12.213268           38.560718          18.723539     1.952635   \n",
              "max      18.084300           47.989073          46.952078     7.159814   \n",
              "\n",
              "             ili.4  hh_cmnty_cli.4  nohh_cmnty_cli.4  wearing_mask.4  \\\n",
              "count  1078.000000     1078.000000       1078.000000     1078.000000   \n",
              "mean      1.824836       24.907033         20.059830       62.911650   \n",
              "std       1.181697        9.980101          9.138620       13.082389   \n",
              "min       0.391864        9.319978          6.559977       27.217011   \n",
              "25%       1.085167       17.419316         13.005866       52.551041   \n",
              "50%       1.431015       22.557575         17.885927       62.389073   \n",
              "75%       2.003907       29.406166         24.408147       72.158401   \n",
              "max       7.309005       59.625054         53.043365       90.015007   \n",
              "\n",
              "       travel_outside_state.4  work_outside_home.4       shop.4  restaurant.4  \\\n",
              "count             1078.000000          1078.000000  1078.000000   1078.000000   \n",
              "mean                14.388272            33.340883    65.068654     32.509515   \n",
              "std                  4.034543             4.159798     3.629110      4.509875   \n",
              "min                  5.025905            18.595743    49.434681     17.182386   \n",
              "25%                 11.326452            30.666602    63.819611     29.826950   \n",
              "50%                 14.173931            33.763649    65.833661     33.016318   \n",
              "75%                 17.005014            36.334219    67.331311     35.931546   \n",
              "max                 30.910315            43.600536    73.260924     42.668894   \n",
              "\n",
              "       spent_time.4  large_event.4  public_transit.4    anxious.4  \\\n",
              "count   1078.000000    1078.000000       1078.000000  1078.000000   \n",
              "mean      43.492111      20.997452          4.588530    13.702900   \n",
              "std        4.575007       4.417758          2.151651     2.046716   \n",
              "min       28.577795      10.135659          1.520404     8.910954   \n",
              "25%       40.454351      17.816394          3.240001    12.162806   \n",
              "50%       43.661330      20.846020          3.996001    13.505469   \n",
              "75%       46.564887      24.314074          5.354474    14.977877   \n",
              "max       56.816840      33.910786         14.704273    21.365715   \n",
              "\n",
              "       depressed.4  worried_finances.4  \n",
              "count  1078.000000         1078.000000  \n",
              "mean     11.142185           36.293656  \n",
              "std       1.660211            3.399338  \n",
              "min       7.276147           28.093980  \n",
              "25%       9.965875           33.785882  \n",
              "50%      10.925658           35.998612  \n",
              "75%      12.214643           38.464931  \n",
              "max      18.265411           47.910018  "
            ],
            "text/html": [
              "\n",
              "  <div id=\"df-6a04c432-4d91-415a-ab4c-6b29ef4c3109\" class=\"colab-df-container\">\n",
              "    <div>\n",
              "<style scoped>\n",
              "    .dataframe tbody tr th:only-of-type {\n",
              "        vertical-align: middle;\n",
              "    }\n",
              "\n",
              "    .dataframe tbody tr th {\n",
              "        vertical-align: top;\n",
              "    }\n",
              "\n",
              "    .dataframe thead th {\n",
              "        text-align: right;\n",
              "    }\n",
              "</style>\n",
              "<table border=\"1\" class=\"dataframe\">\n",
              "  <thead>\n",
              "    <tr style=\"text-align: right;\">\n",
              "      <th></th>\n",
              "      <th>cli</th>\n",
              "      <th>ili</th>\n",
              "      <th>hh_cmnty_cli</th>\n",
              "      <th>nohh_cmnty_cli</th>\n",
              "      <th>wearing_mask</th>\n",
              "      <th>travel_outside_state</th>\n",
              "      <th>work_outside_home</th>\n",
              "      <th>shop</th>\n",
              "      <th>restaurant</th>\n",
              "      <th>spent_time</th>\n",
              "      <th>large_event</th>\n",
              "      <th>public_transit</th>\n",
              "      <th>anxious</th>\n",
              "      <th>depressed</th>\n",
              "      <th>worried_finances</th>\n",
              "      <th>tested_positive</th>\n",
              "      <th>cli.1</th>\n",
              "      <th>ili.1</th>\n",
              "      <th>hh_cmnty_cli.1</th>\n",
              "      <th>nohh_cmnty_cli.1</th>\n",
              "      <th>wearing_mask.1</th>\n",
              "      <th>travel_outside_state.1</th>\n",
              "      <th>work_outside_home.1</th>\n",
              "      <th>shop.1</th>\n",
              "      <th>restaurant.1</th>\n",
              "      <th>spent_time.1</th>\n",
              "      <th>large_event.1</th>\n",
              "      <th>public_transit.1</th>\n",
              "      <th>anxious.1</th>\n",
              "      <th>depressed.1</th>\n",
              "      <th>worried_finances.1</th>\n",
              "      <th>tested_positive.1</th>\n",
              "      <th>cli.2</th>\n",
              "      <th>ili.2</th>\n",
              "      <th>hh_cmnty_cli.2</th>\n",
              "      <th>nohh_cmnty_cli.2</th>\n",
              "      <th>wearing_mask.2</th>\n",
              "      <th>travel_outside_state.2</th>\n",
              "      <th>work_outside_home.2</th>\n",
              "      <th>shop.2</th>\n",
              "      <th>restaurant.2</th>\n",
              "      <th>spent_time.2</th>\n",
              "      <th>large_event.2</th>\n",
              "      <th>public_transit.2</th>\n",
              "      <th>anxious.2</th>\n",
              "      <th>depressed.2</th>\n",
              "      <th>worried_finances.2</th>\n",
              "      <th>tested_positive.2</th>\n",
              "      <th>cli.3</th>\n",
              "      <th>ili.3</th>\n",
              "      <th>hh_cmnty_cli.3</th>\n",
              "      <th>nohh_cmnty_cli.3</th>\n",
              "      <th>wearing_mask.3</th>\n",
              "      <th>travel_outside_state.3</th>\n",
              "      <th>work_outside_home.3</th>\n",
              "      <th>shop.3</th>\n",
              "      <th>restaurant.3</th>\n",
              "      <th>spent_time.3</th>\n",
              "      <th>large_event.3</th>\n",
              "      <th>public_transit.3</th>\n",
              "      <th>anxious.3</th>\n",
              "      <th>depressed.3</th>\n",
              "      <th>worried_finances.3</th>\n",
              "      <th>tested_positive.3</th>\n",
              "      <th>cli.4</th>\n",
              "      <th>ili.4</th>\n",
              "      <th>hh_cmnty_cli.4</th>\n",
              "      <th>nohh_cmnty_cli.4</th>\n",
              "      <th>wearing_mask.4</th>\n",
              "      <th>travel_outside_state.4</th>\n",
              "      <th>work_outside_home.4</th>\n",
              "      <th>shop.4</th>\n",
              "      <th>restaurant.4</th>\n",
              "      <th>spent_time.4</th>\n",
              "      <th>large_event.4</th>\n",
              "      <th>public_transit.4</th>\n",
              "      <th>anxious.4</th>\n",
              "      <th>depressed.4</th>\n",
              "      <th>worried_finances.4</th>\n",
              "    </tr>\n",
              "  </thead>\n",
              "  <tbody>\n",
              "    <tr>\n",
              "      <th>count</th>\n",
              "      <td>1078.000000</td>\n",
              "      <td>1078.000000</td>\n",
              "      <td>1078.000000</td>\n",
              "      <td>1078.000000</td>\n",
              "      <td>1078.000000</td>\n",
              "      <td>1078.000000</td>\n",
              "      <td>1078.000000</td>\n",
              "      <td>1078.000000</td>\n",
              "      <td>1078.000000</td>\n",
              "      <td>1078.000000</td>\n",
              "      <td>1078.000000</td>\n",
              "      <td>1078.000000</td>\n",
              "      <td>1078.000000</td>\n",
              "      <td>1078.000000</td>\n",
              "      <td>1078.000000</td>\n",
              "      <td>1078.000000</td>\n",
              "      <td>1078.000000</td>\n",
              "      <td>1078.000000</td>\n",
              "      <td>1078.000000</td>\n",
              "      <td>1078.000000</td>\n",
              "      <td>1078.000000</td>\n",
              "      <td>1078.000000</td>\n",
              "      <td>1078.000000</td>\n",
              "      <td>1078.000000</td>\n",
              "      <td>1078.000000</td>\n",
              "      <td>1078.000000</td>\n",
              "      <td>1078.000000</td>\n",
              "      <td>1078.000000</td>\n",
              "      <td>1078.000000</td>\n",
              "      <td>1078.000000</td>\n",
              "      <td>1078.000000</td>\n",
              "      <td>1078.000000</td>\n",
              "      <td>1078.000000</td>\n",
              "      <td>1078.000000</td>\n",
              "      <td>1078.000000</td>\n",
              "      <td>1078.000000</td>\n",
              "      <td>1078.000000</td>\n",
              "      <td>1078.000000</td>\n",
              "      <td>1078.000000</td>\n",
              "      <td>1078.000000</td>\n",
              "      <td>1078.000000</td>\n",
              "      <td>1078.000000</td>\n",
              "      <td>1078.000000</td>\n",
              "      <td>1078.000000</td>\n",
              "      <td>1078.000000</td>\n",
              "      <td>1078.000000</td>\n",
              "      <td>1078.000000</td>\n",
              "      <td>1078.000000</td>\n",
              "      <td>1078.000000</td>\n",
              "      <td>1078.000000</td>\n",
              "      <td>1078.000000</td>\n",
              "      <td>1078.000000</td>\n",
              "      <td>1078.000000</td>\n",
              "      <td>1078.000000</td>\n",
              "      <td>1078.000000</td>\n",
              "      <td>1078.000000</td>\n",
              "      <td>1078.000000</td>\n",
              "      <td>1078.000000</td>\n",
              "      <td>1078.000000</td>\n",
              "      <td>1078.000000</td>\n",
              "      <td>1078.000000</td>\n",
              "      <td>1078.000000</td>\n",
              "      <td>1078.000000</td>\n",
              "      <td>1078.000000</td>\n",
              "      <td>1078.000000</td>\n",
              "      <td>1078.000000</td>\n",
              "      <td>1078.000000</td>\n",
              "      <td>1078.000000</td>\n",
              "      <td>1078.000000</td>\n",
              "      <td>1078.000000</td>\n",
              "      <td>1078.000000</td>\n",
              "      <td>1078.000000</td>\n",
              "      <td>1078.000000</td>\n",
              "      <td>1078.000000</td>\n",
              "      <td>1078.000000</td>\n",
              "      <td>1078.000000</td>\n",
              "      <td>1078.000000</td>\n",
              "      <td>1078.000000</td>\n",
              "      <td>1078.000000</td>\n",
              "    </tr>\n",
              "    <tr>\n",
              "      <th>mean</th>\n",
              "      <td>1.696624</td>\n",
              "      <td>1.735844</td>\n",
              "      <td>24.199464</td>\n",
              "      <td>19.418639</td>\n",
              "      <td>62.303215</td>\n",
              "      <td>14.565486</td>\n",
              "      <td>33.453409</td>\n",
              "      <td>65.310193</td>\n",
              "      <td>32.729616</td>\n",
              "      <td>43.746663</td>\n",
              "      <td>21.163742</td>\n",
              "      <td>4.614435</td>\n",
              "      <td>13.654282</td>\n",
              "      <td>11.075322</td>\n",
              "      <td>36.205691</td>\n",
              "      <td>14.754489</td>\n",
              "      <td>1.722855</td>\n",
              "      <td>1.762404</td>\n",
              "      <td>24.408750</td>\n",
              "      <td>19.601431</td>\n",
              "      <td>62.454952</td>\n",
              "      <td>14.515021</td>\n",
              "      <td>33.403701</td>\n",
              "      <td>65.212338</td>\n",
              "      <td>32.641161</td>\n",
              "      <td>43.784392</td>\n",
              "      <td>21.169890</td>\n",
              "      <td>4.605689</td>\n",
              "      <td>13.677635</td>\n",
              "      <td>11.115904</td>\n",
              "      <td>36.222246</td>\n",
              "      <td>14.905016</td>\n",
              "      <td>1.742170</td>\n",
              "      <td>1.782666</td>\n",
              "      <td>24.595882</td>\n",
              "      <td>19.771379</td>\n",
              "      <td>62.618384</td>\n",
              "      <td>14.445920</td>\n",
              "      <td>33.332199</td>\n",
              "      <td>65.101086</td>\n",
              "      <td>32.557518</td>\n",
              "      <td>43.712211</td>\n",
              "      <td>21.122220</td>\n",
              "      <td>4.594429</td>\n",
              "      <td>13.677043</td>\n",
              "      <td>11.133904</td>\n",
              "      <td>36.243696</td>\n",
              "      <td>15.052264</td>\n",
              "      <td>1.761680</td>\n",
              "      <td>1.802832</td>\n",
              "      <td>24.750801</td>\n",
              "      <td>19.921402</td>\n",
              "      <td>62.766227</td>\n",
              "      <td>14.413096</td>\n",
              "      <td>33.305279</td>\n",
              "      <td>65.087104</td>\n",
              "      <td>32.543264</td>\n",
              "      <td>43.594538</td>\n",
              "      <td>21.038771</td>\n",
              "      <td>4.591781</td>\n",
              "      <td>13.699767</td>\n",
              "      <td>11.157240</td>\n",
              "      <td>36.261111</td>\n",
              "      <td>15.168567</td>\n",
              "      <td>1.782039</td>\n",
              "      <td>1.824836</td>\n",
              "      <td>24.907033</td>\n",
              "      <td>20.059830</td>\n",
              "      <td>62.911650</td>\n",
              "      <td>14.388272</td>\n",
              "      <td>33.340883</td>\n",
              "      <td>65.068654</td>\n",
              "      <td>32.509515</td>\n",
              "      <td>43.492111</td>\n",
              "      <td>20.997452</td>\n",
              "      <td>4.588530</td>\n",
              "      <td>13.702900</td>\n",
              "      <td>11.142185</td>\n",
              "      <td>36.293656</td>\n",
              "    </tr>\n",
              "    <tr>\n",
              "      <th>std</th>\n",
              "      <td>1.059577</td>\n",
              "      <td>1.085970</td>\n",
              "      <td>9.394812</td>\n",
              "      <td>8.600490</td>\n",
              "      <td>13.174267</td>\n",
              "      <td>4.032675</td>\n",
              "      <td>4.144369</td>\n",
              "      <td>3.347384</td>\n",
              "      <td>4.334732</td>\n",
              "      <td>4.383067</td>\n",
              "      <td>4.338083</td>\n",
              "      <td>2.137514</td>\n",
              "      <td>2.025991</td>\n",
              "      <td>1.649531</td>\n",
              "      <td>3.388994</td>\n",
              "      <td>7.245000</td>\n",
              "      <td>1.092477</td>\n",
              "      <td>1.120352</td>\n",
              "      <td>9.587578</td>\n",
              "      <td>8.777890</td>\n",
              "      <td>13.148807</td>\n",
              "      <td>4.047851</td>\n",
              "      <td>4.144462</td>\n",
              "      <td>3.331302</td>\n",
              "      <td>4.356618</td>\n",
              "      <td>4.483673</td>\n",
              "      <td>4.405854</td>\n",
              "      <td>2.152544</td>\n",
              "      <td>2.051534</td>\n",
              "      <td>1.657571</td>\n",
              "      <td>3.382697</td>\n",
              "      <td>7.464604</td>\n",
              "      <td>1.111840</td>\n",
              "      <td>1.139825</td>\n",
              "      <td>9.744482</td>\n",
              "      <td>8.926377</td>\n",
              "      <td>13.117979</td>\n",
              "      <td>4.036199</td>\n",
              "      <td>4.147313</td>\n",
              "      <td>3.409291</td>\n",
              "      <td>4.401499</td>\n",
              "      <td>4.528051</td>\n",
              "      <td>4.426731</td>\n",
              "      <td>2.156811</td>\n",
              "      <td>2.047635</td>\n",
              "      <td>1.659307</td>\n",
              "      <td>3.392889</td>\n",
              "      <td>7.643282</td>\n",
              "      <td>1.130832</td>\n",
              "      <td>1.158424</td>\n",
              "      <td>9.863534</td>\n",
              "      <td>9.035893</td>\n",
              "      <td>13.100880</td>\n",
              "      <td>4.029173</td>\n",
              "      <td>4.177105</td>\n",
              "      <td>3.526735</td>\n",
              "      <td>4.459165</td>\n",
              "      <td>4.529272</td>\n",
              "      <td>4.414385</td>\n",
              "      <td>2.155324</td>\n",
              "      <td>2.041950</td>\n",
              "      <td>1.648985</td>\n",
              "      <td>3.394107</td>\n",
              "      <td>7.728694</td>\n",
              "      <td>1.151991</td>\n",
              "      <td>1.181697</td>\n",
              "      <td>9.980101</td>\n",
              "      <td>9.138620</td>\n",
              "      <td>13.082389</td>\n",
              "      <td>4.034543</td>\n",
              "      <td>4.159798</td>\n",
              "      <td>3.629110</td>\n",
              "      <td>4.509875</td>\n",
              "      <td>4.575007</td>\n",
              "      <td>4.417758</td>\n",
              "      <td>2.151651</td>\n",
              "      <td>2.046716</td>\n",
              "      <td>1.660211</td>\n",
              "      <td>3.399338</td>\n",
              "    </tr>\n",
              "    <tr>\n",
              "      <th>min</th>\n",
              "      <td>0.347450</td>\n",
              "      <td>0.346714</td>\n",
              "      <td>8.056648</td>\n",
              "      <td>5.018598</td>\n",
              "      <td>24.458825</td>\n",
              "      <td>5.854770</td>\n",
              "      <td>19.787537</td>\n",
              "      <td>50.364178</td>\n",
              "      <td>17.010620</td>\n",
              "      <td>28.300442</td>\n",
              "      <td>9.787555</td>\n",
              "      <td>1.734478</td>\n",
              "      <td>8.688044</td>\n",
              "      <td>6.729862</td>\n",
              "      <td>27.793666</td>\n",
              "      <td>2.725120</td>\n",
              "      <td>0.332812</td>\n",
              "      <td>0.372838</td>\n",
              "      <td>8.377877</td>\n",
              "      <td>5.253311</td>\n",
              "      <td>25.348308</td>\n",
              "      <td>5.389283</td>\n",
              "      <td>18.823910</td>\n",
              "      <td>50.780876</td>\n",
              "      <td>17.100464</td>\n",
              "      <td>27.970042</td>\n",
              "      <td>9.935721</td>\n",
              "      <td>1.694564</td>\n",
              "      <td>8.636382</td>\n",
              "      <td>6.552757</td>\n",
              "      <td>26.463961</td>\n",
              "      <td>2.441862</td>\n",
              "      <td>0.338909</td>\n",
              "      <td>0.379024</td>\n",
              "      <td>8.386532</td>\n",
              "      <td>5.444632</td>\n",
              "      <td>26.090610</td>\n",
              "      <td>5.109449</td>\n",
              "      <td>18.481661</td>\n",
              "      <td>50.496345</td>\n",
              "      <td>17.299276</td>\n",
              "      <td>27.889816</td>\n",
              "      <td>9.798319</td>\n",
              "      <td>1.559648</td>\n",
              "      <td>8.923437</td>\n",
              "      <td>5.160161</td>\n",
              "      <td>27.093808</td>\n",
              "      <td>2.693210</td>\n",
              "      <td>0.408942</td>\n",
              "      <td>0.447110</td>\n",
              "      <td>8.741513</td>\n",
              "      <td>6.011066</td>\n",
              "      <td>26.850639</td>\n",
              "      <td>4.960781</td>\n",
              "      <td>18.447646</td>\n",
              "      <td>48.974501</td>\n",
              "      <td>16.656903</td>\n",
              "      <td>28.962287</td>\n",
              "      <td>10.099396</td>\n",
              "      <td>1.503848</td>\n",
              "      <td>9.085481</td>\n",
              "      <td>6.363659</td>\n",
              "      <td>27.648068</td>\n",
              "      <td>3.356483</td>\n",
              "      <td>0.368055</td>\n",
              "      <td>0.391864</td>\n",
              "      <td>9.319978</td>\n",
              "      <td>6.559977</td>\n",
              "      <td>27.217011</td>\n",
              "      <td>5.025905</td>\n",
              "      <td>18.595743</td>\n",
              "      <td>49.434681</td>\n",
              "      <td>17.182386</td>\n",
              "      <td>28.577795</td>\n",
              "      <td>10.135659</td>\n",
              "      <td>1.520404</td>\n",
              "      <td>8.910954</td>\n",
              "      <td>7.276147</td>\n",
              "      <td>28.093980</td>\n",
              "    </tr>\n",
              "    <tr>\n",
              "      <th>25%</th>\n",
              "      <td>1.028592</td>\n",
              "      <td>1.053103</td>\n",
              "      <td>17.189686</td>\n",
              "      <td>12.731609</td>\n",
              "      <td>51.966768</td>\n",
              "      <td>11.495553</td>\n",
              "      <td>30.695727</td>\n",
              "      <td>64.127805</td>\n",
              "      <td>30.241829</td>\n",
              "      <td>40.790522</td>\n",
              "      <td>18.109992</td>\n",
              "      <td>3.255561</td>\n",
              "      <td>12.166111</td>\n",
              "      <td>9.923443</td>\n",
              "      <td>33.676973</td>\n",
              "      <td>9.246406</td>\n",
              "      <td>1.036192</td>\n",
              "      <td>1.065912</td>\n",
              "      <td>17.349799</td>\n",
              "      <td>12.846299</td>\n",
              "      <td>51.783447</td>\n",
              "      <td>11.535244</td>\n",
              "      <td>30.676446</td>\n",
              "      <td>64.075459</td>\n",
              "      <td>29.949500</td>\n",
              "      <td>40.727548</td>\n",
              "      <td>17.918977</td>\n",
              "      <td>3.232646</td>\n",
              "      <td>12.220347</td>\n",
              "      <td>9.935717</td>\n",
              "      <td>33.671490</td>\n",
              "      <td>9.246926</td>\n",
              "      <td>1.046691</td>\n",
              "      <td>1.075789</td>\n",
              "      <td>17.244159</td>\n",
              "      <td>12.813686</td>\n",
              "      <td>52.114455</td>\n",
              "      <td>11.440931</td>\n",
              "      <td>30.609522</td>\n",
              "      <td>64.013009</td>\n",
              "      <td>29.880188</td>\n",
              "      <td>40.699273</td>\n",
              "      <td>17.930106</td>\n",
              "      <td>3.230010</td>\n",
              "      <td>12.197170</td>\n",
              "      <td>9.963252</td>\n",
              "      <td>33.772792</td>\n",
              "      <td>9.284570</td>\n",
              "      <td>1.057543</td>\n",
              "      <td>1.078786</td>\n",
              "      <td>17.333732</td>\n",
              "      <td>12.896655</td>\n",
              "      <td>52.147823</td>\n",
              "      <td>11.343953</td>\n",
              "      <td>30.640953</td>\n",
              "      <td>63.891763</td>\n",
              "      <td>29.923195</td>\n",
              "      <td>40.686480</td>\n",
              "      <td>17.821377</td>\n",
              "      <td>3.222537</td>\n",
              "      <td>12.228383</td>\n",
              "      <td>9.968272</td>\n",
              "      <td>33.670719</td>\n",
              "      <td>9.318187</td>\n",
              "      <td>1.055606</td>\n",
              "      <td>1.085167</td>\n",
              "      <td>17.419316</td>\n",
              "      <td>13.005866</td>\n",
              "      <td>52.551041</td>\n",
              "      <td>11.326452</td>\n",
              "      <td>30.666602</td>\n",
              "      <td>63.819611</td>\n",
              "      <td>29.826950</td>\n",
              "      <td>40.454351</td>\n",
              "      <td>17.816394</td>\n",
              "      <td>3.240001</td>\n",
              "      <td>12.162806</td>\n",
              "      <td>9.965875</td>\n",
              "      <td>33.785882</td>\n",
              "    </tr>\n",
              "    <tr>\n",
              "      <th>50%</th>\n",
              "      <td>1.385915</td>\n",
              "      <td>1.417380</td>\n",
              "      <td>21.993534</td>\n",
              "      <td>17.460723</td>\n",
              "      <td>61.166572</td>\n",
              "      <td>14.270382</td>\n",
              "      <td>33.848396</td>\n",
              "      <td>65.924428</td>\n",
              "      <td>33.118532</td>\n",
              "      <td>43.831264</td>\n",
              "      <td>21.046014</td>\n",
              "      <td>4.029409</td>\n",
              "      <td>13.490838</td>\n",
              "      <td>10.866939</td>\n",
              "      <td>35.993632</td>\n",
              "      <td>13.485560</td>\n",
              "      <td>1.396043</td>\n",
              "      <td>1.422716</td>\n",
              "      <td>22.231444</td>\n",
              "      <td>17.622884</td>\n",
              "      <td>61.324236</td>\n",
              "      <td>14.262523</td>\n",
              "      <td>33.803309</td>\n",
              "      <td>65.816120</td>\n",
              "      <td>33.143219</td>\n",
              "      <td>43.879157</td>\n",
              "      <td>21.029340</td>\n",
              "      <td>3.991625</td>\n",
              "      <td>13.549290</td>\n",
              "      <td>10.885030</td>\n",
              "      <td>35.982920</td>\n",
              "      <td>13.527676</td>\n",
              "      <td>1.395806</td>\n",
              "      <td>1.430246</td>\n",
              "      <td>22.380244</td>\n",
              "      <td>17.641626</td>\n",
              "      <td>61.892460</td>\n",
              "      <td>14.223284</td>\n",
              "      <td>33.776359</td>\n",
              "      <td>65.771471</td>\n",
              "      <td>32.971328</td>\n",
              "      <td>43.736194</td>\n",
              "      <td>20.991328</td>\n",
              "      <td>4.005279</td>\n",
              "      <td>13.522888</td>\n",
              "      <td>10.924269</td>\n",
              "      <td>35.900105</td>\n",
              "      <td>13.583825</td>\n",
              "      <td>1.385441</td>\n",
              "      <td>1.409731</td>\n",
              "      <td>22.332087</td>\n",
              "      <td>17.853918</td>\n",
              "      <td>62.015637</td>\n",
              "      <td>14.180035</td>\n",
              "      <td>33.770290</td>\n",
              "      <td>65.822245</td>\n",
              "      <td>33.105752</td>\n",
              "      <td>43.694061</td>\n",
              "      <td>20.971374</td>\n",
              "      <td>3.990339</td>\n",
              "      <td>13.515086</td>\n",
              "      <td>10.944967</td>\n",
              "      <td>35.977638</td>\n",
              "      <td>13.616063</td>\n",
              "      <td>1.394134</td>\n",
              "      <td>1.431015</td>\n",
              "      <td>22.557575</td>\n",
              "      <td>17.885927</td>\n",
              "      <td>62.389073</td>\n",
              "      <td>14.173931</td>\n",
              "      <td>33.763649</td>\n",
              "      <td>65.833661</td>\n",
              "      <td>33.016318</td>\n",
              "      <td>43.661330</td>\n",
              "      <td>20.846020</td>\n",
              "      <td>3.996001</td>\n",
              "      <td>13.505469</td>\n",
              "      <td>10.925658</td>\n",
              "      <td>35.998612</td>\n",
              "    </tr>\n",
              "    <tr>\n",
              "      <th>75%</th>\n",
              "      <td>1.915163</td>\n",
              "      <td>1.954124</td>\n",
              "      <td>28.650777</td>\n",
              "      <td>23.625604</td>\n",
              "      <td>71.762510</td>\n",
              "      <td>17.307798</td>\n",
              "      <td>36.398378</td>\n",
              "      <td>67.407958</td>\n",
              "      <td>36.011588</td>\n",
              "      <td>46.702518</td>\n",
              "      <td>24.434956</td>\n",
              "      <td>5.389728</td>\n",
              "      <td>14.856174</td>\n",
              "      <td>12.194021</td>\n",
              "      <td>38.452867</td>\n",
              "      <td>18.216224</td>\n",
              "      <td>1.917990</td>\n",
              "      <td>1.943017</td>\n",
              "      <td>28.936964</td>\n",
              "      <td>23.778222</td>\n",
              "      <td>72.040773</td>\n",
              "      <td>17.231894</td>\n",
              "      <td>36.357408</td>\n",
              "      <td>67.303865</td>\n",
              "      <td>35.849813</td>\n",
              "      <td>46.844966</td>\n",
              "      <td>24.461188</td>\n",
              "      <td>5.375011</td>\n",
              "      <td>14.913584</td>\n",
              "      <td>12.290915</td>\n",
              "      <td>38.540766</td>\n",
              "      <td>18.922514</td>\n",
              "      <td>1.927051</td>\n",
              "      <td>1.967665</td>\n",
              "      <td>29.247178</td>\n",
              "      <td>23.971382</td>\n",
              "      <td>72.082225</td>\n",
              "      <td>17.141686</td>\n",
              "      <td>36.202997</td>\n",
              "      <td>67.281290</td>\n",
              "      <td>35.792775</td>\n",
              "      <td>46.832002</td>\n",
              "      <td>24.317114</td>\n",
              "      <td>5.317334</td>\n",
              "      <td>14.901313</td>\n",
              "      <td>12.266855</td>\n",
              "      <td>38.476910</td>\n",
              "      <td>18.797204</td>\n",
              "      <td>1.957784</td>\n",
              "      <td>2.004413</td>\n",
              "      <td>29.470696</td>\n",
              "      <td>24.325500</td>\n",
              "      <td>72.032523</td>\n",
              "      <td>17.015057</td>\n",
              "      <td>36.254472</td>\n",
              "      <td>67.279865</td>\n",
              "      <td>35.835687</td>\n",
              "      <td>46.673747</td>\n",
              "      <td>24.267785</td>\n",
              "      <td>5.322812</td>\n",
              "      <td>14.968799</td>\n",
              "      <td>12.213268</td>\n",
              "      <td>38.560718</td>\n",
              "      <td>18.723539</td>\n",
              "      <td>1.952635</td>\n",
              "      <td>2.003907</td>\n",
              "      <td>29.406166</td>\n",
              "      <td>24.408147</td>\n",
              "      <td>72.158401</td>\n",
              "      <td>17.005014</td>\n",
              "      <td>36.334219</td>\n",
              "      <td>67.331311</td>\n",
              "      <td>35.931546</td>\n",
              "      <td>46.564887</td>\n",
              "      <td>24.314074</td>\n",
              "      <td>5.354474</td>\n",
              "      <td>14.977877</td>\n",
              "      <td>12.214643</td>\n",
              "      <td>38.464931</td>\n",
              "    </tr>\n",
              "    <tr>\n",
              "      <th>max</th>\n",
              "      <td>6.752564</td>\n",
              "      <td>6.856159</td>\n",
              "      <td>57.177442</td>\n",
              "      <td>50.380203</td>\n",
              "      <td>90.067965</td>\n",
              "      <td>30.755359</td>\n",
              "      <td>43.466226</td>\n",
              "      <td>72.675483</td>\n",
              "      <td>42.987794</td>\n",
              "      <td>57.854621</td>\n",
              "      <td>34.093458</td>\n",
              "      <td>14.611168</td>\n",
              "      <td>20.562966</td>\n",
              "      <td>17.642752</td>\n",
              "      <td>45.892421</td>\n",
              "      <td>46.483475</td>\n",
              "      <td>6.937563</td>\n",
              "      <td>7.124950</td>\n",
              "      <td>57.859862</td>\n",
              "      <td>51.147264</td>\n",
              "      <td>90.346140</td>\n",
              "      <td>30.336345</td>\n",
              "      <td>43.213668</td>\n",
              "      <td>72.304303</td>\n",
              "      <td>42.288301</td>\n",
              "      <td>56.262544</td>\n",
              "      <td>34.289456</td>\n",
              "      <td>14.734549</td>\n",
              "      <td>20.401307</td>\n",
              "      <td>16.893086</td>\n",
              "      <td>46.877247</td>\n",
              "      <td>46.114682</td>\n",
              "      <td>7.307413</td>\n",
              "      <td>7.508957</td>\n",
              "      <td>59.242714</td>\n",
              "      <td>52.394591</td>\n",
              "      <td>90.558231</td>\n",
              "      <td>29.943079</td>\n",
              "      <td>43.625259</td>\n",
              "      <td>71.982535</td>\n",
              "      <td>41.742074</td>\n",
              "      <td>56.364237</td>\n",
              "      <td>33.819254</td>\n",
              "      <td>14.990682</td>\n",
              "      <td>20.361022</td>\n",
              "      <td>16.843972</td>\n",
              "      <td>47.773584</td>\n",
              "      <td>45.561857</td>\n",
              "      <td>7.415674</td>\n",
              "      <td>7.589683</td>\n",
              "      <td>60.165463</td>\n",
              "      <td>53.295823</td>\n",
              "      <td>90.346750</td>\n",
              "      <td>29.527048</td>\n",
              "      <td>44.084622</td>\n",
              "      <td>72.459431</td>\n",
              "      <td>41.825479</td>\n",
              "      <td>57.648491</td>\n",
              "      <td>34.244130</td>\n",
              "      <td>14.874425</td>\n",
              "      <td>20.937823</td>\n",
              "      <td>18.084300</td>\n",
              "      <td>47.989073</td>\n",
              "      <td>46.952078</td>\n",
              "      <td>7.159814</td>\n",
              "      <td>7.309005</td>\n",
              "      <td>59.625054</td>\n",
              "      <td>53.043365</td>\n",
              "      <td>90.015007</td>\n",
              "      <td>30.910315</td>\n",
              "      <td>43.600536</td>\n",
              "      <td>73.260924</td>\n",
              "      <td>42.668894</td>\n",
              "      <td>56.816840</td>\n",
              "      <td>33.910786</td>\n",
              "      <td>14.704273</td>\n",
              "      <td>21.365715</td>\n",
              "      <td>18.265411</td>\n",
              "      <td>47.910018</td>\n",
              "    </tr>\n",
              "  </tbody>\n",
              "</table>\n",
              "</div>\n",
              "    <div class=\"colab-df-buttons\">\n",
              "\n",
              "  <div class=\"colab-df-container\">\n",
              "    <button class=\"colab-df-convert\" onclick=\"convertToInteractive('df-6a04c432-4d91-415a-ab4c-6b29ef4c3109')\"\n",
              "            title=\"Convert this dataframe to an interactive table.\"\n",
              "            style=\"display:none;\">\n",
              "\n",
              "  <svg xmlns=\"http://www.w3.org/2000/svg\" height=\"24px\" viewBox=\"0 -960 960 960\">\n",
              "    <path d=\"M120-120v-720h720v720H120Zm60-500h600v-160H180v160Zm220 220h160v-160H400v160Zm0 220h160v-160H400v160ZM180-400h160v-160H180v160Zm440 0h160v-160H620v160ZM180-180h160v-160H180v160Zm440 0h160v-160H620v160Z\"/>\n",
              "  </svg>\n",
              "    </button>\n",
              "\n",
              "  <style>\n",
              "    .colab-df-container {\n",
              "      display:flex;\n",
              "      gap: 12px;\n",
              "    }\n",
              "\n",
              "    .colab-df-convert {\n",
              "      background-color: #E8F0FE;\n",
              "      border: none;\n",
              "      border-radius: 50%;\n",
              "      cursor: pointer;\n",
              "      display: none;\n",
              "      fill: #1967D2;\n",
              "      height: 32px;\n",
              "      padding: 0 0 0 0;\n",
              "      width: 32px;\n",
              "    }\n",
              "\n",
              "    .colab-df-convert:hover {\n",
              "      background-color: #E2EBFA;\n",
              "      box-shadow: 0px 1px 2px rgba(60, 64, 67, 0.3), 0px 1px 3px 1px rgba(60, 64, 67, 0.15);\n",
              "      fill: #174EA6;\n",
              "    }\n",
              "\n",
              "    .colab-df-buttons div {\n",
              "      margin-bottom: 4px;\n",
              "    }\n",
              "\n",
              "    [theme=dark] .colab-df-convert {\n",
              "      background-color: #3B4455;\n",
              "      fill: #D2E3FC;\n",
              "    }\n",
              "\n",
              "    [theme=dark] .colab-df-convert:hover {\n",
              "      background-color: #434B5C;\n",
              "      box-shadow: 0px 1px 3px 1px rgba(0, 0, 0, 0.15);\n",
              "      filter: drop-shadow(0px 1px 2px rgba(0, 0, 0, 0.3));\n",
              "      fill: #FFFFFF;\n",
              "    }\n",
              "  </style>\n",
              "\n",
              "    <script>\n",
              "      const buttonEl =\n",
              "        document.querySelector('#df-6a04c432-4d91-415a-ab4c-6b29ef4c3109 button.colab-df-convert');\n",
              "      buttonEl.style.display =\n",
              "        google.colab.kernel.accessAllowed ? 'block' : 'none';\n",
              "\n",
              "      async function convertToInteractive(key) {\n",
              "        const element = document.querySelector('#df-6a04c432-4d91-415a-ab4c-6b29ef4c3109');\n",
              "        const dataTable =\n",
              "          await google.colab.kernel.invokeFunction('convertToInteractive',\n",
              "                                                    [key], {});\n",
              "        if (!dataTable) return;\n",
              "\n",
              "        const docLinkHtml = 'Like what you see? Visit the ' +\n",
              "          '<a target=\"_blank\" href=https://colab.research.google.com/notebooks/data_table.ipynb>data table notebook</a>'\n",
              "          + ' to learn more about interactive tables.';\n",
              "        element.innerHTML = '';\n",
              "        dataTable['output_type'] = 'display_data';\n",
              "        await google.colab.output.renderOutput(dataTable, element);\n",
              "        const docLink = document.createElement('div');\n",
              "        docLink.innerHTML = docLinkHtml;\n",
              "        element.appendChild(docLink);\n",
              "      }\n",
              "    </script>\n",
              "  </div>\n",
              "\n",
              "\n",
              "<div id=\"df-ad8ae58e-a072-4493-a2c4-47e689d61015\">\n",
              "  <button class=\"colab-df-quickchart\" onclick=\"quickchart('df-ad8ae58e-a072-4493-a2c4-47e689d61015')\"\n",
              "            title=\"Suggest charts\"\n",
              "            style=\"display:none;\">\n",
              "\n",
              "<svg xmlns=\"http://www.w3.org/2000/svg\" height=\"24px\"viewBox=\"0 0 24 24\"\n",
              "     width=\"24px\">\n",
              "    <g>\n",
              "        <path d=\"M19 3H5c-1.1 0-2 .9-2 2v14c0 1.1.9 2 2 2h14c1.1 0 2-.9 2-2V5c0-1.1-.9-2-2-2zM9 17H7v-7h2v7zm4 0h-2V7h2v10zm4 0h-2v-4h2v4z\"/>\n",
              "    </g>\n",
              "</svg>\n",
              "  </button>\n",
              "\n",
              "<style>\n",
              "  .colab-df-quickchart {\n",
              "      --bg-color: #E8F0FE;\n",
              "      --fill-color: #1967D2;\n",
              "      --hover-bg-color: #E2EBFA;\n",
              "      --hover-fill-color: #174EA6;\n",
              "      --disabled-fill-color: #AAA;\n",
              "      --disabled-bg-color: #DDD;\n",
              "  }\n",
              "\n",
              "  [theme=dark] .colab-df-quickchart {\n",
              "      --bg-color: #3B4455;\n",
              "      --fill-color: #D2E3FC;\n",
              "      --hover-bg-color: #434B5C;\n",
              "      --hover-fill-color: #FFFFFF;\n",
              "      --disabled-bg-color: #3B4455;\n",
              "      --disabled-fill-color: #666;\n",
              "  }\n",
              "\n",
              "  .colab-df-quickchart {\n",
              "    background-color: var(--bg-color);\n",
              "    border: none;\n",
              "    border-radius: 50%;\n",
              "    cursor: pointer;\n",
              "    display: none;\n",
              "    fill: var(--fill-color);\n",
              "    height: 32px;\n",
              "    padding: 0;\n",
              "    width: 32px;\n",
              "  }\n",
              "\n",
              "  .colab-df-quickchart:hover {\n",
              "    background-color: var(--hover-bg-color);\n",
              "    box-shadow: 0 1px 2px rgba(60, 64, 67, 0.3), 0 1px 3px 1px rgba(60, 64, 67, 0.15);\n",
              "    fill: var(--button-hover-fill-color);\n",
              "  }\n",
              "\n",
              "  .colab-df-quickchart-complete:disabled,\n",
              "  .colab-df-quickchart-complete:disabled:hover {\n",
              "    background-color: var(--disabled-bg-color);\n",
              "    fill: var(--disabled-fill-color);\n",
              "    box-shadow: none;\n",
              "  }\n",
              "\n",
              "  .colab-df-spinner {\n",
              "    border: 2px solid var(--fill-color);\n",
              "    border-color: transparent;\n",
              "    border-bottom-color: var(--fill-color);\n",
              "    animation:\n",
              "      spin 1s steps(1) infinite;\n",
              "  }\n",
              "\n",
              "  @keyframes spin {\n",
              "    0% {\n",
              "      border-color: transparent;\n",
              "      border-bottom-color: var(--fill-color);\n",
              "      border-left-color: var(--fill-color);\n",
              "    }\n",
              "    20% {\n",
              "      border-color: transparent;\n",
              "      border-left-color: var(--fill-color);\n",
              "      border-top-color: var(--fill-color);\n",
              "    }\n",
              "    30% {\n",
              "      border-color: transparent;\n",
              "      border-left-color: var(--fill-color);\n",
              "      border-top-color: var(--fill-color);\n",
              "      border-right-color: var(--fill-color);\n",
              "    }\n",
              "    40% {\n",
              "      border-color: transparent;\n",
              "      border-right-color: var(--fill-color);\n",
              "      border-top-color: var(--fill-color);\n",
              "    }\n",
              "    60% {\n",
              "      border-color: transparent;\n",
              "      border-right-color: var(--fill-color);\n",
              "    }\n",
              "    80% {\n",
              "      border-color: transparent;\n",
              "      border-right-color: var(--fill-color);\n",
              "      border-bottom-color: var(--fill-color);\n",
              "    }\n",
              "    90% {\n",
              "      border-color: transparent;\n",
              "      border-bottom-color: var(--fill-color);\n",
              "    }\n",
              "  }\n",
              "</style>\n",
              "\n",
              "  <script>\n",
              "    async function quickchart(key) {\n",
              "      const quickchartButtonEl =\n",
              "        document.querySelector('#' + key + ' button');\n",
              "      quickchartButtonEl.disabled = true;  // To prevent multiple clicks.\n",
              "      quickchartButtonEl.classList.add('colab-df-spinner');\n",
              "      try {\n",
              "        const charts = await google.colab.kernel.invokeFunction(\n",
              "            'suggestCharts', [key], {});\n",
              "      } catch (error) {\n",
              "        console.error('Error during call to suggestCharts:', error);\n",
              "      }\n",
              "      quickchartButtonEl.classList.remove('colab-df-spinner');\n",
              "      quickchartButtonEl.classList.add('colab-df-quickchart-complete');\n",
              "    }\n",
              "    (() => {\n",
              "      let quickchartButtonEl =\n",
              "        document.querySelector('#df-ad8ae58e-a072-4493-a2c4-47e689d61015 button');\n",
              "      quickchartButtonEl.style.display =\n",
              "        google.colab.kernel.accessAllowed ? 'block' : 'none';\n",
              "    })();\n",
              "  </script>\n",
              "</div>\n",
              "\n",
              "    </div>\n",
              "  </div>\n"
            ],
            "application/vnd.google.colaboratory.intrinsic+json": {
              "type": "dataframe"
            }
          },
          "metadata": {},
          "execution_count": 73
        }
      ],
      "source": [
        "test_data.iloc[:, 38:].describe()"
      ]
    },
    {
      "cell_type": "code",
      "execution_count": 74,
      "metadata": {
        "colab": {
          "base_uri": "https://localhost:8080/",
          "height": 1000
        },
        "id": "VvUCfxmFQAyw",
        "outputId": "6481a827-63a6-4351-d173-8ac089854cc6"
      },
      "outputs": [
        {
          "output_type": "execute_result",
          "data": {
            "text/plain": [
              "cli                       0.852766\n",
              "ili                       0.852934\n",
              "hh_cmnty_cli              0.880777\n",
              "nohh_cmnty_cli            0.873750\n",
              "wearing_mask             -0.135891\n",
              "travel_outside_state     -0.064729\n",
              "work_outside_home         0.572663\n",
              "shop                     -0.290625\n",
              "restaurant               -0.048994\n",
              "spent_time                0.078154\n",
              "large_event               0.299940\n",
              "public_transit           -0.402255\n",
              "anxious                   0.612032\n",
              "depressed                 0.483737\n",
              "worried_finances          0.303500\n",
              "tested_positive           0.935388\n",
              "cli.1                     0.855321\n",
              "ili.1                     0.855774\n",
              "hh_cmnty_cli.1            0.886122\n",
              "nohh_cmnty_cli.1          0.879162\n",
              "wearing_mask.1           -0.111869\n",
              "travel_outside_state.1   -0.075109\n",
              "work_outside_home.1       0.582575\n",
              "shop.1                   -0.318763\n",
              "restaurant.1             -0.069823\n",
              "spent_time.1              0.063345\n",
              "large_event.1             0.288615\n",
              "public_transit.1         -0.405867\n",
              "anxious.1                 0.617509\n",
              "depressed.1               0.486870\n",
              "worried_finances.1        0.307513\n",
              "tested_positive.1         0.953333\n",
              "cli.2                     0.856519\n",
              "ili.2                     0.857181\n",
              "hh_cmnty_cli.2            0.890802\n",
              "nohh_cmnty_cli.2          0.883926\n",
              "wearing_mask.2           -0.087302\n",
              "travel_outside_state.2   -0.085217\n",
              "work_outside_home.2       0.590628\n",
              "shop.2                   -0.342185\n",
              "restaurant.2             -0.087925\n",
              "spent_time.2              0.050261\n",
              "large_event.2             0.277749\n",
              "public_transit.2         -0.408784\n",
              "anxious.2                 0.621018\n",
              "depressed.2               0.486824\n",
              "worried_finances.2        0.310521\n",
              "tested_positive.2         0.969593\n",
              "cli.3                     0.859617\n",
              "ili.3                     0.860141\n",
              "hh_cmnty_cli.3            0.894936\n",
              "nohh_cmnty_cli.3          0.887985\n",
              "wearing_mask.3           -0.062406\n",
              "travel_outside_state.3   -0.094845\n",
              "work_outside_home.3       0.597771\n",
              "shop.3                   -0.363074\n",
              "restaurant.3             -0.105277\n",
              "spent_time.3              0.038817\n",
              "large_event.3             0.266987\n",
              "public_transit.3         -0.411625\n",
              "anxious.3                 0.625553\n",
              "depressed.3               0.489067\n",
              "worried_finances.3        0.314415\n",
              "tested_positive.3         0.985357\n",
              "cli.4                     0.862584\n",
              "ili.4                     0.862821\n",
              "hh_cmnty_cli.4            0.898437\n",
              "nohh_cmnty_cli.4          0.891288\n",
              "wearing_mask.4           -0.037205\n",
              "travel_outside_state.4   -0.104898\n",
              "work_outside_home.4       0.603720\n",
              "shop.4                   -0.378931\n",
              "restaurant.4             -0.121319\n",
              "spent_time.4              0.026965\n",
              "large_event.4             0.256786\n",
              "public_transit.4         -0.415122\n",
              "anxious.4                 0.631444\n",
              "depressed.4               0.493094\n",
              "worried_finances.4        0.317566\n",
              "tested_positive.4         1.000000\n",
              "Name: tested_positive.4, dtype: float64"
            ],
            "text/html": [
              "<div>\n",
              "<style scoped>\n",
              "    .dataframe tbody tr th:only-of-type {\n",
              "        vertical-align: middle;\n",
              "    }\n",
              "\n",
              "    .dataframe tbody tr th {\n",
              "        vertical-align: top;\n",
              "    }\n",
              "\n",
              "    .dataframe thead th {\n",
              "        text-align: right;\n",
              "    }\n",
              "</style>\n",
              "<table border=\"1\" class=\"dataframe\">\n",
              "  <thead>\n",
              "    <tr style=\"text-align: right;\">\n",
              "      <th></th>\n",
              "      <th>tested_positive.4</th>\n",
              "    </tr>\n",
              "  </thead>\n",
              "  <tbody>\n",
              "    <tr>\n",
              "      <th>cli</th>\n",
              "      <td>0.852766</td>\n",
              "    </tr>\n",
              "    <tr>\n",
              "      <th>ili</th>\n",
              "      <td>0.852934</td>\n",
              "    </tr>\n",
              "    <tr>\n",
              "      <th>hh_cmnty_cli</th>\n",
              "      <td>0.880777</td>\n",
              "    </tr>\n",
              "    <tr>\n",
              "      <th>nohh_cmnty_cli</th>\n",
              "      <td>0.873750</td>\n",
              "    </tr>\n",
              "    <tr>\n",
              "      <th>wearing_mask</th>\n",
              "      <td>-0.135891</td>\n",
              "    </tr>\n",
              "    <tr>\n",
              "      <th>travel_outside_state</th>\n",
              "      <td>-0.064729</td>\n",
              "    </tr>\n",
              "    <tr>\n",
              "      <th>work_outside_home</th>\n",
              "      <td>0.572663</td>\n",
              "    </tr>\n",
              "    <tr>\n",
              "      <th>shop</th>\n",
              "      <td>-0.290625</td>\n",
              "    </tr>\n",
              "    <tr>\n",
              "      <th>restaurant</th>\n",
              "      <td>-0.048994</td>\n",
              "    </tr>\n",
              "    <tr>\n",
              "      <th>spent_time</th>\n",
              "      <td>0.078154</td>\n",
              "    </tr>\n",
              "    <tr>\n",
              "      <th>large_event</th>\n",
              "      <td>0.299940</td>\n",
              "    </tr>\n",
              "    <tr>\n",
              "      <th>public_transit</th>\n",
              "      <td>-0.402255</td>\n",
              "    </tr>\n",
              "    <tr>\n",
              "      <th>anxious</th>\n",
              "      <td>0.612032</td>\n",
              "    </tr>\n",
              "    <tr>\n",
              "      <th>depressed</th>\n",
              "      <td>0.483737</td>\n",
              "    </tr>\n",
              "    <tr>\n",
              "      <th>worried_finances</th>\n",
              "      <td>0.303500</td>\n",
              "    </tr>\n",
              "    <tr>\n",
              "      <th>tested_positive</th>\n",
              "      <td>0.935388</td>\n",
              "    </tr>\n",
              "    <tr>\n",
              "      <th>cli.1</th>\n",
              "      <td>0.855321</td>\n",
              "    </tr>\n",
              "    <tr>\n",
              "      <th>ili.1</th>\n",
              "      <td>0.855774</td>\n",
              "    </tr>\n",
              "    <tr>\n",
              "      <th>hh_cmnty_cli.1</th>\n",
              "      <td>0.886122</td>\n",
              "    </tr>\n",
              "    <tr>\n",
              "      <th>nohh_cmnty_cli.1</th>\n",
              "      <td>0.879162</td>\n",
              "    </tr>\n",
              "    <tr>\n",
              "      <th>wearing_mask.1</th>\n",
              "      <td>-0.111869</td>\n",
              "    </tr>\n",
              "    <tr>\n",
              "      <th>travel_outside_state.1</th>\n",
              "      <td>-0.075109</td>\n",
              "    </tr>\n",
              "    <tr>\n",
              "      <th>work_outside_home.1</th>\n",
              "      <td>0.582575</td>\n",
              "    </tr>\n",
              "    <tr>\n",
              "      <th>shop.1</th>\n",
              "      <td>-0.318763</td>\n",
              "    </tr>\n",
              "    <tr>\n",
              "      <th>restaurant.1</th>\n",
              "      <td>-0.069823</td>\n",
              "    </tr>\n",
              "    <tr>\n",
              "      <th>spent_time.1</th>\n",
              "      <td>0.063345</td>\n",
              "    </tr>\n",
              "    <tr>\n",
              "      <th>large_event.1</th>\n",
              "      <td>0.288615</td>\n",
              "    </tr>\n",
              "    <tr>\n",
              "      <th>public_transit.1</th>\n",
              "      <td>-0.405867</td>\n",
              "    </tr>\n",
              "    <tr>\n",
              "      <th>anxious.1</th>\n",
              "      <td>0.617509</td>\n",
              "    </tr>\n",
              "    <tr>\n",
              "      <th>depressed.1</th>\n",
              "      <td>0.486870</td>\n",
              "    </tr>\n",
              "    <tr>\n",
              "      <th>worried_finances.1</th>\n",
              "      <td>0.307513</td>\n",
              "    </tr>\n",
              "    <tr>\n",
              "      <th>tested_positive.1</th>\n",
              "      <td>0.953333</td>\n",
              "    </tr>\n",
              "    <tr>\n",
              "      <th>cli.2</th>\n",
              "      <td>0.856519</td>\n",
              "    </tr>\n",
              "    <tr>\n",
              "      <th>ili.2</th>\n",
              "      <td>0.857181</td>\n",
              "    </tr>\n",
              "    <tr>\n",
              "      <th>hh_cmnty_cli.2</th>\n",
              "      <td>0.890802</td>\n",
              "    </tr>\n",
              "    <tr>\n",
              "      <th>nohh_cmnty_cli.2</th>\n",
              "      <td>0.883926</td>\n",
              "    </tr>\n",
              "    <tr>\n",
              "      <th>wearing_mask.2</th>\n",
              "      <td>-0.087302</td>\n",
              "    </tr>\n",
              "    <tr>\n",
              "      <th>travel_outside_state.2</th>\n",
              "      <td>-0.085217</td>\n",
              "    </tr>\n",
              "    <tr>\n",
              "      <th>work_outside_home.2</th>\n",
              "      <td>0.590628</td>\n",
              "    </tr>\n",
              "    <tr>\n",
              "      <th>shop.2</th>\n",
              "      <td>-0.342185</td>\n",
              "    </tr>\n",
              "    <tr>\n",
              "      <th>restaurant.2</th>\n",
              "      <td>-0.087925</td>\n",
              "    </tr>\n",
              "    <tr>\n",
              "      <th>spent_time.2</th>\n",
              "      <td>0.050261</td>\n",
              "    </tr>\n",
              "    <tr>\n",
              "      <th>large_event.2</th>\n",
              "      <td>0.277749</td>\n",
              "    </tr>\n",
              "    <tr>\n",
              "      <th>public_transit.2</th>\n",
              "      <td>-0.408784</td>\n",
              "    </tr>\n",
              "    <tr>\n",
              "      <th>anxious.2</th>\n",
              "      <td>0.621018</td>\n",
              "    </tr>\n",
              "    <tr>\n",
              "      <th>depressed.2</th>\n",
              "      <td>0.486824</td>\n",
              "    </tr>\n",
              "    <tr>\n",
              "      <th>worried_finances.2</th>\n",
              "      <td>0.310521</td>\n",
              "    </tr>\n",
              "    <tr>\n",
              "      <th>tested_positive.2</th>\n",
              "      <td>0.969593</td>\n",
              "    </tr>\n",
              "    <tr>\n",
              "      <th>cli.3</th>\n",
              "      <td>0.859617</td>\n",
              "    </tr>\n",
              "    <tr>\n",
              "      <th>ili.3</th>\n",
              "      <td>0.860141</td>\n",
              "    </tr>\n",
              "    <tr>\n",
              "      <th>hh_cmnty_cli.3</th>\n",
              "      <td>0.894936</td>\n",
              "    </tr>\n",
              "    <tr>\n",
              "      <th>nohh_cmnty_cli.3</th>\n",
              "      <td>0.887985</td>\n",
              "    </tr>\n",
              "    <tr>\n",
              "      <th>wearing_mask.3</th>\n",
              "      <td>-0.062406</td>\n",
              "    </tr>\n",
              "    <tr>\n",
              "      <th>travel_outside_state.3</th>\n",
              "      <td>-0.094845</td>\n",
              "    </tr>\n",
              "    <tr>\n",
              "      <th>work_outside_home.3</th>\n",
              "      <td>0.597771</td>\n",
              "    </tr>\n",
              "    <tr>\n",
              "      <th>shop.3</th>\n",
              "      <td>-0.363074</td>\n",
              "    </tr>\n",
              "    <tr>\n",
              "      <th>restaurant.3</th>\n",
              "      <td>-0.105277</td>\n",
              "    </tr>\n",
              "    <tr>\n",
              "      <th>spent_time.3</th>\n",
              "      <td>0.038817</td>\n",
              "    </tr>\n",
              "    <tr>\n",
              "      <th>large_event.3</th>\n",
              "      <td>0.266987</td>\n",
              "    </tr>\n",
              "    <tr>\n",
              "      <th>public_transit.3</th>\n",
              "      <td>-0.411625</td>\n",
              "    </tr>\n",
              "    <tr>\n",
              "      <th>anxious.3</th>\n",
              "      <td>0.625553</td>\n",
              "    </tr>\n",
              "    <tr>\n",
              "      <th>depressed.3</th>\n",
              "      <td>0.489067</td>\n",
              "    </tr>\n",
              "    <tr>\n",
              "      <th>worried_finances.3</th>\n",
              "      <td>0.314415</td>\n",
              "    </tr>\n",
              "    <tr>\n",
              "      <th>tested_positive.3</th>\n",
              "      <td>0.985357</td>\n",
              "    </tr>\n",
              "    <tr>\n",
              "      <th>cli.4</th>\n",
              "      <td>0.862584</td>\n",
              "    </tr>\n",
              "    <tr>\n",
              "      <th>ili.4</th>\n",
              "      <td>0.862821</td>\n",
              "    </tr>\n",
              "    <tr>\n",
              "      <th>hh_cmnty_cli.4</th>\n",
              "      <td>0.898437</td>\n",
              "    </tr>\n",
              "    <tr>\n",
              "      <th>nohh_cmnty_cli.4</th>\n",
              "      <td>0.891288</td>\n",
              "    </tr>\n",
              "    <tr>\n",
              "      <th>wearing_mask.4</th>\n",
              "      <td>-0.037205</td>\n",
              "    </tr>\n",
              "    <tr>\n",
              "      <th>travel_outside_state.4</th>\n",
              "      <td>-0.104898</td>\n",
              "    </tr>\n",
              "    <tr>\n",
              "      <th>work_outside_home.4</th>\n",
              "      <td>0.603720</td>\n",
              "    </tr>\n",
              "    <tr>\n",
              "      <th>shop.4</th>\n",
              "      <td>-0.378931</td>\n",
              "    </tr>\n",
              "    <tr>\n",
              "      <th>restaurant.4</th>\n",
              "      <td>-0.121319</td>\n",
              "    </tr>\n",
              "    <tr>\n",
              "      <th>spent_time.4</th>\n",
              "      <td>0.026965</td>\n",
              "    </tr>\n",
              "    <tr>\n",
              "      <th>large_event.4</th>\n",
              "      <td>0.256786</td>\n",
              "    </tr>\n",
              "    <tr>\n",
              "      <th>public_transit.4</th>\n",
              "      <td>-0.415122</td>\n",
              "    </tr>\n",
              "    <tr>\n",
              "      <th>anxious.4</th>\n",
              "      <td>0.631444</td>\n",
              "    </tr>\n",
              "    <tr>\n",
              "      <th>depressed.4</th>\n",
              "      <td>0.493094</td>\n",
              "    </tr>\n",
              "    <tr>\n",
              "      <th>worried_finances.4</th>\n",
              "      <td>0.317566</td>\n",
              "    </tr>\n",
              "    <tr>\n",
              "      <th>tested_positive.4</th>\n",
              "      <td>1.000000</td>\n",
              "    </tr>\n",
              "  </tbody>\n",
              "</table>\n",
              "</div><br><label><b>dtype:</b> float64</label>"
            ]
          },
          "metadata": {},
          "execution_count": 74
        }
      ],
      "source": [
        "# 判断feature跟target之间的相关程度\n",
        "corr = train_data.iloc[:, 38:].corr().iloc[-1]\n",
        "corr"
      ]
    },
    {
      "cell_type": "code",
      "execution_count": 75,
      "metadata": {
        "colab": {
          "base_uri": "https://localhost:8080/",
          "height": 472
        },
        "id": "5_NWY8lSGd4y",
        "outputId": "ce257106-a25a-4f0d-82a6-31b1d6ab44c9"
      },
      "outputs": [
        {
          "output_type": "display_data",
          "data": {
            "text/plain": [
              "<Figure size 640x480 with 1 Axes>"
            ],
            "image/png": "[encoded data removed]"
          },
          "metadata": {}
        }
      ],
      "source": [
        "import matplotlib.pyplot as plt\n",
        "\n",
        "# 使用Pandas自带的绘图方法\n",
        "corr.plot.hist(bins=30, edgecolor='black', alpha=0.7)\n",
        "plt.title(\"hist\")\n",
        "plt.xlabel(\"value\")\n",
        "plt.ylabel(\"freq\")\n",
        "plt.show()"
      ]
    },
    {
      "cell_type": "code",
      "execution_count": 76,
      "metadata": {
        "colab": {
          "base_uri": "https://localhost:8080/"
        },
        "id": "dI0XP3ZSF9xD",
        "outputId": "0872e21a-6fd5-4ca9-a2ce-5ce15a6cf7e0"
      },
      "outputs": [
        {
          "output_type": "stream",
          "name": "stdout",
          "text": [
            "cli                  0.852766\n",
            "ili                  0.852934\n",
            "hh_cmnty_cli         0.880777\n",
            "nohh_cmnty_cli       0.873750\n",
            "tested_positive      0.935388\n",
            "cli.1                0.855321\n",
            "ili.1                0.855774\n",
            "hh_cmnty_cli.1       0.886122\n",
            "nohh_cmnty_cli.1     0.879162\n",
            "tested_positive.1    0.953333\n",
            "cli.2                0.856519\n",
            "ili.2                0.857181\n",
            "hh_cmnty_cli.2       0.890802\n",
            "nohh_cmnty_cli.2     0.883926\n",
            "tested_positive.2    0.969593\n",
            "cli.3                0.859617\n",
            "ili.3                0.860141\n",
            "hh_cmnty_cli.3       0.894936\n",
            "nohh_cmnty_cli.3     0.887985\n",
            "tested_positive.3    0.985357\n",
            "cli.4                0.862584\n",
            "ili.4                0.862821\n",
            "hh_cmnty_cli.4       0.898437\n",
            "nohh_cmnty_cli.4     0.891288\n",
            "tested_positive.4    1.000000\n",
            "Name: tested_positive.4, dtype: float64\n",
            "25\n",
            "\n",
            "features' id: [38, 39, 40, 41, 53, 54, 55, 56, 57, 69, 70, 71, 72, 73, 85, 86, 87, 88, 89, 101, 102, 103, 104, 105]\n"
          ]
        }
      ],
      "source": [
        "features = corr[abs(corr) > 0.8]\n",
        "features_col = features.index.to_list()[:-1]\n",
        "features_id = [train_data.columns.to_list().index(i) for i in features_col]\n",
        "\n",
        "print(features)\n",
        "print(len(features))\n",
        "print(\"\\nfeatures' id:\", features_id)"
      ]
    },
    {
      "cell_type": "markdown",
      "metadata": {
        "id": "fTAVqRfc2KK3"
      },
      "source": [
        "# Some Utility Functions\n",
        "\n",
        "You do not need to modify this part."
      ]
    },
    {
      "cell_type": "code",
      "execution_count": 77,
      "metadata": {
        "id": "RbrcpfYN2I-H"
      },
      "outputs": [],
      "source": [
        "def same_seed(seed):\n",
        "    '''Fixes random number generator seeds for reproducibility.'''\n",
        "    torch.backends.cudnn.deterministic = True\n",
        "    torch.backends.cudnn.benchmark = False\n",
        "    np.random.seed(seed)\n",
        "    torch.manual_seed(seed)\n",
        "    if torch.cuda.is_available():\n",
        "        torch.cuda.manual_seed_all(seed)\n",
        "\n",
        "def train_valid_split(data_set, valid_ratio, seed):\n",
        "    '''Split provided training data into training set and validation set'''\n",
        "    valid_set_size = int(valid_ratio * len(data_set))\n",
        "    train_set_size = len(data_set) - valid_set_size\n",
        "    train_set, valid_set = random_split(data_set, [train_set_size, valid_set_size], generator=torch.Generator().manual_seed(seed))\n",
        "    return np.array(train_set), np.array(valid_set)\n",
        "\n",
        "def predict(test_loader, model, device):\n",
        "    model.eval() # Set your model to evaluation mode.\n",
        "    preds = []\n",
        "    for x in tqdm(test_loader):\n",
        "        x = x.to(device)\n",
        "        with torch.no_grad():\n",
        "            pred = model(x)\n",
        "            preds.append(pred.detach().cpu())\n",
        "    preds = torch.cat(preds, dim=0).numpy()\n",
        "    return preds"
      ]
    },
    {
      "cell_type": "markdown",
      "metadata": {
        "id": "IqO3lTm78nNO"
      },
      "source": [
        "# Dataset"
      ]
    },
    {
      "cell_type": "code",
      "execution_count": 78,
      "metadata": {
        "id": "-mjaJM0wprMs"
      },
      "outputs": [],
      "source": [
        "class COVID19Dataset(Dataset):\n",
        "    '''\n",
        "    x: Features.\n",
        "    y: Targets, if none, do prediction.\n",
        "    '''\n",
        "    def __init__(self, x, y=None):\n",
        "        if y is None:\n",
        "            self.y = y\n",
        "        else:\n",
        "            self.y = torch.FloatTensor(y)\n",
        "        self.x = torch.FloatTensor(x)\n",
        "\n",
        "    def __getitem__(self, idx):\n",
        "        if self.y is None:\n",
        "            return self.x[idx]\n",
        "        else:\n",
        "            return self.x[idx], self.y[idx]\n",
        "\n",
        "    def __len__(self):\n",
        "        return len(self.x)"
      ]
    },
    {
      "cell_type": "markdown",
      "metadata": {
        "id": "m73ooU75CL_j"
      },
      "source": [
        "# Neural Network Model\n",
        "Try out different model architectures by modifying the class below."
      ]
    },
    {
      "cell_type": "code",
      "execution_count": 79,
      "metadata": {
        "id": "Qn97_WvvrEkG"
      },
      "outputs": [],
      "source": [
        "class My_Model(nn.Module):\n",
        "    def __init__(self, input_dim):\n",
        "        super(My_Model, self).__init__()\n",
        "        # TODO: modify model's structure, be aware of dimensions.\n",
        "        # self.layers = nn.Sequential(\n",
        "        #     nn.Linear(input_dim, 16),\n",
        "        #     nn.LeakyReLU(negative_slope=0.01),\n",
        "        #     nn.Linear(16, 8),\n",
        "        #     nn.LeakyReLU(negative_slope=0.01),\n",
        "        #     nn.Linear(8, 1)\n",
        "        # )\n",
        "\n",
        "        self.layers = nn.Sequential(\n",
        "            nn.Linear(input_dim, 32),\n",
        "            # nn.BatchNorm1d(32),\n",
        "            nn.LeakyReLU(0.2),\n",
        "            # nn.Dropout(0.2),\n",
        "\n",
        "            nn.Linear(32, 16),\n",
        "            # nn.BatchNorm1d(16),\n",
        "            nn.LeakyReLU(0.2),\n",
        "\n",
        "            nn.Linear(16, 1)  # 回归任务（如果是分类任务，最后一层用 Softmax）\n",
        "        )\n",
        "\n",
        "    def forward(self, x):\n",
        "        x = self.layers(x)\n",
        "        x = x.squeeze(1) # (B, 1) -> (B)\n",
        "        return x"
      ]
    },
    {
      "cell_type": "markdown",
      "metadata": {
        "id": "x5-LKF6R8xeq"
      },
      "source": [
        "# Feature Selection\n",
        "Choose features you deem useful by modifying the function below."
      ]
    },
    {
      "cell_type": "code",
      "execution_count": 80,
      "metadata": {
        "id": "0FEnKRaIIeKp"
      },
      "outputs": [],
      "source": [
        "def select_feat(train_data, valid_data, test_data, select_all=True):\n",
        "    '''Selects useful features to perform regression'''\n",
        "    y_train, y_valid = train_data[:,-1], valid_data[:,-1]\n",
        "    raw_x_train, raw_x_valid, raw_x_test = train_data[:,:-1], valid_data[:,:-1], test_data\n",
        "\n",
        "    if select_all:\n",
        "        feat_idx = list(range(raw_x_train.shape[1]))\n",
        "    else:\n",
        "        # feat_idx = [0,1,2,3,4] # TODO: Select suitable feature columns.\n",
        "        # feat_idx = [38, 39, 40, 41, 44, 49, 50, 51, 53, 54, 55, 56, 57, 60, 65, 66, 67, 69, 70, 71, 72, 73, 76, 81, 82, 83, 85, 86, 87, 88, 89, 92, 97, 98, 99, 101, 102, 103, 104, 105, 108, 113, 114, 115]\n",
        "        feat_idx = [38, 39, 40, 41, 53, 54, 55, 56, 57, 69, 70, 71, 72, 73, 85, 86, 87, 88, 89, 101, 102, 103, 104, 105]\n",
        "\n",
        "    return raw_x_train[:,feat_idx], raw_x_valid[:,feat_idx], raw_x_test[:,feat_idx], y_train, y_valid"
      ]
    },
    {
      "cell_type": "markdown",
      "metadata": {
        "id": "kADIPNQ2Ih5X"
      },
      "source": [
        "# Training Loop"
      ]
    },
    {
      "cell_type": "code",
      "execution_count": 81,
      "metadata": {
        "id": "k4Rq8_TztAhq"
      },
      "outputs": [],
      "source": [
        "def trainer(train_loader, valid_loader, model, config, device):\n",
        "\n",
        "    criterion = nn.MSELoss(reduction='mean') # Define your loss function, do not modify this.\n",
        "\n",
        "    # Define your optimization algorithm.\n",
        "    # TODO: Please check https://pytorch.org/docs/stable/optim.html to get more available algorithms.\n",
        "    # TODO: L2 regularization (optimizer(weight decay...) or implement by your self).\n",
        "    # optimizer = torch.optim.SGD(model.parameters(), lr=config['learning_rate'], momentum=0.9)\n",
        "    optimizer = torch.optim.AdamW(model.parameters(), lr=config['learning_rate'], weight_decay=1e-4)\n",
        "    # 定义余弦退火调度器\n",
        "    # scheduler = torch.optim.lr_scheduler.CosineAnnealingWarmRestarts(optimizer, T_0=2, T_mult=2, eta_min=config['learning_rate'])\n",
        "\n",
        "\n",
        "\n",
        "    writer = SummaryWriter() # Writer of tensoboard.\n",
        "\n",
        "    if not os.path.isdir('./models'):\n",
        "        os.mkdir('./models') # Create directory of saving models.\n",
        "\n",
        "    n_epochs, best_loss, step, early_stop_count = config['n_epochs'], math.inf, 0, 0\n",
        "\n",
        "    for epoch in range(n_epochs):\n",
        "        model.train() # Set your model to train mode.\n",
        "        loss_record = []\n",
        "\n",
        "        # tqdm is a package to visualize your training progress.\n",
        "        train_pbar = tqdm(train_loader, position=0, leave=True)\n",
        "\n",
        "        for x, y in train_pbar:\n",
        "            optimizer.zero_grad()               # Set gradient to zero.\n",
        "            x, y = x.to(device), y.to(device)   # Move your data to device.\n",
        "            pred = model(x)\n",
        "            loss = criterion(pred, y)\n",
        "            loss.backward()                     # Compute gradient(backpropagation).\n",
        "            optimizer.step()                    # Update parameters.\n",
        "            step += 1\n",
        "            loss_record.append(loss.detach().item())\n",
        "\n",
        "            # Display current epoch number and loss on tqdm progress bar.\n",
        "            train_pbar.set_description(f'Epoch [{epoch+1}/{n_epochs}]')\n",
        "            train_pbar.set_postfix({'loss': loss.detach().item()})\n",
        "\n",
        "        # scheduler.step()\n",
        "\n",
        "        mean_train_loss = sum(loss_record)/len(loss_record)\n",
        "        writer.add_scalar('Loss/train', mean_train_loss, step)\n",
        "\n",
        "        model.eval() # Set your model to evaluation mode.\n",
        "        loss_record = []\n",
        "        for x, y in valid_loader:\n",
        "            x, y = x.to(device), y.to(device)\n",
        "            with torch.no_grad():\n",
        "                pred = model(x)\n",
        "                loss = criterion(pred, y)\n",
        "\n",
        "            loss_record.append(loss.item())\n",
        "\n",
        "        mean_valid_loss = sum(loss_record)/len(loss_record)\n",
        "        print(f'Epoch [{epoch+1}/{n_epochs}]: Train loss: {mean_train_loss:.4f}, Valid loss: {mean_valid_loss:.4f}')\n",
        "        writer.add_scalar('Loss/valid', mean_valid_loss, step)\n",
        "\n",
        "        if mean_valid_loss < best_loss:\n",
        "            best_loss = mean_valid_loss\n",
        "            torch.save(model.state_dict(), config['save_path']) # Save your best model\n",
        "            print('Saving model with loss {:.3f}...'.format(best_loss))\n",
        "            early_stop_count = 0\n",
        "        else:\n",
        "            early_stop_count += 1\n",
        "\n",
        "        if early_stop_count >= config['early_stop']:\n",
        "            print('\\nModel is not improving, so we halt the training session.')\n",
        "            return"
      ]
    },
    {
      "cell_type": "markdown",
      "metadata": {
        "id": "0pgkOh2e9UjE"
      },
      "source": [
        "# Configurations\n",
        "`config` contains hyper-parameters for training and the path to save your model."
      ]
    },
    {
      "cell_type": "code",
      "execution_count": 82,
      "metadata": {
        "id": "QoWPUahCtoT6"
      },
      "outputs": [],
      "source": [
        "device = 'cuda' if torch.cuda.is_available() else 'cpu'\n",
        "config = {\n",
        "    'seed': 5201314,      # Your seed number, you can pick your lucky number. :)\n",
        "    # 'select_all': True,   # Whether to use all features.\n",
        "    'select_all': False,\n",
        "    'valid_ratio': 0.2,   # validation_size = train_size * valid_ratio\n",
        "    'n_epochs': 5000,     # Number of epochs.\n",
        "    # 'batch_size': 256,\n",
        "    'batch_size': 32,\n",
        "    # 'learning_rate': 1e-5,\n",
        "    'learning_rate': 5e-4,\n",
        "    'early_stop': 400,    # If model has not improved for this many consecutive epochs, stop training.\n",
        "    'save_path': './models/model.ckpt'  # Your model will be saved here.\n",
        "}"
      ]
    },
    {
      "cell_type": "markdown",
      "metadata": {
        "id": "lrS-aJJh9XkW"
      },
      "source": [
        "# Dataloader\n",
        "Read data from files and set up training, validation, and testing sets. You do not need to modify this part."
      ]
    },
    {
      "cell_type": "code",
      "execution_count": 83,
      "metadata": {
        "colab": {
          "base_uri": "https://localhost:8080/"
        },
        "id": "2jc7ZfDot2t9",
        "outputId": "1a1bf290-3f65-4b9c-8655-c4634907738d"
      },
      "outputs": [
        {
          "output_type": "stream",
          "name": "stdout",
          "text": [
            "train_data size: (2160, 118)\n",
            "valid_data size: (539, 118)\n",
            "test_data size: (1078, 117)\n",
            "number of features: 24\n"
          ]
        }
      ],
      "source": [
        "# Set seed for reproducibility\n",
        "same_seed(config['seed'])\n",
        "\n",
        "\n",
        "# train_data size: 2699 x 118 (id + 37 states + 16 features x 5 days)\n",
        "# test_data size: 1078 x 117 (without last day's positive rate)\n",
        "train_data, test_data = pd.read_csv('./covid.train.csv').values, pd.read_csv('./covid.test.csv').values\n",
        "train_data, valid_data = train_valid_split(train_data, config['valid_ratio'], config['seed'])\n",
        "\n",
        "# Print out the data size.\n",
        "print(f\"\"\"train_data size: {train_data.shape}\n",
        "valid_data size: {valid_data.shape}\n",
        "test_data size: {test_data.shape}\"\"\")\n",
        "\n",
        "# Select features\n",
        "x_train, x_valid, x_test, y_train, y_valid = select_feat(train_data, valid_data, test_data, config['select_all'])\n",
        "\n",
        "\n",
        "# normalization\n",
        "x_min, x_max = x_train.min(axis=0), x_train.max(axis=0)\n",
        "x_train = (x_train - x_min) / (x_max - x_min)\n",
        "x_valid = (x_valid - x_min) / (x_max - x_min)\n",
        "x_test = (x_test - x_min) / (x_max - x_min)\n",
        "\n",
        "# Print out the number of features.\n",
        "print(f'number of features: {x_train.shape[1]}')\n",
        "\n",
        "train_dataset, valid_dataset, test_dataset = COVID19Dataset(x_train, y_train), \\\n",
        "                                            COVID19Dataset(x_valid, y_valid), \\\n",
        "                                            COVID19Dataset(x_test)\n",
        "\n",
        "# Pytorch data loader loads pytorch dataset into batches.\n",
        "train_loader = DataLoader(train_dataset, batch_size=config['batch_size'], shuffle=True, pin_memory=True)\n",
        "valid_loader = DataLoader(valid_dataset, batch_size=config['batch_size'], shuffle=True, pin_memory=True)\n",
        "test_loader = DataLoader(test_dataset, batch_size=config['batch_size'], shuffle=False, pin_memory=True)"
      ]
    },
    {
      "cell_type": "markdown",
      "metadata": {
        "id": "0OBYgjCA-YwD"
      },
      "source": [
        "# Start training!"
      ]
    },
    {
      "cell_type": "code",
      "execution_count": 84,
      "metadata": {
        "colab": {
          "base_uri": "https://localhost:8080/"
        },
        "id": "YdttVRkAfu2t",
        "outputId": "13bef676-5212-4524-c973-d59c8bdfe323"
      },
      "outputs": [
        {
          "output_type": "stream",
          "name": "stderr",
          "text": [
            "Epoch [1/5000]: 100%|██████████| 68/68 [00:00<00:00, 115.94it/s, loss=236]\n"
          ]
        },
        {
          "output_type": "stream",
          "name": "stdout",
          "text": [
            "Epoch [1/5000]: Train loss: 136.4623, Valid loss: 133.8103\n",
            "Saving model with loss 133.810...\n"
          ]
        },
        {
          "output_type": "stream",
          "name": "stderr",
          "text": [
            "Epoch [2/5000]: 100%|██████████| 68/68 [00:00<00:00, 109.27it/s, loss=116]\n"
          ]
        },
        {
          "output_type": "stream",
          "name": "stdout",
          "text": [
            "Epoch [2/5000]: Train loss: 111.4295, Valid loss: 85.6374\n",
            "Saving model with loss 85.637...\n"
          ]
        },
        {
          "output_type": "stream",
          "name": "stderr",
          "text": [
            "Epoch [3/5000]: 100%|██████████| 68/68 [00:00<00:00, 96.15it/s, loss=9.69] \n"
          ]
        },
        {
          "output_type": "stream",
          "name": "stdout",
          "text": [
            "Epoch [3/5000]: Train loss: 48.2987, Valid loss: 17.6581\n",
            "Saving model with loss 17.658...\n"
          ]
        },
        {
          "output_type": "stream",
          "name": "stderr",
          "text": [
            "Epoch [4/5000]: 100%|██████████| 68/68 [00:00<00:00, 94.28it/s, loss=5.28]\n"
          ]
        },
        {
          "output_type": "stream",
          "name": "stdout",
          "text": [
            "Epoch [4/5000]: Train loss: 9.0479, Valid loss: 6.8183\n",
            "Saving model with loss 6.818...\n"
          ]
        },
        {
          "output_type": "stream",
          "name": "stderr",
          "text": [
            "Epoch [5/5000]: 100%|██████████| 68/68 [00:00<00:00, 98.33it/s, loss=7.6]\n"
          ]
        },
        {
          "output_type": "stream",
          "name": "stdout",
          "text": [
            "Epoch [5/5000]: Train loss: 6.5586, Valid loss: 6.6919\n",
            "Saving model with loss 6.692...\n"
          ]
        },
        {
          "output_type": "stream",
          "name": "stderr",
          "text": [
            "Epoch [6/5000]: 100%|██████████| 68/68 [00:00<00:00, 95.75it/s, loss=5.25]\n"
          ]
        },
        {
          "output_type": "stream",
          "name": "stdout",
          "text": [
            "Epoch [6/5000]: Train loss: 6.4404, Valid loss: 6.5693\n",
            "Saving model with loss 6.569...\n"
          ]
        },
        {
          "output_type": "stream",
          "name": "stderr",
          "text": [
            "Epoch [7/5000]: 100%|██████████| 68/68 [00:00<00:00, 85.97it/s, loss=5.45]\n"
          ]
        },
        {
          "output_type": "stream",
          "name": "stdout",
          "text": [
            "Epoch [7/5000]: Train loss: 6.3401, Valid loss: 6.4532\n",
            "Saving model with loss 6.453...\n"
          ]
        },
        {
          "output_type": "stream",
          "name": "stderr",
          "text": [
            "Epoch [8/5000]: 100%|██████████| 68/68 [00:00<00:00, 81.87it/s, loss=2.37]\n"
          ]
        },
        {
          "output_type": "stream",
          "name": "stdout",
          "text": [
            "Epoch [8/5000]: Train loss: 6.2307, Valid loss: 6.3374\n",
            "Saving model with loss 6.337...\n"
          ]
        },
        {
          "output_type": "stream",
          "name": "stderr",
          "text": [
            "Epoch [9/5000]: 100%|██████████| 68/68 [00:00<00:00, 97.76it/s, loss=3.64] \n"
          ]
        },
        {
          "output_type": "stream",
          "name": "stdout",
          "text": [
            "Epoch [9/5000]: Train loss: 6.1075, Valid loss: 6.1772\n",
            "Saving model with loss 6.177...\n"
          ]
        },
        {
          "output_type": "stream",
          "name": "stderr",
          "text": [
            "Epoch [10/5000]: 100%|██████████| 68/68 [00:00<00:00, 105.35it/s, loss=7.04]\n"
          ]
        },
        {
          "output_type": "stream",
          "name": "stdout",
          "text": [
            "Epoch [10/5000]: Train loss: 6.0216, Valid loss: 6.1065\n",
            "Saving model with loss 6.106...\n"
          ]
        },
        {
          "output_type": "stream",
          "name": "stderr",
          "text": [
            "Epoch [11/5000]: 100%|██████████| 68/68 [00:00<00:00, 76.74it/s, loss=1.78]\n"
          ]
        },
        {
          "output_type": "stream",
          "name": "stdout",
          "text": [
            "Epoch [11/5000]: Train loss: 5.8773, Valid loss: 5.9415\n",
            "Saving model with loss 5.941...\n"
          ]
        },
        {
          "output_type": "stream",
          "name": "stderr",
          "text": [
            "Epoch [12/5000]: 100%|██████████| 68/68 [00:00<00:00, 90.00it/s, loss=5.58]\n"
          ]
        },
        {
          "output_type": "stream",
          "name": "stdout",
          "text": [
            "Epoch [12/5000]: Train loss: 5.7996, Valid loss: 5.8779\n",
            "Saving model with loss 5.878...\n"
          ]
        },
        {
          "output_type": "stream",
          "name": "stderr",
          "text": [
            "Epoch [13/5000]: 100%|██████████| 68/68 [00:00<00:00, 98.36it/s, loss=3.64]\n"
          ]
        },
        {
          "output_type": "stream",
          "name": "stdout",
          "text": [
            "Epoch [13/5000]: Train loss: 5.6485, Valid loss: 5.6776\n",
            "Saving model with loss 5.678...\n"
          ]
        },
        {
          "output_type": "stream",
          "name": "stderr",
          "text": [
            "Epoch [14/5000]: 100%|██████████| 68/68 [00:00<00:00, 100.30it/s, loss=4.47]\n"
          ]
        },
        {
          "output_type": "stream",
          "name": "stdout",
          "text": [
            "Epoch [14/5000]: Train loss: 5.5423, Valid loss: 5.6262\n",
            "Saving model with loss 5.626...\n"
          ]
        },
        {
          "output_type": "stream",
          "name": "stderr",
          "text": [
            "Epoch [15/5000]: 100%|██████████| 68/68 [00:00<00:00, 115.10it/s, loss=5.86]\n"
          ]
        },
        {
          "output_type": "stream",
          "name": "stdout",
          "text": [
            "Epoch [15/5000]: Train loss: 5.4495, Valid loss: 5.4233\n",
            "Saving model with loss 5.423...\n"
          ]
        },
        {
          "output_type": "stream",
          "name": "stderr",
          "text": [
            "Epoch [16/5000]: 100%|██████████| 68/68 [00:00<00:00, 100.81it/s, loss=7.7]\n"
          ]
        },
        {
          "output_type": "stream",
          "name": "stdout",
          "text": [
            "Epoch [16/5000]: Train loss: 5.3202, Valid loss: 5.2609\n",
            "Saving model with loss 5.261...\n"
          ]
        },
        {
          "output_type": "stream",
          "name": "stderr",
          "text": [
            "Epoch [17/5000]: 100%|██████████| 68/68 [00:00<00:00, 75.26it/s, loss=4.46]\n"
          ]
        },
        {
          "output_type": "stream",
          "name": "stdout",
          "text": [
            "Epoch [17/5000]: Train loss: 5.1639, Valid loss: 5.1733\n",
            "Saving model with loss 5.173...\n"
          ]
        },
        {
          "output_type": "stream",
          "name": "stderr",
          "text": [
            "Epoch [18/5000]: 100%|██████████| 68/68 [00:00<00:00, 108.60it/s, loss=6.35]\n"
          ]
        },
        {
          "output_type": "stream",
          "name": "stdout",
          "text": [
            "Epoch [18/5000]: Train loss: 5.0647, Valid loss: 5.0186\n",
            "Saving model with loss 5.019...\n"
          ]
        },
        {
          "output_type": "stream",
          "name": "stderr",
          "text": [
            "Epoch [19/5000]: 100%|██████████| 68/68 [00:00<00:00, 104.21it/s, loss=3.41]\n"
          ]
        },
        {
          "output_type": "stream",
          "name": "stdout",
          "text": [
            "Epoch [19/5000]: Train loss: 4.9289, Valid loss: 4.8417\n",
            "Saving model with loss 4.842...\n"
          ]
        },
        {
          "output_type": "stream",
          "name": "stderr",
          "text": [
            "Epoch [20/5000]: 100%|██████████| 68/68 [00:00<00:00, 110.16it/s, loss=4.66]\n"
          ]
        },
        {
          "output_type": "stream",
          "name": "stdout",
          "text": [
            "Epoch [20/5000]: Train loss: 4.7986, Valid loss: 4.7550\n",
            "Saving model with loss 4.755...\n"
          ]
        },
        {
          "output_type": "stream",
          "name": "stderr",
          "text": [
            "Epoch [21/5000]: 100%|██████████| 68/68 [00:00<00:00, 107.57it/s, loss=8.85]\n"
          ]
        },
        {
          "output_type": "stream",
          "name": "stdout",
          "text": [
            "Epoch [21/5000]: Train loss: 4.6807, Valid loss: 4.5653\n",
            "Saving model with loss 4.565...\n"
          ]
        },
        {
          "output_type": "stream",
          "name": "stderr",
          "text": [
            "Epoch [22/5000]: 100%|██████████| 68/68 [00:00<00:00, 86.85it/s, loss=6.36]\n"
          ]
        },
        {
          "output_type": "stream",
          "name": "stdout",
          "text": [
            "Epoch [22/5000]: Train loss: 4.5453, Valid loss: 4.4035\n",
            "Saving model with loss 4.403...\n"
          ]
        },
        {
          "output_type": "stream",
          "name": "stderr",
          "text": [
            "Epoch [23/5000]: 100%|██████████| 68/68 [00:00<00:00, 100.77it/s, loss=2.99]\n"
          ]
        },
        {
          "output_type": "stream",
          "name": "stdout",
          "text": [
            "Epoch [23/5000]: Train loss: 4.3694, Valid loss: 4.3015\n",
            "Saving model with loss 4.302...\n"
          ]
        },
        {
          "output_type": "stream",
          "name": "stderr",
          "text": [
            "Epoch [24/5000]: 100%|██████████| 68/68 [00:00<00:00, 78.36it/s, loss=4.18]\n"
          ]
        },
        {
          "output_type": "stream",
          "name": "stdout",
          "text": [
            "Epoch [24/5000]: Train loss: 4.2476, Valid loss: 4.1235\n",
            "Saving model with loss 4.123...\n"
          ]
        },
        {
          "output_type": "stream",
          "name": "stderr",
          "text": [
            "Epoch [25/5000]: 100%|██████████| 68/68 [00:00<00:00, 119.94it/s, loss=4.09]\n"
          ]
        },
        {
          "output_type": "stream",
          "name": "stdout",
          "text": [
            "Epoch [25/5000]: Train loss: 4.1101, Valid loss: 3.9764\n",
            "Saving model with loss 3.976...\n"
          ]
        },
        {
          "output_type": "stream",
          "name": "stderr",
          "text": [
            "Epoch [26/5000]: 100%|██████████| 68/68 [00:00<00:00, 100.98it/s, loss=5.48]\n"
          ]
        },
        {
          "output_type": "stream",
          "name": "stdout",
          "text": [
            "Epoch [26/5000]: Train loss: 3.9682, Valid loss: 3.8284\n",
            "Saving model with loss 3.828...\n"
          ]
        },
        {
          "output_type": "stream",
          "name": "stderr",
          "text": [
            "Epoch [27/5000]: 100%|██████████| 68/68 [00:00<00:00, 99.27it/s, loss=5.21]\n"
          ]
        },
        {
          "output_type": "stream",
          "name": "stdout",
          "text": [
            "Epoch [27/5000]: Train loss: 3.8170, Valid loss: 3.6896\n",
            "Saving model with loss 3.690...\n"
          ]
        },
        {
          "output_type": "stream",
          "name": "stderr",
          "text": [
            "Epoch [28/5000]: 100%|██████████| 68/68 [00:00<00:00, 89.04it/s, loss=3.64]\n"
          ]
        },
        {
          "output_type": "stream",
          "name": "stdout",
          "text": [
            "Epoch [28/5000]: Train loss: 3.6741, Valid loss: 3.5129\n",
            "Saving model with loss 3.513...\n"
          ]
        },
        {
          "output_type": "stream",
          "name": "stderr",
          "text": [
            "Epoch [29/5000]: 100%|██████████| 68/68 [00:00<00:00, 108.59it/s, loss=6.37]\n"
          ]
        },
        {
          "output_type": "stream",
          "name": "stdout",
          "text": [
            "Epoch [29/5000]: Train loss: 3.5508, Valid loss: 3.3625\n",
            "Saving model with loss 3.362...\n"
          ]
        },
        {
          "output_type": "stream",
          "name": "stderr",
          "text": [
            "Epoch [30/5000]: 100%|██████████| 68/68 [00:00<00:00, 122.48it/s, loss=3.61]\n"
          ]
        },
        {
          "output_type": "stream",
          "name": "stdout",
          "text": [
            "Epoch [30/5000]: Train loss: 3.3846, Valid loss: 3.2033\n",
            "Saving model with loss 3.203...\n"
          ]
        },
        {
          "output_type": "stream",
          "name": "stderr",
          "text": [
            "Epoch [31/5000]: 100%|██████████| 68/68 [00:00<00:00, 101.35it/s, loss=2.89]\n"
          ]
        },
        {
          "output_type": "stream",
          "name": "stdout",
          "text": [
            "Epoch [31/5000]: Train loss: 3.2389, Valid loss: 3.0497\n",
            "Saving model with loss 3.050...\n"
          ]
        },
        {
          "output_type": "stream",
          "name": "stderr",
          "text": [
            "Epoch [32/5000]: 100%|██████████| 68/68 [00:00<00:00, 95.01it/s, loss=1.72]\n"
          ]
        },
        {
          "output_type": "stream",
          "name": "stdout",
          "text": [
            "Epoch [32/5000]: Train loss: 3.0897, Valid loss: 2.8547\n",
            "Saving model with loss 2.855...\n"
          ]
        },
        {
          "output_type": "stream",
          "name": "stderr",
          "text": [
            "Epoch [33/5000]: 100%|██████████| 68/68 [00:00<00:00, 100.61it/s, loss=2.28]\n"
          ]
        },
        {
          "output_type": "stream",
          "name": "stdout",
          "text": [
            "Epoch [33/5000]: Train loss: 2.8043, Valid loss: 2.5130\n",
            "Saving model with loss 2.513...\n"
          ]
        },
        {
          "output_type": "stream",
          "name": "stderr",
          "text": [
            "Epoch [34/5000]: 100%|██████████| 68/68 [00:01<00:00, 62.88it/s, loss=2.55]\n"
          ]
        },
        {
          "output_type": "stream",
          "name": "stdout",
          "text": [
            "Epoch [34/5000]: Train loss: 2.5488, Valid loss: 2.3430\n",
            "Saving model with loss 2.343...\n"
          ]
        },
        {
          "output_type": "stream",
          "name": "stderr",
          "text": [
            "Epoch [35/5000]: 100%|██████████| 68/68 [00:01<00:00, 54.82it/s, loss=1.39]\n"
          ]
        },
        {
          "output_type": "stream",
          "name": "stdout",
          "text": [
            "Epoch [35/5000]: Train loss: 2.3906, Valid loss: 2.2175\n",
            "Saving model with loss 2.217...\n"
          ]
        },
        {
          "output_type": "stream",
          "name": "stderr",
          "text": [
            "Epoch [36/5000]: 100%|██████████| 68/68 [00:01<00:00, 63.15it/s, loss=1.72]\n"
          ]
        },
        {
          "output_type": "stream",
          "name": "stdout",
          "text": [
            "Epoch [36/5000]: Train loss: 2.2861, Valid loss: 2.1364\n",
            "Saving model with loss 2.136...\n"
          ]
        },
        {
          "output_type": "stream",
          "name": "stderr",
          "text": [
            "Epoch [37/5000]: 100%|██████████| 68/68 [00:00<00:00, 114.46it/s, loss=2.27]\n"
          ]
        },
        {
          "output_type": "stream",
          "name": "stdout",
          "text": [
            "Epoch [37/5000]: Train loss: 2.1868, Valid loss: 2.0655\n",
            "Saving model with loss 2.065...\n"
          ]
        },
        {
          "output_type": "stream",
          "name": "stderr",
          "text": [
            "Epoch [38/5000]: 100%|██████████| 68/68 [00:00<00:00, 92.51it/s, loss=2.54]\n"
          ]
        },
        {
          "output_type": "stream",
          "name": "stdout",
          "text": [
            "Epoch [38/5000]: Train loss: 2.1412, Valid loss: 2.0162\n",
            "Saving model with loss 2.016...\n"
          ]
        },
        {
          "output_type": "stream",
          "name": "stderr",
          "text": [
            "Epoch [39/5000]: 100%|██████████| 68/68 [00:00<00:00, 105.59it/s, loss=1.61]\n"
          ]
        },
        {
          "output_type": "stream",
          "name": "stdout",
          "text": [
            "Epoch [39/5000]: Train loss: 2.0785, Valid loss: 1.9877\n",
            "Saving model with loss 1.988...\n"
          ]
        },
        {
          "output_type": "stream",
          "name": "stderr",
          "text": [
            "Epoch [40/5000]: 100%|██████████| 68/68 [00:00<00:00, 108.34it/s, loss=2.73]\n"
          ]
        },
        {
          "output_type": "stream",
          "name": "stdout",
          "text": [
            "Epoch [40/5000]: Train loss: 2.0537, Valid loss: 1.9654\n",
            "Saving model with loss 1.965...\n"
          ]
        },
        {
          "output_type": "stream",
          "name": "stderr",
          "text": [
            "Epoch [41/5000]: 100%|██████████| 68/68 [00:00<00:00, 123.64it/s, loss=1.62]\n"
          ]
        },
        {
          "output_type": "stream",
          "name": "stdout",
          "text": [
            "Epoch [41/5000]: Train loss: 2.0068, Valid loss: 1.9299\n",
            "Saving model with loss 1.930...\n"
          ]
        },
        {
          "output_type": "stream",
          "name": "stderr",
          "text": [
            "Epoch [42/5000]: 100%|██████████| 68/68 [00:00<00:00, 113.01it/s, loss=4.62]\n"
          ]
        },
        {
          "output_type": "stream",
          "name": "stdout",
          "text": [
            "Epoch [42/5000]: Train loss: 2.0008, Valid loss: 1.9018\n",
            "Saving model with loss 1.902...\n"
          ]
        },
        {
          "output_type": "stream",
          "name": "stderr",
          "text": [
            "Epoch [43/5000]: 100%|██████████| 68/68 [00:00<00:00, 103.35it/s, loss=1.72]\n"
          ]
        },
        {
          "output_type": "stream",
          "name": "stdout",
          "text": [
            "Epoch [43/5000]: Train loss: 1.9506, Valid loss: 1.9124\n"
          ]
        },
        {
          "output_type": "stream",
          "name": "stderr",
          "text": [
            "Epoch [44/5000]: 100%|██████████| 68/68 [00:00<00:00, 112.81it/s, loss=1.34]\n"
          ]
        },
        {
          "output_type": "stream",
          "name": "stdout",
          "text": [
            "Epoch [44/5000]: Train loss: 1.9412, Valid loss: 1.8614\n",
            "Saving model with loss 1.861...\n"
          ]
        },
        {
          "output_type": "stream",
          "name": "stderr",
          "text": [
            "Epoch [45/5000]: 100%|██████████| 68/68 [00:00<00:00, 99.06it/s, loss=1.55]\n"
          ]
        },
        {
          "output_type": "stream",
          "name": "stdout",
          "text": [
            "Epoch [45/5000]: Train loss: 1.9219, Valid loss: 1.8734\n"
          ]
        },
        {
          "output_type": "stream",
          "name": "stderr",
          "text": [
            "Epoch [46/5000]: 100%|██████████| 68/68 [00:00<00:00, 118.20it/s, loss=2.24]\n"
          ]
        },
        {
          "output_type": "stream",
          "name": "stdout",
          "text": [
            "Epoch [46/5000]: Train loss: 1.9041, Valid loss: 1.8408\n",
            "Saving model with loss 1.841...\n"
          ]
        },
        {
          "output_type": "stream",
          "name": "stderr",
          "text": [
            "Epoch [47/5000]: 100%|██████████| 68/68 [00:00<00:00, 108.99it/s, loss=2.72]\n"
          ]
        },
        {
          "output_type": "stream",
          "name": "stdout",
          "text": [
            "Epoch [47/5000]: Train loss: 1.8895, Valid loss: 1.8286\n",
            "Saving model with loss 1.829...\n"
          ]
        },
        {
          "output_type": "stream",
          "name": "stderr",
          "text": [
            "Epoch [48/5000]: 100%|██████████| 68/68 [00:00<00:00, 114.58it/s, loss=1.18]\n"
          ]
        },
        {
          "output_type": "stream",
          "name": "stdout",
          "text": [
            "Epoch [48/5000]: Train loss: 1.8661, Valid loss: 1.8027\n",
            "Saving model with loss 1.803...\n"
          ]
        },
        {
          "output_type": "stream",
          "name": "stderr",
          "text": [
            "Epoch [49/5000]: 100%|██████████| 68/68 [00:00<00:00, 123.15it/s, loss=2.92]\n"
          ]
        },
        {
          "output_type": "stream",
          "name": "stdout",
          "text": [
            "Epoch [49/5000]: Train loss: 1.8616, Valid loss: 1.8010\n",
            "Saving model with loss 1.801...\n"
          ]
        },
        {
          "output_type": "stream",
          "name": "stderr",
          "text": [
            "Epoch [50/5000]: 100%|██████████| 68/68 [00:00<00:00, 106.06it/s, loss=2.33]\n"
          ]
        },
        {
          "output_type": "stream",
          "name": "stdout",
          "text": [
            "Epoch [50/5000]: Train loss: 1.8421, Valid loss: 1.8021\n"
          ]
        },
        {
          "output_type": "stream",
          "name": "stderr",
          "text": [
            "Epoch [51/5000]: 100%|██████████| 68/68 [00:00<00:00, 105.65it/s, loss=0.995]\n"
          ]
        },
        {
          "output_type": "stream",
          "name": "stdout",
          "text": [
            "Epoch [51/5000]: Train loss: 1.8170, Valid loss: 1.7870\n",
            "Saving model with loss 1.787...\n"
          ]
        },
        {
          "output_type": "stream",
          "name": "stderr",
          "text": [
            "Epoch [52/5000]: 100%|██████████| 68/68 [00:00<00:00, 102.98it/s, loss=2.13]\n"
          ]
        },
        {
          "output_type": "stream",
          "name": "stdout",
          "text": [
            "Epoch [52/5000]: Train loss: 1.8183, Valid loss: 1.7500\n",
            "Saving model with loss 1.750...\n"
          ]
        },
        {
          "output_type": "stream",
          "name": "stderr",
          "text": [
            "Epoch [53/5000]: 100%|██████████| 68/68 [00:00<00:00, 122.39it/s, loss=1.4]\n"
          ]
        },
        {
          "output_type": "stream",
          "name": "stdout",
          "text": [
            "Epoch [53/5000]: Train loss: 1.7897, Valid loss: 1.7390\n",
            "Saving model with loss 1.739...\n"
          ]
        },
        {
          "output_type": "stream",
          "name": "stderr",
          "text": [
            "Epoch [54/5000]: 100%|██████████| 68/68 [00:00<00:00, 124.66it/s, loss=1.41]\n"
          ]
        },
        {
          "output_type": "stream",
          "name": "stdout",
          "text": [
            "Epoch [54/5000]: Train loss: 1.8069, Valid loss: 1.7465\n"
          ]
        },
        {
          "output_type": "stream",
          "name": "stderr",
          "text": [
            "Epoch [55/5000]: 100%|██████████| 68/68 [00:00<00:00, 76.30it/s, loss=1.02]\n"
          ]
        },
        {
          "output_type": "stream",
          "name": "stdout",
          "text": [
            "Epoch [55/5000]: Train loss: 1.7773, Valid loss: 1.7274\n",
            "Saving model with loss 1.727...\n"
          ]
        },
        {
          "output_type": "stream",
          "name": "stderr",
          "text": [
            "Epoch [56/5000]: 100%|██████████| 68/68 [00:00<00:00, 111.88it/s, loss=1.26]\n"
          ]
        },
        {
          "output_type": "stream",
          "name": "stdout",
          "text": [
            "Epoch [56/5000]: Train loss: 1.7508, Valid loss: 1.6933\n",
            "Saving model with loss 1.693...\n"
          ]
        },
        {
          "output_type": "stream",
          "name": "stderr",
          "text": [
            "Epoch [57/5000]: 100%|██████████| 68/68 [00:00<00:00, 107.15it/s, loss=0.788]\n"
          ]
        },
        {
          "output_type": "stream",
          "name": "stdout",
          "text": [
            "Epoch [57/5000]: Train loss: 1.7298, Valid loss: 1.7195\n"
          ]
        },
        {
          "output_type": "stream",
          "name": "stderr",
          "text": [
            "Epoch [58/5000]: 100%|██████████| 68/68 [00:00<00:00, 107.13it/s, loss=1.78]\n"
          ]
        },
        {
          "output_type": "stream",
          "name": "stdout",
          "text": [
            "Epoch [58/5000]: Train loss: 1.7527, Valid loss: 1.6653\n",
            "Saving model with loss 1.665...\n"
          ]
        },
        {
          "output_type": "stream",
          "name": "stderr",
          "text": [
            "Epoch [59/5000]: 100%|██████████| 68/68 [00:00<00:00, 104.31it/s, loss=1.67]\n"
          ]
        },
        {
          "output_type": "stream",
          "name": "stdout",
          "text": [
            "Epoch [59/5000]: Train loss: 1.7117, Valid loss: 1.6788\n"
          ]
        },
        {
          "output_type": "stream",
          "name": "stderr",
          "text": [
            "Epoch [60/5000]: 100%|██████████| 68/68 [00:00<00:00, 106.04it/s, loss=1.03]\n"
          ]
        },
        {
          "output_type": "stream",
          "name": "stdout",
          "text": [
            "Epoch [60/5000]: Train loss: 1.6961, Valid loss: 1.6328\n",
            "Saving model with loss 1.633...\n"
          ]
        },
        {
          "output_type": "stream",
          "name": "stderr",
          "text": [
            "Epoch [61/5000]: 100%|██████████| 68/68 [00:00<00:00, 109.86it/s, loss=1.55]\n"
          ]
        },
        {
          "output_type": "stream",
          "name": "stdout",
          "text": [
            "Epoch [61/5000]: Train loss: 1.6865, Valid loss: 1.6319\n",
            "Saving model with loss 1.632...\n"
          ]
        },
        {
          "output_type": "stream",
          "name": "stderr",
          "text": [
            "Epoch [62/5000]: 100%|██████████| 68/68 [00:00<00:00, 110.55it/s, loss=1.47]\n"
          ]
        },
        {
          "output_type": "stream",
          "name": "stdout",
          "text": [
            "Epoch [62/5000]: Train loss: 1.6800, Valid loss: 1.6115\n",
            "Saving model with loss 1.611...\n"
          ]
        },
        {
          "output_type": "stream",
          "name": "stderr",
          "text": [
            "Epoch [63/5000]: 100%|██████████| 68/68 [00:00<00:00, 83.13it/s, loss=2.55]\n"
          ]
        },
        {
          "output_type": "stream",
          "name": "stdout",
          "text": [
            "Epoch [63/5000]: Train loss: 1.6660, Valid loss: 1.6134\n"
          ]
        },
        {
          "output_type": "stream",
          "name": "stderr",
          "text": [
            "Epoch [64/5000]: 100%|██████████| 68/68 [00:00<00:00, 83.23it/s, loss=0.956]\n"
          ]
        },
        {
          "output_type": "stream",
          "name": "stdout",
          "text": [
            "Epoch [64/5000]: Train loss: 1.6517, Valid loss: 1.6005\n",
            "Saving model with loss 1.601...\n"
          ]
        },
        {
          "output_type": "stream",
          "name": "stderr",
          "text": [
            "Epoch [65/5000]: 100%|██████████| 68/68 [00:00<00:00, 117.64it/s, loss=1.06]\n"
          ]
        },
        {
          "output_type": "stream",
          "name": "stdout",
          "text": [
            "Epoch [65/5000]: Train loss: 1.6371, Valid loss: 1.5728\n",
            "Saving model with loss 1.573...\n"
          ]
        },
        {
          "output_type": "stream",
          "name": "stderr",
          "text": [
            "Epoch [66/5000]: 100%|██████████| 68/68 [00:00<00:00, 79.87it/s, loss=1.12]\n"
          ]
        },
        {
          "output_type": "stream",
          "name": "stdout",
          "text": [
            "Epoch [66/5000]: Train loss: 1.6138, Valid loss: 1.6133\n"
          ]
        },
        {
          "output_type": "stream",
          "name": "stderr",
          "text": [
            "Epoch [67/5000]: 100%|██████████| 68/68 [00:00<00:00, 86.07it/s, loss=1.16]\n"
          ]
        },
        {
          "output_type": "stream",
          "name": "stdout",
          "text": [
            "Epoch [67/5000]: Train loss: 1.6151, Valid loss: 1.5545\n",
            "Saving model with loss 1.554...\n"
          ]
        },
        {
          "output_type": "stream",
          "name": "stderr",
          "text": [
            "Epoch [68/5000]: 100%|██████████| 68/68 [00:00<00:00, 99.16it/s, loss=1.74] \n"
          ]
        },
        {
          "output_type": "stream",
          "name": "stdout",
          "text": [
            "Epoch [68/5000]: Train loss: 1.6046, Valid loss: 1.5643\n"
          ]
        },
        {
          "output_type": "stream",
          "name": "stderr",
          "text": [
            "Epoch [69/5000]: 100%|██████████| 68/68 [00:00<00:00, 127.69it/s, loss=1.33]\n"
          ]
        },
        {
          "output_type": "stream",
          "name": "stdout",
          "text": [
            "Epoch [69/5000]: Train loss: 1.6000, Valid loss: 1.5878\n"
          ]
        },
        {
          "output_type": "stream",
          "name": "stderr",
          "text": [
            "Epoch [70/5000]: 100%|██████████| 68/68 [00:00<00:00, 78.10it/s, loss=1.33]\n"
          ]
        },
        {
          "output_type": "stream",
          "name": "stdout",
          "text": [
            "Epoch [70/5000]: Train loss: 1.6101, Valid loss: 1.5080\n",
            "Saving model with loss 1.508...\n"
          ]
        },
        {
          "output_type": "stream",
          "name": "stderr",
          "text": [
            "Epoch [71/5000]: 100%|██████████| 68/68 [00:00<00:00, 80.70it/s, loss=1.91]\n"
          ]
        },
        {
          "output_type": "stream",
          "name": "stdout",
          "text": [
            "Epoch [71/5000]: Train loss: 1.5701, Valid loss: 1.5950\n"
          ]
        },
        {
          "output_type": "stream",
          "name": "stderr",
          "text": [
            "Epoch [72/5000]: 100%|██████████| 68/68 [00:00<00:00, 83.87it/s, loss=1.31]\n"
          ]
        },
        {
          "output_type": "stream",
          "name": "stdout",
          "text": [
            "Epoch [72/5000]: Train loss: 1.5887, Valid loss: 1.5108\n"
          ]
        },
        {
          "output_type": "stream",
          "name": "stderr",
          "text": [
            "Epoch [73/5000]: 100%|██████████| 68/68 [00:00<00:00, 96.81it/s, loss=0.973]\n"
          ]
        },
        {
          "output_type": "stream",
          "name": "stdout",
          "text": [
            "Epoch [73/5000]: Train loss: 1.5355, Valid loss: 1.4838\n",
            "Saving model with loss 1.484...\n"
          ]
        },
        {
          "output_type": "stream",
          "name": "stderr",
          "text": [
            "Epoch [74/5000]: 100%|██████████| 68/68 [00:00<00:00, 100.85it/s, loss=1.26]\n"
          ]
        },
        {
          "output_type": "stream",
          "name": "stdout",
          "text": [
            "Epoch [74/5000]: Train loss: 1.5313, Valid loss: 1.5192\n"
          ]
        },
        {
          "output_type": "stream",
          "name": "stderr",
          "text": [
            "Epoch [75/5000]: 100%|██████████| 68/68 [00:00<00:00, 122.91it/s, loss=1.87]\n"
          ]
        },
        {
          "output_type": "stream",
          "name": "stdout",
          "text": [
            "Epoch [75/5000]: Train loss: 1.5273, Valid loss: 1.4810\n",
            "Saving model with loss 1.481...\n"
          ]
        },
        {
          "output_type": "stream",
          "name": "stderr",
          "text": [
            "Epoch [76/5000]: 100%|██████████| 68/68 [00:00<00:00, 107.11it/s, loss=1.28]\n"
          ]
        },
        {
          "output_type": "stream",
          "name": "stdout",
          "text": [
            "Epoch [76/5000]: Train loss: 1.5191, Valid loss: 1.4497\n",
            "Saving model with loss 1.450...\n"
          ]
        },
        {
          "output_type": "stream",
          "name": "stderr",
          "text": [
            "Epoch [77/5000]: 100%|██████████| 68/68 [00:00<00:00, 104.78it/s, loss=0.938]\n"
          ]
        },
        {
          "output_type": "stream",
          "name": "stdout",
          "text": [
            "Epoch [77/5000]: Train loss: 1.5131, Valid loss: 1.4477\n",
            "Saving model with loss 1.448...\n"
          ]
        },
        {
          "output_type": "stream",
          "name": "stderr",
          "text": [
            "Epoch [78/5000]: 100%|██████████| 68/68 [00:00<00:00, 98.50it/s, loss=0.525]\n"
          ]
        },
        {
          "output_type": "stream",
          "name": "stdout",
          "text": [
            "Epoch [78/5000]: Train loss: 1.4822, Valid loss: 1.4690\n"
          ]
        },
        {
          "output_type": "stream",
          "name": "stderr",
          "text": [
            "Epoch [79/5000]: 100%|██████████| 68/68 [00:00<00:00, 102.85it/s, loss=0.911]\n"
          ]
        },
        {
          "output_type": "stream",
          "name": "stdout",
          "text": [
            "Epoch [79/5000]: Train loss: 1.4772, Valid loss: 1.4205\n",
            "Saving model with loss 1.421...\n"
          ]
        },
        {
          "output_type": "stream",
          "name": "stderr",
          "text": [
            "Epoch [80/5000]: 100%|██████████| 68/68 [00:00<00:00, 106.38it/s, loss=1.78]\n"
          ]
        },
        {
          "output_type": "stream",
          "name": "stdout",
          "text": [
            "Epoch [80/5000]: Train loss: 1.4758, Valid loss: 1.4242\n"
          ]
        },
        {
          "output_type": "stream",
          "name": "stderr",
          "text": [
            "Epoch [81/5000]: 100%|██████████| 68/68 [00:00<00:00, 122.93it/s, loss=1.28]\n"
          ]
        },
        {
          "output_type": "stream",
          "name": "stdout",
          "text": [
            "Epoch [81/5000]: Train loss: 1.4565, Valid loss: 1.4034\n",
            "Saving model with loss 1.403...\n"
          ]
        },
        {
          "output_type": "stream",
          "name": "stderr",
          "text": [
            "Epoch [82/5000]: 100%|██████████| 68/68 [00:00<00:00, 92.21it/s, loss=1.6]\n"
          ]
        },
        {
          "output_type": "stream",
          "name": "stdout",
          "text": [
            "Epoch [82/5000]: Train loss: 1.4679, Valid loss: 1.4126\n"
          ]
        },
        {
          "output_type": "stream",
          "name": "stderr",
          "text": [
            "Epoch [83/5000]: 100%|██████████| 68/68 [00:00<00:00, 101.82it/s, loss=4.02]\n"
          ]
        },
        {
          "output_type": "stream",
          "name": "stdout",
          "text": [
            "Epoch [83/5000]: Train loss: 1.4623, Valid loss: 1.3942\n",
            "Saving model with loss 1.394...\n"
          ]
        },
        {
          "output_type": "stream",
          "name": "stderr",
          "text": [
            "Epoch [84/5000]: 100%|██████████| 68/68 [00:00<00:00, 92.20it/s, loss=1.87]\n"
          ]
        },
        {
          "output_type": "stream",
          "name": "stdout",
          "text": [
            "Epoch [84/5000]: Train loss: 1.4389, Valid loss: 1.3831\n",
            "Saving model with loss 1.383...\n"
          ]
        },
        {
          "output_type": "stream",
          "name": "stderr",
          "text": [
            "Epoch [85/5000]: 100%|██████████| 68/68 [00:00<00:00, 114.55it/s, loss=1.44]\n"
          ]
        },
        {
          "output_type": "stream",
          "name": "stdout",
          "text": [
            "Epoch [85/5000]: Train loss: 1.4258, Valid loss: 1.3895\n"
          ]
        },
        {
          "output_type": "stream",
          "name": "stderr",
          "text": [
            "Epoch [86/5000]: 100%|██████████| 68/68 [00:00<00:00, 103.22it/s, loss=1.19]\n"
          ]
        },
        {
          "output_type": "stream",
          "name": "stdout",
          "text": [
            "Epoch [86/5000]: Train loss: 1.4289, Valid loss: 1.3642\n",
            "Saving model with loss 1.364...\n"
          ]
        },
        {
          "output_type": "stream",
          "name": "stderr",
          "text": [
            "Epoch [87/5000]: 100%|██████████| 68/68 [00:00<00:00, 81.18it/s, loss=1.27]\n"
          ]
        },
        {
          "output_type": "stream",
          "name": "stdout",
          "text": [
            "Epoch [87/5000]: Train loss: 1.4174, Valid loss: 1.3619\n",
            "Saving model with loss 1.362...\n"
          ]
        },
        {
          "output_type": "stream",
          "name": "stderr",
          "text": [
            "Epoch [88/5000]: 100%|██████████| 68/68 [00:00<00:00, 101.52it/s, loss=1.53]\n"
          ]
        },
        {
          "output_type": "stream",
          "name": "stdout",
          "text": [
            "Epoch [88/5000]: Train loss: 1.3980, Valid loss: 1.3494\n",
            "Saving model with loss 1.349...\n"
          ]
        },
        {
          "output_type": "stream",
          "name": "stderr",
          "text": [
            "Epoch [89/5000]: 100%|██████████| 68/68 [00:00<00:00, 99.43it/s, loss=1.14] \n"
          ]
        },
        {
          "output_type": "stream",
          "name": "stdout",
          "text": [
            "Epoch [89/5000]: Train loss: 1.3862, Valid loss: 1.3430\n",
            "Saving model with loss 1.343...\n"
          ]
        },
        {
          "output_type": "stream",
          "name": "stderr",
          "text": [
            "Epoch [90/5000]: 100%|██████████| 68/68 [00:00<00:00, 87.08it/s, loss=0.829]\n"
          ]
        },
        {
          "output_type": "stream",
          "name": "stdout",
          "text": [
            "Epoch [90/5000]: Train loss: 1.3742, Valid loss: 1.3415\n",
            "Saving model with loss 1.341...\n"
          ]
        },
        {
          "output_type": "stream",
          "name": "stderr",
          "text": [
            "Epoch [91/5000]: 100%|██████████| 68/68 [00:00<00:00, 110.61it/s, loss=0.449]\n"
          ]
        },
        {
          "output_type": "stream",
          "name": "stdout",
          "text": [
            "Epoch [91/5000]: Train loss: 1.3603, Valid loss: 1.3295\n",
            "Saving model with loss 1.329...\n"
          ]
        },
        {
          "output_type": "stream",
          "name": "stderr",
          "text": [
            "Epoch [92/5000]: 100%|██████████| 68/68 [00:00<00:00, 81.22it/s, loss=1.17]\n"
          ]
        },
        {
          "output_type": "stream",
          "name": "stdout",
          "text": [
            "Epoch [92/5000]: Train loss: 1.3593, Valid loss: 1.3327\n"
          ]
        },
        {
          "output_type": "stream",
          "name": "stderr",
          "text": [
            "Epoch [93/5000]: 100%|██████████| 68/68 [00:00<00:00, 111.20it/s, loss=0.632]\n"
          ]
        },
        {
          "output_type": "stream",
          "name": "stdout",
          "text": [
            "Epoch [93/5000]: Train loss: 1.3489, Valid loss: 1.3100\n",
            "Saving model with loss 1.310...\n"
          ]
        },
        {
          "output_type": "stream",
          "name": "stderr",
          "text": [
            "Epoch [94/5000]: 100%|██████████| 68/68 [00:00<00:00, 105.96it/s, loss=0.997]\n"
          ]
        },
        {
          "output_type": "stream",
          "name": "stdout",
          "text": [
            "Epoch [94/5000]: Train loss: 1.3494, Valid loss: 1.3167\n"
          ]
        },
        {
          "output_type": "stream",
          "name": "stderr",
          "text": [
            "Epoch [95/5000]: 100%|██████████| 68/68 [00:00<00:00, 100.28it/s, loss=2.03]\n"
          ]
        },
        {
          "output_type": "stream",
          "name": "stdout",
          "text": [
            "Epoch [95/5000]: Train loss: 1.3389, Valid loss: 1.3023\n",
            "Saving model with loss 1.302...\n"
          ]
        },
        {
          "output_type": "stream",
          "name": "stderr",
          "text": [
            "Epoch [96/5000]: 100%|██████████| 68/68 [00:00<00:00, 102.10it/s, loss=1.04]\n"
          ]
        },
        {
          "output_type": "stream",
          "name": "stdout",
          "text": [
            "Epoch [96/5000]: Train loss: 1.3216, Valid loss: 1.3017\n",
            "Saving model with loss 1.302...\n"
          ]
        },
        {
          "output_type": "stream",
          "name": "stderr",
          "text": [
            "Epoch [97/5000]: 100%|██████████| 68/68 [00:00<00:00, 84.35it/s, loss=1.75]\n"
          ]
        },
        {
          "output_type": "stream",
          "name": "stdout",
          "text": [
            "Epoch [97/5000]: Train loss: 1.3407, Valid loss: 1.2872\n",
            "Saving model with loss 1.287...\n"
          ]
        },
        {
          "output_type": "stream",
          "name": "stderr",
          "text": [
            "Epoch [98/5000]: 100%|██████████| 68/68 [00:00<00:00, 93.22it/s, loss=1.38]\n"
          ]
        },
        {
          "output_type": "stream",
          "name": "stdout",
          "text": [
            "Epoch [98/5000]: Train loss: 1.3394, Valid loss: 1.2930\n"
          ]
        },
        {
          "output_type": "stream",
          "name": "stderr",
          "text": [
            "Epoch [99/5000]: 100%|██████████| 68/68 [00:00<00:00, 126.17it/s, loss=0.572]\n"
          ]
        },
        {
          "output_type": "stream",
          "name": "stdout",
          "text": [
            "Epoch [99/5000]: Train loss: 1.3065, Valid loss: 1.2742\n",
            "Saving model with loss 1.274...\n"
          ]
        },
        {
          "output_type": "stream",
          "name": "stderr",
          "text": [
            "Epoch [100/5000]: 100%|██████████| 68/68 [00:00<00:00, 97.60it/s, loss=1.09]\n"
          ]
        },
        {
          "output_type": "stream",
          "name": "stdout",
          "text": [
            "Epoch [100/5000]: Train loss: 1.3102, Valid loss: 1.2691\n",
            "Saving model with loss 1.269...\n"
          ]
        },
        {
          "output_type": "stream",
          "name": "stderr",
          "text": [
            "Epoch [101/5000]: 100%|██████████| 68/68 [00:00<00:00, 109.81it/s, loss=1.58]\n"
          ]
        },
        {
          "output_type": "stream",
          "name": "stdout",
          "text": [
            "Epoch [101/5000]: Train loss: 1.2991, Valid loss: 1.2806\n"
          ]
        },
        {
          "output_type": "stream",
          "name": "stderr",
          "text": [
            "Epoch [102/5000]: 100%|██████████| 68/68 [00:00<00:00, 95.14it/s, loss=0.807] \n"
          ]
        },
        {
          "output_type": "stream",
          "name": "stdout",
          "text": [
            "Epoch [102/5000]: Train loss: 1.2876, Valid loss: 1.2653\n",
            "Saving model with loss 1.265...\n"
          ]
        },
        {
          "output_type": "stream",
          "name": "stderr",
          "text": [
            "Epoch [103/5000]: 100%|██████████| 68/68 [00:00<00:00, 70.57it/s, loss=1.48]\n"
          ]
        },
        {
          "output_type": "stream",
          "name": "stdout",
          "text": [
            "Epoch [103/5000]: Train loss: 1.3004, Valid loss: 1.2772\n"
          ]
        },
        {
          "output_type": "stream",
          "name": "stderr",
          "text": [
            "Epoch [104/5000]: 100%|██████████| 68/68 [00:00<00:00, 85.56it/s, loss=2.19]\n"
          ]
        },
        {
          "output_type": "stream",
          "name": "stdout",
          "text": [
            "Epoch [104/5000]: Train loss: 1.3041, Valid loss: 1.2692\n"
          ]
        },
        {
          "output_type": "stream",
          "name": "stderr",
          "text": [
            "Epoch [105/5000]: 100%|██████████| 68/68 [00:00<00:00, 101.58it/s, loss=1.04]\n"
          ]
        },
        {
          "output_type": "stream",
          "name": "stdout",
          "text": [
            "Epoch [105/5000]: Train loss: 1.2664, Valid loss: 1.2624\n",
            "Saving model with loss 1.262...\n"
          ]
        },
        {
          "output_type": "stream",
          "name": "stderr",
          "text": [
            "Epoch [106/5000]: 100%|██████████| 68/68 [00:00<00:00, 93.09it/s, loss=2]\n"
          ]
        },
        {
          "output_type": "stream",
          "name": "stdout",
          "text": [
            "Epoch [106/5000]: Train loss: 1.2623, Valid loss: 1.2652\n"
          ]
        },
        {
          "output_type": "stream",
          "name": "stderr",
          "text": [
            "Epoch [107/5000]: 100%|██████████| 68/68 [00:00<00:00, 108.64it/s, loss=0.926]\n"
          ]
        },
        {
          "output_type": "stream",
          "name": "stdout",
          "text": [
            "Epoch [107/5000]: Train loss: 1.2590, Valid loss: 1.2380\n",
            "Saving model with loss 1.238...\n"
          ]
        },
        {
          "output_type": "stream",
          "name": "stderr",
          "text": [
            "Epoch [108/5000]: 100%|██████████| 68/68 [00:00<00:00, 86.61it/s, loss=0.948]\n"
          ]
        },
        {
          "output_type": "stream",
          "name": "stdout",
          "text": [
            "Epoch [108/5000]: Train loss: 1.2451, Valid loss: 1.2593\n"
          ]
        },
        {
          "output_type": "stream",
          "name": "stderr",
          "text": [
            "Epoch [109/5000]: 100%|██████████| 68/68 [00:00<00:00, 109.98it/s, loss=0.845]\n"
          ]
        },
        {
          "output_type": "stream",
          "name": "stdout",
          "text": [
            "Epoch [109/5000]: Train loss: 1.2449, Valid loss: 1.2320\n",
            "Saving model with loss 1.232...\n"
          ]
        },
        {
          "output_type": "stream",
          "name": "stderr",
          "text": [
            "Epoch [110/5000]: 100%|██████████| 68/68 [00:00<00:00, 103.97it/s, loss=0.886]\n"
          ]
        },
        {
          "output_type": "stream",
          "name": "stdout",
          "text": [
            "Epoch [110/5000]: Train loss: 1.2389, Valid loss: 1.2246\n",
            "Saving model with loss 1.225...\n"
          ]
        },
        {
          "output_type": "stream",
          "name": "stderr",
          "text": [
            "Epoch [111/5000]: 100%|██████████| 68/68 [00:00<00:00, 90.77it/s, loss=0.925]\n"
          ]
        },
        {
          "output_type": "stream",
          "name": "stdout",
          "text": [
            "Epoch [111/5000]: Train loss: 1.2347, Valid loss: 1.2190\n",
            "Saving model with loss 1.219...\n"
          ]
        },
        {
          "output_type": "stream",
          "name": "stderr",
          "text": [
            "Epoch [112/5000]: 100%|██████████| 68/68 [00:00<00:00, 105.25it/s, loss=0.809]\n"
          ]
        },
        {
          "output_type": "stream",
          "name": "stdout",
          "text": [
            "Epoch [112/5000]: Train loss: 1.2421, Valid loss: 1.2309\n"
          ]
        },
        {
          "output_type": "stream",
          "name": "stderr",
          "text": [
            "Epoch [113/5000]: 100%|██████████| 68/68 [00:00<00:00, 85.54it/s, loss=1.74]\n"
          ]
        },
        {
          "output_type": "stream",
          "name": "stdout",
          "text": [
            "Epoch [113/5000]: Train loss: 1.2311, Valid loss: 1.2293\n"
          ]
        },
        {
          "output_type": "stream",
          "name": "stderr",
          "text": [
            "Epoch [114/5000]: 100%|██████████| 68/68 [00:00<00:00, 89.96it/s, loss=0.392]\n"
          ]
        },
        {
          "output_type": "stream",
          "name": "stdout",
          "text": [
            "Epoch [114/5000]: Train loss: 1.2504, Valid loss: 1.2127\n",
            "Saving model with loss 1.213...\n"
          ]
        },
        {
          "output_type": "stream",
          "name": "stderr",
          "text": [
            "Epoch [115/5000]: 100%|██████████| 68/68 [00:00<00:00, 101.97it/s, loss=0.795]\n"
          ]
        },
        {
          "output_type": "stream",
          "name": "stdout",
          "text": [
            "Epoch [115/5000]: Train loss: 1.2276, Valid loss: 1.2064\n",
            "Saving model with loss 1.206...\n"
          ]
        },
        {
          "output_type": "stream",
          "name": "stderr",
          "text": [
            "Epoch [116/5000]: 100%|██████████| 68/68 [00:00<00:00, 106.58it/s, loss=1.26]\n"
          ]
        },
        {
          "output_type": "stream",
          "name": "stdout",
          "text": [
            "Epoch [116/5000]: Train loss: 1.2178, Valid loss: 1.2107\n"
          ]
        },
        {
          "output_type": "stream",
          "name": "stderr",
          "text": [
            "Epoch [117/5000]: 100%|██████████| 68/68 [00:00<00:00, 102.20it/s, loss=1.27]\n"
          ]
        },
        {
          "output_type": "stream",
          "name": "stdout",
          "text": [
            "Epoch [117/5000]: Train loss: 1.2164, Valid loss: 1.1998\n",
            "Saving model with loss 1.200...\n"
          ]
        },
        {
          "output_type": "stream",
          "name": "stderr",
          "text": [
            "Epoch [118/5000]: 100%|██████████| 68/68 [00:00<00:00, 108.98it/s, loss=0.95]\n"
          ]
        },
        {
          "output_type": "stream",
          "name": "stdout",
          "text": [
            "Epoch [118/5000]: Train loss: 1.2074, Valid loss: 1.2649\n"
          ]
        },
        {
          "output_type": "stream",
          "name": "stderr",
          "text": [
            "Epoch [119/5000]: 100%|██████████| 68/68 [00:00<00:00, 95.53it/s, loss=0.489]\n"
          ]
        },
        {
          "output_type": "stream",
          "name": "stdout",
          "text": [
            "Epoch [119/5000]: Train loss: 1.1929, Valid loss: 1.2291\n"
          ]
        },
        {
          "output_type": "stream",
          "name": "stderr",
          "text": [
            "Epoch [120/5000]: 100%|██████████| 68/68 [00:00<00:00, 91.15it/s, loss=1.11]\n"
          ]
        },
        {
          "output_type": "stream",
          "name": "stdout",
          "text": [
            "Epoch [120/5000]: Train loss: 1.2055, Valid loss: 1.2017\n"
          ]
        },
        {
          "output_type": "stream",
          "name": "stderr",
          "text": [
            "Epoch [121/5000]: 100%|██████████| 68/68 [00:00<00:00, 108.81it/s, loss=0.504]\n"
          ]
        },
        {
          "output_type": "stream",
          "name": "stdout",
          "text": [
            "Epoch [121/5000]: Train loss: 1.1947, Valid loss: 1.2045\n"
          ]
        },
        {
          "output_type": "stream",
          "name": "stderr",
          "text": [
            "Epoch [122/5000]: 100%|██████████| 68/68 [00:00<00:00, 113.79it/s, loss=0.943]\n"
          ]
        },
        {
          "output_type": "stream",
          "name": "stdout",
          "text": [
            "Epoch [122/5000]: Train loss: 1.1864, Valid loss: 1.1927\n",
            "Saving model with loss 1.193...\n"
          ]
        },
        {
          "output_type": "stream",
          "name": "stderr",
          "text": [
            "Epoch [123/5000]: 100%|██████████| 68/68 [00:00<00:00, 91.86it/s, loss=0.705]\n"
          ]
        },
        {
          "output_type": "stream",
          "name": "stdout",
          "text": [
            "Epoch [123/5000]: Train loss: 1.1962, Valid loss: 1.2046\n"
          ]
        },
        {
          "output_type": "stream",
          "name": "stderr",
          "text": [
            "Epoch [124/5000]: 100%|██████████| 68/68 [00:00<00:00, 79.76it/s, loss=1.48]\n"
          ]
        },
        {
          "output_type": "stream",
          "name": "stdout",
          "text": [
            "Epoch [124/5000]: Train loss: 1.1910, Valid loss: 1.1876\n",
            "Saving model with loss 1.188...\n"
          ]
        },
        {
          "output_type": "stream",
          "name": "stderr",
          "text": [
            "Epoch [125/5000]: 100%|██████████| 68/68 [00:00<00:00, 72.09it/s, loss=1.25]\n"
          ]
        },
        {
          "output_type": "stream",
          "name": "stdout",
          "text": [
            "Epoch [125/5000]: Train loss: 1.1854, Valid loss: 1.1927\n"
          ]
        },
        {
          "output_type": "stream",
          "name": "stderr",
          "text": [
            "Epoch [126/5000]: 100%|██████████| 68/68 [00:00<00:00, 106.75it/s, loss=0.953]\n"
          ]
        },
        {
          "output_type": "stream",
          "name": "stdout",
          "text": [
            "Epoch [126/5000]: Train loss: 1.1792, Valid loss: 1.2006\n"
          ]
        },
        {
          "output_type": "stream",
          "name": "stderr",
          "text": [
            "Epoch [127/5000]: 100%|██████████| 68/68 [00:00<00:00, 105.85it/s, loss=0.559]\n"
          ]
        },
        {
          "output_type": "stream",
          "name": "stdout",
          "text": [
            "Epoch [127/5000]: Train loss: 1.1848, Valid loss: 1.2231\n"
          ]
        },
        {
          "output_type": "stream",
          "name": "stderr",
          "text": [
            "Epoch [128/5000]: 100%|██████████| 68/68 [00:00<00:00, 102.36it/s, loss=0.831]\n"
          ]
        },
        {
          "output_type": "stream",
          "name": "stdout",
          "text": [
            "Epoch [128/5000]: Train loss: 1.1736, Valid loss: 1.1861\n",
            "Saving model with loss 1.186...\n"
          ]
        },
        {
          "output_type": "stream",
          "name": "stderr",
          "text": [
            "Epoch [129/5000]: 100%|██████████| 68/68 [00:00<00:00, 109.03it/s, loss=2.04]\n"
          ]
        },
        {
          "output_type": "stream",
          "name": "stdout",
          "text": [
            "Epoch [129/5000]: Train loss: 1.1734, Valid loss: 1.1993\n"
          ]
        },
        {
          "output_type": "stream",
          "name": "stderr",
          "text": [
            "Epoch [130/5000]: 100%|██████████| 68/68 [00:00<00:00, 87.05it/s, loss=2.22]\n"
          ]
        },
        {
          "output_type": "stream",
          "name": "stdout",
          "text": [
            "Epoch [130/5000]: Train loss: 1.1743, Valid loss: 1.1879\n"
          ]
        },
        {
          "output_type": "stream",
          "name": "stderr",
          "text": [
            "Epoch [131/5000]: 100%|██████████| 68/68 [00:00<00:00, 87.21it/s, loss=0.655]\n"
          ]
        },
        {
          "output_type": "stream",
          "name": "stdout",
          "text": [
            "Epoch [131/5000]: Train loss: 1.1781, Valid loss: 1.1824\n",
            "Saving model with loss 1.182...\n"
          ]
        },
        {
          "output_type": "stream",
          "name": "stderr",
          "text": [
            "Epoch [132/5000]: 100%|██████████| 68/68 [00:00<00:00, 102.88it/s, loss=0.804]\n"
          ]
        },
        {
          "output_type": "stream",
          "name": "stdout",
          "text": [
            "Epoch [132/5000]: Train loss: 1.1607, Valid loss: 1.1756\n",
            "Saving model with loss 1.176...\n"
          ]
        },
        {
          "output_type": "stream",
          "name": "stderr",
          "text": [
            "Epoch [133/5000]: 100%|██████████| 68/68 [00:00<00:00, 103.69it/s, loss=1.31]\n"
          ]
        },
        {
          "output_type": "stream",
          "name": "stdout",
          "text": [
            "Epoch [133/5000]: Train loss: 1.1622, Valid loss: 1.1825\n"
          ]
        },
        {
          "output_type": "stream",
          "name": "stderr",
          "text": [
            "Epoch [134/5000]: 100%|██████████| 68/68 [00:00<00:00, 103.19it/s, loss=0.526]\n"
          ]
        },
        {
          "output_type": "stream",
          "name": "stdout",
          "text": [
            "Epoch [134/5000]: Train loss: 1.1552, Valid loss: 1.1750\n",
            "Saving model with loss 1.175...\n"
          ]
        },
        {
          "output_type": "stream",
          "name": "stderr",
          "text": [
            "Epoch [135/5000]: 100%|██████████| 68/68 [00:00<00:00, 122.92it/s, loss=1.45]\n"
          ]
        },
        {
          "output_type": "stream",
          "name": "stdout",
          "text": [
            "Epoch [135/5000]: Train loss: 1.1538, Valid loss: 1.1837\n"
          ]
        },
        {
          "output_type": "stream",
          "name": "stderr",
          "text": [
            "Epoch [136/5000]: 100%|██████████| 68/68 [00:00<00:00, 79.12it/s, loss=0.691]\n"
          ]
        },
        {
          "output_type": "stream",
          "name": "stdout",
          "text": [
            "Epoch [136/5000]: Train loss: 1.1547, Valid loss: 1.1763\n"
          ]
        },
        {
          "output_type": "stream",
          "name": "stderr",
          "text": [
            "Epoch [137/5000]: 100%|██████████| 68/68 [00:00<00:00, 99.21it/s, loss=0.81] \n"
          ]
        },
        {
          "output_type": "stream",
          "name": "stdout",
          "text": [
            "Epoch [137/5000]: Train loss: 1.1615, Valid loss: 1.1916\n"
          ]
        },
        {
          "output_type": "stream",
          "name": "stderr",
          "text": [
            "Epoch [138/5000]: 100%|██████████| 68/68 [00:00<00:00, 101.29it/s, loss=1.95]\n"
          ]
        },
        {
          "output_type": "stream",
          "name": "stdout",
          "text": [
            "Epoch [138/5000]: Train loss: 1.1569, Valid loss: 1.2120\n"
          ]
        },
        {
          "output_type": "stream",
          "name": "stderr",
          "text": [
            "Epoch [139/5000]: 100%|██████████| 68/68 [00:00<00:00, 79.72it/s, loss=1.49]\n"
          ]
        },
        {
          "output_type": "stream",
          "name": "stdout",
          "text": [
            "Epoch [139/5000]: Train loss: 1.1597, Valid loss: 1.1867\n"
          ]
        },
        {
          "output_type": "stream",
          "name": "stderr",
          "text": [
            "Epoch [140/5000]: 100%|██████████| 68/68 [00:00<00:00, 92.34it/s, loss=0.959]\n"
          ]
        },
        {
          "output_type": "stream",
          "name": "stdout",
          "text": [
            "Epoch [140/5000]: Train loss: 1.1485, Valid loss: 1.1713\n",
            "Saving model with loss 1.171...\n"
          ]
        },
        {
          "output_type": "stream",
          "name": "stderr",
          "text": [
            "Epoch [141/5000]: 100%|██████████| 68/68 [00:00<00:00, 88.79it/s, loss=1.22]\n"
          ]
        },
        {
          "output_type": "stream",
          "name": "stdout",
          "text": [
            "Epoch [141/5000]: Train loss: 1.1573, Valid loss: 1.1718\n"
          ]
        },
        {
          "output_type": "stream",
          "name": "stderr",
          "text": [
            "Epoch [142/5000]: 100%|██████████| 68/68 [00:00<00:00, 99.56it/s, loss=0.61]\n"
          ]
        },
        {
          "output_type": "stream",
          "name": "stdout",
          "text": [
            "Epoch [142/5000]: Train loss: 1.1408, Valid loss: 1.1669\n",
            "Saving model with loss 1.167...\n"
          ]
        },
        {
          "output_type": "stream",
          "name": "stderr",
          "text": [
            "Epoch [143/5000]: 100%|██████████| 68/68 [00:00<00:00, 87.02it/s, loss=1.11]\n"
          ]
        },
        {
          "output_type": "stream",
          "name": "stdout",
          "text": [
            "Epoch [143/5000]: Train loss: 1.1365, Valid loss: 1.1802\n"
          ]
        },
        {
          "output_type": "stream",
          "name": "stderr",
          "text": [
            "Epoch [144/5000]: 100%|██████████| 68/68 [00:00<00:00, 104.32it/s, loss=1.29]\n"
          ]
        },
        {
          "output_type": "stream",
          "name": "stdout",
          "text": [
            "Epoch [144/5000]: Train loss: 1.1416, Valid loss: 1.1707\n"
          ]
        },
        {
          "output_type": "stream",
          "name": "stderr",
          "text": [
            "Epoch [145/5000]: 100%|██████████| 68/68 [00:00<00:00, 88.29it/s, loss=0.896]\n"
          ]
        },
        {
          "output_type": "stream",
          "name": "stdout",
          "text": [
            "Epoch [145/5000]: Train loss: 1.1530, Valid loss: 1.1695\n"
          ]
        },
        {
          "output_type": "stream",
          "name": "stderr",
          "text": [
            "Epoch [146/5000]: 100%|██████████| 68/68 [00:00<00:00, 76.93it/s, loss=0.311]\n"
          ]
        },
        {
          "output_type": "stream",
          "name": "stdout",
          "text": [
            "Epoch [146/5000]: Train loss: 1.1359, Valid loss: 1.1871\n"
          ]
        },
        {
          "output_type": "stream",
          "name": "stderr",
          "text": [
            "Epoch [147/5000]: 100%|██████████| 68/68 [00:00<00:00, 104.27it/s, loss=0.708]\n"
          ]
        },
        {
          "output_type": "stream",
          "name": "stdout",
          "text": [
            "Epoch [147/5000]: Train loss: 1.1339, Valid loss: 1.1984\n"
          ]
        },
        {
          "output_type": "stream",
          "name": "stderr",
          "text": [
            "Epoch [148/5000]: 100%|██████████| 68/68 [00:00<00:00, 105.84it/s, loss=0.933]\n"
          ]
        },
        {
          "output_type": "stream",
          "name": "stdout",
          "text": [
            "Epoch [148/5000]: Train loss: 1.1417, Valid loss: 1.1691\n"
          ]
        },
        {
          "output_type": "stream",
          "name": "stderr",
          "text": [
            "Epoch [149/5000]: 100%|██████████| 68/68 [00:00<00:00, 76.55it/s, loss=1.15]\n"
          ]
        },
        {
          "output_type": "stream",
          "name": "stdout",
          "text": [
            "Epoch [149/5000]: Train loss: 1.1362, Valid loss: 1.1719\n"
          ]
        },
        {
          "output_type": "stream",
          "name": "stderr",
          "text": [
            "Epoch [150/5000]: 100%|██████████| 68/68 [00:00<00:00, 105.27it/s, loss=1.15]\n"
          ]
        },
        {
          "output_type": "stream",
          "name": "stdout",
          "text": [
            "Epoch [150/5000]: Train loss: 1.1383, Valid loss: 1.1649\n",
            "Saving model with loss 1.165...\n"
          ]
        },
        {
          "output_type": "stream",
          "name": "stderr",
          "text": [
            "Epoch [151/5000]: 100%|██████████| 68/68 [00:00<00:00, 106.12it/s, loss=1.25]\n"
          ]
        },
        {
          "output_type": "stream",
          "name": "stdout",
          "text": [
            "Epoch [151/5000]: Train loss: 1.1264, Valid loss: 1.1700\n"
          ]
        },
        {
          "output_type": "stream",
          "name": "stderr",
          "text": [
            "Epoch [152/5000]: 100%|██████████| 68/68 [00:00<00:00, 102.92it/s, loss=0.777]\n"
          ]
        },
        {
          "output_type": "stream",
          "name": "stdout",
          "text": [
            "Epoch [152/5000]: Train loss: 1.1336, Valid loss: 1.2387\n"
          ]
        },
        {
          "output_type": "stream",
          "name": "stderr",
          "text": [
            "Epoch [153/5000]: 100%|██████████| 68/68 [00:00<00:00, 70.35it/s, loss=0.861]\n"
          ]
        },
        {
          "output_type": "stream",
          "name": "stdout",
          "text": [
            "Epoch [153/5000]: Train loss: 1.1327, Valid loss: 1.1666\n"
          ]
        },
        {
          "output_type": "stream",
          "name": "stderr",
          "text": [
            "Epoch [154/5000]: 100%|██████████| 68/68 [00:00<00:00, 101.17it/s, loss=0.897]\n"
          ]
        },
        {
          "output_type": "stream",
          "name": "stdout",
          "text": [
            "Epoch [154/5000]: Train loss: 1.1378, Valid loss: 1.2184\n"
          ]
        },
        {
          "output_type": "stream",
          "name": "stderr",
          "text": [
            "Epoch [155/5000]: 100%|██████████| 68/68 [00:00<00:00, 99.90it/s, loss=1.21]\n"
          ]
        },
        {
          "output_type": "stream",
          "name": "stdout",
          "text": [
            "Epoch [155/5000]: Train loss: 1.1299, Valid loss: 1.1814\n"
          ]
        },
        {
          "output_type": "stream",
          "name": "stderr",
          "text": [
            "Epoch [156/5000]: 100%|██████████| 68/68 [00:00<00:00, 85.91it/s, loss=1.1]\n"
          ]
        },
        {
          "output_type": "stream",
          "name": "stdout",
          "text": [
            "Epoch [156/5000]: Train loss: 1.1316, Valid loss: 1.1665\n"
          ]
        },
        {
          "output_type": "stream",
          "name": "stderr",
          "text": [
            "Epoch [157/5000]: 100%|██████████| 68/68 [00:00<00:00, 78.08it/s, loss=1.96]\n"
          ]
        },
        {
          "output_type": "stream",
          "name": "stdout",
          "text": [
            "Epoch [157/5000]: Train loss: 1.1396, Valid loss: 1.1660\n"
          ]
        },
        {
          "output_type": "stream",
          "name": "stderr",
          "text": [
            "Epoch [158/5000]: 100%|██████████| 68/68 [00:00<00:00, 97.92it/s, loss=1.84]\n"
          ]
        },
        {
          "output_type": "stream",
          "name": "stdout",
          "text": [
            "Epoch [158/5000]: Train loss: 1.1415, Valid loss: 1.1800\n"
          ]
        },
        {
          "output_type": "stream",
          "name": "stderr",
          "text": [
            "Epoch [159/5000]: 100%|██████████| 68/68 [00:00<00:00, 117.03it/s, loss=0.781]\n"
          ]
        },
        {
          "output_type": "stream",
          "name": "stdout",
          "text": [
            "Epoch [159/5000]: Train loss: 1.1232, Valid loss: 1.2170\n"
          ]
        },
        {
          "output_type": "stream",
          "name": "stderr",
          "text": [
            "Epoch [160/5000]: 100%|██████████| 68/68 [00:00<00:00, 95.83it/s, loss=0.818]\n"
          ]
        },
        {
          "output_type": "stream",
          "name": "stdout",
          "text": [
            "Epoch [160/5000]: Train loss: 1.1317, Valid loss: 1.1723\n"
          ]
        },
        {
          "output_type": "stream",
          "name": "stderr",
          "text": [
            "Epoch [161/5000]: 100%|██████████| 68/68 [00:00<00:00, 83.71it/s, loss=3.5]\n"
          ]
        },
        {
          "output_type": "stream",
          "name": "stdout",
          "text": [
            "Epoch [161/5000]: Train loss: 1.1470, Valid loss: 1.1729\n"
          ]
        },
        {
          "output_type": "stream",
          "name": "stderr",
          "text": [
            "Epoch [162/5000]: 100%|██████████| 68/68 [00:00<00:00, 89.59it/s, loss=0.791]\n"
          ]
        },
        {
          "output_type": "stream",
          "name": "stdout",
          "text": [
            "Epoch [162/5000]: Train loss: 1.1136, Valid loss: 1.1840\n"
          ]
        },
        {
          "output_type": "stream",
          "name": "stderr",
          "text": [
            "Epoch [163/5000]: 100%|██████████| 68/68 [00:00<00:00, 100.39it/s, loss=1.56]\n"
          ]
        },
        {
          "output_type": "stream",
          "name": "stdout",
          "text": [
            "Epoch [163/5000]: Train loss: 1.1219, Valid loss: 1.1953\n"
          ]
        },
        {
          "output_type": "stream",
          "name": "stderr",
          "text": [
            "Epoch [164/5000]: 100%|██████████| 68/68 [00:00<00:00, 88.17it/s, loss=1.13]\n"
          ]
        },
        {
          "output_type": "stream",
          "name": "stdout",
          "text": [
            "Epoch [164/5000]: Train loss: 1.1304, Valid loss: 1.1788\n"
          ]
        },
        {
          "output_type": "stream",
          "name": "stderr",
          "text": [
            "Epoch [165/5000]: 100%|██████████| 68/68 [00:00<00:00, 97.96it/s, loss=0.865] \n"
          ]
        },
        {
          "output_type": "stream",
          "name": "stdout",
          "text": [
            "Epoch [165/5000]: Train loss: 1.1162, Valid loss: 1.1674\n"
          ]
        },
        {
          "output_type": "stream",
          "name": "stderr",
          "text": [
            "Epoch [166/5000]: 100%|██████████| 68/68 [00:00<00:00, 105.66it/s, loss=0.72]\n"
          ]
        },
        {
          "output_type": "stream",
          "name": "stdout",
          "text": [
            "Epoch [166/5000]: Train loss: 1.1168, Valid loss: 1.1961\n"
          ]
        },
        {
          "output_type": "stream",
          "name": "stderr",
          "text": [
            "Epoch [167/5000]: 100%|██████████| 68/68 [00:00<00:00, 94.41it/s, loss=0.818]\n"
          ]
        },
        {
          "output_type": "stream",
          "name": "stdout",
          "text": [
            "Epoch [167/5000]: Train loss: 1.1132, Valid loss: 1.1703\n"
          ]
        },
        {
          "output_type": "stream",
          "name": "stderr",
          "text": [
            "Epoch [168/5000]: 100%|██████████| 68/68 [00:00<00:00, 84.93it/s, loss=1.73]\n"
          ]
        },
        {
          "output_type": "stream",
          "name": "stdout",
          "text": [
            "Epoch [168/5000]: Train loss: 1.1249, Valid loss: 1.1695\n"
          ]
        },
        {
          "output_type": "stream",
          "name": "stderr",
          "text": [
            "Epoch [169/5000]: 100%|██████████| 68/68 [00:00<00:00, 98.56it/s, loss=1.42] \n"
          ]
        },
        {
          "output_type": "stream",
          "name": "stdout",
          "text": [
            "Epoch [169/5000]: Train loss: 1.1305, Valid loss: 1.1827\n"
          ]
        },
        {
          "output_type": "stream",
          "name": "stderr",
          "text": [
            "Epoch [170/5000]: 100%|██████████| 68/68 [00:00<00:00, 96.88it/s, loss=1.8]\n"
          ]
        },
        {
          "output_type": "stream",
          "name": "stdout",
          "text": [
            "Epoch [170/5000]: Train loss: 1.1232, Valid loss: 1.1858\n"
          ]
        },
        {
          "output_type": "stream",
          "name": "stderr",
          "text": [
            "Epoch [171/5000]: 100%|██████████| 68/68 [00:00<00:00, 93.84it/s, loss=0.858]\n"
          ]
        },
        {
          "output_type": "stream",
          "name": "stdout",
          "text": [
            "Epoch [171/5000]: Train loss: 1.1233, Valid loss: 1.1713\n"
          ]
        },
        {
          "output_type": "stream",
          "name": "stderr",
          "text": [
            "Epoch [172/5000]: 100%|██████████| 68/68 [00:00<00:00, 100.48it/s, loss=0.89]\n"
          ]
        },
        {
          "output_type": "stream",
          "name": "stdout",
          "text": [
            "Epoch [172/5000]: Train loss: 1.1099, Valid loss: 1.1689\n"
          ]
        },
        {
          "output_type": "stream",
          "name": "stderr",
          "text": [
            "Epoch [173/5000]: 100%|██████████| 68/68 [00:00<00:00, 106.48it/s, loss=0.814]\n"
          ]
        },
        {
          "output_type": "stream",
          "name": "stdout",
          "text": [
            "Epoch [173/5000]: Train loss: 1.1159, Valid loss: 1.1725\n"
          ]
        },
        {
          "output_type": "stream",
          "name": "stderr",
          "text": [
            "Epoch [174/5000]: 100%|██████████| 68/68 [00:00<00:00, 95.21it/s, loss=0.687]\n"
          ]
        },
        {
          "output_type": "stream",
          "name": "stdout",
          "text": [
            "Epoch [174/5000]: Train loss: 1.1115, Valid loss: 1.1617\n",
            "Saving model with loss 1.162...\n"
          ]
        },
        {
          "output_type": "stream",
          "name": "stderr",
          "text": [
            "Epoch [175/5000]: 100%|██████████| 68/68 [00:00<00:00, 89.88it/s, loss=0.958]\n"
          ]
        },
        {
          "output_type": "stream",
          "name": "stdout",
          "text": [
            "Epoch [175/5000]: Train loss: 1.1155, Valid loss: 1.2144\n"
          ]
        },
        {
          "output_type": "stream",
          "name": "stderr",
          "text": [
            "Epoch [176/5000]: 100%|██████████| 68/68 [00:00<00:00, 125.83it/s, loss=1.48]\n"
          ]
        },
        {
          "output_type": "stream",
          "name": "stdout",
          "text": [
            "Epoch [176/5000]: Train loss: 1.1206, Valid loss: 1.2029\n"
          ]
        },
        {
          "output_type": "stream",
          "name": "stderr",
          "text": [
            "Epoch [177/5000]: 100%|██████████| 68/68 [00:00<00:00, 88.04it/s, loss=0.564]\n"
          ]
        },
        {
          "output_type": "stream",
          "name": "stdout",
          "text": [
            "Epoch [177/5000]: Train loss: 1.1291, Valid loss: 1.1710\n"
          ]
        },
        {
          "output_type": "stream",
          "name": "stderr",
          "text": [
            "Epoch [178/5000]: 100%|██████████| 68/68 [00:00<00:00, 90.05it/s, loss=0.596]\n"
          ]
        },
        {
          "output_type": "stream",
          "name": "stdout",
          "text": [
            "Epoch [178/5000]: Train loss: 1.1277, Valid loss: 1.1915\n"
          ]
        },
        {
          "output_type": "stream",
          "name": "stderr",
          "text": [
            "Epoch [179/5000]: 100%|██████████| 68/68 [00:00<00:00, 96.84it/s, loss=1.77]\n"
          ]
        },
        {
          "output_type": "stream",
          "name": "stdout",
          "text": [
            "Epoch [179/5000]: Train loss: 1.1188, Valid loss: 1.2157\n"
          ]
        },
        {
          "output_type": "stream",
          "name": "stderr",
          "text": [
            "Epoch [180/5000]: 100%|██████████| 68/68 [00:00<00:00, 78.84it/s, loss=1.44]\n"
          ]
        },
        {
          "output_type": "stream",
          "name": "stdout",
          "text": [
            "Epoch [180/5000]: Train loss: 1.1210, Valid loss: 1.1768\n"
          ]
        },
        {
          "output_type": "stream",
          "name": "stderr",
          "text": [
            "Epoch [181/5000]: 100%|██████████| 68/68 [00:00<00:00, 103.78it/s, loss=0.483]\n"
          ]
        },
        {
          "output_type": "stream",
          "name": "stdout",
          "text": [
            "Epoch [181/5000]: Train loss: 1.1092, Valid loss: 1.1758\n"
          ]
        },
        {
          "output_type": "stream",
          "name": "stderr",
          "text": [
            "Epoch [182/5000]: 100%|██████████| 68/68 [00:00<00:00, 103.01it/s, loss=1.14]\n"
          ]
        },
        {
          "output_type": "stream",
          "name": "stdout",
          "text": [
            "Epoch [182/5000]: Train loss: 1.1107, Valid loss: 1.1731\n"
          ]
        },
        {
          "output_type": "stream",
          "name": "stderr",
          "text": [
            "Epoch [183/5000]: 100%|██████████| 68/68 [00:00<00:00, 105.83it/s, loss=1.31]\n"
          ]
        },
        {
          "output_type": "stream",
          "name": "stdout",
          "text": [
            "Epoch [183/5000]: Train loss: 1.1074, Valid loss: 1.1666\n"
          ]
        },
        {
          "output_type": "stream",
          "name": "stderr",
          "text": [
            "Epoch [184/5000]: 100%|██████████| 68/68 [00:00<00:00, 81.59it/s, loss=0.447]\n"
          ]
        },
        {
          "output_type": "stream",
          "name": "stdout",
          "text": [
            "Epoch [184/5000]: Train loss: 1.1121, Valid loss: 1.1714\n"
          ]
        },
        {
          "output_type": "stream",
          "name": "stderr",
          "text": [
            "Epoch [185/5000]: 100%|██████████| 68/68 [00:00<00:00, 104.19it/s, loss=0.615]\n"
          ]
        },
        {
          "output_type": "stream",
          "name": "stdout",
          "text": [
            "Epoch [185/5000]: Train loss: 1.1189, Valid loss: 1.1740\n"
          ]
        },
        {
          "output_type": "stream",
          "name": "stderr",
          "text": [
            "Epoch [186/5000]: 100%|██████████| 68/68 [00:00<00:00, 88.12it/s, loss=1.57]\n"
          ]
        },
        {
          "output_type": "stream",
          "name": "stdout",
          "text": [
            "Epoch [186/5000]: Train loss: 1.1103, Valid loss: 1.1686\n"
          ]
        },
        {
          "output_type": "stream",
          "name": "stderr",
          "text": [
            "Epoch [187/5000]: 100%|██████████| 68/68 [00:00<00:00, 80.88it/s, loss=0.83]\n"
          ]
        },
        {
          "output_type": "stream",
          "name": "stdout",
          "text": [
            "Epoch [187/5000]: Train loss: 1.1045, Valid loss: 1.1780\n"
          ]
        },
        {
          "output_type": "stream",
          "name": "stderr",
          "text": [
            "Epoch [188/5000]: 100%|██████████| 68/68 [00:00<00:00, 106.22it/s, loss=1.15]\n"
          ]
        },
        {
          "output_type": "stream",
          "name": "stdout",
          "text": [
            "Epoch [188/5000]: Train loss: 1.1056, Valid loss: 1.1691\n"
          ]
        },
        {
          "output_type": "stream",
          "name": "stderr",
          "text": [
            "Epoch [189/5000]: 100%|██████████| 68/68 [00:00<00:00, 111.69it/s, loss=0.952]\n"
          ]
        },
        {
          "output_type": "stream",
          "name": "stdout",
          "text": [
            "Epoch [189/5000]: Train loss: 1.1131, Valid loss: 1.2807\n"
          ]
        },
        {
          "output_type": "stream",
          "name": "stderr",
          "text": [
            "Epoch [190/5000]: 100%|██████████| 68/68 [00:00<00:00, 94.44it/s, loss=0.4]\n"
          ]
        },
        {
          "output_type": "stream",
          "name": "stdout",
          "text": [
            "Epoch [190/5000]: Train loss: 1.1070, Valid loss: 1.1698\n"
          ]
        },
        {
          "output_type": "stream",
          "name": "stderr",
          "text": [
            "Epoch [191/5000]: 100%|██████████| 68/68 [00:00<00:00, 101.96it/s, loss=1.61]\n"
          ]
        },
        {
          "output_type": "stream",
          "name": "stdout",
          "text": [
            "Epoch [191/5000]: Train loss: 1.1139, Valid loss: 1.1708\n"
          ]
        },
        {
          "output_type": "stream",
          "name": "stderr",
          "text": [
            "Epoch [192/5000]: 100%|██████████| 68/68 [00:00<00:00, 87.19it/s, loss=1.34]\n"
          ]
        },
        {
          "output_type": "stream",
          "name": "stdout",
          "text": [
            "Epoch [192/5000]: Train loss: 1.1211, Valid loss: 1.1587\n",
            "Saving model with loss 1.159...\n"
          ]
        },
        {
          "output_type": "stream",
          "name": "stderr",
          "text": [
            "Epoch [193/5000]: 100%|██████████| 68/68 [00:00<00:00, 96.15it/s, loss=1.51]\n"
          ]
        },
        {
          "output_type": "stream",
          "name": "stdout",
          "text": [
            "Epoch [193/5000]: Train loss: 1.1156, Valid loss: 1.1766\n"
          ]
        },
        {
          "output_type": "stream",
          "name": "stderr",
          "text": [
            "Epoch [194/5000]: 100%|██████████| 68/68 [00:00<00:00, 86.00it/s, loss=0.709]\n"
          ]
        },
        {
          "output_type": "stream",
          "name": "stdout",
          "text": [
            "Epoch [194/5000]: Train loss: 1.1105, Valid loss: 1.2009\n"
          ]
        },
        {
          "output_type": "stream",
          "name": "stderr",
          "text": [
            "Epoch [195/5000]: 100%|██████████| 68/68 [00:00<00:00, 111.40it/s, loss=1.92]\n"
          ]
        },
        {
          "output_type": "stream",
          "name": "stdout",
          "text": [
            "Epoch [195/5000]: Train loss: 1.1176, Valid loss: 1.2733\n"
          ]
        },
        {
          "output_type": "stream",
          "name": "stderr",
          "text": [
            "Epoch [196/5000]: 100%|██████████| 68/68 [00:00<00:00, 91.58it/s, loss=1.08]\n"
          ]
        },
        {
          "output_type": "stream",
          "name": "stdout",
          "text": [
            "Epoch [196/5000]: Train loss: 1.1312, Valid loss: 1.1690\n"
          ]
        },
        {
          "output_type": "stream",
          "name": "stderr",
          "text": [
            "Epoch [197/5000]: 100%|██████████| 68/68 [00:00<00:00, 102.01it/s, loss=0.824]\n"
          ]
        },
        {
          "output_type": "stream",
          "name": "stdout",
          "text": [
            "Epoch [197/5000]: Train loss: 1.1096, Valid loss: 1.1990\n"
          ]
        },
        {
          "output_type": "stream",
          "name": "stderr",
          "text": [
            "Epoch [198/5000]: 100%|██████████| 68/68 [00:00<00:00, 85.62it/s, loss=0.849]\n"
          ]
        },
        {
          "output_type": "stream",
          "name": "stdout",
          "text": [
            "Epoch [198/5000]: Train loss: 1.1019, Valid loss: 1.1702\n"
          ]
        },
        {
          "output_type": "stream",
          "name": "stderr",
          "text": [
            "Epoch [199/5000]: 100%|██████████| 68/68 [00:00<00:00, 107.06it/s, loss=0.737]\n"
          ]
        },
        {
          "output_type": "stream",
          "name": "stdout",
          "text": [
            "Epoch [199/5000]: Train loss: 1.0983, Valid loss: 1.1909\n"
          ]
        },
        {
          "output_type": "stream",
          "name": "stderr",
          "text": [
            "Epoch [200/5000]: 100%|██████████| 68/68 [00:00<00:00, 99.33it/s, loss=1]\n"
          ]
        },
        {
          "output_type": "stream",
          "name": "stdout",
          "text": [
            "Epoch [200/5000]: Train loss: 1.1133, Valid loss: 1.1708\n"
          ]
        },
        {
          "output_type": "stream",
          "name": "stderr",
          "text": [
            "Epoch [201/5000]: 100%|██████████| 68/68 [00:00<00:00, 83.92it/s, loss=1.6]\n"
          ]
        },
        {
          "output_type": "stream",
          "name": "stdout",
          "text": [
            "Epoch [201/5000]: Train loss: 1.1105, Valid loss: 1.1627\n"
          ]
        },
        {
          "output_type": "stream",
          "name": "stderr",
          "text": [
            "Epoch [202/5000]: 100%|██████████| 68/68 [00:00<00:00, 94.72it/s, loss=1.02]\n"
          ]
        },
        {
          "output_type": "stream",
          "name": "stdout",
          "text": [
            "Epoch [202/5000]: Train loss: 1.1125, Valid loss: 1.2310\n"
          ]
        },
        {
          "output_type": "stream",
          "name": "stderr",
          "text": [
            "Epoch [203/5000]: 100%|██████████| 68/68 [00:00<00:00, 80.45it/s, loss=1.11]\n"
          ]
        },
        {
          "output_type": "stream",
          "name": "stdout",
          "text": [
            "Epoch [203/5000]: Train loss: 1.1082, Valid loss: 1.1713\n"
          ]
        },
        {
          "output_type": "stream",
          "name": "stderr",
          "text": [
            "Epoch [204/5000]: 100%|██████████| 68/68 [00:00<00:00, 121.66it/s, loss=0.741]\n"
          ]
        },
        {
          "output_type": "stream",
          "name": "stdout",
          "text": [
            "Epoch [204/5000]: Train loss: 1.1057, Valid loss: 1.1586\n",
            "Saving model with loss 1.159...\n"
          ]
        },
        {
          "output_type": "stream",
          "name": "stderr",
          "text": [
            "Epoch [205/5000]: 100%|██████████| 68/68 [00:00<00:00, 81.07it/s, loss=1.43]\n"
          ]
        },
        {
          "output_type": "stream",
          "name": "stdout",
          "text": [
            "Epoch [205/5000]: Train loss: 1.1062, Valid loss: 1.2028\n"
          ]
        },
        {
          "output_type": "stream",
          "name": "stderr",
          "text": [
            "Epoch [206/5000]: 100%|██████████| 68/68 [00:00<00:00, 99.94it/s, loss=0.788]\n"
          ]
        },
        {
          "output_type": "stream",
          "name": "stdout",
          "text": [
            "Epoch [206/5000]: Train loss: 1.0975, Valid loss: 1.2310\n"
          ]
        },
        {
          "output_type": "stream",
          "name": "stderr",
          "text": [
            "Epoch [207/5000]: 100%|██████████| 68/68 [00:00<00:00, 93.89it/s, loss=0.784]\n"
          ]
        },
        {
          "output_type": "stream",
          "name": "stdout",
          "text": [
            "Epoch [207/5000]: Train loss: 1.0989, Valid loss: 1.1626\n"
          ]
        },
        {
          "output_type": "stream",
          "name": "stderr",
          "text": [
            "Epoch [208/5000]: 100%|██████████| 68/68 [00:00<00:00, 84.66it/s, loss=2.14]\n"
          ]
        },
        {
          "output_type": "stream",
          "name": "stdout",
          "text": [
            "Epoch [208/5000]: Train loss: 1.1022, Valid loss: 1.1752\n"
          ]
        },
        {
          "output_type": "stream",
          "name": "stderr",
          "text": [
            "Epoch [209/5000]: 100%|██████████| 68/68 [00:00<00:00, 94.86it/s, loss=1.96] \n"
          ]
        },
        {
          "output_type": "stream",
          "name": "stdout",
          "text": [
            "Epoch [209/5000]: Train loss: 1.0987, Valid loss: 1.1936\n"
          ]
        },
        {
          "output_type": "stream",
          "name": "stderr",
          "text": [
            "Epoch [210/5000]: 100%|██████████| 68/68 [00:00<00:00, 90.62it/s, loss=1.14]\n"
          ]
        },
        {
          "output_type": "stream",
          "name": "stdout",
          "text": [
            "Epoch [210/5000]: Train loss: 1.1001, Valid loss: 1.1576\n",
            "Saving model with loss 1.158...\n"
          ]
        },
        {
          "output_type": "stream",
          "name": "stderr",
          "text": [
            "Epoch [211/5000]: 100%|██████████| 68/68 [00:00<00:00, 99.25it/s, loss=0.506]\n"
          ]
        },
        {
          "output_type": "stream",
          "name": "stdout",
          "text": [
            "Epoch [211/5000]: Train loss: 1.0913, Valid loss: 1.1871\n"
          ]
        },
        {
          "output_type": "stream",
          "name": "stderr",
          "text": [
            "Epoch [212/5000]: 100%|██████████| 68/68 [00:00<00:00, 115.45it/s, loss=1.03]\n"
          ]
        },
        {
          "output_type": "stream",
          "name": "stdout",
          "text": [
            "Epoch [212/5000]: Train loss: 1.1016, Valid loss: 1.1735\n"
          ]
        },
        {
          "output_type": "stream",
          "name": "stderr",
          "text": [
            "Epoch [213/5000]: 100%|██████████| 68/68 [00:00<00:00, 100.28it/s, loss=2.37]\n"
          ]
        },
        {
          "output_type": "stream",
          "name": "stdout",
          "text": [
            "Epoch [213/5000]: Train loss: 1.1210, Valid loss: 1.1689\n"
          ]
        },
        {
          "output_type": "stream",
          "name": "stderr",
          "text": [
            "Epoch [214/5000]: 100%|██████████| 68/68 [00:00<00:00, 86.91it/s, loss=1.36]\n"
          ]
        },
        {
          "output_type": "stream",
          "name": "stdout",
          "text": [
            "Epoch [214/5000]: Train loss: 1.1162, Valid loss: 1.1742\n"
          ]
        },
        {
          "output_type": "stream",
          "name": "stderr",
          "text": [
            "Epoch [215/5000]: 100%|██████████| 68/68 [00:00<00:00, 86.04it/s, loss=1.11]\n"
          ]
        },
        {
          "output_type": "stream",
          "name": "stdout",
          "text": [
            "Epoch [215/5000]: Train loss: 1.0929, Valid loss: 1.1829\n"
          ]
        },
        {
          "output_type": "stream",
          "name": "stderr",
          "text": [
            "Epoch [216/5000]: 100%|██████████| 68/68 [00:00<00:00, 118.27it/s, loss=1.08]\n"
          ]
        },
        {
          "output_type": "stream",
          "name": "stdout",
          "text": [
            "Epoch [216/5000]: Train loss: 1.0972, Valid loss: 1.1609\n"
          ]
        },
        {
          "output_type": "stream",
          "name": "stderr",
          "text": [
            "Epoch [217/5000]: 100%|██████████| 68/68 [00:00<00:00, 105.42it/s, loss=1.18]\n"
          ]
        },
        {
          "output_type": "stream",
          "name": "stdout",
          "text": [
            "Epoch [217/5000]: Train loss: 1.0988, Valid loss: 1.1665\n"
          ]
        },
        {
          "output_type": "stream",
          "name": "stderr",
          "text": [
            "Epoch [218/5000]: 100%|██████████| 68/68 [00:00<00:00, 87.23it/s, loss=0.764]\n"
          ]
        },
        {
          "output_type": "stream",
          "name": "stdout",
          "text": [
            "Epoch [218/5000]: Train loss: 1.0923, Valid loss: 1.1629\n"
          ]
        },
        {
          "output_type": "stream",
          "name": "stderr",
          "text": [
            "Epoch [219/5000]: 100%|██████████| 68/68 [00:00<00:00, 94.05it/s, loss=0.707]\n"
          ]
        },
        {
          "output_type": "stream",
          "name": "stdout",
          "text": [
            "Epoch [219/5000]: Train loss: 1.1329, Valid loss: 1.1574\n",
            "Saving model with loss 1.157...\n"
          ]
        },
        {
          "output_type": "stream",
          "name": "stderr",
          "text": [
            "Epoch [220/5000]: 100%|██████████| 68/68 [00:00<00:00, 99.44it/s, loss=1.36] \n"
          ]
        },
        {
          "output_type": "stream",
          "name": "stdout",
          "text": [
            "Epoch [220/5000]: Train loss: 1.0995, Valid loss: 1.1673\n"
          ]
        },
        {
          "output_type": "stream",
          "name": "stderr",
          "text": [
            "Epoch [221/5000]: 100%|██████████| 68/68 [00:00<00:00, 91.14it/s, loss=0.957]\n"
          ]
        },
        {
          "output_type": "stream",
          "name": "stdout",
          "text": [
            "Epoch [221/5000]: Train loss: 1.0925, Valid loss: 1.1630\n"
          ]
        },
        {
          "output_type": "stream",
          "name": "stderr",
          "text": [
            "Epoch [222/5000]: 100%|██████████| 68/68 [00:00<00:00, 119.95it/s, loss=0.672]\n"
          ]
        },
        {
          "output_type": "stream",
          "name": "stdout",
          "text": [
            "Epoch [222/5000]: Train loss: 1.0959, Valid loss: 1.1784\n"
          ]
        },
        {
          "output_type": "stream",
          "name": "stderr",
          "text": [
            "Epoch [223/5000]: 100%|██████████| 68/68 [00:00<00:00, 96.27it/s, loss=0.465]\n"
          ]
        },
        {
          "output_type": "stream",
          "name": "stdout",
          "text": [
            "Epoch [223/5000]: Train loss: 1.0862, Valid loss: 1.1866\n"
          ]
        },
        {
          "output_type": "stream",
          "name": "stderr",
          "text": [
            "Epoch [224/5000]: 100%|██████████| 68/68 [00:00<00:00, 101.03it/s, loss=2.5]\n"
          ]
        },
        {
          "output_type": "stream",
          "name": "stdout",
          "text": [
            "Epoch [224/5000]: Train loss: 1.1032, Valid loss: 1.1668\n"
          ]
        },
        {
          "output_type": "stream",
          "name": "stderr",
          "text": [
            "Epoch [225/5000]: 100%|██████████| 68/68 [00:00<00:00, 93.15it/s, loss=1.24]\n"
          ]
        },
        {
          "output_type": "stream",
          "name": "stdout",
          "text": [
            "Epoch [225/5000]: Train loss: 1.0959, Valid loss: 1.1679\n"
          ]
        },
        {
          "output_type": "stream",
          "name": "stderr",
          "text": [
            "Epoch [226/5000]: 100%|██████████| 68/68 [00:00<00:00, 77.63it/s, loss=0.501]\n"
          ]
        },
        {
          "output_type": "stream",
          "name": "stdout",
          "text": [
            "Epoch [226/5000]: Train loss: 1.0916, Valid loss: 1.1814\n"
          ]
        },
        {
          "output_type": "stream",
          "name": "stderr",
          "text": [
            "Epoch [227/5000]: 100%|██████████| 68/68 [00:00<00:00, 117.26it/s, loss=1.59]\n"
          ]
        },
        {
          "output_type": "stream",
          "name": "stdout",
          "text": [
            "Epoch [227/5000]: Train loss: 1.1059, Valid loss: 1.1742\n"
          ]
        },
        {
          "output_type": "stream",
          "name": "stderr",
          "text": [
            "Epoch [228/5000]: 100%|██████████| 68/68 [00:00<00:00, 99.63it/s, loss=1.34]\n"
          ]
        },
        {
          "output_type": "stream",
          "name": "stdout",
          "text": [
            "Epoch [228/5000]: Train loss: 1.1158, Valid loss: 1.1754\n"
          ]
        },
        {
          "output_type": "stream",
          "name": "stderr",
          "text": [
            "Epoch [229/5000]: 100%|██████████| 68/68 [00:00<00:00, 111.18it/s, loss=0.988]\n"
          ]
        },
        {
          "output_type": "stream",
          "name": "stdout",
          "text": [
            "Epoch [229/5000]: Train loss: 1.1369, Valid loss: 1.1705\n"
          ]
        },
        {
          "output_type": "stream",
          "name": "stderr",
          "text": [
            "Epoch [230/5000]: 100%|██████████| 68/68 [00:00<00:00, 111.11it/s, loss=1.42]\n"
          ]
        },
        {
          "output_type": "stream",
          "name": "stdout",
          "text": [
            "Epoch [230/5000]: Train loss: 1.1144, Valid loss: 1.2509\n"
          ]
        },
        {
          "output_type": "stream",
          "name": "stderr",
          "text": [
            "Epoch [231/5000]: 100%|██████████| 68/68 [00:00<00:00, 106.74it/s, loss=0.574]\n"
          ]
        },
        {
          "output_type": "stream",
          "name": "stdout",
          "text": [
            "Epoch [231/5000]: Train loss: 1.0881, Valid loss: 1.2851\n"
          ]
        },
        {
          "output_type": "stream",
          "name": "stderr",
          "text": [
            "Epoch [232/5000]: 100%|██████████| 68/68 [00:00<00:00, 107.92it/s, loss=1.27]\n"
          ]
        },
        {
          "output_type": "stream",
          "name": "stdout",
          "text": [
            "Epoch [232/5000]: Train loss: 1.0963, Valid loss: 1.2230\n"
          ]
        },
        {
          "output_type": "stream",
          "name": "stderr",
          "text": [
            "Epoch [233/5000]: 100%|██████████| 68/68 [00:00<00:00, 103.66it/s, loss=0.265]\n"
          ]
        },
        {
          "output_type": "stream",
          "name": "stdout",
          "text": [
            "Epoch [233/5000]: Train loss: 1.1124, Valid loss: 1.2159\n"
          ]
        },
        {
          "output_type": "stream",
          "name": "stderr",
          "text": [
            "Epoch [234/5000]: 100%|██████████| 68/68 [00:00<00:00, 102.17it/s, loss=1.13]\n"
          ]
        },
        {
          "output_type": "stream",
          "name": "stdout",
          "text": [
            "Epoch [234/5000]: Train loss: 1.0924, Valid loss: 1.1932\n"
          ]
        },
        {
          "output_type": "stream",
          "name": "stderr",
          "text": [
            "Epoch [235/5000]: 100%|██████████| 68/68 [00:00<00:00, 81.78it/s, loss=1.1]\n"
          ]
        },
        {
          "output_type": "stream",
          "name": "stdout",
          "text": [
            "Epoch [235/5000]: Train loss: 1.0949, Valid loss: 1.1919\n"
          ]
        },
        {
          "output_type": "stream",
          "name": "stderr",
          "text": [
            "Epoch [236/5000]: 100%|██████████| 68/68 [00:00<00:00, 108.07it/s, loss=0.63]\n"
          ]
        },
        {
          "output_type": "stream",
          "name": "stdout",
          "text": [
            "Epoch [236/5000]: Train loss: 1.0801, Valid loss: 1.1691\n"
          ]
        },
        {
          "output_type": "stream",
          "name": "stderr",
          "text": [
            "Epoch [237/5000]: 100%|██████████| 68/68 [00:00<00:00, 116.16it/s, loss=0.648]\n"
          ]
        },
        {
          "output_type": "stream",
          "name": "stdout",
          "text": [
            "Epoch [237/5000]: Train loss: 1.0883, Valid loss: 1.1677\n"
          ]
        },
        {
          "output_type": "stream",
          "name": "stderr",
          "text": [
            "Epoch [238/5000]: 100%|██████████| 68/68 [00:00<00:00, 91.37it/s, loss=2.02]\n"
          ]
        },
        {
          "output_type": "stream",
          "name": "stdout",
          "text": [
            "Epoch [238/5000]: Train loss: 1.0983, Valid loss: 1.1633\n"
          ]
        },
        {
          "output_type": "stream",
          "name": "stderr",
          "text": [
            "Epoch [239/5000]: 100%|██████████| 68/68 [00:00<00:00, 105.69it/s, loss=0.391]\n"
          ]
        },
        {
          "output_type": "stream",
          "name": "stdout",
          "text": [
            "Epoch [239/5000]: Train loss: 1.0861, Valid loss: 1.1686\n"
          ]
        },
        {
          "output_type": "stream",
          "name": "stderr",
          "text": [
            "Epoch [240/5000]: 100%|██████████| 68/68 [00:00<00:00, 88.77it/s, loss=1.21]\n"
          ]
        },
        {
          "output_type": "stream",
          "name": "stdout",
          "text": [
            "Epoch [240/5000]: Train loss: 1.0960, Valid loss: 1.1856\n"
          ]
        },
        {
          "output_type": "stream",
          "name": "stderr",
          "text": [
            "Epoch [241/5000]: 100%|██████████| 68/68 [00:00<00:00, 121.91it/s, loss=1.21]\n"
          ]
        },
        {
          "output_type": "stream",
          "name": "stdout",
          "text": [
            "Epoch [241/5000]: Train loss: 1.0842, Valid loss: 1.1682\n"
          ]
        },
        {
          "output_type": "stream",
          "name": "stderr",
          "text": [
            "Epoch [242/5000]: 100%|██████████| 68/68 [00:00<00:00, 71.08it/s, loss=0.562]\n"
          ]
        },
        {
          "output_type": "stream",
          "name": "stdout",
          "text": [
            "Epoch [242/5000]: Train loss: 1.0934, Valid loss: 1.1666\n"
          ]
        },
        {
          "output_type": "stream",
          "name": "stderr",
          "text": [
            "Epoch [243/5000]: 100%|██████████| 68/68 [00:00<00:00, 81.99it/s, loss=0.931]\n"
          ]
        },
        {
          "output_type": "stream",
          "name": "stdout",
          "text": [
            "Epoch [243/5000]: Train loss: 1.0910, Valid loss: 1.1779\n"
          ]
        },
        {
          "output_type": "stream",
          "name": "stderr",
          "text": [
            "Epoch [244/5000]: 100%|██████████| 68/68 [00:00<00:00, 94.31it/s, loss=0.445]\n"
          ]
        },
        {
          "output_type": "stream",
          "name": "stdout",
          "text": [
            "Epoch [244/5000]: Train loss: 1.0787, Valid loss: 1.2104\n"
          ]
        },
        {
          "output_type": "stream",
          "name": "stderr",
          "text": [
            "Epoch [245/5000]: 100%|██████████| 68/68 [00:00<00:00, 91.91it/s, loss=3.39]\n"
          ]
        },
        {
          "output_type": "stream",
          "name": "stdout",
          "text": [
            "Epoch [245/5000]: Train loss: 1.1257, Valid loss: 1.1604\n"
          ]
        },
        {
          "output_type": "stream",
          "name": "stderr",
          "text": [
            "Epoch [246/5000]: 100%|██████████| 68/68 [00:00<00:00, 121.84it/s, loss=1.05]\n"
          ]
        },
        {
          "output_type": "stream",
          "name": "stdout",
          "text": [
            "Epoch [246/5000]: Train loss: 1.0920, Valid loss: 1.2030\n"
          ]
        },
        {
          "output_type": "stream",
          "name": "stderr",
          "text": [
            "Epoch [247/5000]: 100%|██████████| 68/68 [00:00<00:00, 110.84it/s, loss=1.26]\n"
          ]
        },
        {
          "output_type": "stream",
          "name": "stdout",
          "text": [
            "Epoch [247/5000]: Train loss: 1.0849, Valid loss: 1.1621\n"
          ]
        },
        {
          "output_type": "stream",
          "name": "stderr",
          "text": [
            "Epoch [248/5000]: 100%|██████████| 68/68 [00:00<00:00, 94.23it/s, loss=1.13]\n"
          ]
        },
        {
          "output_type": "stream",
          "name": "stdout",
          "text": [
            "Epoch [248/5000]: Train loss: 1.0894, Valid loss: 1.1649\n"
          ]
        },
        {
          "output_type": "stream",
          "name": "stderr",
          "text": [
            "Epoch [249/5000]: 100%|██████████| 68/68 [00:00<00:00, 103.77it/s, loss=0.897]\n"
          ]
        },
        {
          "output_type": "stream",
          "name": "stdout",
          "text": [
            "Epoch [249/5000]: Train loss: 1.1154, Valid loss: 1.2107\n"
          ]
        },
        {
          "output_type": "stream",
          "name": "stderr",
          "text": [
            "Epoch [250/5000]: 100%|██████████| 68/68 [00:00<00:00, 88.01it/s, loss=0.594]\n"
          ]
        },
        {
          "output_type": "stream",
          "name": "stdout",
          "text": [
            "Epoch [250/5000]: Train loss: 1.0939, Valid loss: 1.1907\n"
          ]
        },
        {
          "output_type": "stream",
          "name": "stderr",
          "text": [
            "Epoch [251/5000]: 100%|██████████| 68/68 [00:00<00:00, 98.01it/s, loss=0.843]\n"
          ]
        },
        {
          "output_type": "stream",
          "name": "stdout",
          "text": [
            "Epoch [251/5000]: Train loss: 1.0874, Valid loss: 1.1795\n"
          ]
        },
        {
          "output_type": "stream",
          "name": "stderr",
          "text": [
            "Epoch [252/5000]: 100%|██████████| 68/68 [00:00<00:00, 88.19it/s, loss=0.82]\n"
          ]
        },
        {
          "output_type": "stream",
          "name": "stdout",
          "text": [
            "Epoch [252/5000]: Train loss: 1.0840, Valid loss: 1.1775\n"
          ]
        },
        {
          "output_type": "stream",
          "name": "stderr",
          "text": [
            "Epoch [253/5000]: 100%|██████████| 68/68 [00:00<00:00, 114.20it/s, loss=1.47]\n"
          ]
        },
        {
          "output_type": "stream",
          "name": "stdout",
          "text": [
            "Epoch [253/5000]: Train loss: 1.0880, Valid loss: 1.1646\n"
          ]
        },
        {
          "output_type": "stream",
          "name": "stderr",
          "text": [
            "Epoch [254/5000]: 100%|██████████| 68/68 [00:00<00:00, 104.70it/s, loss=0.62]\n"
          ]
        },
        {
          "output_type": "stream",
          "name": "stdout",
          "text": [
            "Epoch [254/5000]: Train loss: 1.0850, Valid loss: 1.1609\n"
          ]
        },
        {
          "output_type": "stream",
          "name": "stderr",
          "text": [
            "Epoch [255/5000]: 100%|██████████| 68/68 [00:00<00:00, 75.22it/s, loss=1.41]\n"
          ]
        },
        {
          "output_type": "stream",
          "name": "stdout",
          "text": [
            "Epoch [255/5000]: Train loss: 1.1039, Valid loss: 1.1598\n"
          ]
        },
        {
          "output_type": "stream",
          "name": "stderr",
          "text": [
            "Epoch [256/5000]: 100%|██████████| 68/68 [00:00<00:00, 116.42it/s, loss=1.61]\n"
          ]
        },
        {
          "output_type": "stream",
          "name": "stdout",
          "text": [
            "Epoch [256/5000]: Train loss: 1.0862, Valid loss: 1.1698\n"
          ]
        },
        {
          "output_type": "stream",
          "name": "stderr",
          "text": [
            "Epoch [257/5000]: 100%|██████████| 68/68 [00:00<00:00, 93.69it/s, loss=1.06]\n"
          ]
        },
        {
          "output_type": "stream",
          "name": "stdout",
          "text": [
            "Epoch [257/5000]: Train loss: 1.0918, Valid loss: 1.1801\n"
          ]
        },
        {
          "output_type": "stream",
          "name": "stderr",
          "text": [
            "Epoch [258/5000]: 100%|██████████| 68/68 [00:00<00:00, 90.20it/s, loss=0.597]\n"
          ]
        },
        {
          "output_type": "stream",
          "name": "stdout",
          "text": [
            "Epoch [258/5000]: Train loss: 1.0785, Valid loss: 1.1778\n"
          ]
        },
        {
          "output_type": "stream",
          "name": "stderr",
          "text": [
            "Epoch [259/5000]: 100%|██████████| 68/68 [00:00<00:00, 105.39it/s, loss=0.355]\n"
          ]
        },
        {
          "output_type": "stream",
          "name": "stdout",
          "text": [
            "Epoch [259/5000]: Train loss: 1.0784, Valid loss: 1.1626\n"
          ]
        },
        {
          "output_type": "stream",
          "name": "stderr",
          "text": [
            "Epoch [260/5000]: 100%|██████████| 68/68 [00:00<00:00, 107.95it/s, loss=1.29]\n"
          ]
        },
        {
          "output_type": "stream",
          "name": "stdout",
          "text": [
            "Epoch [260/5000]: Train loss: 1.0885, Valid loss: 1.1627\n"
          ]
        },
        {
          "output_type": "stream",
          "name": "stderr",
          "text": [
            "Epoch [261/5000]: 100%|██████████| 68/68 [00:00<00:00, 103.77it/s, loss=3.13]\n"
          ]
        },
        {
          "output_type": "stream",
          "name": "stdout",
          "text": [
            "Epoch [261/5000]: Train loss: 1.1070, Valid loss: 1.1653\n"
          ]
        },
        {
          "output_type": "stream",
          "name": "stderr",
          "text": [
            "Epoch [262/5000]: 100%|██████████| 68/68 [00:00<00:00, 104.70it/s, loss=0.699]\n"
          ]
        },
        {
          "output_type": "stream",
          "name": "stdout",
          "text": [
            "Epoch [262/5000]: Train loss: 1.0777, Valid loss: 1.1918\n"
          ]
        },
        {
          "output_type": "stream",
          "name": "stderr",
          "text": [
            "Epoch [263/5000]: 100%|██████████| 68/68 [00:00<00:00, 107.99it/s, loss=0.823]\n"
          ]
        },
        {
          "output_type": "stream",
          "name": "stdout",
          "text": [
            "Epoch [263/5000]: Train loss: 1.0940, Valid loss: 1.1549\n",
            "Saving model with loss 1.155...\n"
          ]
        },
        {
          "output_type": "stream",
          "name": "stderr",
          "text": [
            "Epoch [264/5000]: 100%|██████████| 68/68 [00:00<00:00, 104.07it/s, loss=0.986]\n"
          ]
        },
        {
          "output_type": "stream",
          "name": "stdout",
          "text": [
            "Epoch [264/5000]: Train loss: 1.0832, Valid loss: 1.1869\n"
          ]
        },
        {
          "output_type": "stream",
          "name": "stderr",
          "text": [
            "Epoch [265/5000]: 100%|██████████| 68/68 [00:00<00:00, 106.23it/s, loss=1.02]\n"
          ]
        },
        {
          "output_type": "stream",
          "name": "stdout",
          "text": [
            "Epoch [265/5000]: Train loss: 1.0874, Valid loss: 1.1595\n"
          ]
        },
        {
          "output_type": "stream",
          "name": "stderr",
          "text": [
            "Epoch [266/5000]: 100%|██████████| 68/68 [00:00<00:00, 84.84it/s, loss=0.77]\n"
          ]
        },
        {
          "output_type": "stream",
          "name": "stdout",
          "text": [
            "Epoch [266/5000]: Train loss: 1.0789, Valid loss: 1.1594\n"
          ]
        },
        {
          "output_type": "stream",
          "name": "stderr",
          "text": [
            "Epoch [267/5000]: 100%|██████████| 68/68 [00:00<00:00, 90.97it/s, loss=0.803] \n"
          ]
        },
        {
          "output_type": "stream",
          "name": "stdout",
          "text": [
            "Epoch [267/5000]: Train loss: 1.1001, Valid loss: 1.1629\n"
          ]
        },
        {
          "output_type": "stream",
          "name": "stderr",
          "text": [
            "Epoch [268/5000]: 100%|██████████| 68/68 [00:00<00:00, 122.88it/s, loss=1.41]\n"
          ]
        },
        {
          "output_type": "stream",
          "name": "stdout",
          "text": [
            "Epoch [268/5000]: Train loss: 1.0982, Valid loss: 1.1849\n"
          ]
        },
        {
          "output_type": "stream",
          "name": "stderr",
          "text": [
            "Epoch [269/5000]: 100%|██████████| 68/68 [00:00<00:00, 86.72it/s, loss=1]\n"
          ]
        },
        {
          "output_type": "stream",
          "name": "stdout",
          "text": [
            "Epoch [269/5000]: Train loss: 1.0881, Valid loss: 1.1656\n"
          ]
        },
        {
          "output_type": "stream",
          "name": "stderr",
          "text": [
            "Epoch [270/5000]: 100%|██████████| 68/68 [00:00<00:00, 83.26it/s, loss=1.09]\n"
          ]
        },
        {
          "output_type": "stream",
          "name": "stdout",
          "text": [
            "Epoch [270/5000]: Train loss: 1.0870, Valid loss: 1.1755\n"
          ]
        },
        {
          "output_type": "stream",
          "name": "stderr",
          "text": [
            "Epoch [271/5000]: 100%|██████████| 68/68 [00:00<00:00, 111.90it/s, loss=0.695]\n"
          ]
        },
        {
          "output_type": "stream",
          "name": "stdout",
          "text": [
            "Epoch [271/5000]: Train loss: 1.0938, Valid loss: 1.1686\n"
          ]
        },
        {
          "output_type": "stream",
          "name": "stderr",
          "text": [
            "Epoch [272/5000]: 100%|██████████| 68/68 [00:00<00:00, 70.03it/s, loss=0.869]\n"
          ]
        },
        {
          "output_type": "stream",
          "name": "stdout",
          "text": [
            "Epoch [272/5000]: Train loss: 1.0930, Valid loss: 1.1692\n"
          ]
        },
        {
          "output_type": "stream",
          "name": "stderr",
          "text": [
            "Epoch [273/5000]: 100%|██████████| 68/68 [00:00<00:00, 123.81it/s, loss=1.24]\n"
          ]
        },
        {
          "output_type": "stream",
          "name": "stdout",
          "text": [
            "Epoch [273/5000]: Train loss: 1.0876, Valid loss: 1.2270\n"
          ]
        },
        {
          "output_type": "stream",
          "name": "stderr",
          "text": [
            "Epoch [274/5000]: 100%|██████████| 68/68 [00:00<00:00, 97.03it/s, loss=1.48]\n"
          ]
        },
        {
          "output_type": "stream",
          "name": "stdout",
          "text": [
            "Epoch [274/5000]: Train loss: 1.0950, Valid loss: 1.1763\n"
          ]
        },
        {
          "output_type": "stream",
          "name": "stderr",
          "text": [
            "Epoch [275/5000]: 100%|██████████| 68/68 [00:00<00:00, 102.56it/s, loss=0.735]\n"
          ]
        },
        {
          "output_type": "stream",
          "name": "stdout",
          "text": [
            "Epoch [275/5000]: Train loss: 1.0726, Valid loss: 1.1736\n"
          ]
        },
        {
          "output_type": "stream",
          "name": "stderr",
          "text": [
            "Epoch [276/5000]: 100%|██████████| 68/68 [00:00<00:00, 114.69it/s, loss=0.601]\n"
          ]
        },
        {
          "output_type": "stream",
          "name": "stdout",
          "text": [
            "Epoch [276/5000]: Train loss: 1.0751, Valid loss: 1.1676\n"
          ]
        },
        {
          "output_type": "stream",
          "name": "stderr",
          "text": [
            "Epoch [277/5000]: 100%|██████████| 68/68 [00:00<00:00, 119.56it/s, loss=0.642]\n"
          ]
        },
        {
          "output_type": "stream",
          "name": "stdout",
          "text": [
            "Epoch [277/5000]: Train loss: 1.0791, Valid loss: 1.1745\n"
          ]
        },
        {
          "output_type": "stream",
          "name": "stderr",
          "text": [
            "Epoch [278/5000]: 100%|██████████| 68/68 [00:00<00:00, 91.59it/s, loss=1.5]\n"
          ]
        },
        {
          "output_type": "stream",
          "name": "stdout",
          "text": [
            "Epoch [278/5000]: Train loss: 1.0919, Valid loss: 1.4231\n"
          ]
        },
        {
          "output_type": "stream",
          "name": "stderr",
          "text": [
            "Epoch [279/5000]: 100%|██████████| 68/68 [00:00<00:00, 107.48it/s, loss=1.41]\n"
          ]
        },
        {
          "output_type": "stream",
          "name": "stdout",
          "text": [
            "Epoch [279/5000]: Train loss: 1.1057, Valid loss: 1.1741\n"
          ]
        },
        {
          "output_type": "stream",
          "name": "stderr",
          "text": [
            "Epoch [280/5000]: 100%|██████████| 68/68 [00:00<00:00, 88.55it/s, loss=0.941]\n"
          ]
        },
        {
          "output_type": "stream",
          "name": "stdout",
          "text": [
            "Epoch [280/5000]: Train loss: 1.0832, Valid loss: 1.1605\n"
          ]
        },
        {
          "output_type": "stream",
          "name": "stderr",
          "text": [
            "Epoch [281/5000]: 100%|██████████| 68/68 [00:00<00:00, 87.21it/s, loss=0.627]\n"
          ]
        },
        {
          "output_type": "stream",
          "name": "stdout",
          "text": [
            "Epoch [281/5000]: Train loss: 1.0802, Valid loss: 1.1631\n"
          ]
        },
        {
          "output_type": "stream",
          "name": "stderr",
          "text": [
            "Epoch [282/5000]: 100%|██████████| 68/68 [00:00<00:00, 103.79it/s, loss=0.997]\n"
          ]
        },
        {
          "output_type": "stream",
          "name": "stdout",
          "text": [
            "Epoch [282/5000]: Train loss: 1.0828, Valid loss: 1.1667\n"
          ]
        },
        {
          "output_type": "stream",
          "name": "stderr",
          "text": [
            "Epoch [283/5000]: 100%|██████████| 68/68 [00:00<00:00, 96.51it/s, loss=1.03] \n"
          ]
        },
        {
          "output_type": "stream",
          "name": "stdout",
          "text": [
            "Epoch [283/5000]: Train loss: 1.0820, Valid loss: 1.1695\n"
          ]
        },
        {
          "output_type": "stream",
          "name": "stderr",
          "text": [
            "Epoch [284/5000]: 100%|██████████| 68/68 [00:00<00:00, 86.12it/s, loss=2.15]\n"
          ]
        },
        {
          "output_type": "stream",
          "name": "stdout",
          "text": [
            "Epoch [284/5000]: Train loss: 1.1026, Valid loss: 1.2046\n"
          ]
        },
        {
          "output_type": "stream",
          "name": "stderr",
          "text": [
            "Epoch [285/5000]: 100%|██████████| 68/68 [00:00<00:00, 101.57it/s, loss=2.53]\n"
          ]
        },
        {
          "output_type": "stream",
          "name": "stdout",
          "text": [
            "Epoch [285/5000]: Train loss: 1.1076, Valid loss: 1.1601\n"
          ]
        },
        {
          "output_type": "stream",
          "name": "stderr",
          "text": [
            "Epoch [286/5000]: 100%|██████████| 68/68 [00:00<00:00, 110.25it/s, loss=1.19]\n"
          ]
        },
        {
          "output_type": "stream",
          "name": "stdout",
          "text": [
            "Epoch [286/5000]: Train loss: 1.0759, Valid loss: 1.1793\n"
          ]
        },
        {
          "output_type": "stream",
          "name": "stderr",
          "text": [
            "Epoch [287/5000]: 100%|██████████| 68/68 [00:00<00:00, 80.97it/s, loss=0.701]\n"
          ]
        },
        {
          "output_type": "stream",
          "name": "stdout",
          "text": [
            "Epoch [287/5000]: Train loss: 1.1133, Valid loss: 1.1709\n"
          ]
        },
        {
          "output_type": "stream",
          "name": "stderr",
          "text": [
            "Epoch [288/5000]: 100%|██████████| 68/68 [00:00<00:00, 114.00it/s, loss=1.87]\n"
          ]
        },
        {
          "output_type": "stream",
          "name": "stdout",
          "text": [
            "Epoch [288/5000]: Train loss: 1.0893, Valid loss: 1.1726\n"
          ]
        },
        {
          "output_type": "stream",
          "name": "stderr",
          "text": [
            "Epoch [289/5000]: 100%|██████████| 68/68 [00:00<00:00, 99.30it/s, loss=0.902]\n"
          ]
        },
        {
          "output_type": "stream",
          "name": "stdout",
          "text": [
            "Epoch [289/5000]: Train loss: 1.1010, Valid loss: 1.1986\n"
          ]
        },
        {
          "output_type": "stream",
          "name": "stderr",
          "text": [
            "Epoch [290/5000]: 100%|██████████| 68/68 [00:00<00:00, 137.23it/s, loss=0.72]\n"
          ]
        },
        {
          "output_type": "stream",
          "name": "stdout",
          "text": [
            "Epoch [290/5000]: Train loss: 1.0940, Valid loss: 1.1658\n"
          ]
        },
        {
          "output_type": "stream",
          "name": "stderr",
          "text": [
            "Epoch [291/5000]: 100%|██████████| 68/68 [00:00<00:00, 99.44it/s, loss=1.4] \n"
          ]
        },
        {
          "output_type": "stream",
          "name": "stdout",
          "text": [
            "Epoch [291/5000]: Train loss: 1.0813, Valid loss: 1.1697\n"
          ]
        },
        {
          "output_type": "stream",
          "name": "stderr",
          "text": [
            "Epoch [292/5000]: 100%|██████████| 68/68 [00:00<00:00, 89.24it/s, loss=0.463]\n"
          ]
        },
        {
          "output_type": "stream",
          "name": "stdout",
          "text": [
            "Epoch [292/5000]: Train loss: 1.0823, Valid loss: 1.1646\n"
          ]
        },
        {
          "output_type": "stream",
          "name": "stderr",
          "text": [
            "Epoch [293/5000]: 100%|██████████| 68/68 [00:00<00:00, 102.33it/s, loss=1.01]\n"
          ]
        },
        {
          "output_type": "stream",
          "name": "stdout",
          "text": [
            "Epoch [293/5000]: Train loss: 1.0764, Valid loss: 1.1624\n"
          ]
        },
        {
          "output_type": "stream",
          "name": "stderr",
          "text": [
            "Epoch [294/5000]: 100%|██████████| 68/68 [00:00<00:00, 103.02it/s, loss=1.52]\n"
          ]
        },
        {
          "output_type": "stream",
          "name": "stdout",
          "text": [
            "Epoch [294/5000]: Train loss: 1.0823, Valid loss: 1.1609\n"
          ]
        },
        {
          "output_type": "stream",
          "name": "stderr",
          "text": [
            "Epoch [295/5000]: 100%|██████████| 68/68 [00:00<00:00, 82.27it/s, loss=1.4]\n"
          ]
        },
        {
          "output_type": "stream",
          "name": "stdout",
          "text": [
            "Epoch [295/5000]: Train loss: 1.0834, Valid loss: 1.1668\n"
          ]
        },
        {
          "output_type": "stream",
          "name": "stderr",
          "text": [
            "Epoch [296/5000]: 100%|██████████| 68/68 [00:00<00:00, 91.50it/s, loss=1.26]\n"
          ]
        },
        {
          "output_type": "stream",
          "name": "stdout",
          "text": [
            "Epoch [296/5000]: Train loss: 1.0839, Valid loss: 1.1604\n"
          ]
        },
        {
          "output_type": "stream",
          "name": "stderr",
          "text": [
            "Epoch [297/5000]: 100%|██████████| 68/68 [00:00<00:00, 96.62it/s, loss=0.912] \n"
          ]
        },
        {
          "output_type": "stream",
          "name": "stdout",
          "text": [
            "Epoch [297/5000]: Train loss: 1.0803, Valid loss: 1.1825\n"
          ]
        },
        {
          "output_type": "stream",
          "name": "stderr",
          "text": [
            "Epoch [298/5000]: 100%|██████████| 68/68 [00:00<00:00, 139.51it/s, loss=0.551]\n"
          ]
        },
        {
          "output_type": "stream",
          "name": "stdout",
          "text": [
            "Epoch [298/5000]: Train loss: 1.0719, Valid loss: 1.1693\n"
          ]
        },
        {
          "output_type": "stream",
          "name": "stderr",
          "text": [
            "Epoch [299/5000]: 100%|██████████| 68/68 [00:00<00:00, 82.01it/s, loss=1.45]\n"
          ]
        },
        {
          "output_type": "stream",
          "name": "stdout",
          "text": [
            "Epoch [299/5000]: Train loss: 1.0767, Valid loss: 1.1716\n"
          ]
        },
        {
          "output_type": "stream",
          "name": "stderr",
          "text": [
            "Epoch [300/5000]: 100%|██████████| 68/68 [00:00<00:00, 84.46it/s, loss=0.818]\n"
          ]
        },
        {
          "output_type": "stream",
          "name": "stdout",
          "text": [
            "Epoch [300/5000]: Train loss: 1.0859, Valid loss: 1.1621\n"
          ]
        },
        {
          "output_type": "stream",
          "name": "stderr",
          "text": [
            "Epoch [301/5000]: 100%|██████████| 68/68 [00:00<00:00, 80.59it/s, loss=1.73]\n"
          ]
        },
        {
          "output_type": "stream",
          "name": "stdout",
          "text": [
            "Epoch [301/5000]: Train loss: 1.0829, Valid loss: 1.2290\n"
          ]
        },
        {
          "output_type": "stream",
          "name": "stderr",
          "text": [
            "Epoch [302/5000]: 100%|██████████| 68/68 [00:00<00:00, 80.08it/s, loss=1.6]\n"
          ]
        },
        {
          "output_type": "stream",
          "name": "stdout",
          "text": [
            "Epoch [302/5000]: Train loss: 1.0936, Valid loss: 1.1664\n"
          ]
        },
        {
          "output_type": "stream",
          "name": "stderr",
          "text": [
            "Epoch [303/5000]: 100%|██████████| 68/68 [00:00<00:00, 92.94it/s, loss=1.42]\n"
          ]
        },
        {
          "output_type": "stream",
          "name": "stdout",
          "text": [
            "Epoch [303/5000]: Train loss: 1.0912, Valid loss: 1.1624\n"
          ]
        },
        {
          "output_type": "stream",
          "name": "stderr",
          "text": [
            "Epoch [304/5000]: 100%|██████████| 68/68 [00:00<00:00, 78.96it/s, loss=1.25]\n"
          ]
        },
        {
          "output_type": "stream",
          "name": "stdout",
          "text": [
            "Epoch [304/5000]: Train loss: 1.0825, Valid loss: 1.1604\n"
          ]
        },
        {
          "output_type": "stream",
          "name": "stderr",
          "text": [
            "Epoch [305/5000]: 100%|██████████| 68/68 [00:00<00:00, 93.33it/s, loss=0.516]\n"
          ]
        },
        {
          "output_type": "stream",
          "name": "stdout",
          "text": [
            "Epoch [305/5000]: Train loss: 1.0718, Valid loss: 1.1663\n"
          ]
        },
        {
          "output_type": "stream",
          "name": "stderr",
          "text": [
            "Epoch [306/5000]: 100%|██████████| 68/68 [00:00<00:00, 98.67it/s, loss=0.648]\n"
          ]
        },
        {
          "output_type": "stream",
          "name": "stdout",
          "text": [
            "Epoch [306/5000]: Train loss: 1.0694, Valid loss: 1.2005\n"
          ]
        },
        {
          "output_type": "stream",
          "name": "stderr",
          "text": [
            "Epoch [307/5000]: 100%|██████████| 68/68 [00:00<00:00, 107.03it/s, loss=0.987]\n"
          ]
        },
        {
          "output_type": "stream",
          "name": "stdout",
          "text": [
            "Epoch [307/5000]: Train loss: 1.0798, Valid loss: 1.1791\n"
          ]
        },
        {
          "output_type": "stream",
          "name": "stderr",
          "text": [
            "Epoch [308/5000]: 100%|██████████| 68/68 [00:00<00:00, 89.64it/s, loss=1.05]\n"
          ]
        },
        {
          "output_type": "stream",
          "name": "stdout",
          "text": [
            "Epoch [308/5000]: Train loss: 1.0844, Valid loss: 1.1997\n"
          ]
        },
        {
          "output_type": "stream",
          "name": "stderr",
          "text": [
            "Epoch [309/5000]: 100%|██████████| 68/68 [00:00<00:00, 93.91it/s, loss=1.13]\n"
          ]
        },
        {
          "output_type": "stream",
          "name": "stdout",
          "text": [
            "Epoch [309/5000]: Train loss: 1.0812, Valid loss: 1.2407\n"
          ]
        },
        {
          "output_type": "stream",
          "name": "stderr",
          "text": [
            "Epoch [310/5000]: 100%|██████████| 68/68 [00:00<00:00, 85.95it/s, loss=1.9]\n"
          ]
        },
        {
          "output_type": "stream",
          "name": "stdout",
          "text": [
            "Epoch [310/5000]: Train loss: 1.1085, Valid loss: 1.1722\n"
          ]
        },
        {
          "output_type": "stream",
          "name": "stderr",
          "text": [
            "Epoch [311/5000]: 100%|██████████| 68/68 [00:00<00:00, 94.99it/s, loss=1.61]\n"
          ]
        },
        {
          "output_type": "stream",
          "name": "stdout",
          "text": [
            "Epoch [311/5000]: Train loss: 1.0790, Valid loss: 1.2219\n"
          ]
        },
        {
          "output_type": "stream",
          "name": "stderr",
          "text": [
            "Epoch [312/5000]: 100%|██████████| 68/68 [00:00<00:00, 107.31it/s, loss=0.586]\n"
          ]
        },
        {
          "output_type": "stream",
          "name": "stdout",
          "text": [
            "Epoch [312/5000]: Train loss: 1.0832, Valid loss: 1.1587\n"
          ]
        },
        {
          "output_type": "stream",
          "name": "stderr",
          "text": [
            "Epoch [313/5000]: 100%|██████████| 68/68 [00:00<00:00, 106.87it/s, loss=1.51]\n"
          ]
        },
        {
          "output_type": "stream",
          "name": "stdout",
          "text": [
            "Epoch [313/5000]: Train loss: 1.0854, Valid loss: 1.1698\n"
          ]
        },
        {
          "output_type": "stream",
          "name": "stderr",
          "text": [
            "Epoch [314/5000]: 100%|██████████| 68/68 [00:00<00:00, 105.51it/s, loss=1.09]\n"
          ]
        },
        {
          "output_type": "stream",
          "name": "stdout",
          "text": [
            "Epoch [314/5000]: Train loss: 1.0739, Valid loss: 1.1574\n"
          ]
        },
        {
          "output_type": "stream",
          "name": "stderr",
          "text": [
            "Epoch [315/5000]: 100%|██████████| 68/68 [00:00<00:00, 107.99it/s, loss=0.827]\n"
          ]
        },
        {
          "output_type": "stream",
          "name": "stdout",
          "text": [
            "Epoch [315/5000]: Train loss: 1.0704, Valid loss: 1.1810\n"
          ]
        },
        {
          "output_type": "stream",
          "name": "stderr",
          "text": [
            "Epoch [316/5000]: 100%|██████████| 68/68 [00:00<00:00, 77.36it/s, loss=0.35]\n"
          ]
        },
        {
          "output_type": "stream",
          "name": "stdout",
          "text": [
            "Epoch [316/5000]: Train loss: 1.0637, Valid loss: 1.2348\n"
          ]
        },
        {
          "output_type": "stream",
          "name": "stderr",
          "text": [
            "Epoch [317/5000]: 100%|██████████| 68/68 [00:00<00:00, 105.39it/s, loss=0.845]\n"
          ]
        },
        {
          "output_type": "stream",
          "name": "stdout",
          "text": [
            "Epoch [317/5000]: Train loss: 1.1070, Valid loss: 1.1607\n"
          ]
        },
        {
          "output_type": "stream",
          "name": "stderr",
          "text": [
            "Epoch [318/5000]: 100%|██████████| 68/68 [00:00<00:00, 107.59it/s, loss=1.02]\n"
          ]
        },
        {
          "output_type": "stream",
          "name": "stdout",
          "text": [
            "Epoch [318/5000]: Train loss: 1.0759, Valid loss: 1.2112\n"
          ]
        },
        {
          "output_type": "stream",
          "name": "stderr",
          "text": [
            "Epoch [319/5000]: 100%|██████████| 68/68 [00:00<00:00, 93.17it/s, loss=0.543]\n"
          ]
        },
        {
          "output_type": "stream",
          "name": "stdout",
          "text": [
            "Epoch [319/5000]: Train loss: 1.0752, Valid loss: 1.1786\n"
          ]
        },
        {
          "output_type": "stream",
          "name": "stderr",
          "text": [
            "Epoch [320/5000]: 100%|██████████| 68/68 [00:00<00:00, 101.41it/s, loss=0.845]\n"
          ]
        },
        {
          "output_type": "stream",
          "name": "stdout",
          "text": [
            "Epoch [320/5000]: Train loss: 1.0679, Valid loss: 1.1603\n"
          ]
        },
        {
          "output_type": "stream",
          "name": "stderr",
          "text": [
            "Epoch [321/5000]: 100%|██████████| 68/68 [00:00<00:00, 86.04it/s, loss=0.542]\n"
          ]
        },
        {
          "output_type": "stream",
          "name": "stdout",
          "text": [
            "Epoch [321/5000]: Train loss: 1.0633, Valid loss: 1.1679\n"
          ]
        },
        {
          "output_type": "stream",
          "name": "stderr",
          "text": [
            "Epoch [322/5000]: 100%|██████████| 68/68 [00:00<00:00, 91.04it/s, loss=0.69] \n"
          ]
        },
        {
          "output_type": "stream",
          "name": "stdout",
          "text": [
            "Epoch [322/5000]: Train loss: 1.0684, Valid loss: 1.2261\n"
          ]
        },
        {
          "output_type": "stream",
          "name": "stderr",
          "text": [
            "Epoch [323/5000]: 100%|██████████| 68/68 [00:00<00:00, 120.39it/s, loss=0.594]\n"
          ]
        },
        {
          "output_type": "stream",
          "name": "stdout",
          "text": [
            "Epoch [323/5000]: Train loss: 1.1250, Valid loss: 1.1583\n"
          ]
        },
        {
          "output_type": "stream",
          "name": "stderr",
          "text": [
            "Epoch [324/5000]: 100%|██████████| 68/68 [00:00<00:00, 88.16it/s, loss=0.544]\n"
          ]
        },
        {
          "output_type": "stream",
          "name": "stdout",
          "text": [
            "Epoch [324/5000]: Train loss: 1.0659, Valid loss: 1.1533\n",
            "Saving model with loss 1.153...\n"
          ]
        },
        {
          "output_type": "stream",
          "name": "stderr",
          "text": [
            "Epoch [325/5000]: 100%|██████████| 68/68 [00:00<00:00, 83.07it/s, loss=1.15]\n"
          ]
        },
        {
          "output_type": "stream",
          "name": "stdout",
          "text": [
            "Epoch [325/5000]: Train loss: 1.0736, Valid loss: 1.1625\n"
          ]
        },
        {
          "output_type": "stream",
          "name": "stderr",
          "text": [
            "Epoch [326/5000]: 100%|██████████| 68/68 [00:00<00:00, 92.72it/s, loss=0.848]\n"
          ]
        },
        {
          "output_type": "stream",
          "name": "stdout",
          "text": [
            "Epoch [326/5000]: Train loss: 1.0655, Valid loss: 1.1828\n"
          ]
        },
        {
          "output_type": "stream",
          "name": "stderr",
          "text": [
            "Epoch [327/5000]: 100%|██████████| 68/68 [00:00<00:00, 89.70it/s, loss=0.861]\n"
          ]
        },
        {
          "output_type": "stream",
          "name": "stdout",
          "text": [
            "Epoch [327/5000]: Train loss: 1.0764, Valid loss: 1.1559\n"
          ]
        },
        {
          "output_type": "stream",
          "name": "stderr",
          "text": [
            "Epoch [328/5000]: 100%|██████████| 68/68 [00:00<00:00, 88.34it/s, loss=0.958]\n"
          ]
        },
        {
          "output_type": "stream",
          "name": "stdout",
          "text": [
            "Epoch [328/5000]: Train loss: 1.0719, Valid loss: 1.2286\n"
          ]
        },
        {
          "output_type": "stream",
          "name": "stderr",
          "text": [
            "Epoch [329/5000]: 100%|██████████| 68/68 [00:00<00:00, 110.14it/s, loss=0.61]\n"
          ]
        },
        {
          "output_type": "stream",
          "name": "stdout",
          "text": [
            "Epoch [329/5000]: Train loss: 1.0792, Valid loss: 1.2502\n"
          ]
        },
        {
          "output_type": "stream",
          "name": "stderr",
          "text": [
            "Epoch [330/5000]: 100%|██████████| 68/68 [00:00<00:00, 80.14it/s, loss=0.843]\n"
          ]
        },
        {
          "output_type": "stream",
          "name": "stdout",
          "text": [
            "Epoch [330/5000]: Train loss: 1.0725, Valid loss: 1.1565\n"
          ]
        },
        {
          "output_type": "stream",
          "name": "stderr",
          "text": [
            "Epoch [331/5000]: 100%|██████████| 68/68 [00:00<00:00, 88.07it/s, loss=0.399]\n"
          ]
        },
        {
          "output_type": "stream",
          "name": "stdout",
          "text": [
            "Epoch [331/5000]: Train loss: 1.0618, Valid loss: 1.1580\n"
          ]
        },
        {
          "output_type": "stream",
          "name": "stderr",
          "text": [
            "Epoch [332/5000]: 100%|██████████| 68/68 [00:00<00:00, 77.00it/s, loss=2.67]\n"
          ]
        },
        {
          "output_type": "stream",
          "name": "stdout",
          "text": [
            "Epoch [332/5000]: Train loss: 1.0805, Valid loss: 1.1572\n"
          ]
        },
        {
          "output_type": "stream",
          "name": "stderr",
          "text": [
            "Epoch [333/5000]: 100%|██████████| 68/68 [00:00<00:00, 95.91it/s, loss=1.48] \n"
          ]
        },
        {
          "output_type": "stream",
          "name": "stdout",
          "text": [
            "Epoch [333/5000]: Train loss: 1.0709, Valid loss: 1.1600\n"
          ]
        },
        {
          "output_type": "stream",
          "name": "stderr",
          "text": [
            "Epoch [334/5000]: 100%|██████████| 68/68 [00:00<00:00, 118.77it/s, loss=1.04]\n"
          ]
        },
        {
          "output_type": "stream",
          "name": "stdout",
          "text": [
            "Epoch [334/5000]: Train loss: 1.0719, Valid loss: 1.1876\n"
          ]
        },
        {
          "output_type": "stream",
          "name": "stderr",
          "text": [
            "Epoch [335/5000]: 100%|██████████| 68/68 [00:00<00:00, 80.41it/s, loss=1.09]\n"
          ]
        },
        {
          "output_type": "stream",
          "name": "stdout",
          "text": [
            "Epoch [335/5000]: Train loss: 1.0740, Valid loss: 1.2126\n"
          ]
        },
        {
          "output_type": "stream",
          "name": "stderr",
          "text": [
            "Epoch [336/5000]: 100%|██████████| 68/68 [00:00<00:00, 88.34it/s, loss=1.59]\n"
          ]
        },
        {
          "output_type": "stream",
          "name": "stdout",
          "text": [
            "Epoch [336/5000]: Train loss: 1.0810, Valid loss: 1.1912\n"
          ]
        },
        {
          "output_type": "stream",
          "name": "stderr",
          "text": [
            "Epoch [337/5000]: 100%|██████████| 68/68 [00:00<00:00, 98.26it/s, loss=0.875] \n"
          ]
        },
        {
          "output_type": "stream",
          "name": "stdout",
          "text": [
            "Epoch [337/5000]: Train loss: 1.1026, Valid loss: 1.1649\n"
          ]
        },
        {
          "output_type": "stream",
          "name": "stderr",
          "text": [
            "Epoch [338/5000]: 100%|██████████| 68/68 [00:00<00:00, 117.49it/s, loss=1.34]\n"
          ]
        },
        {
          "output_type": "stream",
          "name": "stdout",
          "text": [
            "Epoch [338/5000]: Train loss: 1.0796, Valid loss: 1.1654\n"
          ]
        },
        {
          "output_type": "stream",
          "name": "stderr",
          "text": [
            "Epoch [339/5000]: 100%|██████████| 68/68 [00:00<00:00, 86.28it/s, loss=1.17]\n"
          ]
        },
        {
          "output_type": "stream",
          "name": "stdout",
          "text": [
            "Epoch [339/5000]: Train loss: 1.0673, Valid loss: 1.1616\n"
          ]
        },
        {
          "output_type": "stream",
          "name": "stderr",
          "text": [
            "Epoch [340/5000]: 100%|██████████| 68/68 [00:00<00:00, 89.26it/s, loss=0.541] \n"
          ]
        },
        {
          "output_type": "stream",
          "name": "stdout",
          "text": [
            "Epoch [340/5000]: Train loss: 1.0783, Valid loss: 1.1619\n"
          ]
        },
        {
          "output_type": "stream",
          "name": "stderr",
          "text": [
            "Epoch [341/5000]: 100%|██████████| 68/68 [00:00<00:00, 104.41it/s, loss=1.35]\n"
          ]
        },
        {
          "output_type": "stream",
          "name": "stdout",
          "text": [
            "Epoch [341/5000]: Train loss: 1.0779, Valid loss: 1.2342\n"
          ]
        },
        {
          "output_type": "stream",
          "name": "stderr",
          "text": [
            "Epoch [342/5000]: 100%|██████████| 68/68 [00:00<00:00, 89.43it/s, loss=1.48] \n"
          ]
        },
        {
          "output_type": "stream",
          "name": "stdout",
          "text": [
            "Epoch [342/5000]: Train loss: 1.0882, Valid loss: 1.1596\n"
          ]
        },
        {
          "output_type": "stream",
          "name": "stderr",
          "text": [
            "Epoch [343/5000]: 100%|██████████| 68/68 [00:00<00:00, 114.04it/s, loss=0.799]\n"
          ]
        },
        {
          "output_type": "stream",
          "name": "stdout",
          "text": [
            "Epoch [343/5000]: Train loss: 1.0713, Valid loss: 1.1718\n"
          ]
        },
        {
          "output_type": "stream",
          "name": "stderr",
          "text": [
            "Epoch [344/5000]: 100%|██████████| 68/68 [00:00<00:00, 101.62it/s, loss=1.06]\n"
          ]
        },
        {
          "output_type": "stream",
          "name": "stdout",
          "text": [
            "Epoch [344/5000]: Train loss: 1.0732, Valid loss: 1.1609\n"
          ]
        },
        {
          "output_type": "stream",
          "name": "stderr",
          "text": [
            "Epoch [345/5000]: 100%|██████████| 68/68 [00:00<00:00, 109.91it/s, loss=0.448]\n"
          ]
        },
        {
          "output_type": "stream",
          "name": "stdout",
          "text": [
            "Epoch [345/5000]: Train loss: 1.0808, Valid loss: 1.1542\n"
          ]
        },
        {
          "output_type": "stream",
          "name": "stderr",
          "text": [
            "Epoch [346/5000]: 100%|██████████| 68/68 [00:00<00:00, 86.25it/s, loss=0.869]\n"
          ]
        },
        {
          "output_type": "stream",
          "name": "stdout",
          "text": [
            "Epoch [346/5000]: Train loss: 1.0744, Valid loss: 1.1944\n"
          ]
        },
        {
          "output_type": "stream",
          "name": "stderr",
          "text": [
            "Epoch [347/5000]: 100%|██████████| 68/68 [00:00<00:00, 106.94it/s, loss=0.919]\n"
          ]
        },
        {
          "output_type": "stream",
          "name": "stdout",
          "text": [
            "Epoch [347/5000]: Train loss: 1.0694, Valid loss: 1.1640\n"
          ]
        },
        {
          "output_type": "stream",
          "name": "stderr",
          "text": [
            "Epoch [348/5000]: 100%|██████████| 68/68 [00:00<00:00, 113.97it/s, loss=0.602]\n"
          ]
        },
        {
          "output_type": "stream",
          "name": "stdout",
          "text": [
            "Epoch [348/5000]: Train loss: 1.0679, Valid loss: 1.1570\n"
          ]
        },
        {
          "output_type": "stream",
          "name": "stderr",
          "text": [
            "Epoch [349/5000]: 100%|██████████| 68/68 [00:00<00:00, 89.68it/s, loss=0.65]\n"
          ]
        },
        {
          "output_type": "stream",
          "name": "stdout",
          "text": [
            "Epoch [349/5000]: Train loss: 1.0809, Valid loss: 1.1607\n"
          ]
        },
        {
          "output_type": "stream",
          "name": "stderr",
          "text": [
            "Epoch [350/5000]: 100%|██████████| 68/68 [00:01<00:00, 65.97it/s, loss=1.1]\n"
          ]
        },
        {
          "output_type": "stream",
          "name": "stdout",
          "text": [
            "Epoch [350/5000]: Train loss: 1.0754, Valid loss: 1.1715\n"
          ]
        },
        {
          "output_type": "stream",
          "name": "stderr",
          "text": [
            "Epoch [351/5000]: 100%|██████████| 68/68 [00:00<00:00, 85.10it/s, loss=1.19]\n"
          ]
        },
        {
          "output_type": "stream",
          "name": "stdout",
          "text": [
            "Epoch [351/5000]: Train loss: 1.0663, Valid loss: 1.1555\n"
          ]
        },
        {
          "output_type": "stream",
          "name": "stderr",
          "text": [
            "Epoch [352/5000]: 100%|██████████| 68/68 [00:00<00:00, 102.42it/s, loss=1.26]\n"
          ]
        },
        {
          "output_type": "stream",
          "name": "stdout",
          "text": [
            "Epoch [352/5000]: Train loss: 1.0918, Valid loss: 1.1809\n"
          ]
        },
        {
          "output_type": "stream",
          "name": "stderr",
          "text": [
            "Epoch [353/5000]: 100%|██████████| 68/68 [00:00<00:00, 117.53it/s, loss=1.15]\n"
          ]
        },
        {
          "output_type": "stream",
          "name": "stdout",
          "text": [
            "Epoch [353/5000]: Train loss: 1.0734, Valid loss: 1.2457\n"
          ]
        },
        {
          "output_type": "stream",
          "name": "stderr",
          "text": [
            "Epoch [354/5000]: 100%|██████████| 68/68 [00:00<00:00, 85.07it/s, loss=1.48]\n"
          ]
        },
        {
          "output_type": "stream",
          "name": "stdout",
          "text": [
            "Epoch [354/5000]: Train loss: 1.1099, Valid loss: 1.2008\n"
          ]
        },
        {
          "output_type": "stream",
          "name": "stderr",
          "text": [
            "Epoch [355/5000]: 100%|██████████| 68/68 [00:00<00:00, 77.98it/s, loss=1.25]\n"
          ]
        },
        {
          "output_type": "stream",
          "name": "stdout",
          "text": [
            "Epoch [355/5000]: Train loss: 1.0779, Valid loss: 1.1677\n"
          ]
        },
        {
          "output_type": "stream",
          "name": "stderr",
          "text": [
            "Epoch [356/5000]: 100%|██████████| 68/68 [00:00<00:00, 120.79it/s, loss=0.214]\n"
          ]
        },
        {
          "output_type": "stream",
          "name": "stdout",
          "text": [
            "Epoch [356/5000]: Train loss: 1.0599, Valid loss: 1.1727\n"
          ]
        },
        {
          "output_type": "stream",
          "name": "stderr",
          "text": [
            "Epoch [357/5000]: 100%|██████████| 68/68 [00:00<00:00, 111.46it/s, loss=0.518]\n"
          ]
        },
        {
          "output_type": "stream",
          "name": "stdout",
          "text": [
            "Epoch [357/5000]: Train loss: 1.0636, Valid loss: 1.1602\n"
          ]
        },
        {
          "output_type": "stream",
          "name": "stderr",
          "text": [
            "Epoch [358/5000]: 100%|██████████| 68/68 [00:00<00:00, 80.88it/s, loss=0.786]\n"
          ]
        },
        {
          "output_type": "stream",
          "name": "stdout",
          "text": [
            "Epoch [358/5000]: Train loss: 1.0646, Valid loss: 1.1731\n"
          ]
        },
        {
          "output_type": "stream",
          "name": "stderr",
          "text": [
            "Epoch [359/5000]: 100%|██████████| 68/68 [00:00<00:00, 119.88it/s, loss=1.27]\n"
          ]
        },
        {
          "output_type": "stream",
          "name": "stdout",
          "text": [
            "Epoch [359/5000]: Train loss: 1.0798, Valid loss: 1.1820\n"
          ]
        },
        {
          "output_type": "stream",
          "name": "stderr",
          "text": [
            "Epoch [360/5000]: 100%|██████████| 68/68 [00:00<00:00, 99.42it/s, loss=0.663]\n"
          ]
        },
        {
          "output_type": "stream",
          "name": "stdout",
          "text": [
            "Epoch [360/5000]: Train loss: 1.0694, Valid loss: 1.1513\n",
            "Saving model with loss 1.151...\n"
          ]
        },
        {
          "output_type": "stream",
          "name": "stderr",
          "text": [
            "Epoch [361/5000]: 100%|██████████| 68/68 [00:00<00:00, 83.08it/s, loss=1.62]\n"
          ]
        },
        {
          "output_type": "stream",
          "name": "stdout",
          "text": [
            "Epoch [361/5000]: Train loss: 1.0676, Valid loss: 1.1621\n"
          ]
        },
        {
          "output_type": "stream",
          "name": "stderr",
          "text": [
            "Epoch [362/5000]: 100%|██████████| 68/68 [00:00<00:00, 103.58it/s, loss=0.539]\n"
          ]
        },
        {
          "output_type": "stream",
          "name": "stdout",
          "text": [
            "Epoch [362/5000]: Train loss: 1.0767, Valid loss: 1.1577\n"
          ]
        },
        {
          "output_type": "stream",
          "name": "stderr",
          "text": [
            "Epoch [363/5000]: 100%|██████████| 68/68 [00:00<00:00, 89.13it/s, loss=1.34]\n"
          ]
        },
        {
          "output_type": "stream",
          "name": "stdout",
          "text": [
            "Epoch [363/5000]: Train loss: 1.0741, Valid loss: 1.1561\n"
          ]
        },
        {
          "output_type": "stream",
          "name": "stderr",
          "text": [
            "Epoch [364/5000]: 100%|██████████| 68/68 [00:00<00:00, 102.86it/s, loss=2.05]\n"
          ]
        },
        {
          "output_type": "stream",
          "name": "stdout",
          "text": [
            "Epoch [364/5000]: Train loss: 1.0876, Valid loss: 1.1635\n"
          ]
        },
        {
          "output_type": "stream",
          "name": "stderr",
          "text": [
            "Epoch [365/5000]: 100%|██████████| 68/68 [00:00<00:00, 124.27it/s, loss=1.58]\n"
          ]
        },
        {
          "output_type": "stream",
          "name": "stdout",
          "text": [
            "Epoch [365/5000]: Train loss: 1.0793, Valid loss: 1.1602\n"
          ]
        },
        {
          "output_type": "stream",
          "name": "stderr",
          "text": [
            "Epoch [366/5000]: 100%|██████████| 68/68 [00:00<00:00, 82.36it/s, loss=0.748]\n"
          ]
        },
        {
          "output_type": "stream",
          "name": "stdout",
          "text": [
            "Epoch [366/5000]: Train loss: 1.0638, Valid loss: 1.1631\n"
          ]
        },
        {
          "output_type": "stream",
          "name": "stderr",
          "text": [
            "Epoch [367/5000]: 100%|██████████| 68/68 [00:00<00:00, 118.03it/s, loss=1.83]\n"
          ]
        },
        {
          "output_type": "stream",
          "name": "stdout",
          "text": [
            "Epoch [367/5000]: Train loss: 1.0925, Valid loss: 1.1700\n"
          ]
        },
        {
          "output_type": "stream",
          "name": "stderr",
          "text": [
            "Epoch [368/5000]: 100%|██████████| 68/68 [00:00<00:00, 102.70it/s, loss=0.358]\n"
          ]
        },
        {
          "output_type": "stream",
          "name": "stdout",
          "text": [
            "Epoch [368/5000]: Train loss: 1.0649, Valid loss: 1.2069\n"
          ]
        },
        {
          "output_type": "stream",
          "name": "stderr",
          "text": [
            "Epoch [369/5000]: 100%|██████████| 68/68 [00:00<00:00, 80.09it/s, loss=1.1]\n"
          ]
        },
        {
          "output_type": "stream",
          "name": "stdout",
          "text": [
            "Epoch [369/5000]: Train loss: 1.0733, Valid loss: 1.2033\n"
          ]
        },
        {
          "output_type": "stream",
          "name": "stderr",
          "text": [
            "Epoch [370/5000]: 100%|██████████| 68/68 [00:00<00:00, 113.37it/s, loss=1.03]\n"
          ]
        },
        {
          "output_type": "stream",
          "name": "stdout",
          "text": [
            "Epoch [370/5000]: Train loss: 1.0748, Valid loss: 1.1525\n"
          ]
        },
        {
          "output_type": "stream",
          "name": "stderr",
          "text": [
            "Epoch [371/5000]: 100%|██████████| 68/68 [00:00<00:00, 79.83it/s, loss=1.89]\n"
          ]
        },
        {
          "output_type": "stream",
          "name": "stdout",
          "text": [
            "Epoch [371/5000]: Train loss: 1.0702, Valid loss: 1.1536\n"
          ]
        },
        {
          "output_type": "stream",
          "name": "stderr",
          "text": [
            "Epoch [372/5000]: 100%|██████████| 68/68 [00:00<00:00, 107.04it/s, loss=1.37]\n"
          ]
        },
        {
          "output_type": "stream",
          "name": "stdout",
          "text": [
            "Epoch [372/5000]: Train loss: 1.0768, Valid loss: 1.1524\n"
          ]
        },
        {
          "output_type": "stream",
          "name": "stderr",
          "text": [
            "Epoch [373/5000]: 100%|██████████| 68/68 [00:00<00:00, 128.99it/s, loss=1.43]\n"
          ]
        },
        {
          "output_type": "stream",
          "name": "stdout",
          "text": [
            "Epoch [373/5000]: Train loss: 1.0822, Valid loss: 1.1853\n"
          ]
        },
        {
          "output_type": "stream",
          "name": "stderr",
          "text": [
            "Epoch [374/5000]: 100%|██████████| 68/68 [00:00<00:00, 97.10it/s, loss=1.01] \n"
          ]
        },
        {
          "output_type": "stream",
          "name": "stdout",
          "text": [
            "Epoch [374/5000]: Train loss: 1.0678, Valid loss: 1.1622\n"
          ]
        },
        {
          "output_type": "stream",
          "name": "stderr",
          "text": [
            "Epoch [375/5000]: 100%|██████████| 68/68 [00:00<00:00, 104.12it/s, loss=1.49]\n"
          ]
        },
        {
          "output_type": "stream",
          "name": "stdout",
          "text": [
            "Epoch [375/5000]: Train loss: 1.0890, Valid loss: 1.1923\n"
          ]
        },
        {
          "output_type": "stream",
          "name": "stderr",
          "text": [
            "Epoch [376/5000]: 100%|██████████| 68/68 [00:00<00:00, 111.72it/s, loss=1.17]\n"
          ]
        },
        {
          "output_type": "stream",
          "name": "stdout",
          "text": [
            "Epoch [376/5000]: Train loss: 1.0986, Valid loss: 1.1644\n"
          ]
        },
        {
          "output_type": "stream",
          "name": "stderr",
          "text": [
            "Epoch [377/5000]: 100%|██████████| 68/68 [00:00<00:00, 72.44it/s, loss=1.76]\n"
          ]
        },
        {
          "output_type": "stream",
          "name": "stdout",
          "text": [
            "Epoch [377/5000]: Train loss: 1.0863, Valid loss: 1.2698\n"
          ]
        },
        {
          "output_type": "stream",
          "name": "stderr",
          "text": [
            "Epoch [378/5000]: 100%|██████████| 68/68 [00:00<00:00, 89.35it/s, loss=0.2] \n"
          ]
        },
        {
          "output_type": "stream",
          "name": "stdout",
          "text": [
            "Epoch [378/5000]: Train loss: 1.0672, Valid loss: 1.1591\n"
          ]
        },
        {
          "output_type": "stream",
          "name": "stderr",
          "text": [
            "Epoch [379/5000]: 100%|██████████| 68/68 [00:00<00:00, 109.00it/s, loss=1.33]\n"
          ]
        },
        {
          "output_type": "stream",
          "name": "stdout",
          "text": [
            "Epoch [379/5000]: Train loss: 1.0708, Valid loss: 1.1599\n"
          ]
        },
        {
          "output_type": "stream",
          "name": "stderr",
          "text": [
            "Epoch [380/5000]: 100%|██████████| 68/68 [00:00<00:00, 121.49it/s, loss=2.36]\n"
          ]
        },
        {
          "output_type": "stream",
          "name": "stdout",
          "text": [
            "Epoch [380/5000]: Train loss: 1.0858, Valid loss: 1.1721\n"
          ]
        },
        {
          "output_type": "stream",
          "name": "stderr",
          "text": [
            "Epoch [381/5000]: 100%|██████████| 68/68 [00:00<00:00, 107.46it/s, loss=0.427]\n"
          ]
        },
        {
          "output_type": "stream",
          "name": "stdout",
          "text": [
            "Epoch [381/5000]: Train loss: 1.0607, Valid loss: 1.1664\n"
          ]
        },
        {
          "output_type": "stream",
          "name": "stderr",
          "text": [
            "Epoch [382/5000]: 100%|██████████| 68/68 [00:00<00:00, 101.92it/s, loss=0.626]\n"
          ]
        },
        {
          "output_type": "stream",
          "name": "stdout",
          "text": [
            "Epoch [382/5000]: Train loss: 1.0577, Valid loss: 1.1576\n"
          ]
        },
        {
          "output_type": "stream",
          "name": "stderr",
          "text": [
            "Epoch [383/5000]: 100%|██████████| 68/68 [00:00<00:00, 110.21it/s, loss=2.26]\n"
          ]
        },
        {
          "output_type": "stream",
          "name": "stdout",
          "text": [
            "Epoch [383/5000]: Train loss: 1.0804, Valid loss: 1.1746\n"
          ]
        },
        {
          "output_type": "stream",
          "name": "stderr",
          "text": [
            "Epoch [384/5000]: 100%|██████████| 68/68 [00:00<00:00, 83.56it/s, loss=0.476]\n"
          ]
        },
        {
          "output_type": "stream",
          "name": "stdout",
          "text": [
            "Epoch [384/5000]: Train loss: 1.0599, Valid loss: 1.1715\n"
          ]
        },
        {
          "output_type": "stream",
          "name": "stderr",
          "text": [
            "Epoch [385/5000]: 100%|██████████| 68/68 [00:00<00:00, 126.23it/s, loss=0.839]\n"
          ]
        },
        {
          "output_type": "stream",
          "name": "stdout",
          "text": [
            "Epoch [385/5000]: Train loss: 1.0842, Valid loss: 1.1643\n"
          ]
        },
        {
          "output_type": "stream",
          "name": "stderr",
          "text": [
            "Epoch [386/5000]: 100%|██████████| 68/68 [00:00<00:00, 77.27it/s, loss=0.36]\n"
          ]
        },
        {
          "output_type": "stream",
          "name": "stdout",
          "text": [
            "Epoch [386/5000]: Train loss: 1.0672, Valid loss: 1.1842\n"
          ]
        },
        {
          "output_type": "stream",
          "name": "stderr",
          "text": [
            "Epoch [387/5000]: 100%|██████████| 68/68 [00:00<00:00, 85.59it/s, loss=0.817]\n"
          ]
        },
        {
          "output_type": "stream",
          "name": "stdout",
          "text": [
            "Epoch [387/5000]: Train loss: 1.0796, Valid loss: 1.1717\n"
          ]
        },
        {
          "output_type": "stream",
          "name": "stderr",
          "text": [
            "Epoch [388/5000]: 100%|██████████| 68/68 [00:00<00:00, 90.64it/s, loss=0.781]\n"
          ]
        },
        {
          "output_type": "stream",
          "name": "stdout",
          "text": [
            "Epoch [388/5000]: Train loss: 1.0627, Valid loss: 1.1561\n"
          ]
        },
        {
          "output_type": "stream",
          "name": "stderr",
          "text": [
            "Epoch [389/5000]: 100%|██████████| 68/68 [00:00<00:00, 87.37it/s, loss=0.508]\n"
          ]
        },
        {
          "output_type": "stream",
          "name": "stdout",
          "text": [
            "Epoch [389/5000]: Train loss: 1.0632, Valid loss: 1.2130\n"
          ]
        },
        {
          "output_type": "stream",
          "name": "stderr",
          "text": [
            "Epoch [390/5000]: 100%|██████████| 68/68 [00:00<00:00, 115.58it/s, loss=1.64]\n"
          ]
        },
        {
          "output_type": "stream",
          "name": "stdout",
          "text": [
            "Epoch [390/5000]: Train loss: 1.0716, Valid loss: 1.1621\n"
          ]
        },
        {
          "output_type": "stream",
          "name": "stderr",
          "text": [
            "Epoch [391/5000]: 100%|██████████| 68/68 [00:00<00:00, 89.54it/s, loss=1.63]\n"
          ]
        },
        {
          "output_type": "stream",
          "name": "stdout",
          "text": [
            "Epoch [391/5000]: Train loss: 1.0785, Valid loss: 1.1582\n"
          ]
        },
        {
          "output_type": "stream",
          "name": "stderr",
          "text": [
            "Epoch [392/5000]: 100%|██████████| 68/68 [00:00<00:00, 83.47it/s, loss=0.307]\n"
          ]
        },
        {
          "output_type": "stream",
          "name": "stdout",
          "text": [
            "Epoch [392/5000]: Train loss: 1.0582, Valid loss: 1.1505\n",
            "Saving model with loss 1.151...\n"
          ]
        },
        {
          "output_type": "stream",
          "name": "stderr",
          "text": [
            "Epoch [393/5000]: 100%|██████████| 68/68 [00:00<00:00, 98.80it/s, loss=1.11]\n"
          ]
        },
        {
          "output_type": "stream",
          "name": "stdout",
          "text": [
            "Epoch [393/5000]: Train loss: 1.0899, Valid loss: 1.1872\n"
          ]
        },
        {
          "output_type": "stream",
          "name": "stderr",
          "text": [
            "Epoch [394/5000]: 100%|██████████| 68/68 [00:00<00:00, 91.05it/s, loss=0.952]\n"
          ]
        },
        {
          "output_type": "stream",
          "name": "stdout",
          "text": [
            "Epoch [394/5000]: Train loss: 1.0600, Valid loss: 1.1617\n"
          ]
        },
        {
          "output_type": "stream",
          "name": "stderr",
          "text": [
            "Epoch [395/5000]: 100%|██████████| 68/68 [00:00<00:00, 103.48it/s, loss=0.741]\n"
          ]
        },
        {
          "output_type": "stream",
          "name": "stdout",
          "text": [
            "Epoch [395/5000]: Train loss: 1.0603, Valid loss: 1.1811\n"
          ]
        },
        {
          "output_type": "stream",
          "name": "stderr",
          "text": [
            "Epoch [396/5000]: 100%|██████████| 68/68 [00:00<00:00, 103.45it/s, loss=1.55]\n"
          ]
        },
        {
          "output_type": "stream",
          "name": "stdout",
          "text": [
            "Epoch [396/5000]: Train loss: 1.0729, Valid loss: 1.1635\n"
          ]
        },
        {
          "output_type": "stream",
          "name": "stderr",
          "text": [
            "Epoch [397/5000]: 100%|██████████| 68/68 [00:00<00:00, 90.10it/s, loss=0.956]\n"
          ]
        },
        {
          "output_type": "stream",
          "name": "stdout",
          "text": [
            "Epoch [397/5000]: Train loss: 1.0700, Valid loss: 1.1573\n"
          ]
        },
        {
          "output_type": "stream",
          "name": "stderr",
          "text": [
            "Epoch [398/5000]: 100%|██████████| 68/68 [00:00<00:00, 108.55it/s, loss=0.262]\n"
          ]
        },
        {
          "output_type": "stream",
          "name": "stdout",
          "text": [
            "Epoch [398/5000]: Train loss: 1.0696, Valid loss: 1.1754\n"
          ]
        },
        {
          "output_type": "stream",
          "name": "stderr",
          "text": [
            "Epoch [399/5000]: 100%|██████████| 68/68 [00:00<00:00, 78.21it/s, loss=1.19]\n"
          ]
        },
        {
          "output_type": "stream",
          "name": "stdout",
          "text": [
            "Epoch [399/5000]: Train loss: 1.0645, Valid loss: 1.1674\n"
          ]
        },
        {
          "output_type": "stream",
          "name": "stderr",
          "text": [
            "Epoch [400/5000]: 100%|██████████| 68/68 [00:00<00:00, 99.27it/s, loss=0.726] \n"
          ]
        },
        {
          "output_type": "stream",
          "name": "stdout",
          "text": [
            "Epoch [400/5000]: Train loss: 1.0615, Valid loss: 1.1687\n"
          ]
        },
        {
          "output_type": "stream",
          "name": "stderr",
          "text": [
            "Epoch [401/5000]: 100%|██████████| 68/68 [00:00<00:00, 100.00it/s, loss=0.683]\n"
          ]
        },
        {
          "output_type": "stream",
          "name": "stdout",
          "text": [
            "Epoch [401/5000]: Train loss: 1.0627, Valid loss: 1.1758\n"
          ]
        },
        {
          "output_type": "stream",
          "name": "stderr",
          "text": [
            "Epoch [402/5000]: 100%|██████████| 68/68 [00:00<00:00, 97.53it/s, loss=0.356] \n"
          ]
        },
        {
          "output_type": "stream",
          "name": "stdout",
          "text": [
            "Epoch [402/5000]: Train loss: 1.0567, Valid loss: 1.1543\n"
          ]
        },
        {
          "output_type": "stream",
          "name": "stderr",
          "text": [
            "Epoch [403/5000]: 100%|██████████| 68/68 [00:00<00:00, 105.63it/s, loss=1.06]\n"
          ]
        },
        {
          "output_type": "stream",
          "name": "stdout",
          "text": [
            "Epoch [403/5000]: Train loss: 1.0712, Valid loss: 1.1511\n"
          ]
        },
        {
          "output_type": "stream",
          "name": "stderr",
          "text": [
            "Epoch [404/5000]: 100%|██████████| 68/68 [00:00<00:00, 94.28it/s, loss=0.867]\n"
          ]
        },
        {
          "output_type": "stream",
          "name": "stdout",
          "text": [
            "Epoch [404/5000]: Train loss: 1.0773, Valid loss: 1.1538\n"
          ]
        },
        {
          "output_type": "stream",
          "name": "stderr",
          "text": [
            "Epoch [405/5000]: 100%|██████████| 68/68 [00:00<00:00, 90.73it/s, loss=0.404]\n"
          ]
        },
        {
          "output_type": "stream",
          "name": "stdout",
          "text": [
            "Epoch [405/5000]: Train loss: 1.0569, Valid loss: 1.2083\n"
          ]
        },
        {
          "output_type": "stream",
          "name": "stderr",
          "text": [
            "Epoch [406/5000]: 100%|██████████| 68/68 [00:00<00:00, 81.43it/s, loss=0.941]\n"
          ]
        },
        {
          "output_type": "stream",
          "name": "stdout",
          "text": [
            "Epoch [406/5000]: Train loss: 1.0627, Valid loss: 1.1694\n"
          ]
        },
        {
          "output_type": "stream",
          "name": "stderr",
          "text": [
            "Epoch [407/5000]: 100%|██████████| 68/68 [00:00<00:00, 108.76it/s, loss=0.723]\n"
          ]
        },
        {
          "output_type": "stream",
          "name": "stdout",
          "text": [
            "Epoch [407/5000]: Train loss: 1.0657, Valid loss: 1.1621\n"
          ]
        },
        {
          "output_type": "stream",
          "name": "stderr",
          "text": [
            "Epoch [408/5000]: 100%|██████████| 68/68 [00:00<00:00, 78.70it/s, loss=0.948]\n"
          ]
        },
        {
          "output_type": "stream",
          "name": "stdout",
          "text": [
            "Epoch [408/5000]: Train loss: 1.0673, Valid loss: 1.1547\n"
          ]
        },
        {
          "output_type": "stream",
          "name": "stderr",
          "text": [
            "Epoch [409/5000]: 100%|██████████| 68/68 [00:00<00:00, 105.38it/s, loss=0.924]\n"
          ]
        },
        {
          "output_type": "stream",
          "name": "stdout",
          "text": [
            "Epoch [409/5000]: Train loss: 1.0666, Valid loss: 1.1537\n"
          ]
        },
        {
          "output_type": "stream",
          "name": "stderr",
          "text": [
            "Epoch [410/5000]: 100%|██████████| 68/68 [00:00<00:00, 130.86it/s, loss=1.4]\n"
          ]
        },
        {
          "output_type": "stream",
          "name": "stdout",
          "text": [
            "Epoch [410/5000]: Train loss: 1.0685, Valid loss: 1.1600\n"
          ]
        },
        {
          "output_type": "stream",
          "name": "stderr",
          "text": [
            "Epoch [411/5000]: 100%|██████████| 68/68 [00:00<00:00, 74.92it/s, loss=0.571]\n"
          ]
        },
        {
          "output_type": "stream",
          "name": "stdout",
          "text": [
            "Epoch [411/5000]: Train loss: 1.0683, Valid loss: 1.2098\n"
          ]
        },
        {
          "output_type": "stream",
          "name": "stderr",
          "text": [
            "Epoch [412/5000]: 100%|██████████| 68/68 [00:00<00:00, 99.63it/s, loss=0.545] \n"
          ]
        },
        {
          "output_type": "stream",
          "name": "stdout",
          "text": [
            "Epoch [412/5000]: Train loss: 1.0608, Valid loss: 1.1561\n"
          ]
        },
        {
          "output_type": "stream",
          "name": "stderr",
          "text": [
            "Epoch [413/5000]: 100%|██████████| 68/68 [00:00<00:00, 111.42it/s, loss=0.699]\n"
          ]
        },
        {
          "output_type": "stream",
          "name": "stdout",
          "text": [
            "Epoch [413/5000]: Train loss: 1.0592, Valid loss: 1.1659\n"
          ]
        },
        {
          "output_type": "stream",
          "name": "stderr",
          "text": [
            "Epoch [414/5000]: 100%|██████████| 68/68 [00:00<00:00, 75.51it/s, loss=0.424]\n"
          ]
        },
        {
          "output_type": "stream",
          "name": "stdout",
          "text": [
            "Epoch [414/5000]: Train loss: 1.0664, Valid loss: 1.2036\n"
          ]
        },
        {
          "output_type": "stream",
          "name": "stderr",
          "text": [
            "Epoch [415/5000]: 100%|██████████| 68/68 [00:00<00:00, 103.75it/s, loss=1.56]\n"
          ]
        },
        {
          "output_type": "stream",
          "name": "stdout",
          "text": [
            "Epoch [415/5000]: Train loss: 1.0720, Valid loss: 1.1912\n"
          ]
        },
        {
          "output_type": "stream",
          "name": "stderr",
          "text": [
            "Epoch [416/5000]: 100%|██████████| 68/68 [00:00<00:00, 97.52it/s, loss=2.11]\n"
          ]
        },
        {
          "output_type": "stream",
          "name": "stdout",
          "text": [
            "Epoch [416/5000]: Train loss: 1.0882, Valid loss: 1.2646\n"
          ]
        },
        {
          "output_type": "stream",
          "name": "stderr",
          "text": [
            "Epoch [417/5000]: 100%|██████████| 68/68 [00:00<00:00, 100.04it/s, loss=1.59]\n"
          ]
        },
        {
          "output_type": "stream",
          "name": "stdout",
          "text": [
            "Epoch [417/5000]: Train loss: 1.0763, Valid loss: 1.1534\n"
          ]
        },
        {
          "output_type": "stream",
          "name": "stderr",
          "text": [
            "Epoch [418/5000]: 100%|██████████| 68/68 [00:00<00:00, 128.71it/s, loss=0.568]\n"
          ]
        },
        {
          "output_type": "stream",
          "name": "stdout",
          "text": [
            "Epoch [418/5000]: Train loss: 1.0670, Valid loss: 1.1575\n"
          ]
        },
        {
          "output_type": "stream",
          "name": "stderr",
          "text": [
            "Epoch [419/5000]: 100%|██████████| 68/68 [00:00<00:00, 93.57it/s, loss=1.79]\n"
          ]
        },
        {
          "output_type": "stream",
          "name": "stdout",
          "text": [
            "Epoch [419/5000]: Train loss: 1.0888, Valid loss: 1.1573\n"
          ]
        },
        {
          "output_type": "stream",
          "name": "stderr",
          "text": [
            "Epoch [420/5000]: 100%|██████████| 68/68 [00:00<00:00, 90.17it/s, loss=0.806]\n"
          ]
        },
        {
          "output_type": "stream",
          "name": "stdout",
          "text": [
            "Epoch [420/5000]: Train loss: 1.0753, Valid loss: 1.1762\n"
          ]
        },
        {
          "output_type": "stream",
          "name": "stderr",
          "text": [
            "Epoch [421/5000]: 100%|██████████| 68/68 [00:00<00:00, 90.96it/s, loss=1.28]\n"
          ]
        },
        {
          "output_type": "stream",
          "name": "stdout",
          "text": [
            "Epoch [421/5000]: Train loss: 1.0618, Valid loss: 1.1755\n"
          ]
        },
        {
          "output_type": "stream",
          "name": "stderr",
          "text": [
            "Epoch [422/5000]: 100%|██████████| 68/68 [00:00<00:00, 112.01it/s, loss=1.75]\n"
          ]
        },
        {
          "output_type": "stream",
          "name": "stdout",
          "text": [
            "Epoch [422/5000]: Train loss: 1.0752, Valid loss: 1.1611\n"
          ]
        },
        {
          "output_type": "stream",
          "name": "stderr",
          "text": [
            "Epoch [423/5000]: 100%|██████████| 68/68 [00:00<00:00, 95.78it/s, loss=1.75]\n"
          ]
        },
        {
          "output_type": "stream",
          "name": "stdout",
          "text": [
            "Epoch [423/5000]: Train loss: 1.0696, Valid loss: 1.1650\n"
          ]
        },
        {
          "output_type": "stream",
          "name": "stderr",
          "text": [
            "Epoch [424/5000]: 100%|██████████| 68/68 [00:00<00:00, 96.15it/s, loss=0.809]\n"
          ]
        },
        {
          "output_type": "stream",
          "name": "stdout",
          "text": [
            "Epoch [424/5000]: Train loss: 1.0927, Valid loss: 1.1649\n"
          ]
        },
        {
          "output_type": "stream",
          "name": "stderr",
          "text": [
            "Epoch [425/5000]: 100%|██████████| 68/68 [00:00<00:00, 80.33it/s, loss=1.23]\n"
          ]
        },
        {
          "output_type": "stream",
          "name": "stdout",
          "text": [
            "Epoch [425/5000]: Train loss: 1.0772, Valid loss: 1.1927\n"
          ]
        },
        {
          "output_type": "stream",
          "name": "stderr",
          "text": [
            "Epoch [426/5000]: 100%|██████████| 68/68 [00:00<00:00, 109.52it/s, loss=1.13]\n"
          ]
        },
        {
          "output_type": "stream",
          "name": "stdout",
          "text": [
            "Epoch [426/5000]: Train loss: 1.0718, Valid loss: 1.1833\n"
          ]
        },
        {
          "output_type": "stream",
          "name": "stderr",
          "text": [
            "Epoch [427/5000]: 100%|██████████| 68/68 [00:00<00:00, 105.66it/s, loss=0.998]\n"
          ]
        },
        {
          "output_type": "stream",
          "name": "stdout",
          "text": [
            "Epoch [427/5000]: Train loss: 1.0838, Valid loss: 1.1792\n"
          ]
        },
        {
          "output_type": "stream",
          "name": "stderr",
          "text": [
            "Epoch [428/5000]: 100%|██████████| 68/68 [00:00<00:00, 81.21it/s, loss=0.905]\n"
          ]
        },
        {
          "output_type": "stream",
          "name": "stdout",
          "text": [
            "Epoch [428/5000]: Train loss: 1.1050, Valid loss: 1.1572\n"
          ]
        },
        {
          "output_type": "stream",
          "name": "stderr",
          "text": [
            "Epoch [429/5000]: 100%|██████████| 68/68 [00:00<00:00, 104.68it/s, loss=0.784]\n"
          ]
        },
        {
          "output_type": "stream",
          "name": "stdout",
          "text": [
            "Epoch [429/5000]: Train loss: 1.0686, Valid loss: 1.1570\n"
          ]
        },
        {
          "output_type": "stream",
          "name": "stderr",
          "text": [
            "Epoch [430/5000]: 100%|██████████| 68/68 [00:00<00:00, 93.90it/s, loss=0.706]\n"
          ]
        },
        {
          "output_type": "stream",
          "name": "stdout",
          "text": [
            "Epoch [430/5000]: Train loss: 1.0527, Valid loss: 1.1721\n"
          ]
        },
        {
          "output_type": "stream",
          "name": "stderr",
          "text": [
            "Epoch [431/5000]: 100%|██████████| 68/68 [00:00<00:00, 105.98it/s, loss=1.58]\n"
          ]
        },
        {
          "output_type": "stream",
          "name": "stdout",
          "text": [
            "Epoch [431/5000]: Train loss: 1.0744, Valid loss: 1.1602\n"
          ]
        },
        {
          "output_type": "stream",
          "name": "stderr",
          "text": [
            "Epoch [432/5000]: 100%|██████████| 68/68 [00:00<00:00, 75.20it/s, loss=2.24]\n"
          ]
        },
        {
          "output_type": "stream",
          "name": "stdout",
          "text": [
            "Epoch [432/5000]: Train loss: 1.0847, Valid loss: 1.1613\n"
          ]
        },
        {
          "output_type": "stream",
          "name": "stderr",
          "text": [
            "Epoch [433/5000]: 100%|██████████| 68/68 [00:00<00:00, 108.32it/s, loss=1.53]\n"
          ]
        },
        {
          "output_type": "stream",
          "name": "stdout",
          "text": [
            "Epoch [433/5000]: Train loss: 1.0688, Valid loss: 1.1625\n"
          ]
        },
        {
          "output_type": "stream",
          "name": "stderr",
          "text": [
            "Epoch [434/5000]: 100%|██████████| 68/68 [00:00<00:00, 84.35it/s, loss=0.393]\n"
          ]
        },
        {
          "output_type": "stream",
          "name": "stdout",
          "text": [
            "Epoch [434/5000]: Train loss: 1.0463, Valid loss: 1.2286\n"
          ]
        },
        {
          "output_type": "stream",
          "name": "stderr",
          "text": [
            "Epoch [435/5000]: 100%|██████████| 68/68 [00:00<00:00, 85.23it/s, loss=0.369]\n"
          ]
        },
        {
          "output_type": "stream",
          "name": "stdout",
          "text": [
            "Epoch [435/5000]: Train loss: 1.0590, Valid loss: 1.1722\n"
          ]
        },
        {
          "output_type": "stream",
          "name": "stderr",
          "text": [
            "Epoch [436/5000]: 100%|██████████| 68/68 [00:00<00:00, 116.63it/s, loss=1.31]\n"
          ]
        },
        {
          "output_type": "stream",
          "name": "stdout",
          "text": [
            "Epoch [436/5000]: Train loss: 1.0642, Valid loss: 1.3173\n"
          ]
        },
        {
          "output_type": "stream",
          "name": "stderr",
          "text": [
            "Epoch [437/5000]: 100%|██████████| 68/68 [00:00<00:00, 99.93it/s, loss=1.49] \n"
          ]
        },
        {
          "output_type": "stream",
          "name": "stdout",
          "text": [
            "Epoch [437/5000]: Train loss: 1.0927, Valid loss: 1.1564\n"
          ]
        },
        {
          "output_type": "stream",
          "name": "stderr",
          "text": [
            "Epoch [438/5000]: 100%|██████████| 68/68 [00:00<00:00, 93.44it/s, loss=3.75]\n"
          ]
        },
        {
          "output_type": "stream",
          "name": "stdout",
          "text": [
            "Epoch [438/5000]: Train loss: 1.0942, Valid loss: 1.1606\n"
          ]
        },
        {
          "output_type": "stream",
          "name": "stderr",
          "text": [
            "Epoch [439/5000]: 100%|██████████| 68/68 [00:00<00:00, 112.03it/s, loss=1.36]\n"
          ]
        },
        {
          "output_type": "stream",
          "name": "stdout",
          "text": [
            "Epoch [439/5000]: Train loss: 1.0812, Valid loss: 1.1908\n"
          ]
        },
        {
          "output_type": "stream",
          "name": "stderr",
          "text": [
            "Epoch [440/5000]: 100%|██████████| 68/68 [00:00<00:00, 114.75it/s, loss=1.26]\n"
          ]
        },
        {
          "output_type": "stream",
          "name": "stdout",
          "text": [
            "Epoch [440/5000]: Train loss: 1.0651, Valid loss: 1.1702\n"
          ]
        },
        {
          "output_type": "stream",
          "name": "stderr",
          "text": [
            "Epoch [441/5000]: 100%|██████████| 68/68 [00:00<00:00, 88.88it/s, loss=1.45]\n"
          ]
        },
        {
          "output_type": "stream",
          "name": "stdout",
          "text": [
            "Epoch [441/5000]: Train loss: 1.0793, Valid loss: 1.1905\n"
          ]
        },
        {
          "output_type": "stream",
          "name": "stderr",
          "text": [
            "Epoch [442/5000]: 100%|██████████| 68/68 [00:00<00:00, 101.62it/s, loss=1.68]\n"
          ]
        },
        {
          "output_type": "stream",
          "name": "stdout",
          "text": [
            "Epoch [442/5000]: Train loss: 1.0743, Valid loss: 1.1540\n"
          ]
        },
        {
          "output_type": "stream",
          "name": "stderr",
          "text": [
            "Epoch [443/5000]: 100%|██████████| 68/68 [00:00<00:00, 118.24it/s, loss=0.619]\n"
          ]
        },
        {
          "output_type": "stream",
          "name": "stdout",
          "text": [
            "Epoch [443/5000]: Train loss: 1.0640, Valid loss: 1.1548\n"
          ]
        },
        {
          "output_type": "stream",
          "name": "stderr",
          "text": [
            "Epoch [444/5000]: 100%|██████████| 68/68 [00:00<00:00, 88.97it/s, loss=1.53]\n"
          ]
        },
        {
          "output_type": "stream",
          "name": "stdout",
          "text": [
            "Epoch [444/5000]: Train loss: 1.0655, Valid loss: 1.1636\n"
          ]
        },
        {
          "output_type": "stream",
          "name": "stderr",
          "text": [
            "Epoch [445/5000]: 100%|██████████| 68/68 [00:00<00:00, 98.72it/s, loss=1.09] \n"
          ]
        },
        {
          "output_type": "stream",
          "name": "stdout",
          "text": [
            "Epoch [445/5000]: Train loss: 1.0698, Valid loss: 1.1656\n"
          ]
        },
        {
          "output_type": "stream",
          "name": "stderr",
          "text": [
            "Epoch [446/5000]: 100%|██████████| 68/68 [00:00<00:00, 90.20it/s, loss=0.417]\n"
          ]
        },
        {
          "output_type": "stream",
          "name": "stdout",
          "text": [
            "Epoch [446/5000]: Train loss: 1.0596, Valid loss: 1.1698\n"
          ]
        },
        {
          "output_type": "stream",
          "name": "stderr",
          "text": [
            "Epoch [447/5000]: 100%|██████████| 68/68 [00:00<00:00, 108.54it/s, loss=0.747]\n"
          ]
        },
        {
          "output_type": "stream",
          "name": "stdout",
          "text": [
            "Epoch [447/5000]: Train loss: 1.0684, Valid loss: 1.1825\n"
          ]
        },
        {
          "output_type": "stream",
          "name": "stderr",
          "text": [
            "Epoch [448/5000]: 100%|██████████| 68/68 [00:00<00:00, 105.67it/s, loss=1.9]\n"
          ]
        },
        {
          "output_type": "stream",
          "name": "stdout",
          "text": [
            "Epoch [448/5000]: Train loss: 1.0988, Valid loss: 1.1538\n"
          ]
        },
        {
          "output_type": "stream",
          "name": "stderr",
          "text": [
            "Epoch [449/5000]: 100%|██████████| 68/68 [00:00<00:00, 84.21it/s, loss=1.55]\n"
          ]
        },
        {
          "output_type": "stream",
          "name": "stdout",
          "text": [
            "Epoch [449/5000]: Train loss: 1.0674, Valid loss: 1.1536\n"
          ]
        },
        {
          "output_type": "stream",
          "name": "stderr",
          "text": [
            "Epoch [450/5000]: 100%|██████████| 68/68 [00:00<00:00, 89.81it/s, loss=0.345]\n"
          ]
        },
        {
          "output_type": "stream",
          "name": "stdout",
          "text": [
            "Epoch [450/5000]: Train loss: 1.0601, Valid loss: 1.1828\n"
          ]
        },
        {
          "output_type": "stream",
          "name": "stderr",
          "text": [
            "Epoch [451/5000]: 100%|██████████| 68/68 [00:00<00:00, 108.60it/s, loss=2.81]\n"
          ]
        },
        {
          "output_type": "stream",
          "name": "stdout",
          "text": [
            "Epoch [451/5000]: Train loss: 1.0789, Valid loss: 1.1624\n"
          ]
        },
        {
          "output_type": "stream",
          "name": "stderr",
          "text": [
            "Epoch [452/5000]: 100%|██████████| 68/68 [00:00<00:00, 84.39it/s, loss=0.645]\n"
          ]
        },
        {
          "output_type": "stream",
          "name": "stdout",
          "text": [
            "Epoch [452/5000]: Train loss: 1.0574, Valid loss: 1.1647\n"
          ]
        },
        {
          "output_type": "stream",
          "name": "stderr",
          "text": [
            "Epoch [453/5000]: 100%|██████████| 68/68 [00:00<00:00, 88.62it/s, loss=1.58]\n"
          ]
        },
        {
          "output_type": "stream",
          "name": "stdout",
          "text": [
            "Epoch [453/5000]: Train loss: 1.0705, Valid loss: 1.1671\n"
          ]
        },
        {
          "output_type": "stream",
          "name": "stderr",
          "text": [
            "Epoch [454/5000]: 100%|██████████| 68/68 [00:00<00:00, 97.89it/s, loss=1.48]\n"
          ]
        },
        {
          "output_type": "stream",
          "name": "stdout",
          "text": [
            "Epoch [454/5000]: Train loss: 1.0753, Valid loss: 1.1805\n"
          ]
        },
        {
          "output_type": "stream",
          "name": "stderr",
          "text": [
            "Epoch [455/5000]: 100%|██████████| 68/68 [00:00<00:00, 103.04it/s, loss=0.585]\n"
          ]
        },
        {
          "output_type": "stream",
          "name": "stdout",
          "text": [
            "Epoch [455/5000]: Train loss: 1.0612, Valid loss: 1.1592\n"
          ]
        },
        {
          "output_type": "stream",
          "name": "stderr",
          "text": [
            "Epoch [456/5000]: 100%|██████████| 68/68 [00:00<00:00, 96.80it/s, loss=2.2] \n"
          ]
        },
        {
          "output_type": "stream",
          "name": "stdout",
          "text": [
            "Epoch [456/5000]: Train loss: 1.0697, Valid loss: 1.1619\n"
          ]
        },
        {
          "output_type": "stream",
          "name": "stderr",
          "text": [
            "Epoch [457/5000]: 100%|██████████| 68/68 [00:00<00:00, 85.26it/s, loss=1.43]\n"
          ]
        },
        {
          "output_type": "stream",
          "name": "stdout",
          "text": [
            "Epoch [457/5000]: Train loss: 1.0647, Valid loss: 1.1698\n"
          ]
        },
        {
          "output_type": "stream",
          "name": "stderr",
          "text": [
            "Epoch [458/5000]: 100%|██████████| 68/68 [00:00<00:00, 86.38it/s, loss=1.17]\n"
          ]
        },
        {
          "output_type": "stream",
          "name": "stdout",
          "text": [
            "Epoch [458/5000]: Train loss: 1.0794, Valid loss: 1.3401\n"
          ]
        },
        {
          "output_type": "stream",
          "name": "stderr",
          "text": [
            "Epoch [459/5000]: 100%|██████████| 68/68 [00:00<00:00, 92.78it/s, loss=1.94]\n"
          ]
        },
        {
          "output_type": "stream",
          "name": "stdout",
          "text": [
            "Epoch [459/5000]: Train loss: 1.0861, Valid loss: 1.2135\n"
          ]
        },
        {
          "output_type": "stream",
          "name": "stderr",
          "text": [
            "Epoch [460/5000]: 100%|██████████| 68/68 [00:00<00:00, 121.59it/s, loss=1.39]\n"
          ]
        },
        {
          "output_type": "stream",
          "name": "stdout",
          "text": [
            "Epoch [460/5000]: Train loss: 1.0745, Valid loss: 1.1563\n"
          ]
        },
        {
          "output_type": "stream",
          "name": "stderr",
          "text": [
            "Epoch [461/5000]: 100%|██████████| 68/68 [00:00<00:00, 88.71it/s, loss=1.21]\n"
          ]
        },
        {
          "output_type": "stream",
          "name": "stdout",
          "text": [
            "Epoch [461/5000]: Train loss: 1.0790, Valid loss: 1.1522\n"
          ]
        },
        {
          "output_type": "stream",
          "name": "stderr",
          "text": [
            "Epoch [462/5000]: 100%|██████████| 68/68 [00:00<00:00, 104.31it/s, loss=1.02]\n"
          ]
        },
        {
          "output_type": "stream",
          "name": "stdout",
          "text": [
            "Epoch [462/5000]: Train loss: 1.0692, Valid loss: 1.1722\n"
          ]
        },
        {
          "output_type": "stream",
          "name": "stderr",
          "text": [
            "Epoch [463/5000]: 100%|██████████| 68/68 [00:00<00:00, 104.43it/s, loss=0.999]\n"
          ]
        },
        {
          "output_type": "stream",
          "name": "stdout",
          "text": [
            "Epoch [463/5000]: Train loss: 1.0579, Valid loss: 1.1624\n"
          ]
        },
        {
          "output_type": "stream",
          "name": "stderr",
          "text": [
            "Epoch [464/5000]: 100%|██████████| 68/68 [00:00<00:00, 97.91it/s, loss=2] \n"
          ]
        },
        {
          "output_type": "stream",
          "name": "stdout",
          "text": [
            "Epoch [464/5000]: Train loss: 1.0664, Valid loss: 1.1601\n"
          ]
        },
        {
          "output_type": "stream",
          "name": "stderr",
          "text": [
            "Epoch [465/5000]: 100%|██████████| 68/68 [00:00<00:00, 89.99it/s, loss=0.698]\n"
          ]
        },
        {
          "output_type": "stream",
          "name": "stdout",
          "text": [
            "Epoch [465/5000]: Train loss: 1.0613, Valid loss: 1.2332\n"
          ]
        },
        {
          "output_type": "stream",
          "name": "stderr",
          "text": [
            "Epoch [466/5000]: 100%|██████████| 68/68 [00:00<00:00, 104.59it/s, loss=0.646]\n"
          ]
        },
        {
          "output_type": "stream",
          "name": "stdout",
          "text": [
            "Epoch [466/5000]: Train loss: 1.0612, Valid loss: 1.1586\n"
          ]
        },
        {
          "output_type": "stream",
          "name": "stderr",
          "text": [
            "Epoch [467/5000]: 100%|██████████| 68/68 [00:00<00:00, 108.76it/s, loss=1.1]\n"
          ]
        },
        {
          "output_type": "stream",
          "name": "stdout",
          "text": [
            "Epoch [467/5000]: Train loss: 1.0631, Valid loss: 1.1772\n"
          ]
        },
        {
          "output_type": "stream",
          "name": "stderr",
          "text": [
            "Epoch [468/5000]: 100%|██████████| 68/68 [00:00<00:00, 110.22it/s, loss=2.42]\n"
          ]
        },
        {
          "output_type": "stream",
          "name": "stdout",
          "text": [
            "Epoch [468/5000]: Train loss: 1.0798, Valid loss: 1.1570\n"
          ]
        },
        {
          "output_type": "stream",
          "name": "stderr",
          "text": [
            "Epoch [469/5000]: 100%|██████████| 68/68 [00:00<00:00, 91.10it/s, loss=0.321]\n"
          ]
        },
        {
          "output_type": "stream",
          "name": "stdout",
          "text": [
            "Epoch [469/5000]: Train loss: 1.0789, Valid loss: 1.1625\n"
          ]
        },
        {
          "output_type": "stream",
          "name": "stderr",
          "text": [
            "Epoch [470/5000]: 100%|██████████| 68/68 [00:00<00:00, 76.37it/s, loss=0.844]\n"
          ]
        },
        {
          "output_type": "stream",
          "name": "stdout",
          "text": [
            "Epoch [470/5000]: Train loss: 1.0562, Valid loss: 1.2367\n"
          ]
        },
        {
          "output_type": "stream",
          "name": "stderr",
          "text": [
            "Epoch [471/5000]: 100%|██████████| 68/68 [00:00<00:00, 79.32it/s, loss=1.17]\n"
          ]
        },
        {
          "output_type": "stream",
          "name": "stdout",
          "text": [
            "Epoch [471/5000]: Train loss: 1.0703, Valid loss: 1.1537\n"
          ]
        },
        {
          "output_type": "stream",
          "name": "stderr",
          "text": [
            "Epoch [472/5000]: 100%|██████████| 68/68 [00:00<00:00, 118.87it/s, loss=1.36]\n"
          ]
        },
        {
          "output_type": "stream",
          "name": "stdout",
          "text": [
            "Epoch [472/5000]: Train loss: 1.0738, Valid loss: 1.1614\n"
          ]
        },
        {
          "output_type": "stream",
          "name": "stderr",
          "text": [
            "Epoch [473/5000]: 100%|██████████| 68/68 [00:00<00:00, 106.88it/s, loss=1.1]\n"
          ]
        },
        {
          "output_type": "stream",
          "name": "stdout",
          "text": [
            "Epoch [473/5000]: Train loss: 1.0657, Valid loss: 1.1654\n"
          ]
        },
        {
          "output_type": "stream",
          "name": "stderr",
          "text": [
            "Epoch [474/5000]: 100%|██████████| 68/68 [00:00<00:00, 82.65it/s, loss=0.505]\n"
          ]
        },
        {
          "output_type": "stream",
          "name": "stdout",
          "text": [
            "Epoch [474/5000]: Train loss: 1.0622, Valid loss: 1.1733\n"
          ]
        },
        {
          "output_type": "stream",
          "name": "stderr",
          "text": [
            "Epoch [475/5000]: 100%|██████████| 68/68 [00:00<00:00, 97.43it/s, loss=0.456]\n"
          ]
        },
        {
          "output_type": "stream",
          "name": "stdout",
          "text": [
            "Epoch [475/5000]: Train loss: 1.0585, Valid loss: 1.1625\n"
          ]
        },
        {
          "output_type": "stream",
          "name": "stderr",
          "text": [
            "Epoch [476/5000]: 100%|██████████| 68/68 [00:00<00:00, 86.45it/s, loss=0.595]\n"
          ]
        },
        {
          "output_type": "stream",
          "name": "stdout",
          "text": [
            "Epoch [476/5000]: Train loss: 1.0644, Valid loss: 1.1553\n"
          ]
        },
        {
          "output_type": "stream",
          "name": "stderr",
          "text": [
            "Epoch [477/5000]: 100%|██████████| 68/68 [00:00<00:00, 105.00it/s, loss=0.774]\n"
          ]
        },
        {
          "output_type": "stream",
          "name": "stdout",
          "text": [
            "Epoch [477/5000]: Train loss: 1.0611, Valid loss: 1.1567\n"
          ]
        },
        {
          "output_type": "stream",
          "name": "stderr",
          "text": [
            "Epoch [478/5000]: 100%|██████████| 68/68 [00:00<00:00, 112.38it/s, loss=0.529]\n"
          ]
        },
        {
          "output_type": "stream",
          "name": "stdout",
          "text": [
            "Epoch [478/5000]: Train loss: 1.0586, Valid loss: 1.1664\n"
          ]
        },
        {
          "output_type": "stream",
          "name": "stderr",
          "text": [
            "Epoch [479/5000]: 100%|██████████| 68/68 [00:00<00:00, 92.12it/s, loss=0.742]\n"
          ]
        },
        {
          "output_type": "stream",
          "name": "stdout",
          "text": [
            "Epoch [479/5000]: Train loss: 1.0714, Valid loss: 1.1648\n"
          ]
        },
        {
          "output_type": "stream",
          "name": "stderr",
          "text": [
            "Epoch [480/5000]: 100%|██████████| 68/68 [00:00<00:00, 102.00it/s, loss=1.17]\n"
          ]
        },
        {
          "output_type": "stream",
          "name": "stdout",
          "text": [
            "Epoch [480/5000]: Train loss: 1.0913, Valid loss: 1.1553\n"
          ]
        },
        {
          "output_type": "stream",
          "name": "stderr",
          "text": [
            "Epoch [481/5000]: 100%|██████████| 68/68 [00:00<00:00, 104.66it/s, loss=1.52]\n"
          ]
        },
        {
          "output_type": "stream",
          "name": "stdout",
          "text": [
            "Epoch [481/5000]: Train loss: 1.0687, Valid loss: 1.1613\n"
          ]
        },
        {
          "output_type": "stream",
          "name": "stderr",
          "text": [
            "Epoch [482/5000]: 100%|██████████| 68/68 [00:00<00:00, 91.96it/s, loss=0.702]\n"
          ]
        },
        {
          "output_type": "stream",
          "name": "stdout",
          "text": [
            "Epoch [482/5000]: Train loss: 1.0539, Valid loss: 1.1639\n"
          ]
        },
        {
          "output_type": "stream",
          "name": "stderr",
          "text": [
            "Epoch [483/5000]: 100%|██████████| 68/68 [00:00<00:00, 94.77it/s, loss=1.52]\n"
          ]
        },
        {
          "output_type": "stream",
          "name": "stdout",
          "text": [
            "Epoch [483/5000]: Train loss: 1.0744, Valid loss: 1.1767\n"
          ]
        },
        {
          "output_type": "stream",
          "name": "stderr",
          "text": [
            "Epoch [484/5000]: 100%|██████████| 68/68 [00:00<00:00, 99.14it/s, loss=0.63] \n"
          ]
        },
        {
          "output_type": "stream",
          "name": "stdout",
          "text": [
            "Epoch [484/5000]: Train loss: 1.0678, Valid loss: 1.1617\n"
          ]
        },
        {
          "output_type": "stream",
          "name": "stderr",
          "text": [
            "Epoch [485/5000]: 100%|██████████| 68/68 [00:00<00:00, 98.56it/s, loss=0.921] \n"
          ]
        },
        {
          "output_type": "stream",
          "name": "stdout",
          "text": [
            "Epoch [485/5000]: Train loss: 1.0552, Valid loss: 1.1605\n"
          ]
        },
        {
          "output_type": "stream",
          "name": "stderr",
          "text": [
            "Epoch [486/5000]: 100%|██████████| 68/68 [00:00<00:00, 99.01it/s, loss=2.16] \n"
          ]
        },
        {
          "output_type": "stream",
          "name": "stdout",
          "text": [
            "Epoch [486/5000]: Train loss: 1.0707, Valid loss: 1.1906\n"
          ]
        },
        {
          "output_type": "stream",
          "name": "stderr",
          "text": [
            "Epoch [487/5000]: 100%|██████████| 68/68 [00:00<00:00, 106.69it/s, loss=0.901]\n"
          ]
        },
        {
          "output_type": "stream",
          "name": "stdout",
          "text": [
            "Epoch [487/5000]: Train loss: 1.0611, Valid loss: 1.1979\n"
          ]
        },
        {
          "output_type": "stream",
          "name": "stderr",
          "text": [
            "Epoch [488/5000]: 100%|██████████| 68/68 [00:00<00:00, 103.37it/s, loss=1.15]\n"
          ]
        },
        {
          "output_type": "stream",
          "name": "stdout",
          "text": [
            "Epoch [488/5000]: Train loss: 1.0646, Valid loss: 1.1707\n"
          ]
        },
        {
          "output_type": "stream",
          "name": "stderr",
          "text": [
            "Epoch [489/5000]: 100%|██████████| 68/68 [00:00<00:00, 115.69it/s, loss=0.348]\n"
          ]
        },
        {
          "output_type": "stream",
          "name": "stdout",
          "text": [
            "Epoch [489/5000]: Train loss: 1.0579, Valid loss: 1.2362\n"
          ]
        },
        {
          "output_type": "stream",
          "name": "stderr",
          "text": [
            "Epoch [490/5000]: 100%|██████████| 68/68 [00:00<00:00, 90.56it/s, loss=0.755]\n"
          ]
        },
        {
          "output_type": "stream",
          "name": "stdout",
          "text": [
            "Epoch [490/5000]: Train loss: 1.0526, Valid loss: 1.1630\n"
          ]
        },
        {
          "output_type": "stream",
          "name": "stderr",
          "text": [
            "Epoch [491/5000]: 100%|██████████| 68/68 [00:00<00:00, 91.01it/s, loss=1.28]\n"
          ]
        },
        {
          "output_type": "stream",
          "name": "stdout",
          "text": [
            "Epoch [491/5000]: Train loss: 1.0700, Valid loss: 1.1724\n"
          ]
        },
        {
          "output_type": "stream",
          "name": "stderr",
          "text": [
            "Epoch [492/5000]: 100%|██████████| 68/68 [00:00<00:00, 96.19it/s, loss=0.882]\n"
          ]
        },
        {
          "output_type": "stream",
          "name": "stdout",
          "text": [
            "Epoch [492/5000]: Train loss: 1.0646, Valid loss: 1.2075\n"
          ]
        },
        {
          "output_type": "stream",
          "name": "stderr",
          "text": [
            "Epoch [493/5000]: 100%|██████████| 68/68 [00:00<00:00, 92.83it/s, loss=1.38] \n"
          ]
        },
        {
          "output_type": "stream",
          "name": "stdout",
          "text": [
            "Epoch [493/5000]: Train loss: 1.0663, Valid loss: 1.1832\n"
          ]
        },
        {
          "output_type": "stream",
          "name": "stderr",
          "text": [
            "Epoch [494/5000]: 100%|██████████| 68/68 [00:00<00:00, 102.57it/s, loss=2.07]\n"
          ]
        },
        {
          "output_type": "stream",
          "name": "stdout",
          "text": [
            "Epoch [494/5000]: Train loss: 1.0829, Valid loss: 1.1639\n"
          ]
        },
        {
          "output_type": "stream",
          "name": "stderr",
          "text": [
            "Epoch [495/5000]: 100%|██████████| 68/68 [00:00<00:00, 83.66it/s, loss=0.85]\n"
          ]
        },
        {
          "output_type": "stream",
          "name": "stdout",
          "text": [
            "Epoch [495/5000]: Train loss: 1.0592, Valid loss: 1.2032\n"
          ]
        },
        {
          "output_type": "stream",
          "name": "stderr",
          "text": [
            "Epoch [496/5000]: 100%|██████████| 68/68 [00:00<00:00, 80.43it/s, loss=1.67]\n"
          ]
        },
        {
          "output_type": "stream",
          "name": "stdout",
          "text": [
            "Epoch [496/5000]: Train loss: 1.0708, Valid loss: 1.1598\n"
          ]
        },
        {
          "output_type": "stream",
          "name": "stderr",
          "text": [
            "Epoch [497/5000]: 100%|██████████| 68/68 [00:00<00:00, 88.96it/s, loss=1]\n"
          ]
        },
        {
          "output_type": "stream",
          "name": "stdout",
          "text": [
            "Epoch [497/5000]: Train loss: 1.0727, Valid loss: 1.1817\n"
          ]
        },
        {
          "output_type": "stream",
          "name": "stderr",
          "text": [
            "Epoch [498/5000]: 100%|██████████| 68/68 [00:00<00:00, 92.78it/s, loss=1.38]\n"
          ]
        },
        {
          "output_type": "stream",
          "name": "stdout",
          "text": [
            "Epoch [498/5000]: Train loss: 1.0672, Valid loss: 1.1618\n"
          ]
        },
        {
          "output_type": "stream",
          "name": "stderr",
          "text": [
            "Epoch [499/5000]: 100%|██████████| 68/68 [00:00<00:00, 114.49it/s, loss=1.59]\n"
          ]
        },
        {
          "output_type": "stream",
          "name": "stdout",
          "text": [
            "Epoch [499/5000]: Train loss: 1.0707, Valid loss: 1.1557\n"
          ]
        },
        {
          "output_type": "stream",
          "name": "stderr",
          "text": [
            "Epoch [500/5000]: 100%|██████████| 68/68 [00:00<00:00, 104.16it/s, loss=1.61]\n"
          ]
        },
        {
          "output_type": "stream",
          "name": "stdout",
          "text": [
            "Epoch [500/5000]: Train loss: 1.0667, Valid loss: 1.1817\n"
          ]
        },
        {
          "output_type": "stream",
          "name": "stderr",
          "text": [
            "Epoch [501/5000]: 100%|██████████| 68/68 [00:00<00:00, 89.71it/s, loss=0.694]\n"
          ]
        },
        {
          "output_type": "stream",
          "name": "stdout",
          "text": [
            "Epoch [501/5000]: Train loss: 1.0638, Valid loss: 1.1558\n"
          ]
        },
        {
          "output_type": "stream",
          "name": "stderr",
          "text": [
            "Epoch [502/5000]: 100%|██████████| 68/68 [00:00<00:00, 83.63it/s, loss=1.07]\n"
          ]
        },
        {
          "output_type": "stream",
          "name": "stdout",
          "text": [
            "Epoch [502/5000]: Train loss: 1.0560, Valid loss: 1.1638\n"
          ]
        },
        {
          "output_type": "stream",
          "name": "stderr",
          "text": [
            "Epoch [503/5000]: 100%|██████████| 68/68 [00:00<00:00, 115.95it/s, loss=1.43]\n"
          ]
        },
        {
          "output_type": "stream",
          "name": "stdout",
          "text": [
            "Epoch [503/5000]: Train loss: 1.0555, Valid loss: 1.1620\n"
          ]
        },
        {
          "output_type": "stream",
          "name": "stderr",
          "text": [
            "Epoch [504/5000]: 100%|██████████| 68/68 [00:00<00:00, 93.87it/s, loss=0.365]\n"
          ]
        },
        {
          "output_type": "stream",
          "name": "stdout",
          "text": [
            "Epoch [504/5000]: Train loss: 1.0717, Valid loss: 1.1593\n"
          ]
        },
        {
          "output_type": "stream",
          "name": "stderr",
          "text": [
            "Epoch [505/5000]: 100%|██████████| 68/68 [00:00<00:00, 93.45it/s, loss=0.958]\n"
          ]
        },
        {
          "output_type": "stream",
          "name": "stdout",
          "text": [
            "Epoch [505/5000]: Train loss: 1.0603, Valid loss: 1.2263\n"
          ]
        },
        {
          "output_type": "stream",
          "name": "stderr",
          "text": [
            "Epoch [506/5000]: 100%|██████████| 68/68 [00:00<00:00, 80.00it/s, loss=0.541]\n"
          ]
        },
        {
          "output_type": "stream",
          "name": "stdout",
          "text": [
            "Epoch [506/5000]: Train loss: 1.0506, Valid loss: 1.2057\n"
          ]
        },
        {
          "output_type": "stream",
          "name": "stderr",
          "text": [
            "Epoch [507/5000]: 100%|██████████| 68/68 [00:00<00:00, 113.79it/s, loss=0.967]\n"
          ]
        },
        {
          "output_type": "stream",
          "name": "stdout",
          "text": [
            "Epoch [507/5000]: Train loss: 1.0700, Valid loss: 1.1644\n"
          ]
        },
        {
          "output_type": "stream",
          "name": "stderr",
          "text": [
            "Epoch [508/5000]: 100%|██████████| 68/68 [00:00<00:00, 94.68it/s, loss=0.8]\n"
          ]
        },
        {
          "output_type": "stream",
          "name": "stdout",
          "text": [
            "Epoch [508/5000]: Train loss: 1.0609, Valid loss: 1.1593\n"
          ]
        },
        {
          "output_type": "stream",
          "name": "stderr",
          "text": [
            "Epoch [509/5000]: 100%|██████████| 68/68 [00:00<00:00, 87.63it/s, loss=0.855]\n"
          ]
        },
        {
          "output_type": "stream",
          "name": "stdout",
          "text": [
            "Epoch [509/5000]: Train loss: 1.0588, Valid loss: 1.1537\n"
          ]
        },
        {
          "output_type": "stream",
          "name": "stderr",
          "text": [
            "Epoch [510/5000]: 100%|██████████| 68/68 [00:00<00:00, 89.80it/s, loss=0.67]\n"
          ]
        },
        {
          "output_type": "stream",
          "name": "stdout",
          "text": [
            "Epoch [510/5000]: Train loss: 1.0715, Valid loss: 1.1577\n"
          ]
        },
        {
          "output_type": "stream",
          "name": "stderr",
          "text": [
            "Epoch [511/5000]: 100%|██████████| 68/68 [00:00<00:00, 90.12it/s, loss=0.441]\n"
          ]
        },
        {
          "output_type": "stream",
          "name": "stdout",
          "text": [
            "Epoch [511/5000]: Train loss: 1.0547, Valid loss: 1.1834\n"
          ]
        },
        {
          "output_type": "stream",
          "name": "stderr",
          "text": [
            "Epoch [512/5000]: 100%|██████████| 68/68 [00:00<00:00, 101.53it/s, loss=0.832]\n"
          ]
        },
        {
          "output_type": "stream",
          "name": "stdout",
          "text": [
            "Epoch [512/5000]: Train loss: 1.0544, Valid loss: 1.1619\n"
          ]
        },
        {
          "output_type": "stream",
          "name": "stderr",
          "text": [
            "Epoch [513/5000]: 100%|██████████| 68/68 [00:00<00:00, 123.59it/s, loss=1.29]\n"
          ]
        },
        {
          "output_type": "stream",
          "name": "stdout",
          "text": [
            "Epoch [513/5000]: Train loss: 1.0665, Valid loss: 1.1705\n"
          ]
        },
        {
          "output_type": "stream",
          "name": "stderr",
          "text": [
            "Epoch [514/5000]: 100%|██████████| 68/68 [00:00<00:00, 103.98it/s, loss=0.709]\n"
          ]
        },
        {
          "output_type": "stream",
          "name": "stdout",
          "text": [
            "Epoch [514/5000]: Train loss: 1.0647, Valid loss: 1.1558\n"
          ]
        },
        {
          "output_type": "stream",
          "name": "stderr",
          "text": [
            "Epoch [515/5000]: 100%|██████████| 68/68 [00:00<00:00, 98.07it/s, loss=0.633]\n"
          ]
        },
        {
          "output_type": "stream",
          "name": "stdout",
          "text": [
            "Epoch [515/5000]: Train loss: 1.0563, Valid loss: 1.1603\n"
          ]
        },
        {
          "output_type": "stream",
          "name": "stderr",
          "text": [
            "Epoch [516/5000]: 100%|██████████| 68/68 [00:00<00:00, 115.03it/s, loss=1.21]\n"
          ]
        },
        {
          "output_type": "stream",
          "name": "stdout",
          "text": [
            "Epoch [516/5000]: Train loss: 1.0792, Valid loss: 1.1720\n"
          ]
        },
        {
          "output_type": "stream",
          "name": "stderr",
          "text": [
            "Epoch [517/5000]: 100%|██████████| 68/68 [00:00<00:00, 93.34it/s, loss=2.48] \n"
          ]
        },
        {
          "output_type": "stream",
          "name": "stdout",
          "text": [
            "Epoch [517/5000]: Train loss: 1.0792, Valid loss: 1.1711\n"
          ]
        },
        {
          "output_type": "stream",
          "name": "stderr",
          "text": [
            "Epoch [518/5000]: 100%|██████████| 68/68 [00:00<00:00, 90.84it/s, loss=1.12]\n"
          ]
        },
        {
          "output_type": "stream",
          "name": "stdout",
          "text": [
            "Epoch [518/5000]: Train loss: 1.0637, Valid loss: 1.1609\n"
          ]
        },
        {
          "output_type": "stream",
          "name": "stderr",
          "text": [
            "Epoch [519/5000]: 100%|██████████| 68/68 [00:00<00:00, 90.13it/s, loss=1.83]\n"
          ]
        },
        {
          "output_type": "stream",
          "name": "stdout",
          "text": [
            "Epoch [519/5000]: Train loss: 1.0749, Valid loss: 1.1825\n"
          ]
        },
        {
          "output_type": "stream",
          "name": "stderr",
          "text": [
            "Epoch [520/5000]: 100%|██████████| 68/68 [00:00<00:00, 96.85it/s, loss=1.39] \n"
          ]
        },
        {
          "output_type": "stream",
          "name": "stdout",
          "text": [
            "Epoch [520/5000]: Train loss: 1.0730, Valid loss: 1.1681\n"
          ]
        },
        {
          "output_type": "stream",
          "name": "stderr",
          "text": [
            "Epoch [521/5000]: 100%|██████████| 68/68 [00:00<00:00, 101.45it/s, loss=0.899]\n"
          ]
        },
        {
          "output_type": "stream",
          "name": "stdout",
          "text": [
            "Epoch [521/5000]: Train loss: 1.0727, Valid loss: 1.1684\n"
          ]
        },
        {
          "output_type": "stream",
          "name": "stderr",
          "text": [
            "Epoch [522/5000]: 100%|██████████| 68/68 [00:00<00:00, 77.16it/s, loss=1.45]\n"
          ]
        },
        {
          "output_type": "stream",
          "name": "stdout",
          "text": [
            "Epoch [522/5000]: Train loss: 1.0631, Valid loss: 1.1879\n"
          ]
        },
        {
          "output_type": "stream",
          "name": "stderr",
          "text": [
            "Epoch [523/5000]: 100%|██████████| 68/68 [00:00<00:00, 93.62it/s, loss=1.1]\n"
          ]
        },
        {
          "output_type": "stream",
          "name": "stdout",
          "text": [
            "Epoch [523/5000]: Train loss: 1.0698, Valid loss: 1.1663\n"
          ]
        },
        {
          "output_type": "stream",
          "name": "stderr",
          "text": [
            "Epoch [524/5000]: 100%|██████████| 68/68 [00:00<00:00, 97.01it/s, loss=0.614]\n"
          ]
        },
        {
          "output_type": "stream",
          "name": "stdout",
          "text": [
            "Epoch [524/5000]: Train loss: 1.0672, Valid loss: 1.1617\n"
          ]
        },
        {
          "output_type": "stream",
          "name": "stderr",
          "text": [
            "Epoch [525/5000]: 100%|██████████| 68/68 [00:00<00:00, 85.62it/s, loss=2.2]\n"
          ]
        },
        {
          "output_type": "stream",
          "name": "stdout",
          "text": [
            "Epoch [525/5000]: Train loss: 1.0687, Valid loss: 1.1801\n"
          ]
        },
        {
          "output_type": "stream",
          "name": "stderr",
          "text": [
            "Epoch [526/5000]: 100%|██████████| 68/68 [00:00<00:00, 81.91it/s, loss=1.24]\n"
          ]
        },
        {
          "output_type": "stream",
          "name": "stdout",
          "text": [
            "Epoch [526/5000]: Train loss: 1.0753, Valid loss: 1.1798\n"
          ]
        },
        {
          "output_type": "stream",
          "name": "stderr",
          "text": [
            "Epoch [527/5000]: 100%|██████████| 68/68 [00:00<00:00, 110.06it/s, loss=0.739]\n"
          ]
        },
        {
          "output_type": "stream",
          "name": "stdout",
          "text": [
            "Epoch [527/5000]: Train loss: 1.0646, Valid loss: 1.1984\n"
          ]
        },
        {
          "output_type": "stream",
          "name": "stderr",
          "text": [
            "Epoch [528/5000]: 100%|██████████| 68/68 [00:00<00:00, 94.25it/s, loss=0.869]\n"
          ]
        },
        {
          "output_type": "stream",
          "name": "stdout",
          "text": [
            "Epoch [528/5000]: Train loss: 1.0693, Valid loss: 1.1843\n"
          ]
        },
        {
          "output_type": "stream",
          "name": "stderr",
          "text": [
            "Epoch [529/5000]: 100%|██████████| 68/68 [00:00<00:00, 80.52it/s, loss=0.87]\n"
          ]
        },
        {
          "output_type": "stream",
          "name": "stdout",
          "text": [
            "Epoch [529/5000]: Train loss: 1.0741, Valid loss: 1.1607\n"
          ]
        },
        {
          "output_type": "stream",
          "name": "stderr",
          "text": [
            "Epoch [530/5000]: 100%|██████████| 68/68 [00:00<00:00, 115.67it/s, loss=0.574]\n"
          ]
        },
        {
          "output_type": "stream",
          "name": "stdout",
          "text": [
            "Epoch [530/5000]: Train loss: 1.0605, Valid loss: 1.1556\n"
          ]
        },
        {
          "output_type": "stream",
          "name": "stderr",
          "text": [
            "Epoch [531/5000]: 100%|██████████| 68/68 [00:00<00:00, 97.19it/s, loss=1.73]\n"
          ]
        },
        {
          "output_type": "stream",
          "name": "stdout",
          "text": [
            "Epoch [531/5000]: Train loss: 1.0642, Valid loss: 1.1586\n"
          ]
        },
        {
          "output_type": "stream",
          "name": "stderr",
          "text": [
            "Epoch [532/5000]: 100%|██████████| 68/68 [00:00<00:00, 113.69it/s, loss=0.968]\n"
          ]
        },
        {
          "output_type": "stream",
          "name": "stdout",
          "text": [
            "Epoch [532/5000]: Train loss: 1.0642, Valid loss: 1.1670\n"
          ]
        },
        {
          "output_type": "stream",
          "name": "stderr",
          "text": [
            "Epoch [533/5000]: 100%|██████████| 68/68 [00:00<00:00, 106.37it/s, loss=1.68]\n"
          ]
        },
        {
          "output_type": "stream",
          "name": "stdout",
          "text": [
            "Epoch [533/5000]: Train loss: 1.0688, Valid loss: 1.1642\n"
          ]
        },
        {
          "output_type": "stream",
          "name": "stderr",
          "text": [
            "Epoch [534/5000]: 100%|██████████| 68/68 [00:00<00:00, 85.07it/s, loss=0.305]\n"
          ]
        },
        {
          "output_type": "stream",
          "name": "stdout",
          "text": [
            "Epoch [534/5000]: Train loss: 1.0656, Valid loss: 1.1690\n"
          ]
        },
        {
          "output_type": "stream",
          "name": "stderr",
          "text": [
            "Epoch [535/5000]: 100%|██████████| 68/68 [00:00<00:00, 91.21it/s, loss=0.959] \n"
          ]
        },
        {
          "output_type": "stream",
          "name": "stdout",
          "text": [
            "Epoch [535/5000]: Train loss: 1.0630, Valid loss: 1.1674\n"
          ]
        },
        {
          "output_type": "stream",
          "name": "stderr",
          "text": [
            "Epoch [536/5000]: 100%|██████████| 68/68 [00:00<00:00, 101.45it/s, loss=1.02]\n"
          ]
        },
        {
          "output_type": "stream",
          "name": "stdout",
          "text": [
            "Epoch [536/5000]: Train loss: 1.0679, Valid loss: 1.1641\n"
          ]
        },
        {
          "output_type": "stream",
          "name": "stderr",
          "text": [
            "Epoch [537/5000]: 100%|██████████| 68/68 [00:00<00:00, 82.67it/s, loss=0.685]\n"
          ]
        },
        {
          "output_type": "stream",
          "name": "stdout",
          "text": [
            "Epoch [537/5000]: Train loss: 1.0529, Valid loss: 1.1792\n"
          ]
        },
        {
          "output_type": "stream",
          "name": "stderr",
          "text": [
            "Epoch [538/5000]: 100%|██████████| 68/68 [00:00<00:00, 73.40it/s, loss=0.411]\n"
          ]
        },
        {
          "output_type": "stream",
          "name": "stdout",
          "text": [
            "Epoch [538/5000]: Train loss: 1.0582, Valid loss: 1.1694\n"
          ]
        },
        {
          "output_type": "stream",
          "name": "stderr",
          "text": [
            "Epoch [539/5000]: 100%|██████████| 68/68 [00:00<00:00, 115.49it/s, loss=1.09]\n"
          ]
        },
        {
          "output_type": "stream",
          "name": "stdout",
          "text": [
            "Epoch [539/5000]: Train loss: 1.0668, Valid loss: 1.1608\n"
          ]
        },
        {
          "output_type": "stream",
          "name": "stderr",
          "text": [
            "Epoch [540/5000]: 100%|██████████| 68/68 [00:00<00:00, 105.15it/s, loss=0.502]\n"
          ]
        },
        {
          "output_type": "stream",
          "name": "stdout",
          "text": [
            "Epoch [540/5000]: Train loss: 1.0611, Valid loss: 1.1584\n"
          ]
        },
        {
          "output_type": "stream",
          "name": "stderr",
          "text": [
            "Epoch [541/5000]: 100%|██████████| 68/68 [00:00<00:00, 103.05it/s, loss=2.31]\n"
          ]
        },
        {
          "output_type": "stream",
          "name": "stdout",
          "text": [
            "Epoch [541/5000]: Train loss: 1.0675, Valid loss: 1.1594\n"
          ]
        },
        {
          "output_type": "stream",
          "name": "stderr",
          "text": [
            "Epoch [542/5000]: 100%|██████████| 68/68 [00:00<00:00, 108.31it/s, loss=0.873]\n"
          ]
        },
        {
          "output_type": "stream",
          "name": "stdout",
          "text": [
            "Epoch [542/5000]: Train loss: 1.0527, Valid loss: 1.1641\n"
          ]
        },
        {
          "output_type": "stream",
          "name": "stderr",
          "text": [
            "Epoch [543/5000]: 100%|██████████| 68/68 [00:00<00:00, 103.84it/s, loss=1.57]\n"
          ]
        },
        {
          "output_type": "stream",
          "name": "stdout",
          "text": [
            "Epoch [543/5000]: Train loss: 1.0608, Valid loss: 1.1623\n"
          ]
        },
        {
          "output_type": "stream",
          "name": "stderr",
          "text": [
            "Epoch [544/5000]: 100%|██████████| 68/68 [00:00<00:00, 106.50it/s, loss=0.7]\n"
          ]
        },
        {
          "output_type": "stream",
          "name": "stdout",
          "text": [
            "Epoch [544/5000]: Train loss: 1.0633, Valid loss: 1.1711\n"
          ]
        },
        {
          "output_type": "stream",
          "name": "stderr",
          "text": [
            "Epoch [545/5000]: 100%|██████████| 68/68 [00:00<00:00, 106.00it/s, loss=2.15]\n"
          ]
        },
        {
          "output_type": "stream",
          "name": "stdout",
          "text": [
            "Epoch [545/5000]: Train loss: 1.0606, Valid loss: 1.2402\n"
          ]
        },
        {
          "output_type": "stream",
          "name": "stderr",
          "text": [
            "Epoch [546/5000]: 100%|██████████| 68/68 [00:00<00:00, 105.84it/s, loss=0.513]\n"
          ]
        },
        {
          "output_type": "stream",
          "name": "stdout",
          "text": [
            "Epoch [546/5000]: Train loss: 1.0705, Valid loss: 1.1855\n"
          ]
        },
        {
          "output_type": "stream",
          "name": "stderr",
          "text": [
            "Epoch [547/5000]: 100%|██████████| 68/68 [00:00<00:00, 106.19it/s, loss=0.647]\n"
          ]
        },
        {
          "output_type": "stream",
          "name": "stdout",
          "text": [
            "Epoch [547/5000]: Train loss: 1.0637, Valid loss: 1.1572\n"
          ]
        },
        {
          "output_type": "stream",
          "name": "stderr",
          "text": [
            "Epoch [548/5000]: 100%|██████████| 68/68 [00:00<00:00, 72.98it/s, loss=0.871]\n"
          ]
        },
        {
          "output_type": "stream",
          "name": "stdout",
          "text": [
            "Epoch [548/5000]: Train loss: 1.0578, Valid loss: 1.1634\n"
          ]
        },
        {
          "output_type": "stream",
          "name": "stderr",
          "text": [
            "Epoch [549/5000]: 100%|██████████| 68/68 [00:00<00:00, 109.69it/s, loss=0.343]\n"
          ]
        },
        {
          "output_type": "stream",
          "name": "stdout",
          "text": [
            "Epoch [549/5000]: Train loss: 1.0572, Valid loss: 1.1596\n"
          ]
        },
        {
          "output_type": "stream",
          "name": "stderr",
          "text": [
            "Epoch [550/5000]: 100%|██████████| 68/68 [00:00<00:00, 102.48it/s, loss=1.82]\n"
          ]
        },
        {
          "output_type": "stream",
          "name": "stdout",
          "text": [
            "Epoch [550/5000]: Train loss: 1.0614, Valid loss: 1.1675\n"
          ]
        },
        {
          "output_type": "stream",
          "name": "stderr",
          "text": [
            "Epoch [551/5000]: 100%|██████████| 68/68 [00:00<00:00, 97.26it/s, loss=0.773]\n"
          ]
        },
        {
          "output_type": "stream",
          "name": "stdout",
          "text": [
            "Epoch [551/5000]: Train loss: 1.0684, Valid loss: 1.1553\n"
          ]
        },
        {
          "output_type": "stream",
          "name": "stderr",
          "text": [
            "Epoch [552/5000]: 100%|██████████| 68/68 [00:00<00:00, 102.27it/s, loss=0.619]\n"
          ]
        },
        {
          "output_type": "stream",
          "name": "stdout",
          "text": [
            "Epoch [552/5000]: Train loss: 1.0529, Valid loss: 1.1635\n"
          ]
        },
        {
          "output_type": "stream",
          "name": "stderr",
          "text": [
            "Epoch [553/5000]: 100%|██████████| 68/68 [00:00<00:00, 101.63it/s, loss=1.26]\n"
          ]
        },
        {
          "output_type": "stream",
          "name": "stdout",
          "text": [
            "Epoch [553/5000]: Train loss: 1.0553, Valid loss: 1.1782\n"
          ]
        },
        {
          "output_type": "stream",
          "name": "stderr",
          "text": [
            "Epoch [554/5000]: 100%|██████████| 68/68 [00:00<00:00, 78.46it/s, loss=1.55]\n"
          ]
        },
        {
          "output_type": "stream",
          "name": "stdout",
          "text": [
            "Epoch [554/5000]: Train loss: 1.0698, Valid loss: 1.1960\n"
          ]
        },
        {
          "output_type": "stream",
          "name": "stderr",
          "text": [
            "Epoch [555/5000]: 100%|██████████| 68/68 [00:00<00:00, 72.77it/s, loss=0.575]\n"
          ]
        },
        {
          "output_type": "stream",
          "name": "stdout",
          "text": [
            "Epoch [555/5000]: Train loss: 1.0536, Valid loss: 1.1639\n"
          ]
        },
        {
          "output_type": "stream",
          "name": "stderr",
          "text": [
            "Epoch [556/5000]: 100%|██████████| 68/68 [00:00<00:00, 93.48it/s, loss=0.641]\n"
          ]
        },
        {
          "output_type": "stream",
          "name": "stdout",
          "text": [
            "Epoch [556/5000]: Train loss: 1.0622, Valid loss: 1.1684\n"
          ]
        },
        {
          "output_type": "stream",
          "name": "stderr",
          "text": [
            "Epoch [557/5000]: 100%|██████████| 68/68 [00:00<00:00, 108.48it/s, loss=0.863]\n"
          ]
        },
        {
          "output_type": "stream",
          "name": "stdout",
          "text": [
            "Epoch [557/5000]: Train loss: 1.0526, Valid loss: 1.1629\n"
          ]
        },
        {
          "output_type": "stream",
          "name": "stderr",
          "text": [
            "Epoch [558/5000]: 100%|██████████| 68/68 [00:00<00:00, 86.27it/s, loss=0.548]\n"
          ]
        },
        {
          "output_type": "stream",
          "name": "stdout",
          "text": [
            "Epoch [558/5000]: Train loss: 1.0520, Valid loss: 1.1587\n"
          ]
        },
        {
          "output_type": "stream",
          "name": "stderr",
          "text": [
            "Epoch [559/5000]: 100%|██████████| 68/68 [00:00<00:00, 102.93it/s, loss=0.973]\n"
          ]
        },
        {
          "output_type": "stream",
          "name": "stdout",
          "text": [
            "Epoch [559/5000]: Train loss: 1.0597, Valid loss: 1.1579\n"
          ]
        },
        {
          "output_type": "stream",
          "name": "stderr",
          "text": [
            "Epoch [560/5000]: 100%|██████████| 68/68 [00:00<00:00, 97.05it/s, loss=1.27] \n"
          ]
        },
        {
          "output_type": "stream",
          "name": "stdout",
          "text": [
            "Epoch [560/5000]: Train loss: 1.0615, Valid loss: 1.1607\n"
          ]
        },
        {
          "output_type": "stream",
          "name": "stderr",
          "text": [
            "Epoch [561/5000]: 100%|██████████| 68/68 [00:00<00:00, 97.49it/s, loss=1.41] \n"
          ]
        },
        {
          "output_type": "stream",
          "name": "stdout",
          "text": [
            "Epoch [561/5000]: Train loss: 1.0567, Valid loss: 1.1634\n"
          ]
        },
        {
          "output_type": "stream",
          "name": "stderr",
          "text": [
            "Epoch [562/5000]: 100%|██████████| 68/68 [00:00<00:00, 86.17it/s, loss=0.637]\n"
          ]
        },
        {
          "output_type": "stream",
          "name": "stdout",
          "text": [
            "Epoch [562/5000]: Train loss: 1.0651, Valid loss: 1.1939\n"
          ]
        },
        {
          "output_type": "stream",
          "name": "stderr",
          "text": [
            "Epoch [563/5000]: 100%|██████████| 68/68 [00:00<00:00, 101.70it/s, loss=3.08]\n"
          ]
        },
        {
          "output_type": "stream",
          "name": "stdout",
          "text": [
            "Epoch [563/5000]: Train loss: 1.0788, Valid loss: 1.1612\n"
          ]
        },
        {
          "output_type": "stream",
          "name": "stderr",
          "text": [
            "Epoch [564/5000]: 100%|██████████| 68/68 [00:00<00:00, 108.27it/s, loss=3.09]\n"
          ]
        },
        {
          "output_type": "stream",
          "name": "stdout",
          "text": [
            "Epoch [564/5000]: Train loss: 1.0777, Valid loss: 1.1559\n"
          ]
        },
        {
          "output_type": "stream",
          "name": "stderr",
          "text": [
            "Epoch [565/5000]: 100%|██████████| 68/68 [00:00<00:00, 89.84it/s, loss=1.45]\n"
          ]
        },
        {
          "output_type": "stream",
          "name": "stdout",
          "text": [
            "Epoch [565/5000]: Train loss: 1.0622, Valid loss: 1.1705\n"
          ]
        },
        {
          "output_type": "stream",
          "name": "stderr",
          "text": [
            "Epoch [566/5000]: 100%|██████████| 68/68 [00:00<00:00, 99.89it/s, loss=0.58] \n"
          ]
        },
        {
          "output_type": "stream",
          "name": "stdout",
          "text": [
            "Epoch [566/5000]: Train loss: 1.0737, Valid loss: 1.1636\n"
          ]
        },
        {
          "output_type": "stream",
          "name": "stderr",
          "text": [
            "Epoch [567/5000]: 100%|██████████| 68/68 [00:00<00:00, 106.02it/s, loss=1.01]\n"
          ]
        },
        {
          "output_type": "stream",
          "name": "stdout",
          "text": [
            "Epoch [567/5000]: Train loss: 1.0565, Valid loss: 1.1796\n"
          ]
        },
        {
          "output_type": "stream",
          "name": "stderr",
          "text": [
            "Epoch [568/5000]: 100%|██████████| 68/68 [00:00<00:00, 93.53it/s, loss=1.45]\n"
          ]
        },
        {
          "output_type": "stream",
          "name": "stdout",
          "text": [
            "Epoch [568/5000]: Train loss: 1.0666, Valid loss: 1.1791\n"
          ]
        },
        {
          "output_type": "stream",
          "name": "stderr",
          "text": [
            "Epoch [569/5000]: 100%|██████████| 68/68 [00:00<00:00, 86.34it/s, loss=0.304]\n"
          ]
        },
        {
          "output_type": "stream",
          "name": "stdout",
          "text": [
            "Epoch [569/5000]: Train loss: 1.0618, Valid loss: 1.1630\n"
          ]
        },
        {
          "output_type": "stream",
          "name": "stderr",
          "text": [
            "Epoch [570/5000]: 100%|██████████| 68/68 [00:00<00:00, 91.75it/s, loss=1.57]\n"
          ]
        },
        {
          "output_type": "stream",
          "name": "stdout",
          "text": [
            "Epoch [570/5000]: Train loss: 1.0864, Valid loss: 1.2190\n"
          ]
        },
        {
          "output_type": "stream",
          "name": "stderr",
          "text": [
            "Epoch [571/5000]: 100%|██████████| 68/68 [00:00<00:00, 105.02it/s, loss=0.633]\n"
          ]
        },
        {
          "output_type": "stream",
          "name": "stdout",
          "text": [
            "Epoch [571/5000]: Train loss: 1.0706, Valid loss: 1.2340\n"
          ]
        },
        {
          "output_type": "stream",
          "name": "stderr",
          "text": [
            "Epoch [572/5000]: 100%|██████████| 68/68 [00:00<00:00, 121.10it/s, loss=1.09]\n"
          ]
        },
        {
          "output_type": "stream",
          "name": "stdout",
          "text": [
            "Epoch [572/5000]: Train loss: 1.0804, Valid loss: 1.1550\n"
          ]
        },
        {
          "output_type": "stream",
          "name": "stderr",
          "text": [
            "Epoch [573/5000]: 100%|██████████| 68/68 [00:00<00:00, 80.41it/s, loss=1.15]\n"
          ]
        },
        {
          "output_type": "stream",
          "name": "stdout",
          "text": [
            "Epoch [573/5000]: Train loss: 1.0633, Valid loss: 1.1682\n"
          ]
        },
        {
          "output_type": "stream",
          "name": "stderr",
          "text": [
            "Epoch [574/5000]: 100%|██████████| 68/68 [00:00<00:00, 112.03it/s, loss=0.574]\n"
          ]
        },
        {
          "output_type": "stream",
          "name": "stdout",
          "text": [
            "Epoch [574/5000]: Train loss: 1.0646, Valid loss: 1.1601\n"
          ]
        },
        {
          "output_type": "stream",
          "name": "stderr",
          "text": [
            "Epoch [575/5000]: 100%|██████████| 68/68 [00:00<00:00, 115.34it/s, loss=1.3]\n"
          ]
        },
        {
          "output_type": "stream",
          "name": "stdout",
          "text": [
            "Epoch [575/5000]: Train loss: 1.0567, Valid loss: 1.1665\n"
          ]
        },
        {
          "output_type": "stream",
          "name": "stderr",
          "text": [
            "Epoch [576/5000]: 100%|██████████| 68/68 [00:00<00:00, 83.10it/s, loss=0.71]\n"
          ]
        },
        {
          "output_type": "stream",
          "name": "stdout",
          "text": [
            "Epoch [576/5000]: Train loss: 1.0545, Valid loss: 1.1600\n"
          ]
        },
        {
          "output_type": "stream",
          "name": "stderr",
          "text": [
            "Epoch [577/5000]: 100%|██████████| 68/68 [00:00<00:00, 107.53it/s, loss=0.749]\n"
          ]
        },
        {
          "output_type": "stream",
          "name": "stdout",
          "text": [
            "Epoch [577/5000]: Train loss: 1.0545, Valid loss: 1.1581\n"
          ]
        },
        {
          "output_type": "stream",
          "name": "stderr",
          "text": [
            "Epoch [578/5000]: 100%|██████████| 68/68 [00:00<00:00, 83.29it/s, loss=2.36]\n"
          ]
        },
        {
          "output_type": "stream",
          "name": "stdout",
          "text": [
            "Epoch [578/5000]: Train loss: 1.0803, Valid loss: 1.2246\n"
          ]
        },
        {
          "output_type": "stream",
          "name": "stderr",
          "text": [
            "Epoch [579/5000]: 100%|██████████| 68/68 [00:00<00:00, 86.31it/s, loss=0.422]\n"
          ]
        },
        {
          "output_type": "stream",
          "name": "stdout",
          "text": [
            "Epoch [579/5000]: Train loss: 1.0669, Valid loss: 1.1690\n"
          ]
        },
        {
          "output_type": "stream",
          "name": "stderr",
          "text": [
            "Epoch [580/5000]: 100%|██████████| 68/68 [00:00<00:00, 106.03it/s, loss=0.415]\n"
          ]
        },
        {
          "output_type": "stream",
          "name": "stdout",
          "text": [
            "Epoch [580/5000]: Train loss: 1.0695, Valid loss: 1.1613\n"
          ]
        },
        {
          "output_type": "stream",
          "name": "stderr",
          "text": [
            "Epoch [581/5000]: 100%|██████████| 68/68 [00:00<00:00, 69.04it/s, loss=1.12]\n"
          ]
        },
        {
          "output_type": "stream",
          "name": "stdout",
          "text": [
            "Epoch [581/5000]: Train loss: 1.0587, Valid loss: 1.1707\n"
          ]
        },
        {
          "output_type": "stream",
          "name": "stderr",
          "text": [
            "Epoch [582/5000]: 100%|██████████| 68/68 [00:00<00:00, 106.16it/s, loss=1.14]\n"
          ]
        },
        {
          "output_type": "stream",
          "name": "stdout",
          "text": [
            "Epoch [582/5000]: Train loss: 1.0588, Valid loss: 1.1605\n"
          ]
        },
        {
          "output_type": "stream",
          "name": "stderr",
          "text": [
            "Epoch [583/5000]: 100%|██████████| 68/68 [00:00<00:00, 86.04it/s, loss=1.72]\n"
          ]
        },
        {
          "output_type": "stream",
          "name": "stdout",
          "text": [
            "Epoch [583/5000]: Train loss: 1.0646, Valid loss: 1.2139\n"
          ]
        },
        {
          "output_type": "stream",
          "name": "stderr",
          "text": [
            "Epoch [584/5000]: 100%|██████████| 68/68 [00:00<00:00, 102.87it/s, loss=1.19]\n"
          ]
        },
        {
          "output_type": "stream",
          "name": "stdout",
          "text": [
            "Epoch [584/5000]: Train loss: 1.0579, Valid loss: 1.1685\n"
          ]
        },
        {
          "output_type": "stream",
          "name": "stderr",
          "text": [
            "Epoch [585/5000]: 100%|██████████| 68/68 [00:00<00:00, 107.99it/s, loss=1.81]\n"
          ]
        },
        {
          "output_type": "stream",
          "name": "stdout",
          "text": [
            "Epoch [585/5000]: Train loss: 1.0839, Valid loss: 1.1576\n"
          ]
        },
        {
          "output_type": "stream",
          "name": "stderr",
          "text": [
            "Epoch [586/5000]: 100%|██████████| 68/68 [00:00<00:00, 106.43it/s, loss=0.326]\n"
          ]
        },
        {
          "output_type": "stream",
          "name": "stdout",
          "text": [
            "Epoch [586/5000]: Train loss: 1.0582, Valid loss: 1.1795\n"
          ]
        },
        {
          "output_type": "stream",
          "name": "stderr",
          "text": [
            "Epoch [587/5000]: 100%|██████████| 68/68 [00:00<00:00, 97.59it/s, loss=1.55]\n"
          ]
        },
        {
          "output_type": "stream",
          "name": "stdout",
          "text": [
            "Epoch [587/5000]: Train loss: 1.0706, Valid loss: 1.1635\n"
          ]
        },
        {
          "output_type": "stream",
          "name": "stderr",
          "text": [
            "Epoch [588/5000]: 100%|██████████| 68/68 [00:00<00:00, 93.17it/s, loss=1.13]\n"
          ]
        },
        {
          "output_type": "stream",
          "name": "stdout",
          "text": [
            "Epoch [588/5000]: Train loss: 1.0508, Valid loss: 1.1664\n"
          ]
        },
        {
          "output_type": "stream",
          "name": "stderr",
          "text": [
            "Epoch [589/5000]: 100%|██████████| 68/68 [00:00<00:00, 86.33it/s, loss=1.52]\n"
          ]
        },
        {
          "output_type": "stream",
          "name": "stdout",
          "text": [
            "Epoch [589/5000]: Train loss: 1.0736, Valid loss: 1.1868\n"
          ]
        },
        {
          "output_type": "stream",
          "name": "stderr",
          "text": [
            "Epoch [590/5000]: 100%|██████████| 68/68 [00:00<00:00, 122.33it/s, loss=0.874]\n"
          ]
        },
        {
          "output_type": "stream",
          "name": "stdout",
          "text": [
            "Epoch [590/5000]: Train loss: 1.0610, Valid loss: 1.2112\n"
          ]
        },
        {
          "output_type": "stream",
          "name": "stderr",
          "text": [
            "Epoch [591/5000]: 100%|██████████| 68/68 [00:00<00:00, 81.66it/s, loss=0.499]\n"
          ]
        },
        {
          "output_type": "stream",
          "name": "stdout",
          "text": [
            "Epoch [591/5000]: Train loss: 1.0586, Valid loss: 1.1623\n"
          ]
        },
        {
          "output_type": "stream",
          "name": "stderr",
          "text": [
            "Epoch [592/5000]: 100%|██████████| 68/68 [00:00<00:00, 97.40it/s, loss=0.878] \n"
          ]
        },
        {
          "output_type": "stream",
          "name": "stdout",
          "text": [
            "Epoch [592/5000]: Train loss: 1.0537, Valid loss: 1.1721\n"
          ]
        },
        {
          "output_type": "stream",
          "name": "stderr",
          "text": [
            "Epoch [593/5000]: 100%|██████████| 68/68 [00:00<00:00, 129.07it/s, loss=1.69]\n"
          ]
        },
        {
          "output_type": "stream",
          "name": "stdout",
          "text": [
            "Epoch [593/5000]: Train loss: 1.0590, Valid loss: 1.1638\n"
          ]
        },
        {
          "output_type": "stream",
          "name": "stderr",
          "text": [
            "Epoch [594/5000]: 100%|██████████| 68/68 [00:00<00:00, 84.89it/s, loss=0.409]\n"
          ]
        },
        {
          "output_type": "stream",
          "name": "stdout",
          "text": [
            "Epoch [594/5000]: Train loss: 1.0531, Valid loss: 1.1737\n"
          ]
        },
        {
          "output_type": "stream",
          "name": "stderr",
          "text": [
            "Epoch [595/5000]: 100%|██████████| 68/68 [00:00<00:00, 100.56it/s, loss=1.33]\n"
          ]
        },
        {
          "output_type": "stream",
          "name": "stdout",
          "text": [
            "Epoch [595/5000]: Train loss: 1.0762, Valid loss: 1.2153\n"
          ]
        },
        {
          "output_type": "stream",
          "name": "stderr",
          "text": [
            "Epoch [596/5000]: 100%|██████████| 68/68 [00:00<00:00, 101.94it/s, loss=2]\n"
          ]
        },
        {
          "output_type": "stream",
          "name": "stdout",
          "text": [
            "Epoch [596/5000]: Train loss: 1.0840, Valid loss: 1.1646\n"
          ]
        },
        {
          "output_type": "stream",
          "name": "stderr",
          "text": [
            "Epoch [597/5000]: 100%|██████████| 68/68 [00:00<00:00, 104.80it/s, loss=0.94]\n"
          ]
        },
        {
          "output_type": "stream",
          "name": "stdout",
          "text": [
            "Epoch [597/5000]: Train loss: 1.0809, Valid loss: 1.2320\n"
          ]
        },
        {
          "output_type": "stream",
          "name": "stderr",
          "text": [
            "Epoch [598/5000]: 100%|██████████| 68/68 [00:00<00:00, 92.63it/s, loss=1.14]\n"
          ]
        },
        {
          "output_type": "stream",
          "name": "stdout",
          "text": [
            "Epoch [598/5000]: Train loss: 1.0624, Valid loss: 1.1577\n"
          ]
        },
        {
          "output_type": "stream",
          "name": "stderr",
          "text": [
            "Epoch [599/5000]: 100%|██████████| 68/68 [00:00<00:00, 102.19it/s, loss=0.727]\n"
          ]
        },
        {
          "output_type": "stream",
          "name": "stdout",
          "text": [
            "Epoch [599/5000]: Train loss: 1.0567, Valid loss: 1.2120\n"
          ]
        },
        {
          "output_type": "stream",
          "name": "stderr",
          "text": [
            "Epoch [600/5000]: 100%|██████████| 68/68 [00:00<00:00, 96.82it/s, loss=0.64] \n"
          ]
        },
        {
          "output_type": "stream",
          "name": "stdout",
          "text": [
            "Epoch [600/5000]: Train loss: 1.0565, Valid loss: 1.1596\n"
          ]
        },
        {
          "output_type": "stream",
          "name": "stderr",
          "text": [
            "Epoch [601/5000]: 100%|██████████| 68/68 [00:00<00:00, 114.69it/s, loss=0.857]\n"
          ]
        },
        {
          "output_type": "stream",
          "name": "stdout",
          "text": [
            "Epoch [601/5000]: Train loss: 1.0515, Valid loss: 1.1796\n"
          ]
        },
        {
          "output_type": "stream",
          "name": "stderr",
          "text": [
            "Epoch [602/5000]: 100%|██████████| 68/68 [00:00<00:00, 93.21it/s, loss=0.781]\n"
          ]
        },
        {
          "output_type": "stream",
          "name": "stdout",
          "text": [
            "Epoch [602/5000]: Train loss: 1.0568, Valid loss: 1.1635\n"
          ]
        },
        {
          "output_type": "stream",
          "name": "stderr",
          "text": [
            "Epoch [603/5000]: 100%|██████████| 68/68 [00:00<00:00, 88.06it/s, loss=1.04]\n"
          ]
        },
        {
          "output_type": "stream",
          "name": "stdout",
          "text": [
            "Epoch [603/5000]: Train loss: 1.0578, Valid loss: 1.1720\n"
          ]
        },
        {
          "output_type": "stream",
          "name": "stderr",
          "text": [
            "Epoch [604/5000]: 100%|██████████| 68/68 [00:00<00:00, 130.42it/s, loss=0.898]\n"
          ]
        },
        {
          "output_type": "stream",
          "name": "stdout",
          "text": [
            "Epoch [604/5000]: Train loss: 1.0655, Valid loss: 1.1689\n"
          ]
        },
        {
          "output_type": "stream",
          "name": "stderr",
          "text": [
            "Epoch [605/5000]: 100%|██████████| 68/68 [00:00<00:00, 96.66it/s, loss=1.82] \n"
          ]
        },
        {
          "output_type": "stream",
          "name": "stdout",
          "text": [
            "Epoch [605/5000]: Train loss: 1.0587, Valid loss: 1.1567\n"
          ]
        },
        {
          "output_type": "stream",
          "name": "stderr",
          "text": [
            "Epoch [606/5000]: 100%|██████████| 68/68 [00:00<00:00, 79.09it/s, loss=1.4]\n"
          ]
        },
        {
          "output_type": "stream",
          "name": "stdout",
          "text": [
            "Epoch [606/5000]: Train loss: 1.0629, Valid loss: 1.1877\n"
          ]
        },
        {
          "output_type": "stream",
          "name": "stderr",
          "text": [
            "Epoch [607/5000]: 100%|██████████| 68/68 [00:00<00:00, 89.18it/s, loss=0.568]\n"
          ]
        },
        {
          "output_type": "stream",
          "name": "stdout",
          "text": [
            "Epoch [607/5000]: Train loss: 1.0625, Valid loss: 1.1547\n"
          ]
        },
        {
          "output_type": "stream",
          "name": "stderr",
          "text": [
            "Epoch [608/5000]: 100%|██████████| 68/68 [00:00<00:00, 104.70it/s, loss=0.364]\n"
          ]
        },
        {
          "output_type": "stream",
          "name": "stdout",
          "text": [
            "Epoch [608/5000]: Train loss: 1.0572, Valid loss: 1.1585\n"
          ]
        },
        {
          "output_type": "stream",
          "name": "stderr",
          "text": [
            "Epoch [609/5000]: 100%|██████████| 68/68 [00:00<00:00, 79.28it/s, loss=1.21]\n"
          ]
        },
        {
          "output_type": "stream",
          "name": "stdout",
          "text": [
            "Epoch [609/5000]: Train loss: 1.0552, Valid loss: 1.1627\n"
          ]
        },
        {
          "output_type": "stream",
          "name": "stderr",
          "text": [
            "Epoch [610/5000]: 100%|██████████| 68/68 [00:00<00:00, 105.04it/s, loss=1.01]\n"
          ]
        },
        {
          "output_type": "stream",
          "name": "stdout",
          "text": [
            "Epoch [610/5000]: Train loss: 1.0608, Valid loss: 1.1582\n"
          ]
        },
        {
          "output_type": "stream",
          "name": "stderr",
          "text": [
            "Epoch [611/5000]: 100%|██████████| 68/68 [00:00<00:00, 89.81it/s, loss=0.608]\n"
          ]
        },
        {
          "output_type": "stream",
          "name": "stdout",
          "text": [
            "Epoch [611/5000]: Train loss: 1.0555, Valid loss: 1.1663\n"
          ]
        },
        {
          "output_type": "stream",
          "name": "stderr",
          "text": [
            "Epoch [612/5000]: 100%|██████████| 68/68 [00:00<00:00, 87.76it/s, loss=1.46]\n"
          ]
        },
        {
          "output_type": "stream",
          "name": "stdout",
          "text": [
            "Epoch [612/5000]: Train loss: 1.0749, Valid loss: 1.1756\n"
          ]
        },
        {
          "output_type": "stream",
          "name": "stderr",
          "text": [
            "Epoch [613/5000]: 100%|██████████| 68/68 [00:00<00:00, 105.04it/s, loss=1.46]\n"
          ]
        },
        {
          "output_type": "stream",
          "name": "stdout",
          "text": [
            "Epoch [613/5000]: Train loss: 1.0565, Valid loss: 1.1732\n"
          ]
        },
        {
          "output_type": "stream",
          "name": "stderr",
          "text": [
            "Epoch [614/5000]: 100%|██████████| 68/68 [00:00<00:00, 99.69it/s, loss=0.627]\n"
          ]
        },
        {
          "output_type": "stream",
          "name": "stdout",
          "text": [
            "Epoch [614/5000]: Train loss: 1.0595, Valid loss: 1.1681\n"
          ]
        },
        {
          "output_type": "stream",
          "name": "stderr",
          "text": [
            "Epoch [615/5000]: 100%|██████████| 68/68 [00:00<00:00, 102.79it/s, loss=1.05]\n"
          ]
        },
        {
          "output_type": "stream",
          "name": "stdout",
          "text": [
            "Epoch [615/5000]: Train loss: 1.0652, Valid loss: 1.2833\n"
          ]
        },
        {
          "output_type": "stream",
          "name": "stderr",
          "text": [
            "Epoch [616/5000]: 100%|██████████| 68/68 [00:00<00:00, 111.48it/s, loss=0.847]\n"
          ]
        },
        {
          "output_type": "stream",
          "name": "stdout",
          "text": [
            "Epoch [616/5000]: Train loss: 1.0697, Valid loss: 1.1996\n"
          ]
        },
        {
          "output_type": "stream",
          "name": "stderr",
          "text": [
            "Epoch [617/5000]: 100%|██████████| 68/68 [00:00<00:00, 84.06it/s, loss=0.553]\n"
          ]
        },
        {
          "output_type": "stream",
          "name": "stdout",
          "text": [
            "Epoch [617/5000]: Train loss: 1.0816, Valid loss: 1.1753\n"
          ]
        },
        {
          "output_type": "stream",
          "name": "stderr",
          "text": [
            "Epoch [618/5000]: 100%|██████████| 68/68 [00:00<00:00, 104.75it/s, loss=1.23]\n"
          ]
        },
        {
          "output_type": "stream",
          "name": "stdout",
          "text": [
            "Epoch [618/5000]: Train loss: 1.0685, Valid loss: 1.1592\n"
          ]
        },
        {
          "output_type": "stream",
          "name": "stderr",
          "text": [
            "Epoch [619/5000]: 100%|██████████| 68/68 [00:00<00:00, 104.39it/s, loss=2.09]\n"
          ]
        },
        {
          "output_type": "stream",
          "name": "stdout",
          "text": [
            "Epoch [619/5000]: Train loss: 1.0623, Valid loss: 1.1613\n"
          ]
        },
        {
          "output_type": "stream",
          "name": "stderr",
          "text": [
            "Epoch [620/5000]: 100%|██████████| 68/68 [00:00<00:00, 94.95it/s, loss=1.01]\n"
          ]
        },
        {
          "output_type": "stream",
          "name": "stdout",
          "text": [
            "Epoch [620/5000]: Train loss: 1.0725, Valid loss: 1.1614\n"
          ]
        },
        {
          "output_type": "stream",
          "name": "stderr",
          "text": [
            "Epoch [621/5000]: 100%|██████████| 68/68 [00:00<00:00, 104.41it/s, loss=1.39]\n"
          ]
        },
        {
          "output_type": "stream",
          "name": "stdout",
          "text": [
            "Epoch [621/5000]: Train loss: 1.0562, Valid loss: 1.1733\n"
          ]
        },
        {
          "output_type": "stream",
          "name": "stderr",
          "text": [
            "Epoch [622/5000]: 100%|██████████| 68/68 [00:00<00:00, 107.55it/s, loss=0.91]\n"
          ]
        },
        {
          "output_type": "stream",
          "name": "stdout",
          "text": [
            "Epoch [622/5000]: Train loss: 1.0613, Valid loss: 1.1734\n"
          ]
        },
        {
          "output_type": "stream",
          "name": "stderr",
          "text": [
            "Epoch [623/5000]: 100%|██████████| 68/68 [00:00<00:00, 99.28it/s, loss=0.995]\n"
          ]
        },
        {
          "output_type": "stream",
          "name": "stdout",
          "text": [
            "Epoch [623/5000]: Train loss: 1.0619, Valid loss: 1.1808\n"
          ]
        },
        {
          "output_type": "stream",
          "name": "stderr",
          "text": [
            "Epoch [624/5000]: 100%|██████████| 68/68 [00:00<00:00, 107.47it/s, loss=0.982]\n"
          ]
        },
        {
          "output_type": "stream",
          "name": "stdout",
          "text": [
            "Epoch [624/5000]: Train loss: 1.0573, Valid loss: 1.1570\n"
          ]
        },
        {
          "output_type": "stream",
          "name": "stderr",
          "text": [
            "Epoch [625/5000]: 100%|██████████| 68/68 [00:00<00:00, 81.77it/s, loss=0.696]\n"
          ]
        },
        {
          "output_type": "stream",
          "name": "stdout",
          "text": [
            "Epoch [625/5000]: Train loss: 1.0557, Valid loss: 1.1598\n"
          ]
        },
        {
          "output_type": "stream",
          "name": "stderr",
          "text": [
            "Epoch [626/5000]: 100%|██████████| 68/68 [00:00<00:00, 95.57it/s, loss=1.29] \n"
          ]
        },
        {
          "output_type": "stream",
          "name": "stdout",
          "text": [
            "Epoch [626/5000]: Train loss: 1.0618, Valid loss: 1.1876\n"
          ]
        },
        {
          "output_type": "stream",
          "name": "stderr",
          "text": [
            "Epoch [627/5000]: 100%|██████████| 68/68 [00:00<00:00, 129.39it/s, loss=1.69]\n"
          ]
        },
        {
          "output_type": "stream",
          "name": "stdout",
          "text": [
            "Epoch [627/5000]: Train loss: 1.0665, Valid loss: 1.1737\n"
          ]
        },
        {
          "output_type": "stream",
          "name": "stderr",
          "text": [
            "Epoch [628/5000]: 100%|██████████| 68/68 [00:00<00:00, 77.42it/s, loss=0.994]\n"
          ]
        },
        {
          "output_type": "stream",
          "name": "stdout",
          "text": [
            "Epoch [628/5000]: Train loss: 1.0578, Valid loss: 1.1722\n"
          ]
        },
        {
          "output_type": "stream",
          "name": "stderr",
          "text": [
            "Epoch [629/5000]: 100%|██████████| 68/68 [00:00<00:00, 108.65it/s, loss=2.4]\n"
          ]
        },
        {
          "output_type": "stream",
          "name": "stdout",
          "text": [
            "Epoch [629/5000]: Train loss: 1.0826, Valid loss: 1.1731\n"
          ]
        },
        {
          "output_type": "stream",
          "name": "stderr",
          "text": [
            "Epoch [630/5000]: 100%|██████████| 68/68 [00:00<00:00, 98.56it/s, loss=0.931]\n"
          ]
        },
        {
          "output_type": "stream",
          "name": "stdout",
          "text": [
            "Epoch [630/5000]: Train loss: 1.0583, Valid loss: 1.2352\n"
          ]
        },
        {
          "output_type": "stream",
          "name": "stderr",
          "text": [
            "Epoch [631/5000]: 100%|██████████| 68/68 [00:00<00:00, 103.51it/s, loss=0.583]\n"
          ]
        },
        {
          "output_type": "stream",
          "name": "stdout",
          "text": [
            "Epoch [631/5000]: Train loss: 1.0678, Valid loss: 1.1556\n"
          ]
        },
        {
          "output_type": "stream",
          "name": "stderr",
          "text": [
            "Epoch [632/5000]: 100%|██████████| 68/68 [00:00<00:00, 95.18it/s, loss=0.811]\n"
          ]
        },
        {
          "output_type": "stream",
          "name": "stdout",
          "text": [
            "Epoch [632/5000]: Train loss: 1.0558, Valid loss: 1.1616\n"
          ]
        },
        {
          "output_type": "stream",
          "name": "stderr",
          "text": [
            "Epoch [633/5000]: 100%|██████████| 68/68 [00:00<00:00, 107.24it/s, loss=2.24]\n"
          ]
        },
        {
          "output_type": "stream",
          "name": "stdout",
          "text": [
            "Epoch [633/5000]: Train loss: 1.0853, Valid loss: 1.1641\n"
          ]
        },
        {
          "output_type": "stream",
          "name": "stderr",
          "text": [
            "Epoch [634/5000]: 100%|██████████| 68/68 [00:00<00:00, 107.55it/s, loss=1.71]\n"
          ]
        },
        {
          "output_type": "stream",
          "name": "stdout",
          "text": [
            "Epoch [634/5000]: Train loss: 1.0637, Valid loss: 1.1691\n"
          ]
        },
        {
          "output_type": "stream",
          "name": "stderr",
          "text": [
            "Epoch [635/5000]: 100%|██████████| 68/68 [00:00<00:00, 106.61it/s, loss=0.679]\n"
          ]
        },
        {
          "output_type": "stream",
          "name": "stdout",
          "text": [
            "Epoch [635/5000]: Train loss: 1.0570, Valid loss: 1.1695\n"
          ]
        },
        {
          "output_type": "stream",
          "name": "stderr",
          "text": [
            "Epoch [636/5000]: 100%|██████████| 68/68 [00:00<00:00, 107.45it/s, loss=1.45]\n"
          ]
        },
        {
          "output_type": "stream",
          "name": "stdout",
          "text": [
            "Epoch [636/5000]: Train loss: 1.0605, Valid loss: 1.1710\n"
          ]
        },
        {
          "output_type": "stream",
          "name": "stderr",
          "text": [
            "Epoch [637/5000]: 100%|██████████| 68/68 [00:00<00:00, 105.24it/s, loss=0.764]\n"
          ]
        },
        {
          "output_type": "stream",
          "name": "stdout",
          "text": [
            "Epoch [637/5000]: Train loss: 1.0686, Valid loss: 1.1778\n"
          ]
        },
        {
          "output_type": "stream",
          "name": "stderr",
          "text": [
            "Epoch [638/5000]: 100%|██████████| 68/68 [00:00<00:00, 101.17it/s, loss=0.985]\n"
          ]
        },
        {
          "output_type": "stream",
          "name": "stdout",
          "text": [
            "Epoch [638/5000]: Train loss: 1.0576, Valid loss: 1.1774\n"
          ]
        },
        {
          "output_type": "stream",
          "name": "stderr",
          "text": [
            "Epoch [639/5000]: 100%|██████████| 68/68 [00:00<00:00, 102.77it/s, loss=2.44]\n"
          ]
        },
        {
          "output_type": "stream",
          "name": "stdout",
          "text": [
            "Epoch [639/5000]: Train loss: 1.0696, Valid loss: 1.1733\n"
          ]
        },
        {
          "output_type": "stream",
          "name": "stderr",
          "text": [
            "Epoch [640/5000]: 100%|██████████| 68/68 [00:00<00:00, 112.63it/s, loss=0.715]\n"
          ]
        },
        {
          "output_type": "stream",
          "name": "stdout",
          "text": [
            "Epoch [640/5000]: Train loss: 1.0526, Valid loss: 1.1844\n"
          ]
        },
        {
          "output_type": "stream",
          "name": "stderr",
          "text": [
            "Epoch [641/5000]: 100%|██████████| 68/68 [00:00<00:00, 105.76it/s, loss=1.74]\n"
          ]
        },
        {
          "output_type": "stream",
          "name": "stdout",
          "text": [
            "Epoch [641/5000]: Train loss: 1.0576, Valid loss: 1.2085\n"
          ]
        },
        {
          "output_type": "stream",
          "name": "stderr",
          "text": [
            "Epoch [642/5000]: 100%|██████████| 68/68 [00:00<00:00, 106.95it/s, loss=1.91]\n"
          ]
        },
        {
          "output_type": "stream",
          "name": "stdout",
          "text": [
            "Epoch [642/5000]: Train loss: 1.0688, Valid loss: 1.1638\n"
          ]
        },
        {
          "output_type": "stream",
          "name": "stderr",
          "text": [
            "Epoch [643/5000]: 100%|██████████| 68/68 [00:00<00:00, 108.47it/s, loss=2.18]\n"
          ]
        },
        {
          "output_type": "stream",
          "name": "stdout",
          "text": [
            "Epoch [643/5000]: Train loss: 1.0643, Valid loss: 1.1553\n"
          ]
        },
        {
          "output_type": "stream",
          "name": "stderr",
          "text": [
            "Epoch [644/5000]: 100%|██████████| 68/68 [00:00<00:00, 103.18it/s, loss=2.14]\n"
          ]
        },
        {
          "output_type": "stream",
          "name": "stdout",
          "text": [
            "Epoch [644/5000]: Train loss: 1.0675, Valid loss: 1.1575\n"
          ]
        },
        {
          "output_type": "stream",
          "name": "stderr",
          "text": [
            "Epoch [645/5000]: 100%|██████████| 68/68 [00:00<00:00, 97.26it/s, loss=0.972]\n"
          ]
        },
        {
          "output_type": "stream",
          "name": "stdout",
          "text": [
            "Epoch [645/5000]: Train loss: 1.0648, Valid loss: 1.1661\n"
          ]
        },
        {
          "output_type": "stream",
          "name": "stderr",
          "text": [
            "Epoch [646/5000]: 100%|██████████| 68/68 [00:00<00:00, 103.83it/s, loss=0.351]\n"
          ]
        },
        {
          "output_type": "stream",
          "name": "stdout",
          "text": [
            "Epoch [646/5000]: Train loss: 1.0593, Valid loss: 1.2010\n"
          ]
        },
        {
          "output_type": "stream",
          "name": "stderr",
          "text": [
            "Epoch [647/5000]: 100%|██████████| 68/68 [00:00<00:00, 95.93it/s, loss=1.61]\n"
          ]
        },
        {
          "output_type": "stream",
          "name": "stdout",
          "text": [
            "Epoch [647/5000]: Train loss: 1.0665, Valid loss: 1.1858\n"
          ]
        },
        {
          "output_type": "stream",
          "name": "stderr",
          "text": [
            "Epoch [648/5000]: 100%|██████████| 68/68 [00:00<00:00, 104.02it/s, loss=1.23]\n"
          ]
        },
        {
          "output_type": "stream",
          "name": "stdout",
          "text": [
            "Epoch [648/5000]: Train loss: 1.0664, Valid loss: 1.2020\n"
          ]
        },
        {
          "output_type": "stream",
          "name": "stderr",
          "text": [
            "Epoch [649/5000]: 100%|██████████| 68/68 [00:00<00:00, 106.66it/s, loss=0.925]\n"
          ]
        },
        {
          "output_type": "stream",
          "name": "stdout",
          "text": [
            "Epoch [649/5000]: Train loss: 1.0571, Valid loss: 1.1628\n"
          ]
        },
        {
          "output_type": "stream",
          "name": "stderr",
          "text": [
            "Epoch [650/5000]: 100%|██████████| 68/68 [00:00<00:00, 103.11it/s, loss=0.51]\n"
          ]
        },
        {
          "output_type": "stream",
          "name": "stdout",
          "text": [
            "Epoch [650/5000]: Train loss: 1.0487, Valid loss: 1.1633\n"
          ]
        },
        {
          "output_type": "stream",
          "name": "stderr",
          "text": [
            "Epoch [651/5000]: 100%|██████████| 68/68 [00:00<00:00, 98.87it/s, loss=0.587] \n"
          ]
        },
        {
          "output_type": "stream",
          "name": "stdout",
          "text": [
            "Epoch [651/5000]: Train loss: 1.0625, Valid loss: 1.1792\n"
          ]
        },
        {
          "output_type": "stream",
          "name": "stderr",
          "text": [
            "Epoch [652/5000]: 100%|██████████| 68/68 [00:00<00:00, 84.13it/s, loss=0.864]\n"
          ]
        },
        {
          "output_type": "stream",
          "name": "stdout",
          "text": [
            "Epoch [652/5000]: Train loss: 1.0606, Valid loss: 1.1650\n"
          ]
        },
        {
          "output_type": "stream",
          "name": "stderr",
          "text": [
            "Epoch [653/5000]: 100%|██████████| 68/68 [00:00<00:00, 98.30it/s, loss=0.624]\n"
          ]
        },
        {
          "output_type": "stream",
          "name": "stdout",
          "text": [
            "Epoch [653/5000]: Train loss: 1.0454, Valid loss: 1.1594\n"
          ]
        },
        {
          "output_type": "stream",
          "name": "stderr",
          "text": [
            "Epoch [654/5000]: 100%|██████████| 68/68 [00:00<00:00, 94.25it/s, loss=1.44] \n"
          ]
        },
        {
          "output_type": "stream",
          "name": "stdout",
          "text": [
            "Epoch [654/5000]: Train loss: 1.0658, Valid loss: 1.1608\n"
          ]
        },
        {
          "output_type": "stream",
          "name": "stderr",
          "text": [
            "Epoch [655/5000]: 100%|██████████| 68/68 [00:00<00:00, 90.24it/s, loss=0.309]\n"
          ]
        },
        {
          "output_type": "stream",
          "name": "stdout",
          "text": [
            "Epoch [655/5000]: Train loss: 1.0454, Valid loss: 1.1808\n"
          ]
        },
        {
          "output_type": "stream",
          "name": "stderr",
          "text": [
            "Epoch [656/5000]: 100%|██████████| 68/68 [00:00<00:00, 109.93it/s, loss=0.749]\n"
          ]
        },
        {
          "output_type": "stream",
          "name": "stdout",
          "text": [
            "Epoch [656/5000]: Train loss: 1.0459, Valid loss: 1.2228\n"
          ]
        },
        {
          "output_type": "stream",
          "name": "stderr",
          "text": [
            "Epoch [657/5000]: 100%|██████████| 68/68 [00:00<00:00, 83.98it/s, loss=1.15]\n"
          ]
        },
        {
          "output_type": "stream",
          "name": "stdout",
          "text": [
            "Epoch [657/5000]: Train loss: 1.0643, Valid loss: 1.1690\n"
          ]
        },
        {
          "output_type": "stream",
          "name": "stderr",
          "text": [
            "Epoch [658/5000]: 100%|██████████| 68/68 [00:00<00:00, 89.47it/s, loss=0.748]\n"
          ]
        },
        {
          "output_type": "stream",
          "name": "stdout",
          "text": [
            "Epoch [658/5000]: Train loss: 1.0614, Valid loss: 1.2258\n"
          ]
        },
        {
          "output_type": "stream",
          "name": "stderr",
          "text": [
            "Epoch [659/5000]: 100%|██████████| 68/68 [00:00<00:00, 95.39it/s, loss=0.457]\n"
          ]
        },
        {
          "output_type": "stream",
          "name": "stdout",
          "text": [
            "Epoch [659/5000]: Train loss: 1.0714, Valid loss: 1.1769\n"
          ]
        },
        {
          "output_type": "stream",
          "name": "stderr",
          "text": [
            "Epoch [660/5000]: 100%|██████████| 68/68 [00:00<00:00, 99.32it/s, loss=0.545]\n"
          ]
        },
        {
          "output_type": "stream",
          "name": "stdout",
          "text": [
            "Epoch [660/5000]: Train loss: 1.0644, Valid loss: 1.1728\n"
          ]
        },
        {
          "output_type": "stream",
          "name": "stderr",
          "text": [
            "Epoch [661/5000]: 100%|██████████| 68/68 [00:00<00:00, 100.91it/s, loss=1.2]\n"
          ]
        },
        {
          "output_type": "stream",
          "name": "stdout",
          "text": [
            "Epoch [661/5000]: Train loss: 1.0636, Valid loss: 1.2606\n"
          ]
        },
        {
          "output_type": "stream",
          "name": "stderr",
          "text": [
            "Epoch [662/5000]: 100%|██████████| 68/68 [00:00<00:00, 89.01it/s, loss=1.01]\n"
          ]
        },
        {
          "output_type": "stream",
          "name": "stdout",
          "text": [
            "Epoch [662/5000]: Train loss: 1.0612, Valid loss: 1.1596\n"
          ]
        },
        {
          "output_type": "stream",
          "name": "stderr",
          "text": [
            "Epoch [663/5000]: 100%|██████████| 68/68 [00:00<00:00, 99.41it/s, loss=0.657] \n"
          ]
        },
        {
          "output_type": "stream",
          "name": "stdout",
          "text": [
            "Epoch [663/5000]: Train loss: 1.0533, Valid loss: 1.1597\n"
          ]
        },
        {
          "output_type": "stream",
          "name": "stderr",
          "text": [
            "Epoch [664/5000]: 100%|██████████| 68/68 [00:00<00:00, 88.82it/s, loss=0.884]\n"
          ]
        },
        {
          "output_type": "stream",
          "name": "stdout",
          "text": [
            "Epoch [664/5000]: Train loss: 1.0665, Valid loss: 1.2448\n"
          ]
        },
        {
          "output_type": "stream",
          "name": "stderr",
          "text": [
            "Epoch [665/5000]: 100%|██████████| 68/68 [00:00<00:00, 94.67it/s, loss=0.789]\n"
          ]
        },
        {
          "output_type": "stream",
          "name": "stdout",
          "text": [
            "Epoch [665/5000]: Train loss: 1.0508, Valid loss: 1.1616\n"
          ]
        },
        {
          "output_type": "stream",
          "name": "stderr",
          "text": [
            "Epoch [666/5000]: 100%|██████████| 68/68 [00:00<00:00, 88.24it/s, loss=1.02]\n"
          ]
        },
        {
          "output_type": "stream",
          "name": "stdout",
          "text": [
            "Epoch [666/5000]: Train loss: 1.0654, Valid loss: 1.1668\n"
          ]
        },
        {
          "output_type": "stream",
          "name": "stderr",
          "text": [
            "Epoch [667/5000]: 100%|██████████| 68/68 [00:00<00:00, 106.88it/s, loss=1.22]\n"
          ]
        },
        {
          "output_type": "stream",
          "name": "stdout",
          "text": [
            "Epoch [667/5000]: Train loss: 1.0682, Valid loss: 1.1821\n"
          ]
        },
        {
          "output_type": "stream",
          "name": "stderr",
          "text": [
            "Epoch [668/5000]: 100%|██████████| 68/68 [00:00<00:00, 97.26it/s, loss=0.637] \n"
          ]
        },
        {
          "output_type": "stream",
          "name": "stdout",
          "text": [
            "Epoch [668/5000]: Train loss: 1.0561, Valid loss: 1.1684\n"
          ]
        },
        {
          "output_type": "stream",
          "name": "stderr",
          "text": [
            "Epoch [669/5000]: 100%|██████████| 68/68 [00:00<00:00, 108.13it/s, loss=0.579]\n"
          ]
        },
        {
          "output_type": "stream",
          "name": "stdout",
          "text": [
            "Epoch [669/5000]: Train loss: 1.0500, Valid loss: 1.1600\n"
          ]
        },
        {
          "output_type": "stream",
          "name": "stderr",
          "text": [
            "Epoch [670/5000]: 100%|██████████| 68/68 [00:00<00:00, 85.44it/s, loss=1.25]\n"
          ]
        },
        {
          "output_type": "stream",
          "name": "stdout",
          "text": [
            "Epoch [670/5000]: Train loss: 1.0854, Valid loss: 1.1988\n"
          ]
        },
        {
          "output_type": "stream",
          "name": "stderr",
          "text": [
            "Epoch [671/5000]: 100%|██████████| 68/68 [00:00<00:00, 100.71it/s, loss=0.782]\n"
          ]
        },
        {
          "output_type": "stream",
          "name": "stdout",
          "text": [
            "Epoch [671/5000]: Train loss: 1.0638, Valid loss: 1.1671\n"
          ]
        },
        {
          "output_type": "stream",
          "name": "stderr",
          "text": [
            "Epoch [672/5000]: 100%|██████████| 68/68 [00:00<00:00, 99.45it/s, loss=1.5]\n"
          ]
        },
        {
          "output_type": "stream",
          "name": "stdout",
          "text": [
            "Epoch [672/5000]: Train loss: 1.0670, Valid loss: 1.1688\n"
          ]
        },
        {
          "output_type": "stream",
          "name": "stderr",
          "text": [
            "Epoch [673/5000]: 100%|██████████| 68/68 [00:00<00:00, 93.18it/s, loss=0.883] \n"
          ]
        },
        {
          "output_type": "stream",
          "name": "stdout",
          "text": [
            "Epoch [673/5000]: Train loss: 1.0568, Valid loss: 1.1631\n"
          ]
        },
        {
          "output_type": "stream",
          "name": "stderr",
          "text": [
            "Epoch [674/5000]: 100%|██████████| 68/68 [00:00<00:00, 102.55it/s, loss=0.82]\n"
          ]
        },
        {
          "output_type": "stream",
          "name": "stdout",
          "text": [
            "Epoch [674/5000]: Train loss: 1.0625, Valid loss: 1.1772\n"
          ]
        },
        {
          "output_type": "stream",
          "name": "stderr",
          "text": [
            "Epoch [675/5000]: 100%|██████████| 68/68 [00:00<00:00, 87.17it/s, loss=1.01]\n"
          ]
        },
        {
          "output_type": "stream",
          "name": "stdout",
          "text": [
            "Epoch [675/5000]: Train loss: 1.0514, Valid loss: 1.1575\n"
          ]
        },
        {
          "output_type": "stream",
          "name": "stderr",
          "text": [
            "Epoch [676/5000]: 100%|██████████| 68/68 [00:00<00:00, 91.89it/s, loss=1.23]\n"
          ]
        },
        {
          "output_type": "stream",
          "name": "stdout",
          "text": [
            "Epoch [676/5000]: Train loss: 1.0583, Valid loss: 1.1675\n"
          ]
        },
        {
          "output_type": "stream",
          "name": "stderr",
          "text": [
            "Epoch [677/5000]: 100%|██████████| 68/68 [00:00<00:00, 98.45it/s, loss=0.74] \n"
          ]
        },
        {
          "output_type": "stream",
          "name": "stdout",
          "text": [
            "Epoch [677/5000]: Train loss: 1.0568, Valid loss: 1.1537\n"
          ]
        },
        {
          "output_type": "stream",
          "name": "stderr",
          "text": [
            "Epoch [678/5000]: 100%|██████████| 68/68 [00:00<00:00, 106.98it/s, loss=0.992]\n"
          ]
        },
        {
          "output_type": "stream",
          "name": "stdout",
          "text": [
            "Epoch [678/5000]: Train loss: 1.0595, Valid loss: 1.1667\n"
          ]
        },
        {
          "output_type": "stream",
          "name": "stderr",
          "text": [
            "Epoch [679/5000]: 100%|██████████| 68/68 [00:00<00:00, 102.07it/s, loss=0.774]\n"
          ]
        },
        {
          "output_type": "stream",
          "name": "stdout",
          "text": [
            "Epoch [679/5000]: Train loss: 1.0551, Valid loss: 1.1819\n"
          ]
        },
        {
          "output_type": "stream",
          "name": "stderr",
          "text": [
            "Epoch [680/5000]: 100%|██████████| 68/68 [00:00<00:00, 84.77it/s, loss=1.12]\n"
          ]
        },
        {
          "output_type": "stream",
          "name": "stdout",
          "text": [
            "Epoch [680/5000]: Train loss: 1.0564, Valid loss: 1.1576\n"
          ]
        },
        {
          "output_type": "stream",
          "name": "stderr",
          "text": [
            "Epoch [681/5000]: 100%|██████████| 68/68 [00:00<00:00, 123.35it/s, loss=1.9]\n"
          ]
        },
        {
          "output_type": "stream",
          "name": "stdout",
          "text": [
            "Epoch [681/5000]: Train loss: 1.0678, Valid loss: 1.1535\n"
          ]
        },
        {
          "output_type": "stream",
          "name": "stderr",
          "text": [
            "Epoch [682/5000]: 100%|██████████| 68/68 [00:00<00:00, 119.16it/s, loss=0.979]\n"
          ]
        },
        {
          "output_type": "stream",
          "name": "stdout",
          "text": [
            "Epoch [682/5000]: Train loss: 1.0573, Valid loss: 1.1571\n"
          ]
        },
        {
          "output_type": "stream",
          "name": "stderr",
          "text": [
            "Epoch [683/5000]: 100%|██████████| 68/68 [00:00<00:00, 79.02it/s, loss=0.819]\n"
          ]
        },
        {
          "output_type": "stream",
          "name": "stdout",
          "text": [
            "Epoch [683/5000]: Train loss: 1.0589, Valid loss: 1.1572\n"
          ]
        },
        {
          "output_type": "stream",
          "name": "stderr",
          "text": [
            "Epoch [684/5000]: 100%|██████████| 68/68 [00:00<00:00, 95.35it/s, loss=1.16]\n"
          ]
        },
        {
          "output_type": "stream",
          "name": "stdout",
          "text": [
            "Epoch [684/5000]: Train loss: 1.0560, Valid loss: 1.1582\n"
          ]
        },
        {
          "output_type": "stream",
          "name": "stderr",
          "text": [
            "Epoch [685/5000]: 100%|██████████| 68/68 [00:00<00:00, 88.03it/s, loss=1.02]\n"
          ]
        },
        {
          "output_type": "stream",
          "name": "stdout",
          "text": [
            "Epoch [685/5000]: Train loss: 1.0624, Valid loss: 1.1642\n"
          ]
        },
        {
          "output_type": "stream",
          "name": "stderr",
          "text": [
            "Epoch [686/5000]: 100%|██████████| 68/68 [00:00<00:00, 99.02it/s, loss=1.22] \n"
          ]
        },
        {
          "output_type": "stream",
          "name": "stdout",
          "text": [
            "Epoch [686/5000]: Train loss: 1.0634, Valid loss: 1.1623\n"
          ]
        },
        {
          "output_type": "stream",
          "name": "stderr",
          "text": [
            "Epoch [687/5000]: 100%|██████████| 68/68 [00:00<00:00, 105.30it/s, loss=0.364]\n"
          ]
        },
        {
          "output_type": "stream",
          "name": "stdout",
          "text": [
            "Epoch [687/5000]: Train loss: 1.0523, Valid loss: 1.1925\n"
          ]
        },
        {
          "output_type": "stream",
          "name": "stderr",
          "text": [
            "Epoch [688/5000]: 100%|██████████| 68/68 [00:00<00:00, 85.11it/s, loss=1.88]\n"
          ]
        },
        {
          "output_type": "stream",
          "name": "stdout",
          "text": [
            "Epoch [688/5000]: Train loss: 1.0613, Valid loss: 1.1727\n"
          ]
        },
        {
          "output_type": "stream",
          "name": "stderr",
          "text": [
            "Epoch [689/5000]: 100%|██████████| 68/68 [00:00<00:00, 117.33it/s, loss=3.38]\n"
          ]
        },
        {
          "output_type": "stream",
          "name": "stdout",
          "text": [
            "Epoch [689/5000]: Train loss: 1.0734, Valid loss: 1.1596\n"
          ]
        },
        {
          "output_type": "stream",
          "name": "stderr",
          "text": [
            "Epoch [690/5000]: 100%|██████████| 68/68 [00:00<00:00, 103.11it/s, loss=0.633]\n"
          ]
        },
        {
          "output_type": "stream",
          "name": "stdout",
          "text": [
            "Epoch [690/5000]: Train loss: 1.0529, Valid loss: 1.1992\n"
          ]
        },
        {
          "output_type": "stream",
          "name": "stderr",
          "text": [
            "Epoch [691/5000]: 100%|██████████| 68/68 [00:00<00:00, 101.70it/s, loss=0.642]\n"
          ]
        },
        {
          "output_type": "stream",
          "name": "stdout",
          "text": [
            "Epoch [691/5000]: Train loss: 1.0503, Valid loss: 1.1734\n"
          ]
        },
        {
          "output_type": "stream",
          "name": "stderr",
          "text": [
            "Epoch [692/5000]: 100%|██████████| 68/68 [00:00<00:00, 91.46it/s, loss=1.01]\n"
          ]
        },
        {
          "output_type": "stream",
          "name": "stdout",
          "text": [
            "Epoch [692/5000]: Train loss: 1.0678, Valid loss: 1.1576\n"
          ]
        },
        {
          "output_type": "stream",
          "name": "stderr",
          "text": [
            "Epoch [693/5000]: 100%|██████████| 68/68 [00:00<00:00, 95.20it/s, loss=0.811]\n"
          ]
        },
        {
          "output_type": "stream",
          "name": "stdout",
          "text": [
            "Epoch [693/5000]: Train loss: 1.0549, Valid loss: 1.2275\n"
          ]
        },
        {
          "output_type": "stream",
          "name": "stderr",
          "text": [
            "Epoch [694/5000]: 100%|██████████| 68/68 [00:00<00:00, 98.62it/s, loss=0.955]\n"
          ]
        },
        {
          "output_type": "stream",
          "name": "stdout",
          "text": [
            "Epoch [694/5000]: Train loss: 1.0662, Valid loss: 1.2390\n"
          ]
        },
        {
          "output_type": "stream",
          "name": "stderr",
          "text": [
            "Epoch [695/5000]: 100%|██████████| 68/68 [00:00<00:00, 104.93it/s, loss=1.67]\n"
          ]
        },
        {
          "output_type": "stream",
          "name": "stdout",
          "text": [
            "Epoch [695/5000]: Train loss: 1.0628, Valid loss: 1.1648\n"
          ]
        },
        {
          "output_type": "stream",
          "name": "stderr",
          "text": [
            "Epoch [696/5000]: 100%|██████████| 68/68 [00:00<00:00, 100.85it/s, loss=1.18]\n"
          ]
        },
        {
          "output_type": "stream",
          "name": "stdout",
          "text": [
            "Epoch [696/5000]: Train loss: 1.0535, Valid loss: 1.1652\n"
          ]
        },
        {
          "output_type": "stream",
          "name": "stderr",
          "text": [
            "Epoch [697/5000]: 100%|██████████| 68/68 [00:00<00:00, 106.07it/s, loss=0.6]\n"
          ]
        },
        {
          "output_type": "stream",
          "name": "stdout",
          "text": [
            "Epoch [697/5000]: Train loss: 1.0591, Valid loss: 1.1622\n"
          ]
        },
        {
          "output_type": "stream",
          "name": "stderr",
          "text": [
            "Epoch [698/5000]: 100%|██████████| 68/68 [00:00<00:00, 84.58it/s, loss=2.98]\n"
          ]
        },
        {
          "output_type": "stream",
          "name": "stdout",
          "text": [
            "Epoch [698/5000]: Train loss: 1.0840, Valid loss: 1.2129\n"
          ]
        },
        {
          "output_type": "stream",
          "name": "stderr",
          "text": [
            "Epoch [699/5000]: 100%|██████████| 68/68 [00:00<00:00, 95.48it/s, loss=1.46]\n"
          ]
        },
        {
          "output_type": "stream",
          "name": "stdout",
          "text": [
            "Epoch [699/5000]: Train loss: 1.0707, Valid loss: 1.2280\n"
          ]
        },
        {
          "output_type": "stream",
          "name": "stderr",
          "text": [
            "Epoch [700/5000]: 100%|██████████| 68/68 [00:00<00:00, 121.72it/s, loss=0.444]\n"
          ]
        },
        {
          "output_type": "stream",
          "name": "stdout",
          "text": [
            "Epoch [700/5000]: Train loss: 1.0710, Valid loss: 1.1577\n"
          ]
        },
        {
          "output_type": "stream",
          "name": "stderr",
          "text": [
            "Epoch [701/5000]: 100%|██████████| 68/68 [00:00<00:00, 68.47it/s, loss=0.782]\n"
          ]
        },
        {
          "output_type": "stream",
          "name": "stdout",
          "text": [
            "Epoch [701/5000]: Train loss: 1.0569, Valid loss: 1.1584\n"
          ]
        },
        {
          "output_type": "stream",
          "name": "stderr",
          "text": [
            "Epoch [702/5000]: 100%|██████████| 68/68 [00:00<00:00, 101.47it/s, loss=1.07]\n"
          ]
        },
        {
          "output_type": "stream",
          "name": "stdout",
          "text": [
            "Epoch [702/5000]: Train loss: 1.0534, Valid loss: 1.1928\n"
          ]
        },
        {
          "output_type": "stream",
          "name": "stderr",
          "text": [
            "Epoch [703/5000]: 100%|██████████| 68/68 [00:00<00:00, 102.15it/s, loss=0.909]\n"
          ]
        },
        {
          "output_type": "stream",
          "name": "stdout",
          "text": [
            "Epoch [703/5000]: Train loss: 1.0567, Valid loss: 1.2091\n"
          ]
        },
        {
          "output_type": "stream",
          "name": "stderr",
          "text": [
            "Epoch [704/5000]: 100%|██████████| 68/68 [00:00<00:00, 101.32it/s, loss=0.644]\n"
          ]
        },
        {
          "output_type": "stream",
          "name": "stdout",
          "text": [
            "Epoch [704/5000]: Train loss: 1.0488, Valid loss: 1.1608\n"
          ]
        },
        {
          "output_type": "stream",
          "name": "stderr",
          "text": [
            "Epoch [705/5000]: 100%|██████████| 68/68 [00:00<00:00, 110.50it/s, loss=0.766]\n"
          ]
        },
        {
          "output_type": "stream",
          "name": "stdout",
          "text": [
            "Epoch [705/5000]: Train loss: 1.0500, Valid loss: 1.1689\n"
          ]
        },
        {
          "output_type": "stream",
          "name": "stderr",
          "text": [
            "Epoch [706/5000]: 100%|██████████| 68/68 [00:00<00:00, 97.63it/s, loss=0.235] \n"
          ]
        },
        {
          "output_type": "stream",
          "name": "stdout",
          "text": [
            "Epoch [706/5000]: Train loss: 1.0452, Valid loss: 1.1744\n"
          ]
        },
        {
          "output_type": "stream",
          "name": "stderr",
          "text": [
            "Epoch [707/5000]: 100%|██████████| 68/68 [00:00<00:00, 95.90it/s, loss=1.51]\n"
          ]
        },
        {
          "output_type": "stream",
          "name": "stdout",
          "text": [
            "Epoch [707/5000]: Train loss: 1.0606, Valid loss: 1.1635\n"
          ]
        },
        {
          "output_type": "stream",
          "name": "stderr",
          "text": [
            "Epoch [708/5000]: 100%|██████████| 68/68 [00:00<00:00, 90.97it/s, loss=2.31]\n"
          ]
        },
        {
          "output_type": "stream",
          "name": "stdout",
          "text": [
            "Epoch [708/5000]: Train loss: 1.0631, Valid loss: 1.1622\n"
          ]
        },
        {
          "output_type": "stream",
          "name": "stderr",
          "text": [
            "Epoch [709/5000]: 100%|██████████| 68/68 [00:00<00:00, 89.69it/s, loss=1.25]\n"
          ]
        },
        {
          "output_type": "stream",
          "name": "stdout",
          "text": [
            "Epoch [709/5000]: Train loss: 1.0711, Valid loss: 1.1813\n"
          ]
        },
        {
          "output_type": "stream",
          "name": "stderr",
          "text": [
            "Epoch [710/5000]: 100%|██████████| 68/68 [00:00<00:00, 100.00it/s, loss=1.33]\n"
          ]
        },
        {
          "output_type": "stream",
          "name": "stdout",
          "text": [
            "Epoch [710/5000]: Train loss: 1.0711, Valid loss: 1.1670\n"
          ]
        },
        {
          "output_type": "stream",
          "name": "stderr",
          "text": [
            "Epoch [711/5000]: 100%|██████████| 68/68 [00:00<00:00, 91.87it/s, loss=2.03]\n"
          ]
        },
        {
          "output_type": "stream",
          "name": "stdout",
          "text": [
            "Epoch [711/5000]: Train loss: 1.0698, Valid loss: 1.1678\n"
          ]
        },
        {
          "output_type": "stream",
          "name": "stderr",
          "text": [
            "Epoch [712/5000]: 100%|██████████| 68/68 [00:00<00:00, 94.70it/s, loss=0.548]\n"
          ]
        },
        {
          "output_type": "stream",
          "name": "stdout",
          "text": [
            "Epoch [712/5000]: Train loss: 1.0796, Valid loss: 1.1669\n"
          ]
        },
        {
          "output_type": "stream",
          "name": "stderr",
          "text": [
            "Epoch [713/5000]: 100%|██████████| 68/68 [00:00<00:00, 121.54it/s, loss=1.18]\n"
          ]
        },
        {
          "output_type": "stream",
          "name": "stdout",
          "text": [
            "Epoch [713/5000]: Train loss: 1.0592, Valid loss: 1.1693\n"
          ]
        },
        {
          "output_type": "stream",
          "name": "stderr",
          "text": [
            "Epoch [714/5000]: 100%|██████████| 68/68 [00:00<00:00, 109.64it/s, loss=1.11]\n"
          ]
        },
        {
          "output_type": "stream",
          "name": "stdout",
          "text": [
            "Epoch [714/5000]: Train loss: 1.0641, Valid loss: 1.1612\n"
          ]
        },
        {
          "output_type": "stream",
          "name": "stderr",
          "text": [
            "Epoch [715/5000]: 100%|██████████| 68/68 [00:00<00:00, 85.74it/s, loss=0.801]\n"
          ]
        },
        {
          "output_type": "stream",
          "name": "stdout",
          "text": [
            "Epoch [715/5000]: Train loss: 1.0586, Valid loss: 1.2194\n"
          ]
        },
        {
          "output_type": "stream",
          "name": "stderr",
          "text": [
            "Epoch [716/5000]: 100%|██████████| 68/68 [00:00<00:00, 107.22it/s, loss=0.889]\n"
          ]
        },
        {
          "output_type": "stream",
          "name": "stdout",
          "text": [
            "Epoch [716/5000]: Train loss: 1.0641, Valid loss: 1.1530\n"
          ]
        },
        {
          "output_type": "stream",
          "name": "stderr",
          "text": [
            "Epoch [717/5000]: 100%|██████████| 68/68 [00:00<00:00, 105.98it/s, loss=0.768]\n"
          ]
        },
        {
          "output_type": "stream",
          "name": "stdout",
          "text": [
            "Epoch [717/5000]: Train loss: 1.0590, Valid loss: 1.1964\n"
          ]
        },
        {
          "output_type": "stream",
          "name": "stderr",
          "text": [
            "Epoch [718/5000]: 100%|██████████| 68/68 [00:00<00:00, 94.94it/s, loss=0.364]\n"
          ]
        },
        {
          "output_type": "stream",
          "name": "stdout",
          "text": [
            "Epoch [718/5000]: Train loss: 1.0424, Valid loss: 1.1894\n"
          ]
        },
        {
          "output_type": "stream",
          "name": "stderr",
          "text": [
            "Epoch [719/5000]: 100%|██████████| 68/68 [00:00<00:00, 113.19it/s, loss=0.455]\n"
          ]
        },
        {
          "output_type": "stream",
          "name": "stdout",
          "text": [
            "Epoch [719/5000]: Train loss: 1.0598, Valid loss: 1.1619\n"
          ]
        },
        {
          "output_type": "stream",
          "name": "stderr",
          "text": [
            "Epoch [720/5000]: 100%|██████████| 68/68 [00:00<00:00, 93.44it/s, loss=0.76]\n"
          ]
        },
        {
          "output_type": "stream",
          "name": "stdout",
          "text": [
            "Epoch [720/5000]: Train loss: 1.0500, Valid loss: 1.1646\n"
          ]
        },
        {
          "output_type": "stream",
          "name": "stderr",
          "text": [
            "Epoch [721/5000]: 100%|██████████| 68/68 [00:00<00:00, 96.25it/s, loss=0.863] \n"
          ]
        },
        {
          "output_type": "stream",
          "name": "stdout",
          "text": [
            "Epoch [721/5000]: Train loss: 1.0551, Valid loss: 1.1687\n"
          ]
        },
        {
          "output_type": "stream",
          "name": "stderr",
          "text": [
            "Epoch [722/5000]: 100%|██████████| 68/68 [00:00<00:00, 114.82it/s, loss=1.11]\n"
          ]
        },
        {
          "output_type": "stream",
          "name": "stdout",
          "text": [
            "Epoch [722/5000]: Train loss: 1.0575, Valid loss: 1.1619\n"
          ]
        },
        {
          "output_type": "stream",
          "name": "stderr",
          "text": [
            "Epoch [723/5000]: 100%|██████████| 68/68 [00:00<00:00, 91.65it/s, loss=0.791] \n"
          ]
        },
        {
          "output_type": "stream",
          "name": "stdout",
          "text": [
            "Epoch [723/5000]: Train loss: 1.0501, Valid loss: 1.1636\n"
          ]
        },
        {
          "output_type": "stream",
          "name": "stderr",
          "text": [
            "Epoch [724/5000]: 100%|██████████| 68/68 [00:00<00:00, 78.46it/s, loss=1.61]\n"
          ]
        },
        {
          "output_type": "stream",
          "name": "stdout",
          "text": [
            "Epoch [724/5000]: Train loss: 1.0641, Valid loss: 1.1686\n"
          ]
        },
        {
          "output_type": "stream",
          "name": "stderr",
          "text": [
            "Epoch [725/5000]: 100%|██████████| 68/68 [00:00<00:00, 77.70it/s, loss=2.02]\n"
          ]
        },
        {
          "output_type": "stream",
          "name": "stdout",
          "text": [
            "Epoch [725/5000]: Train loss: 1.0573, Valid loss: 1.1650\n"
          ]
        },
        {
          "output_type": "stream",
          "name": "stderr",
          "text": [
            "Epoch [726/5000]: 100%|██████████| 68/68 [00:00<00:00, 86.95it/s, loss=1.43]\n"
          ]
        },
        {
          "output_type": "stream",
          "name": "stdout",
          "text": [
            "Epoch [726/5000]: Train loss: 1.0584, Valid loss: 1.1652\n"
          ]
        },
        {
          "output_type": "stream",
          "name": "stderr",
          "text": [
            "Epoch [727/5000]: 100%|██████████| 68/68 [00:00<00:00, 106.25it/s, loss=0.563]\n"
          ]
        },
        {
          "output_type": "stream",
          "name": "stdout",
          "text": [
            "Epoch [727/5000]: Train loss: 1.0566, Valid loss: 1.2197\n"
          ]
        },
        {
          "output_type": "stream",
          "name": "stderr",
          "text": [
            "Epoch [728/5000]: 100%|██████████| 68/68 [00:00<00:00, 96.94it/s, loss=0.803] \n"
          ]
        },
        {
          "output_type": "stream",
          "name": "stdout",
          "text": [
            "Epoch [728/5000]: Train loss: 1.0583, Valid loss: 1.2040\n"
          ]
        },
        {
          "output_type": "stream",
          "name": "stderr",
          "text": [
            "Epoch [729/5000]: 100%|██████████| 68/68 [00:00<00:00, 92.79it/s, loss=1.02] \n"
          ]
        },
        {
          "output_type": "stream",
          "name": "stdout",
          "text": [
            "Epoch [729/5000]: Train loss: 1.0609, Valid loss: 1.1939\n"
          ]
        },
        {
          "output_type": "stream",
          "name": "stderr",
          "text": [
            "Epoch [730/5000]: 100%|██████████| 68/68 [00:00<00:00, 87.35it/s, loss=1.65]\n"
          ]
        },
        {
          "output_type": "stream",
          "name": "stdout",
          "text": [
            "Epoch [730/5000]: Train loss: 1.0596, Valid loss: 1.1766\n"
          ]
        },
        {
          "output_type": "stream",
          "name": "stderr",
          "text": [
            "Epoch [731/5000]: 100%|██████████| 68/68 [00:00<00:00, 89.09it/s, loss=1.31] \n"
          ]
        },
        {
          "output_type": "stream",
          "name": "stdout",
          "text": [
            "Epoch [731/5000]: Train loss: 1.0588, Valid loss: 1.1681\n"
          ]
        },
        {
          "output_type": "stream",
          "name": "stderr",
          "text": [
            "Epoch [732/5000]: 100%|██████████| 68/68 [00:00<00:00, 106.06it/s, loss=1.64]\n"
          ]
        },
        {
          "output_type": "stream",
          "name": "stdout",
          "text": [
            "Epoch [732/5000]: Train loss: 1.0523, Valid loss: 1.1836\n"
          ]
        },
        {
          "output_type": "stream",
          "name": "stderr",
          "text": [
            "Epoch [733/5000]: 100%|██████████| 68/68 [00:00<00:00, 83.26it/s, loss=1.3]\n"
          ]
        },
        {
          "output_type": "stream",
          "name": "stdout",
          "text": [
            "Epoch [733/5000]: Train loss: 1.0630, Valid loss: 1.1662\n"
          ]
        },
        {
          "output_type": "stream",
          "name": "stderr",
          "text": [
            "Epoch [734/5000]: 100%|██████████| 68/68 [00:00<00:00, 94.93it/s, loss=1.47]\n"
          ]
        },
        {
          "output_type": "stream",
          "name": "stdout",
          "text": [
            "Epoch [734/5000]: Train loss: 1.0524, Valid loss: 1.1625\n"
          ]
        },
        {
          "output_type": "stream",
          "name": "stderr",
          "text": [
            "Epoch [735/5000]: 100%|██████████| 68/68 [00:00<00:00, 100.67it/s, loss=1.02]\n"
          ]
        },
        {
          "output_type": "stream",
          "name": "stdout",
          "text": [
            "Epoch [735/5000]: Train loss: 1.0547, Valid loss: 1.1688\n"
          ]
        },
        {
          "output_type": "stream",
          "name": "stderr",
          "text": [
            "Epoch [736/5000]: 100%|██████████| 68/68 [00:00<00:00, 105.47it/s, loss=0.77]\n"
          ]
        },
        {
          "output_type": "stream",
          "name": "stdout",
          "text": [
            "Epoch [736/5000]: Train loss: 1.0627, Valid loss: 1.1635\n"
          ]
        },
        {
          "output_type": "stream",
          "name": "stderr",
          "text": [
            "Epoch [737/5000]: 100%|██████████| 68/68 [00:00<00:00, 104.22it/s, loss=2.06]\n"
          ]
        },
        {
          "output_type": "stream",
          "name": "stdout",
          "text": [
            "Epoch [737/5000]: Train loss: 1.0600, Valid loss: 1.1648\n"
          ]
        },
        {
          "output_type": "stream",
          "name": "stderr",
          "text": [
            "Epoch [738/5000]: 100%|██████████| 68/68 [00:00<00:00, 75.58it/s, loss=0.819]\n"
          ]
        },
        {
          "output_type": "stream",
          "name": "stdout",
          "text": [
            "Epoch [738/5000]: Train loss: 1.0581, Valid loss: 1.1662\n"
          ]
        },
        {
          "output_type": "stream",
          "name": "stderr",
          "text": [
            "Epoch [739/5000]: 100%|██████████| 68/68 [00:00<00:00, 94.69it/s, loss=0.794] \n"
          ]
        },
        {
          "output_type": "stream",
          "name": "stdout",
          "text": [
            "Epoch [739/5000]: Train loss: 1.0619, Valid loss: 1.1885\n"
          ]
        },
        {
          "output_type": "stream",
          "name": "stderr",
          "text": [
            "Epoch [740/5000]: 100%|██████████| 68/68 [00:00<00:00, 89.60it/s, loss=0.38]\n"
          ]
        },
        {
          "output_type": "stream",
          "name": "stdout",
          "text": [
            "Epoch [740/5000]: Train loss: 1.0594, Valid loss: 1.1721\n"
          ]
        },
        {
          "output_type": "stream",
          "name": "stderr",
          "text": [
            "Epoch [741/5000]: 100%|██████████| 68/68 [00:00<00:00, 102.77it/s, loss=1.22]\n"
          ]
        },
        {
          "output_type": "stream",
          "name": "stdout",
          "text": [
            "Epoch [741/5000]: Train loss: 1.0609, Valid loss: 1.1659\n"
          ]
        },
        {
          "output_type": "stream",
          "name": "stderr",
          "text": [
            "Epoch [742/5000]: 100%|██████████| 68/68 [00:00<00:00, 85.68it/s, loss=1.41]\n"
          ]
        },
        {
          "output_type": "stream",
          "name": "stdout",
          "text": [
            "Epoch [742/5000]: Train loss: 1.0517, Valid loss: 1.1679\n"
          ]
        },
        {
          "output_type": "stream",
          "name": "stderr",
          "text": [
            "Epoch [743/5000]: 100%|██████████| 68/68 [00:00<00:00, 112.38it/s, loss=0.873]\n"
          ]
        },
        {
          "output_type": "stream",
          "name": "stdout",
          "text": [
            "Epoch [743/5000]: Train loss: 1.0556, Valid loss: 1.1777\n"
          ]
        },
        {
          "output_type": "stream",
          "name": "stderr",
          "text": [
            "Epoch [744/5000]: 100%|██████████| 68/68 [00:00<00:00, 88.98it/s, loss=0.648]\n"
          ]
        },
        {
          "output_type": "stream",
          "name": "stdout",
          "text": [
            "Epoch [744/5000]: Train loss: 1.0607, Valid loss: 1.1776\n"
          ]
        },
        {
          "output_type": "stream",
          "name": "stderr",
          "text": [
            "Epoch [745/5000]: 100%|██████████| 68/68 [00:00<00:00, 87.35it/s, loss=0.732]\n"
          ]
        },
        {
          "output_type": "stream",
          "name": "stdout",
          "text": [
            "Epoch [745/5000]: Train loss: 1.0492, Valid loss: 1.1605\n"
          ]
        },
        {
          "output_type": "stream",
          "name": "stderr",
          "text": [
            "Epoch [746/5000]: 100%|██████████| 68/68 [00:00<00:00, 111.90it/s, loss=0.875]\n"
          ]
        },
        {
          "output_type": "stream",
          "name": "stdout",
          "text": [
            "Epoch [746/5000]: Train loss: 1.0512, Valid loss: 1.1790\n"
          ]
        },
        {
          "output_type": "stream",
          "name": "stderr",
          "text": [
            "Epoch [747/5000]: 100%|██████████| 68/68 [00:00<00:00, 106.12it/s, loss=0.973]\n"
          ]
        },
        {
          "output_type": "stream",
          "name": "stdout",
          "text": [
            "Epoch [747/5000]: Train loss: 1.0638, Valid loss: 1.1886\n"
          ]
        },
        {
          "output_type": "stream",
          "name": "stderr",
          "text": [
            "Epoch [748/5000]: 100%|██████████| 68/68 [00:00<00:00, 106.97it/s, loss=1.1]\n"
          ]
        },
        {
          "output_type": "stream",
          "name": "stdout",
          "text": [
            "Epoch [748/5000]: Train loss: 1.0509, Valid loss: 1.2137\n"
          ]
        },
        {
          "output_type": "stream",
          "name": "stderr",
          "text": [
            "Epoch [749/5000]: 100%|██████████| 68/68 [00:00<00:00, 106.70it/s, loss=0.371]\n"
          ]
        },
        {
          "output_type": "stream",
          "name": "stdout",
          "text": [
            "Epoch [749/5000]: Train loss: 1.0715, Valid loss: 1.1564\n"
          ]
        },
        {
          "output_type": "stream",
          "name": "stderr",
          "text": [
            "Epoch [750/5000]: 100%|██████████| 68/68 [00:00<00:00, 105.33it/s, loss=1.3]\n"
          ]
        },
        {
          "output_type": "stream",
          "name": "stdout",
          "text": [
            "Epoch [750/5000]: Train loss: 1.0541, Valid loss: 1.1657\n"
          ]
        },
        {
          "output_type": "stream",
          "name": "stderr",
          "text": [
            "Epoch [751/5000]: 100%|██████████| 68/68 [00:00<00:00, 106.37it/s, loss=1.83]\n"
          ]
        },
        {
          "output_type": "stream",
          "name": "stdout",
          "text": [
            "Epoch [751/5000]: Train loss: 1.0531, Valid loss: 1.1604\n"
          ]
        },
        {
          "output_type": "stream",
          "name": "stderr",
          "text": [
            "Epoch [752/5000]: 100%|██████████| 68/68 [00:00<00:00, 107.45it/s, loss=1.24]\n"
          ]
        },
        {
          "output_type": "stream",
          "name": "stdout",
          "text": [
            "Epoch [752/5000]: Train loss: 1.0790, Valid loss: 1.2147\n"
          ]
        },
        {
          "output_type": "stream",
          "name": "stderr",
          "text": [
            "Epoch [753/5000]: 100%|██████████| 68/68 [00:00<00:00, 105.06it/s, loss=0.705]\n"
          ]
        },
        {
          "output_type": "stream",
          "name": "stdout",
          "text": [
            "Epoch [753/5000]: Train loss: 1.0564, Valid loss: 1.1709\n"
          ]
        },
        {
          "output_type": "stream",
          "name": "stderr",
          "text": [
            "Epoch [754/5000]: 100%|██████████| 68/68 [00:00<00:00, 103.91it/s, loss=0.501]\n"
          ]
        },
        {
          "output_type": "stream",
          "name": "stdout",
          "text": [
            "Epoch [754/5000]: Train loss: 1.0483, Valid loss: 1.1580\n"
          ]
        },
        {
          "output_type": "stream",
          "name": "stderr",
          "text": [
            "Epoch [755/5000]: 100%|██████████| 68/68 [00:00<00:00, 77.49it/s, loss=1.82]\n"
          ]
        },
        {
          "output_type": "stream",
          "name": "stdout",
          "text": [
            "Epoch [755/5000]: Train loss: 1.0625, Valid loss: 1.1621\n"
          ]
        },
        {
          "output_type": "stream",
          "name": "stderr",
          "text": [
            "Epoch [756/5000]: 100%|██████████| 68/68 [00:00<00:00, 85.01it/s, loss=0.953]\n"
          ]
        },
        {
          "output_type": "stream",
          "name": "stdout",
          "text": [
            "Epoch [756/5000]: Train loss: 1.0637, Valid loss: 1.1651\n"
          ]
        },
        {
          "output_type": "stream",
          "name": "stderr",
          "text": [
            "Epoch [757/5000]: 100%|██████████| 68/68 [00:00<00:00, 125.78it/s, loss=1.68]\n"
          ]
        },
        {
          "output_type": "stream",
          "name": "stdout",
          "text": [
            "Epoch [757/5000]: Train loss: 1.0548, Valid loss: 1.1555\n"
          ]
        },
        {
          "output_type": "stream",
          "name": "stderr",
          "text": [
            "Epoch [758/5000]: 100%|██████████| 68/68 [00:00<00:00, 104.90it/s, loss=1.01]\n"
          ]
        },
        {
          "output_type": "stream",
          "name": "stdout",
          "text": [
            "Epoch [758/5000]: Train loss: 1.0503, Valid loss: 1.2053\n"
          ]
        },
        {
          "output_type": "stream",
          "name": "stderr",
          "text": [
            "Epoch [759/5000]: 100%|██████████| 68/68 [00:00<00:00, 105.78it/s, loss=1.04]\n"
          ]
        },
        {
          "output_type": "stream",
          "name": "stdout",
          "text": [
            "Epoch [759/5000]: Train loss: 1.0504, Valid loss: 1.1688\n"
          ]
        },
        {
          "output_type": "stream",
          "name": "stderr",
          "text": [
            "Epoch [760/5000]: 100%|██████████| 68/68 [00:00<00:00, 94.20it/s, loss=0.441]\n"
          ]
        },
        {
          "output_type": "stream",
          "name": "stdout",
          "text": [
            "Epoch [760/5000]: Train loss: 1.0493, Valid loss: 1.1544\n"
          ]
        },
        {
          "output_type": "stream",
          "name": "stderr",
          "text": [
            "Epoch [761/5000]: 100%|██████████| 68/68 [00:00<00:00, 98.12it/s, loss=0.504] \n"
          ]
        },
        {
          "output_type": "stream",
          "name": "stdout",
          "text": [
            "Epoch [761/5000]: Train loss: 1.0464, Valid loss: 1.1684\n"
          ]
        },
        {
          "output_type": "stream",
          "name": "stderr",
          "text": [
            "Epoch [762/5000]: 100%|██████████| 68/68 [00:00<00:00, 109.58it/s, loss=0.65]\n"
          ]
        },
        {
          "output_type": "stream",
          "name": "stdout",
          "text": [
            "Epoch [762/5000]: Train loss: 1.0543, Valid loss: 1.1775\n"
          ]
        },
        {
          "output_type": "stream",
          "name": "stderr",
          "text": [
            "Epoch [763/5000]: 100%|██████████| 68/68 [00:00<00:00, 74.78it/s, loss=0.677]\n"
          ]
        },
        {
          "output_type": "stream",
          "name": "stdout",
          "text": [
            "Epoch [763/5000]: Train loss: 1.0554, Valid loss: 1.1627\n"
          ]
        },
        {
          "output_type": "stream",
          "name": "stderr",
          "text": [
            "Epoch [764/5000]: 100%|██████████| 68/68 [00:00<00:00, 114.87it/s, loss=0.775]\n"
          ]
        },
        {
          "output_type": "stream",
          "name": "stdout",
          "text": [
            "Epoch [764/5000]: Train loss: 1.0415, Valid loss: 1.1636\n"
          ]
        },
        {
          "output_type": "stream",
          "name": "stderr",
          "text": [
            "Epoch [765/5000]: 100%|██████████| 68/68 [00:00<00:00, 107.49it/s, loss=1.23]\n"
          ]
        },
        {
          "output_type": "stream",
          "name": "stdout",
          "text": [
            "Epoch [765/5000]: Train loss: 1.0603, Valid loss: 1.1576\n"
          ]
        },
        {
          "output_type": "stream",
          "name": "stderr",
          "text": [
            "Epoch [766/5000]: 100%|██████████| 68/68 [00:00<00:00, 102.64it/s, loss=1.55]\n"
          ]
        },
        {
          "output_type": "stream",
          "name": "stdout",
          "text": [
            "Epoch [766/5000]: Train loss: 1.0616, Valid loss: 1.1569\n"
          ]
        },
        {
          "output_type": "stream",
          "name": "stderr",
          "text": [
            "Epoch [767/5000]: 100%|██████████| 68/68 [00:00<00:00, 93.16it/s, loss=1.62]\n"
          ]
        },
        {
          "output_type": "stream",
          "name": "stdout",
          "text": [
            "Epoch [767/5000]: Train loss: 1.0715, Valid loss: 1.1666\n"
          ]
        },
        {
          "output_type": "stream",
          "name": "stderr",
          "text": [
            "Epoch [768/5000]: 100%|██████████| 68/68 [00:00<00:00, 85.94it/s, loss=1.37]\n"
          ]
        },
        {
          "output_type": "stream",
          "name": "stdout",
          "text": [
            "Epoch [768/5000]: Train loss: 1.0593, Valid loss: 1.1695\n"
          ]
        },
        {
          "output_type": "stream",
          "name": "stderr",
          "text": [
            "Epoch [769/5000]: 100%|██████████| 68/68 [00:00<00:00, 95.47it/s, loss=0.675]\n"
          ]
        },
        {
          "output_type": "stream",
          "name": "stdout",
          "text": [
            "Epoch [769/5000]: Train loss: 1.0479, Valid loss: 1.1819\n"
          ]
        },
        {
          "output_type": "stream",
          "name": "stderr",
          "text": [
            "Epoch [770/5000]: 100%|██████████| 68/68 [00:00<00:00, 81.81it/s, loss=0.751]\n"
          ]
        },
        {
          "output_type": "stream",
          "name": "stdout",
          "text": [
            "Epoch [770/5000]: Train loss: 1.0478, Valid loss: 1.1645\n"
          ]
        },
        {
          "output_type": "stream",
          "name": "stderr",
          "text": [
            "Epoch [771/5000]: 100%|██████████| 68/68 [00:00<00:00, 93.66it/s, loss=0.47] \n"
          ]
        },
        {
          "output_type": "stream",
          "name": "stdout",
          "text": [
            "Epoch [771/5000]: Train loss: 1.0547, Valid loss: 1.1613\n"
          ]
        },
        {
          "output_type": "stream",
          "name": "stderr",
          "text": [
            "Epoch [772/5000]: 100%|██████████| 68/68 [00:00<00:00, 108.79it/s, loss=1.05]\n"
          ]
        },
        {
          "output_type": "stream",
          "name": "stdout",
          "text": [
            "Epoch [772/5000]: Train loss: 1.0433, Valid loss: 1.1601\n"
          ]
        },
        {
          "output_type": "stream",
          "name": "stderr",
          "text": [
            "Epoch [773/5000]: 100%|██████████| 68/68 [00:00<00:00, 102.15it/s, loss=0.681]\n"
          ]
        },
        {
          "output_type": "stream",
          "name": "stdout",
          "text": [
            "Epoch [773/5000]: Train loss: 1.0592, Valid loss: 1.1700\n"
          ]
        },
        {
          "output_type": "stream",
          "name": "stderr",
          "text": [
            "Epoch [774/5000]: 100%|██████████| 68/68 [00:00<00:00, 100.97it/s, loss=1.33]\n"
          ]
        },
        {
          "output_type": "stream",
          "name": "stdout",
          "text": [
            "Epoch [774/5000]: Train loss: 1.0567, Valid loss: 1.1823\n"
          ]
        },
        {
          "output_type": "stream",
          "name": "stderr",
          "text": [
            "Epoch [775/5000]: 100%|██████████| 68/68 [00:00<00:00, 101.92it/s, loss=1.6]\n"
          ]
        },
        {
          "output_type": "stream",
          "name": "stdout",
          "text": [
            "Epoch [775/5000]: Train loss: 1.0559, Valid loss: 1.1594\n"
          ]
        },
        {
          "output_type": "stream",
          "name": "stderr",
          "text": [
            "Epoch [776/5000]: 100%|██████████| 68/68 [00:00<00:00, 76.93it/s, loss=2.06]\n"
          ]
        },
        {
          "output_type": "stream",
          "name": "stdout",
          "text": [
            "Epoch [776/5000]: Train loss: 1.0661, Valid loss: 1.1797\n"
          ]
        },
        {
          "output_type": "stream",
          "name": "stderr",
          "text": [
            "Epoch [777/5000]: 100%|██████████| 68/68 [00:00<00:00, 101.67it/s, loss=1.1]\n"
          ]
        },
        {
          "output_type": "stream",
          "name": "stdout",
          "text": [
            "Epoch [777/5000]: Train loss: 1.0602, Valid loss: 1.1629\n"
          ]
        },
        {
          "output_type": "stream",
          "name": "stderr",
          "text": [
            "Epoch [778/5000]: 100%|██████████| 68/68 [00:00<00:00, 96.34it/s, loss=0.928]\n"
          ]
        },
        {
          "output_type": "stream",
          "name": "stdout",
          "text": [
            "Epoch [778/5000]: Train loss: 1.0516, Valid loss: 1.2662\n"
          ]
        },
        {
          "output_type": "stream",
          "name": "stderr",
          "text": [
            "Epoch [779/5000]: 100%|██████████| 68/68 [00:00<00:00, 84.64it/s, loss=1.65]\n"
          ]
        },
        {
          "output_type": "stream",
          "name": "stdout",
          "text": [
            "Epoch [779/5000]: Train loss: 1.0610, Valid loss: 1.1610\n"
          ]
        },
        {
          "output_type": "stream",
          "name": "stderr",
          "text": [
            "Epoch [780/5000]: 100%|██████████| 68/68 [00:00<00:00, 111.46it/s, loss=2.56]\n"
          ]
        },
        {
          "output_type": "stream",
          "name": "stdout",
          "text": [
            "Epoch [780/5000]: Train loss: 1.0687, Valid loss: 1.2173\n"
          ]
        },
        {
          "output_type": "stream",
          "name": "stderr",
          "text": [
            "Epoch [781/5000]: 100%|██████████| 68/68 [00:00<00:00, 97.87it/s, loss=0.604]\n"
          ]
        },
        {
          "output_type": "stream",
          "name": "stdout",
          "text": [
            "Epoch [781/5000]: Train loss: 1.0500, Valid loss: 1.1820\n"
          ]
        },
        {
          "output_type": "stream",
          "name": "stderr",
          "text": [
            "Epoch [782/5000]: 100%|██████████| 68/68 [00:00<00:00, 81.38it/s, loss=0.774]\n"
          ]
        },
        {
          "output_type": "stream",
          "name": "stdout",
          "text": [
            "Epoch [782/5000]: Train loss: 1.0601, Valid loss: 1.1625\n"
          ]
        },
        {
          "output_type": "stream",
          "name": "stderr",
          "text": [
            "Epoch [783/5000]: 100%|██████████| 68/68 [00:00<00:00, 89.43it/s, loss=1.42]\n"
          ]
        },
        {
          "output_type": "stream",
          "name": "stdout",
          "text": [
            "Epoch [783/5000]: Train loss: 1.0678, Valid loss: 1.1861\n"
          ]
        },
        {
          "output_type": "stream",
          "name": "stderr",
          "text": [
            "Epoch [784/5000]: 100%|██████████| 68/68 [00:00<00:00, 107.71it/s, loss=1.35]\n"
          ]
        },
        {
          "output_type": "stream",
          "name": "stdout",
          "text": [
            "Epoch [784/5000]: Train loss: 1.0556, Valid loss: 1.1629\n"
          ]
        },
        {
          "output_type": "stream",
          "name": "stderr",
          "text": [
            "Epoch [785/5000]: 100%|██████████| 68/68 [00:00<00:00, 83.23it/s, loss=0.809]\n"
          ]
        },
        {
          "output_type": "stream",
          "name": "stdout",
          "text": [
            "Epoch [785/5000]: Train loss: 1.0575, Valid loss: 1.1618\n"
          ]
        },
        {
          "output_type": "stream",
          "name": "stderr",
          "text": [
            "Epoch [786/5000]: 100%|██████████| 68/68 [00:00<00:00, 91.01it/s, loss=0.351]\n"
          ]
        },
        {
          "output_type": "stream",
          "name": "stdout",
          "text": [
            "Epoch [786/5000]: Train loss: 1.0541, Valid loss: 1.1616\n"
          ]
        },
        {
          "output_type": "stream",
          "name": "stderr",
          "text": [
            "Epoch [787/5000]: 100%|██████████| 68/68 [00:00<00:00, 80.39it/s, loss=1.32]\n"
          ]
        },
        {
          "output_type": "stream",
          "name": "stdout",
          "text": [
            "Epoch [787/5000]: Train loss: 1.0475, Valid loss: 1.1569\n"
          ]
        },
        {
          "output_type": "stream",
          "name": "stderr",
          "text": [
            "Epoch [788/5000]: 100%|██████████| 68/68 [00:00<00:00, 108.52it/s, loss=0.876]\n"
          ]
        },
        {
          "output_type": "stream",
          "name": "stdout",
          "text": [
            "Epoch [788/5000]: Train loss: 1.0673, Valid loss: 1.1583\n"
          ]
        },
        {
          "output_type": "stream",
          "name": "stderr",
          "text": [
            "Epoch [789/5000]: 100%|██████████| 68/68 [00:00<00:00, 113.76it/s, loss=1.46]\n"
          ]
        },
        {
          "output_type": "stream",
          "name": "stdout",
          "text": [
            "Epoch [789/5000]: Train loss: 1.0508, Valid loss: 1.1757\n"
          ]
        },
        {
          "output_type": "stream",
          "name": "stderr",
          "text": [
            "Epoch [790/5000]: 100%|██████████| 68/68 [00:00<00:00, 96.27it/s, loss=0.608] \n"
          ]
        },
        {
          "output_type": "stream",
          "name": "stdout",
          "text": [
            "Epoch [790/5000]: Train loss: 1.0595, Valid loss: 1.1655\n"
          ]
        },
        {
          "output_type": "stream",
          "name": "stderr",
          "text": [
            "Epoch [791/5000]: 100%|██████████| 68/68 [00:00<00:00, 108.49it/s, loss=0.877]\n"
          ]
        },
        {
          "output_type": "stream",
          "name": "stdout",
          "text": [
            "Epoch [791/5000]: Train loss: 1.0578, Valid loss: 1.1711\n"
          ]
        },
        {
          "output_type": "stream",
          "name": "stderr",
          "text": [
            "Epoch [792/5000]: 100%|██████████| 68/68 [00:00<00:00, 107.79it/s, loss=1.09]\n"
          ]
        },
        {
          "output_type": "stream",
          "name": "stdout",
          "text": [
            "Epoch [792/5000]: Train loss: 1.0670, Valid loss: 1.1628\n",
            "\n",
            "Model is not improving, so we halt the training session.\n"
          ]
        }
      ],
      "source": [
        "model = My_Model(input_dim=x_train.shape[1]).to(device) # put your model and data on the same computation device.\n",
        "trainer(train_loader, valid_loader, model, config, device)"
      ]
    },
    {
      "cell_type": "markdown",
      "metadata": {
        "id": "sqbj5aCd-KF_"
      },
      "source": []
    },
    {
      "cell_type": "markdown",
      "metadata": {
        "id": "Ik09KPqU-di-"
      },
      "source": [
        "# Plot learning curves with `tensorboard` (optional)\n",
        "\n",
        "`tensorboard` is a tool that allows you to visualize your training progress.\n",
        "\n",
        "If this block does not display your learning curve, please wait for few minutes, and re-run this block. It might take some time to load your logging information."
      ]
    },
    {
      "cell_type": "code",
      "execution_count": 85,
      "metadata": {
        "colab": {
          "base_uri": "https://localhost:8080/",
          "height": 838
        },
        "id": "loA4nKmLGQ-n",
        "outputId": "46d011b9-210b-4547-99be-331a0b701c1e"
      },
      "outputs": [
        {
          "output_type": "display_data",
          "data": {
            "text/plain": [
              "Reusing TensorBoard on port 6006 (pid 14463), started 2:20:44 ago. (Use '!kill 14463' to kill it.)"
            ]
          },
          "metadata": {}
        },
        {
          "output_type": "display_data",
          "data": {
            "text/plain": [
              "<IPython.core.display.Javascript object>"
            ],
            "application/javascript": [
              "\n",
              "        (async () => {\n",
              "            const url = new URL(await google.colab.kernel.proxyPort(6006, {'cache': true}));\n",
              "            url.searchParams.set('tensorboardColab', 'true');\n",
              "            const iframe = document.createElement('iframe');\n",
              "            iframe.src = url;\n",
              "            iframe.setAttribute('width', '100%');\n",
              "            iframe.setAttribute('height', '800');\n",
              "            iframe.setAttribute('frameborder', 0);\n",
              "            document.body.appendChild(iframe);\n",
              "        })();\n",
              "    "
            ]
          },
          "metadata": {}
        }
      ],
      "source": [
        "%reload_ext tensorboard\n",
        "%tensorboard --logdir=./runs/"
      ]
    },
    {
      "cell_type": "markdown",
      "metadata": {
        "id": "yhAHGqC9-woK"
      },
      "source": [
        "# Testing\n",
        "The predictions of your model on testing set will be stored at `pred.csv`."
      ]
    },
    {
      "cell_type": "code",
      "execution_count": 87,
      "metadata": {
        "colab": {
          "base_uri": "https://localhost:8080/"
        },
        "id": "Q5eVdpbvAlAe",
        "outputId": "9216b031-3bc7-4a86-c5b2-86bc46370dc9"
      },
      "outputs": [
        {
          "output_type": "stream",
          "name": "stderr",
          "text": [
            "<ipython-input-87-a85624916063>:10: FutureWarning: You are using `torch.load` with `weights_only=False` (the current default value), which uses the default pickle module implicitly. It is possible to construct malicious pickle data which will execute arbitrary code during unpickling (See https://github.com/pytorch/pytorch/blob/main/SECURITY.md#untrusted-models for more details). In a future release, the default value for `weights_only` will be flipped to `True`. This limits the functions that could be executed during unpickling. Arbitrary objects will no longer be allowed to be loaded via this mode unless they are explicitly allowlisted by the user via `torch.serialization.add_safe_globals`. We recommend you start setting `weights_only=True` for any use case where you don't have full control of the loaded file. Please open an issue on GitHub for any issues related to this experimental feature.\n",
            "  model.load_state_dict(torch.load(config['save_path']))\n",
            "100%|██████████| 34/34 [00:00<00:00, 784.23it/s]\n"
          ]
        }
      ],
      "source": [
        "def save_pred(preds, file):\n",
        "    ''' Save predictions to specified file '''\n",
        "    with open(file, 'w') as fp:\n",
        "        writer = csv.writer(fp)\n",
        "        writer.writerow(['id', 'tested_positive'])\n",
        "        for i, p in enumerate(preds):\n",
        "            writer.writerow([i, p])\n",
        "\n",
        "model = My_Model(input_dim=x_train.shape[1]).to(device)\n",
        "model.load_state_dict(torch.load(config['save_path']))\n",
        "preds = predict(test_loader, model, device)\n",
        "save_pred(preds, 'pred_4.csv')"
      ]
    },
    {
      "cell_type": "markdown",
      "source": [
        "# Ensemble不同模型的输出结果"
      ],
      "metadata": {
        "id": "2b56UGQ8mG3n"
      }
    },
    {
      "cell_type": "code",
      "source": [
        "files = ['pred.csv', 'pred_3.csv', 'pred_normal.csv']\n",
        "\n",
        "# 初始化一个空的 DataFrame 用于存储所有预测结果\n",
        "ensemble_df = pd.DataFrame()\n",
        "\n",
        "# 遍历文件列表，读取每个文件的 'tested_positive' 列\n",
        "for i, file in enumerate(files):\n",
        "    # 读取 CSV 文件\n",
        "    temp_df = pd.read_csv(file)\n",
        "\n",
        "    # 如果是第一个文件，初始化 ensemble_df\n",
        "    if i == 0:\n",
        "        ensemble_df = temp_df[['id', 'tested_positive']]\n",
        "        ensemble_df.rename(columns={'tested_positive': f'tested_positive_{i+1}'}, inplace=True)\n",
        "    else:\n",
        "        # 合并后续文件的 'tested_positive' 列\n",
        "        ensemble_df = ensemble_df.merge(temp_df[['id', 'tested_positive']], on='id', suffixes=('', f'_{i+1}'))\n",
        "\n",
        "# 计算 Ensemble 结果\n",
        "# 假设我们使用平均法进行 Ensemble\n",
        "ensemble_df['tested_positive'] = ensemble_df[[col for col in ensemble_df.columns if col.startswith('tested_positive')]].mean(axis=1)\n",
        "\n",
        "# 保存结果到新的 CSV 文件\n",
        "ensemble_df[['id', 'tested_positive']].to_csv('ensemble_result.csv', index=False)"
      ],
      "metadata": {
        "id": "sVf6PQLomQS3"
      },
      "execution_count": 3,
      "outputs": []
    },
    {
      "cell_type": "markdown",
      "metadata": {
        "id": "IJ_k5rY0GvSV"
      },
      "source": [
        "# Reference\n",
        "This notebook uses code written by Heng-Jui Chang @ NTUEE (https://github.com/ga642381/ML2021-Spring/blob/main/HW01/HW01.ipynb)"
      ]
    }
  ],
  "metadata": {
    "colab": {
      "provenance": [],
      "include_colab_link": true
    },
    "kernelspec": {
      "display_name": "Python 3",
      "name": "python3"
    },
    "language_info": {
      "name": "python"
    }
  },
  "nbformat": 4,
  "nbformat_minor": 0
}